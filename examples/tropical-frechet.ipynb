{
 "cells": [
  {
   "cell_type": "code",
   "execution_count": 4,
   "id": "65aa1411",
   "metadata": {},
   "outputs": [],
   "source": [
    "#ENV[\"JULIA_DEBUG\"] = Main"
   ]
  },
  {
   "cell_type": "code",
   "execution_count": 5,
   "id": "691910b5",
   "metadata": {},
   "outputs": [],
   "source": [
    "#ENV[\"JULIA_DEBUG\"] = \"none\""
   ]
  },
  {
   "cell_type": "code",
   "execution_count": 6,
   "id": "c2a80d5f",
   "metadata": {},
   "outputs": [],
   "source": [
    "using AppleAccelerate"
   ]
  },
  {
   "cell_type": "code",
   "execution_count": 7,
   "id": "a2de8446",
   "metadata": {},
   "outputs": [],
   "source": [
    "using LinearAlgebra, Polyhedra, CDDLib\n",
    "using JuMP, Ipopt, Clarabel\n",
    "using Random\n",
    "using PhyloNetworks"
   ]
  },
  {
   "cell_type": "code",
   "execution_count": 8,
   "id": "f0221357",
   "metadata": {},
   "outputs": [
    {
     "data": {
      "text/plain": [
       "trop_normalize (generic function with 1 method)"
      ]
     },
     "metadata": {},
     "output_type": "display_data"
    }
   ],
   "source": [
    "function trop_normalize(x)\n",
    "    return x .- first(x)\n",
    "end"
   ]
  },
  {
   "cell_type": "markdown",
   "id": "4241a9e1",
   "metadata": {},
   "source": [
    "# Polyhedral point location"
   ]
  },
  {
   "cell_type": "code",
   "execution_count": 9,
   "id": "0b715c1b",
   "metadata": {},
   "outputs": [
    {
     "data": {
      "text/plain": [
       "poly_dist"
      ]
     },
     "metadata": {},
     "output_type": "display_data"
    }
   ],
   "source": [
    "\"\"\"\n",
    "Calculate the polyhedral distance between two vectors.\n",
    "The rows of `alphas` are the facet normals scaled to α⋅x = 1.\n",
    "\"\"\"\n",
    "function poly_dist(vec1, vec2, alphas)\n",
    "    differences = alphas * (vec1 - vec2)\n",
    "    return maximum(differences)\n",
    "end"
   ]
  },
  {
   "cell_type": "code",
   "execution_count": 10,
   "id": "d82bc87b",
   "metadata": {},
   "outputs": [
    {
     "data": {
      "text/plain": [
       "sum_of_poly_dist"
      ]
     },
     "metadata": {},
     "output_type": "display_data"
    }
   ],
   "source": [
    "\"\"\"\n",
    "Calculate the sum of polyhedral distances between `ref` and the points in `sample`.\n",
    "The rows of `alphas` are the facet normals scaled to α⋅x = 1.\n",
    "`power` gives the exponent of the distance before taking the sum.\n",
    "\"\"\"\n",
    "function sum_of_poly_dist(ref, sample, alphas; power=1)\n",
    "    return sum([poly_dist(pt, ref, alphas)^power for pt in sample])\n",
    "end"
   ]
  },
  {
   "cell_type": "code",
   "execution_count": 11,
   "id": "378a9b82",
   "metadata": {},
   "outputs": [
    {
     "data": {
      "text/plain": [
       "poly_frechet_model (generic function with 1 method)"
      ]
     },
     "metadata": {},
     "output_type": "display_data"
    }
   ],
   "source": [
    "function poly_frechet_model(sample, alphas; power=2)\n",
    "    dim = length(sample[1])\n",
    "    \n",
    "    # Choose model depending on power\n",
    "    if power == 1\n",
    "        error(\"FW computation not yet implemeneted\")\n",
    "    elseif power == 2\n",
    "        model = Model(Clarabel.Optimizer)\n",
    "    else\n",
    "        model = Model(Ipopt.Optimizer)\n",
    "    end\n",
    "    \n",
    "    # suppress printing\n",
    "    set_silent(model)\n",
    "\n",
    "    @variable(model, x[1:dim])\n",
    "    @variable(model, t[1:length(sample)])\n",
    "\n",
    "    @objective(model, Min, sum(t))\n",
    "\n",
    "    for (p_idx, p) in enumerate(sample)\n",
    "        expressions = alphas * (x - p)\n",
    "        \n",
    "        for expr in expressions\n",
    "            @constraint(model, t[p_idx] >= (expr)^power)\n",
    "        end\n",
    "    end\n",
    "\n",
    "    return model, x\n",
    "end"
   ]
  },
  {
   "cell_type": "code",
   "execution_count": 12,
   "id": "2ba35da7",
   "metadata": {},
   "outputs": [
    {
     "data": {
      "text/plain": [
       "poly_frechet"
      ]
     },
     "metadata": {},
     "output_type": "display_data"
    }
   ],
   "source": [
    "\"\"\"\n",
    "Find one polyhedral Fréchet mean of a given sample.\n",
    "The rows of `alphas` are the facet normals scaled to α⋅x = 1.\n",
    "`power` gives the exponent of the distance before taking the sum.\n",
    "\"\"\"\n",
    "function poly_frechet(sample, alphas; power=2)\n",
    "    model, x = poly_frechet_model(sample, alphas, power=power)\n",
    "    \n",
    "    @debug \"\\nOptimising...\"\n",
    "    \n",
    "    optimize!(model)\n",
    "    minimiser = value.(x)\n",
    "    \n",
    "    return minimiser\n",
    "end"
   ]
  },
  {
   "cell_type": "code",
   "execution_count": 13,
   "id": "68904da6",
   "metadata": {},
   "outputs": [
    {
     "data": {
      "text/plain": [
       "poly_frechet_set (generic function with 2 methods)"
      ]
     },
     "metadata": {},
     "output_type": "display_data"
    }
   ],
   "source": [
    "\"\"\"\n",
    "Find the set of polyhedral Fréchet means of a given sample.\n",
    "The rows of `alphas` are the facet normals scaled to α⋅x = 1.\n",
    "`power` gives the exponent of the distance before taking the sum.\n",
    "`rep` is either \"vrep\" or \"hrep\" -- returning either vertices or halfspaces.\n",
    "\"\"\"\n",
    "function poly_frechet_set(::Type{T}, sample, alphas; power=2, rep=:polyhedron, tol=1e-3) where {T<:Polyhedra.Library}\n",
    "    dim = length(sample[1])\n",
    "    num_facets = size(alphas)[1]\n",
    "    \n",
    "    # Compute one Fréchet mean\n",
    "    one_mean = poly_frechet(sample, alphas, power=power)\n",
    "    \n",
    "    @debug \"Frechet mean found: $(one_mean)\"\n",
    "    \n",
    "    # Rationalise all coordinates\n",
    "    rat_alphas = rationalize.(alphas, tol=tol)\n",
    "    rat_sample = [rationalize.(pt, tol=tol) for pt in sample]\n",
    "    rat_mean = rationalize.(one_mean, tol=tol)\n",
    "    \n",
    "    distances = [poly_dist(rat_mean, pt, alphas) for pt in rat_sample]\n",
    "    \n",
    "    Amat = vcat(rat_alphas, -rat_alphas)\n",
    "    bval1 = Rational{Int64}[]\n",
    "    bval2 = Rational{Int64}[]\n",
    "    \n",
    "    # Discard redundant halfspacesprintln(\"Setting up constraints: $(round(progress/total * 100, digits=3))%   \\r\")\n",
    "    evals = rat_alphas * hcat([rat_mean - pt for pt in rat_sample]...)\n",
    "    for k in 1:length(rat_sample)\n",
    "        evals[:,k] .-= distances[k]\n",
    "    end\n",
    "    \n",
    "    progress = 0\n",
    "    total = num_facets\n",
    "    \n",
    "    for k = 1:num_facets\n",
    "        \n",
    "        greatest_nonpos = argmax([x > 0 ? -Inf : x for x in evals[k,:]])\n",
    "        push!(bval1, dot(rat_alphas[k,:], rat_sample[greatest_nonpos]) + \n",
    "            distances[greatest_nonpos])\n",
    "        \n",
    "        progress += 1\n",
    "        @debug \"Removing redundant half-spaces: $(round(progress/total * 100, digits=3))%   \\r\"    \n",
    "    end\n",
    "    \n",
    "    @debug \"\\nFinding defining facets...\"\n",
    "    \n",
    "    poly = polyhedron(hrep(rat_alphas, bval1), T(:exact))\n",
    "    removehredundancy!(poly)\n",
    "    \n",
    "    if rep == :hrep\n",
    "        @debug \"Finding facets...\"\n",
    "        return hrep(poly)\n",
    "    elseif rep == :vrep\n",
    "        @debug \"Finding vertices...\"\n",
    "        return vrep(poly)\n",
    "    else\n",
    "        @debug \"Defaulting to polyhedron.\"\n",
    "        return poly\n",
    "    end\n",
    "end\n",
    "\n",
    "poly_frechet_set(sample, alphas; power=2, rep=:polyhedron, tol=1e-3) = poly_frechet_set(CDDLib.Library, sample, alphas, power=power, rep=rep, tol=tol)"
   ]
  },
  {
   "cell_type": "markdown",
   "id": "252934fc",
   "metadata": {},
   "source": [
    "## Examples"
   ]
  },
  {
   "cell_type": "markdown",
   "id": "b10eada7",
   "metadata": {},
   "source": [
    "### Toy example: Fréchet mean for $L^\\infty$-norm in $\\mathbb{R}^2$"
   ]
  },
  {
   "cell_type": "code",
   "execution_count": 14,
   "id": "6d912cc2",
   "metadata": {},
   "outputs": [
    {
     "name": "stdout",
     "output_type": "stream",
     "text": [
      "Polyhedral distances from sample to [7, 10]: [10, 8]\n",
      "Sum of polyhedral distances: 18\n",
      "Sum of squared polyhedral distances: 164\n"
     ]
    }
   ],
   "source": [
    "### Facets for the L-infinity norm\n",
    "### Technically twice as long as strictly necessary\n",
    "Linf_facets = [ 1  0 ;\n",
    "               -1  0 ;\n",
    "                0  1 ;\n",
    "                0 -1 ]\n",
    "\n",
    "sample = [ [0, 0], \n",
    "           [2, 2] ]\n",
    "\n",
    "my_point = [7, 10]\n",
    "\n",
    "println(\"Polyhedral distances from sample to $(my_point): \", \n",
    "    [poly_dist(pt, my_point, Linf_facets) for pt in sample])\n",
    "\n",
    "println(\"Sum of polyhedral distances: \", \n",
    "    sum_of_poly_dist(my_point, sample, Linf_facets))\n",
    "\n",
    "println(\"Sum of squared polyhedral distances: \", \n",
    "    sum_of_poly_dist(my_point, sample, Linf_facets, power=2))\n"
   ]
  },
  {
   "cell_type": "code",
   "execution_count": 15,
   "id": "0b3dc5b9",
   "metadata": {},
   "outputs": [
    {
     "name": "stdout",
     "output_type": "stream",
     "text": [
      "poly_frechet(sample, Linf_facets) = [1.000052213466546, 1.000052213466426]\n"
     ]
    },
    {
     "data": {
      "text/plain": [
       "Polyhedron CDDLib.Polyhedron{Rational{BigInt}}:\n",
       "2-element iterator of HyperPlane{Rational{BigInt}, Vector{Rational{BigInt}}}:\n",
       " HyperPlane(Rational{BigInt}[1, 0], 1//1)\n",
       " HyperPlane(Rational{BigInt}[0, 1], 1//1)"
      ]
     },
     "metadata": {},
     "output_type": "display_data"
    }
   ],
   "source": [
    "@show poly_frechet(sample, Linf_facets)\n",
    "poly_frechet_set(sample, Linf_facets, rep=\"vrep\", tol=1e-3)"
   ]
  },
  {
   "cell_type": "markdown",
   "id": "c540918f",
   "metadata": {},
   "source": [
    "### Manual tropical Fréchet mean in $\\mathbb{R}^3/\\mathbb{R}\\mathbf{1}$"
   ]
  },
  {
   "cell_type": "code",
   "execution_count": 16,
   "id": "91673b97",
   "metadata": {},
   "outputs": [
    {
     "name": "stdout",
     "output_type": "stream",
     "text": [
      "poly_frechet(sample2, Linf3_facets, power = 2) |> trop_normalize = [0.0, 1.9999999991413533, 1.0001319108600755]\n"
     ]
    },
    {
     "data": {
      "text/plain": [
       "Polyhedron CDDLib.Polyhedron{Rational{BigInt}}:\n",
       "2-element iterator of HyperPlane{Rational{BigInt}, Vector{Rational{BigInt}}}:\n",
       " HyperPlane(Rational{BigInt}[-1, 1, 0], 2//1)\n",
       " HyperPlane(Rational{BigInt}[1, 0, -1], -1//1)"
      ]
     },
     "metadata": {},
     "output_type": "display_data"
    }
   ],
   "source": [
    "Linf3_facets = [ -1   1  0;\n",
    "                  1  -1  0;\n",
    "                 -1   0  1;\n",
    "                  1   0 -1;\n",
    "                  0  -1  1;\n",
    "                  0   1 -1 ]\n",
    "\n",
    "sample2 = [ [0, 0, 0], \n",
    "            [0, 2, 4],\n",
    "            [0, 5, 1] ]\n",
    "\n",
    "@show poly_frechet(sample2, Linf3_facets, power=2) |> trop_normalize\n",
    "poly_frechet_set(sample2, Linf3_facets, rep=\"vrep\", tol=1e-3)"
   ]
  },
  {
   "cell_type": "markdown",
   "id": "cac2307f",
   "metadata": {},
   "source": [
    "# Tropical Frèchet means"
   ]
  },
  {
   "cell_type": "code",
   "execution_count": 17,
   "id": "cf8379a5",
   "metadata": {},
   "outputs": [
    {
     "data": {
      "text/plain": [
       "trop_facets"
      ]
     },
     "metadata": {},
     "output_type": "display_data"
    }
   ],
   "source": [
    "\"\"\"\n",
    "Find the relevant facet normals in n dimensions for a tropical ball\n",
    "\"\"\"\n",
    "function trop_facets(n::Int64)\n",
    "    result = zeros(Rational{Int64}, n * (n - 1), n)\n",
    "    k = 1\n",
    "    for i = 1:n\n",
    "        for j = 1:n\n",
    "            if i != j\n",
    "                result[k, i] = 1//1\n",
    "                result[k, j] = -1//1\n",
    "                k += 1\n",
    "            end\n",
    "        end\n",
    "    end\n",
    "    return result\n",
    "end"
   ]
  },
  {
   "cell_type": "code",
   "execution_count": 18,
   "id": "da07504e",
   "metadata": {},
   "outputs": [
    {
     "data": {
      "text/plain": [
       "trop_dist"
      ]
     },
     "metadata": {},
     "output_type": "display_data"
    }
   ],
   "source": [
    "\"\"\"\n",
    "Calculate the tropical distance between two vectors.\n",
    "\"\"\"\n",
    "function trop_dist(vec1, vec2)\n",
    "    return maximum(vec1 - vec2) - minimum(vec1 - vec2)\n",
    "end"
   ]
  },
  {
   "cell_type": "code",
   "execution_count": 19,
   "id": "a1b90ca3",
   "metadata": {},
   "outputs": [
    {
     "data": {
      "text/plain": [
       "sum_of_trop_dist"
      ]
     },
     "metadata": {},
     "output_type": "display_data"
    }
   ],
   "source": [
    "\"\"\"\n",
    "Calculate the sum of tropical distances between `ref` and the points in `sample`.\n",
    "\"\"\"\n",
    "function sum_of_trop_dist(ref, sample; power=1)\n",
    "    return sum([trop_dist(pt, ref)^power for pt in sample])\n",
    "end"
   ]
  },
  {
   "cell_type": "code",
   "execution_count": 20,
   "id": "c92af025",
   "metadata": {},
   "outputs": [
    {
     "data": {
      "text/plain": [
       "trop_frechet"
      ]
     },
     "metadata": {},
     "output_type": "display_data"
    }
   ],
   "source": [
    "\"\"\"\n",
    "Find one polyhedral Fréchet mean of a given sample.\n",
    "The rows of `alphas` are the facet normals scaled to α⋅x = 1.\n",
    "`power` gives the exponent of the distance before taking the sum.\n",
    "\"\"\"\n",
    "function trop_frechet(sample; power=2)\n",
    "    dim = length(sample[1])\n",
    "    alphas = trop_facets(dim)\n",
    "    return poly_frechet(sample, alphas, power=power)\n",
    "end"
   ]
  },
  {
   "cell_type": "code",
   "execution_count": 21,
   "id": "60da57ca",
   "metadata": {},
   "outputs": [
    {
     "data": {
      "text/plain": [
       "trop_frechet_set"
      ]
     },
     "metadata": {},
     "output_type": "display_data"
    }
   ],
   "source": [
    "\"\"\"\n",
    "Find one polyhedral Fréchet mean of a given sample.\n",
    "The rows of `alphas` are the facet normals scaled to α⋅x = 1.\n",
    "`power` gives the exponent of the distance before taking the sum.\n",
    "\"\"\"\n",
    "function trop_frechet_set(sample; power=2, rep=:polyhedron, tol=1e-3)\n",
    "    dim = length(sample[1])\n",
    "    alphas = trop_facets(dim)\n",
    "    return poly_frechet_set(sample, alphas, power=power, rep=rep, tol=tol)\n",
    "end"
   ]
  },
  {
   "cell_type": "markdown",
   "id": "25b33af5",
   "metadata": {},
   "source": [
    "## Examples\n",
    "### Toy example"
   ]
  },
  {
   "cell_type": "code",
   "execution_count": 22,
   "id": "9a7e42d9",
   "metadata": {},
   "outputs": [
    {
     "name": "stdout",
     "output_type": "stream",
     "text": [
      "Tropical distances: [8, 6]\n",
      "Sum of tropical distances: 14\n",
      "Sum of squared tropical distances: 100\n"
     ]
    }
   ],
   "source": [
    "sample = [[0,0,0], [0,4,1]]\n",
    "\n",
    "my_point = [7, 10, 2]\n",
    "\n",
    "println(\"Tropical distances: \", \n",
    "    [trop_dist(pt, my_point) for pt in sample])\n",
    "\n",
    "println(\"Sum of tropical distances: \", \n",
    "    sum_of_trop_dist(my_point, sample))\n",
    "\n",
    "println(\"Sum of squared tropical distances: \", \n",
    "    sum_of_trop_dist(my_point, sample, power=2))"
   ]
  },
  {
   "cell_type": "code",
   "execution_count": 23,
   "id": "49dc3793",
   "metadata": {},
   "outputs": [
    {
     "name": "stdout",
     "output_type": "stream",
     "text": [
      "num_FM = [0.0, 2.0000154234464373, 0.7004901999320469]\n"
     ]
    },
    {
     "data": {
      "text/plain": [
       "Polyhedron CDDLib.Polyhedron{Rational{BigInt}}:\n",
       "1-element iterator of HyperPlane{Rational{BigInt}, Vector{Rational{BigInt}}}:\n",
       " HyperPlane(Rational{BigInt}[1, -1, 0], -2//1),\n",
       "2-element iterator of HalfSpace{Rational{BigInt}, Vector{Rational{BigInt}}}:\n",
       " HalfSpace(Rational{BigInt}[0, 1, -1], 2//1)\n",
       " HalfSpace(Rational{BigInt}[0, -1, 1], -1//1)"
      ]
     },
     "metadata": {},
     "output_type": "display_data"
    }
   ],
   "source": [
    "num_FM = trop_frechet(sample) |> trop_normalize\n",
    "@show num_FM\n",
    "trop_frechet_set(sample, rep=\"vrep\", tol=1e-3)"
   ]
  },
  {
   "cell_type": "markdown",
   "id": "8b7bfcc6",
   "metadata": {},
   "source": [
    "### Example of Section 4.2. \"Exact Quadratic Optimization\""
   ]
  },
  {
   "cell_type": "code",
   "execution_count": 24,
   "id": "255b3261",
   "metadata": {},
   "outputs": [
    {
     "name": "stdout",
     "output_type": "stream",
     "text": [
      "num_FM = [0.0, -1.4387319974273893e-8, -1.0001294161599674]\n"
     ]
    },
    {
     "data": {
      "text/plain": [
       "Polyhedron CDDLib.Polyhedron{Rational{BigInt}}:\n",
       "2-element iterator of HyperPlane{Rational{BigInt}, Vector{Rational{BigInt}}}:\n",
       " HyperPlane(Rational{BigInt}[1, 0, -1], 1//1)\n",
       " HyperPlane(Rational{BigInt}[0, 1, -1], 1//1)"
      ]
     },
     "metadata": {},
     "output_type": "display_data"
    }
   ],
   "source": [
    "sample = [[-3,0,0], [0,-6,0], [0,0,-12]]\n",
    "\n",
    "num_FM = trop_frechet(sample) |> trop_normalize\n",
    "@show num_FM\n",
    "trop_frechet_set(sample, rep=\"vrep\", tol=1e-3)"
   ]
  },
  {
   "cell_type": "code",
   "execution_count": 25,
   "id": "a801a290",
   "metadata": {},
   "outputs": [
    {
     "data": {
      "text/plain": [
       "6×3 Matrix{Rational{Int64}}:\n",
       "  1  -1   0\n",
       "  1   0  -1\n",
       " -1   1   0\n",
       "  0   1  -1\n",
       " -1   0   1\n",
       "  0  -1   1"
      ]
     },
     "metadata": {},
     "output_type": "display_data"
    }
   ],
   "source": [
    "trop_facets(3)"
   ]
  },
  {
   "cell_type": "markdown",
   "id": "1c25a001",
   "metadata": {},
   "source": [
    "### Example 10 (Failure of Sturm's algorithm)"
   ]
  },
  {
   "cell_type": "code",
   "execution_count": 26,
   "id": "f9cbbadc",
   "metadata": {},
   "outputs": [
    {
     "name": "stdout",
     "output_type": "stream",
     "text": [
      "num_FM = [0.0, 1.9999999991422408, 1.0001320211409572]\n"
     ]
    },
    {
     "data": {
      "text/plain": [
       "Polyhedron CDDLib.Polyhedron{Rational{BigInt}}:\n",
       "2-element iterator of HyperPlane{Rational{BigInt}, Vector{Rational{BigInt}}}:\n",
       " HyperPlane(Rational{BigInt}[1, -1, 0], -2//1)\n",
       " HyperPlane(Rational{BigInt}[1, 0, -1], -1//1)"
      ]
     },
     "metadata": {},
     "output_type": "display_data"
    }
   ],
   "source": [
    "sample = [ [0, 0, 0], \n",
    "           [0, 2, 4],\n",
    "           [0, 5, 1] ]\n",
    "\n",
    "num_FM = trop_frechet(sample) |> trop_normalize\n",
    "@show num_FM\n",
    "trop_frechet_set(sample, rep=\"vrep\", tol=1e-3)"
   ]
  },
  {
   "cell_type": "code",
   "execution_count": 27,
   "id": "02207a6b",
   "metadata": {},
   "outputs": [
    {
     "data": {
      "text/plain": [
       "A JuMP Model\n",
       "├ solver: Clarabel\n",
       "├ objective_sense: MIN_SENSE\n",
       "│ └ objective_function_type: AffExpr\n",
       "├ num_variables: 6\n",
       "├ num_constraints: 18\n",
       "│ └ QuadExpr in MOI.GreaterThan{Float64}: 18\n",
       "└ Names registered in the model\n",
       "  └ :t, :x"
      ]
     },
     "metadata": {},
     "output_type": "display_data"
    },
    {
     "data": {
      "text/plain": [
       "18-element Vector{String}:\n",
       " \"-x[1]² + 2 x[2]*x[1] - x[2]² + t[1] ≥ 0\"\n",
       " \"-x[1]² + 2 x[3]*x[1] - x[3]² + t[1] ≥ 0\"\n",
       " \"-x[1]² + 2 x[2]*x[1] - x[2]² + t[1] ≥ 0\"\n",
       " \"-x[2]² + 2 x[3]*x[2] - x[3]² + t[1] ≥ 0\"\n",
       " \"-x[1]² + 2 x[3]*x[1] - x[3]² + t[1] ≥ 0\"\n",
       " \"-x[2]² + 2 x[3]*x[2] - x[3]² + t[1] ≥ 0\"\n",
       " \"-x[1]² + 2 x[2]*x[1] - x[2]² - 4 x[1] + 4 x[2] + t[2] ≥ 4\"\n",
       " \"-x[1]² + 2 x[3]*x[1] - x[3]² - 8 x[1] + 8 x[3] + t[2] ≥ 16\"\n",
       " \"-x[1]² + 2 x[2]*x[1] - x[2]² - 4 x[1] + 4 x[2] + t[2] ≥ 4\"\n",
       " \"-x[2]² + 2 x[3]*x[2] - x[3]² - 4 x[2] + 4 x[3] + t[2] ≥ 4\"\n",
       " \"-x[1]² + 2 x[3]*x[1] - x[3]² - 8 x[1] + 8 x[3] + t[2] ≥ 16\"\n",
       " \"-x[2]² + 2 x[3]*x[2] - x[3]² - 4 x[2] + 4 x[3] + t[2] ≥ 4\"\n",
       " \"-x[1]² + 2 x[2]*x[1] - x[2]² - 10 x[1] + 10 x[2] + t[3] ≥ 25\"\n",
       " \"-x[1]² + 2 x[3]*x[1] - x[3]² - 2 x[1] + 2 x[3] + t[3] ≥ 1\"\n",
       " \"-x[1]² + 2 x[2]*x[1] - x[2]² - 10 x[1] + 10 x[2] + t[3] ≥ 25\"\n",
       " \"-x[2]² + 2 x[3]*x[2] - x[3]² + 8 x[2] - 8 x[3] + t[3] ≥ 16\"\n",
       " \"-x[1]² + 2 x[3]*x[1] - x[3]² - 2 x[1] + 2 x[3] + t[3] ≥ 1\"\n",
       " \"-x[2]² + 2 x[3]*x[2] - x[3]² + 8 x[2] - 8 x[3] + t[3] ≥ 16\""
      ]
     },
     "metadata": {},
     "output_type": "display_data"
    }
   ],
   "source": [
    "model = poly_frechet_model(sample, trop_facets(3), power=2) |> first\n",
    "display(model)\n",
    "constraints_string(MIME(\"text/plain\"), model)"
   ]
  },
  {
   "cell_type": "markdown",
   "id": "8ae3c65f",
   "metadata": {},
   "source": [
    "### Figure 1"
   ]
  },
  {
   "cell_type": "code",
   "execution_count": 31,
   "id": "4a783720",
   "metadata": {},
   "outputs": [
    {
     "name": "stdout",
     "output_type": "stream",
     "text": [
      "trop_frechet(sample) |> trop_normalize = [0.0, 3.205087304018976, 3.2050203078168154]\n"
     ]
    },
    {
     "data": {
      "text/plain": [
       "Polyhedron CDDLib.Polyhedron{Rational{BigInt}}:\n",
       "1-element iterator of HyperPlane{Rational{BigInt}, Vector{Rational{BigInt}}}:\n",
       " HyperPlane(Rational{BigInt}[0, 1, -1], 0//1),\n",
       "2-element iterator of HalfSpace{Rational{BigInt}, Vector{Rational{BigInt}}}:\n",
       " HalfSpace(Rational{BigInt}[1, -1, 0], -3//1)\n",
       " HalfSpace(Rational{BigInt}[-1, 1, 0], 4//1)"
      ]
     },
     "metadata": {},
     "output_type": "display_data"
    }
   ],
   "source": [
    "sample = [ [0,  0, 8], \n",
    "           [0,  2, 4],\n",
    "           [0,  5, 3],\n",
    "           [0, 10, 2] ]\n",
    "\n",
    "@show trop_frechet(sample) |> trop_normalize\n",
    "P = trop_frechet_set(sample, tol=1e-3)"
   ]
  },
  {
   "cell_type": "code",
   "execution_count": 32,
   "id": "cf2d2db1",
   "metadata": {},
   "outputs": [
    {
     "name": "stdout",
     "output_type": "stream",
     "text": [
      "exact_FM = Rational{BigInt}[0, 4, 4]\n"
     ]
    },
    {
     "data": {
      "text/plain": [
       "4-element Vector{Rational{BigInt}}:\n",
       " 8\n",
       " 2\n",
       " 2\n",
       " 8"
      ]
     },
     "metadata": {},
     "output_type": "display_data"
    }
   ],
   "source": [
    "exact_FM = points(P) |> collect |> rand |> trop_normalize\n",
    "@show exact_FM\n",
    "trop_dist.(Ref(exact_FM), sample)"
   ]
  },
  {
   "cell_type": "markdown",
   "id": "42e2e827",
   "metadata": {},
   "source": [
    "### Random points in high dimensional space"
   ]
  },
  {
   "cell_type": "code",
   "execution_count": 55,
   "id": "0c5b3ff4",
   "metadata": {},
   "outputs": [
    {
     "data": {
      "text/plain": [
       "20-element Vector{Vector{Int64}}:\n",
       " [10, 1, 17, 6, 10, 19, 17, 13, 11, 4, 10, 14, 17, 12, 14, 17, 18, 6, 11, 3]\n",
       " [16, 10, 14, 8, 19, 19, 6, 10, 11, 8, 17, 8, 9, 2, 5, 5, 7, 9, 13, 15]\n",
       " [9, 11, 14, 6, 5, 8, 7, 3, 9, 5, 1, 5, 11, 9, 16, 4, 6, 13, 9, 17]\n",
       " [13, 11, 14, 19, 2, 7, 7, 20, 8, 9, 11, 1, 15, 5, 11, 13, 1, 14, 19, 15]\n",
       " [8, 5, 9, 5, 9, 4, 20, 1, 8, 17, 17, 19, 18, 4, 11, 10, 16, 16, 8, 3]\n",
       " [16, 18, 3, 13, 13, 7, 14, 3, 5, 15, 16, 6, 19, 7, 1, 19, 20, 15, 2, 6]\n",
       " [1, 14, 18, 16, 17, 17, 1, 11, 6, 16, 15, 12, 8, 13, 14, 2, 9, 16, 18, 16]\n",
       " [6, 6, 7, 1, 7, 18, 6, 5, 6, 6, 19, 2, 11, 4, 6, 9, 14, 7, 7, 14]\n",
       " [4, 19, 6, 2, 7, 20, 7, 7, 17, 7, 1, 20, 17, 6, 17, 4, 16, 17, 15, 6]\n",
       " [6, 15, 9, 7, 4, 15, 20, 12, 2, 3, 2, 16, 20, 1, 17, 6, 1, 14, 5, 4]\n",
       " [9, 19, 5, 12, 17, 16, 10, 12, 16, 4, 12, 17, 18, 14, 11, 20, 4, 18, 10, 1]\n",
       " [10, 13, 10, 3, 17, 1, 11, 5, 19, 18, 12, 19, 3, 5, 18, 1, 18, 3, 7, 4]\n",
       " [15, 1, 1, 11, 8, 9, 1, 4, 13, 4, 11, 2, 2, 11, 3, 11, 9, 18, 12, 3]\n",
       " [5, 10, 18, 11, 9, 12, 3, 2, 16, 14, 3, 12, 12, 9, 14, 8, 16, 9, 19, 7]\n",
       " [11, 19, 7, 10, 4, 15, 5, 10, 9, 11, 6, 16, 2, 2, 14, 11, 2, 8, 13, 17]\n",
       " [8, 9, 12, 6, 10, 1, 2, 2, 17, 19, 12, 9, 3, 10, 20, 14, 9, 14, 14, 11]\n",
       " [2, 8, 7, 9, 13, 18, 5, 14, 17, 1, 12, 14, 2, 3, 16, 6, 10, 7, 7, 13]\n",
       " [5, 17, 16, 10, 3, 8, 15, 2, 2, 12, 9, 14, 14, 7, 5, 10, 9, 4, 14, 9]\n",
       " [20, 19, 13, 3, 12, 16, 18, 8, 11, 11, 11, 17, 8, 6, 9, 16, 2, 14, 11, 7]\n",
       " [4, 13, 17, 10, 4, 11, 16, 7, 12, 7, 6, 1, 14, 3, 12, 19, 12, 4, 17, 8]"
      ]
     },
     "metadata": {},
     "output_type": "display_data"
    }
   ],
   "source": [
    "n = 20\n",
    "m = n\n",
    "\n",
    "rand_sample = [rand(1:20, n) for _ in 1:m]"
   ]
  },
  {
   "cell_type": "code",
   "execution_count": 56,
   "id": "1d862933",
   "metadata": {},
   "outputs": [
    {
     "name": "stdout",
     "output_type": "stream",
     "text": [
      "  0.504502 seconds (3.89 M allocations: 302.356 MiB, 36.80% gc time)\n"
     ]
    },
    {
     "data": {
      "text/plain": [
       "20-element Vector{Float64}:\n",
       "  0.0\n",
       "  2.236703211533353e-8\n",
       "  1.8532017365124887e-8\n",
       " -1.9999999971934712\n",
       " -0.2016807836733826\n",
       " -0.0001212024113657062\n",
       " -3.755869282251467e-9\n",
       " -1.0000000200499557\n",
       " -0.39135440956281387\n",
       " -0.9999999973742796\n",
       " -2.4666669380400514\n",
       " -0.9999999997450629\n",
       " -1.566416085729827e-8\n",
       " -2.9258028485278804\n",
       "  3.3761223816597408e-9\n",
       "  0.13333451922391737\n",
       " -1.0001212043827388\n",
       "  1.9998805932109995\n",
       "  1.0000000041693116\n",
       " -1.9999999692143269"
      ]
     },
     "metadata": {},
     "output_type": "display_data"
    }
   ],
   "source": [
    "@time trop_frechet(rand_sample) |> trop_normalize"
   ]
  },
  {
   "cell_type": "code",
   "execution_count": 57,
   "id": "f54259bf",
   "metadata": {},
   "outputs": [
    {
     "name": "stdout",
     "output_type": "stream",
     "text": [
      "  3.094123 seconds (14.32 M allocations: 401.911 MiB, 5.50% gc time, 0.52% compilation time)\n"
     ]
    },
    {
     "data": {
      "text/plain": [
       "Polyhedron CDDLib.Polyhedron{Rational{BigInt}}:\n",
       "16-element iterator of HyperPlane{Rational{BigInt}, Vector{Rational{BigInt}}}:\n",
       " HyperPlane(Rational{BigInt}[1, 0, -1, 0, 0, 0, 0, 0, 0, 0, 0, 0, 0, 0, 0, 0, 0, 0, 0, 0], 0//1)\n",
       " HyperPlane(Rational{BigInt}[1, 0, 0, -1, 0, 0, 0, 0, 0, 0, 0, 0, 0, 0, 0, 0, 0, 0, 0, 0], 2//1)\n",
       " HyperPlane(Rational{BigInt}[1, 0, 0, 0, 0, -1, 0, 0, 0, 0, 0, 0, 0, 0, 0, 0, 0, 0, 0, 0], 3//29410)\n",
       " HyperPlane(Rational{BigInt}[1, 0, 0, 0, 0, 0, 0, 0, 0, 0, 0, 0, 0, 0, 0, 0, 0, 0, 0, -1], 2//1)\n",
       " HyperPlane(Rational{BigInt}[0, 1, 0, 0, 0, -1, 0, 0, 0, 0, 0, 0, 0, 0, 0, 0, 0, 0, 0, 0], 3//29410)\n",
       " HyperPlane(Rational{BigInt}[0, 1, 0, 0, 0, 0, 0, 0, 0, 0, 0, 0, 0, 0, 0, 0, -1, 0, 0, 0], 29413//29410)\n",
       " HyperPlane(Rational{BigInt}[0, 1, 0, 0, 0, 0, 0, 0, 0, 0, 0, 0, 0, 0, 0, 0, 0, -1, 0, 0], -58817//29410)\n",
       " HyperPlane(Rational{BigInt}[0, 0, 0, 1, 0, 0, 0, 0, 0, 0, -1, 0, 0, 0, 0, 0, 0, 0, 0, 0], 1367//2941)\n",
       " HyperPlane(Rational{BigInt}[0, 0, 0, 0, 0, 1, 0, 0, 0, -1, 0, 0, 0, 0, 0, 0, 0, 0, 0, 0], 29407//29410)\n",
       " HyperPlane(Rational{BigInt}[0, 0, 0, 0, 0, 1, 0, 0, 0, 0, 0, 0, 0, 0, -1, 0, 0, 0, 0, 0], -3//29410)\n",
       " HyperPlane(Rational{BigInt}[0, 0, -1, 0, 0, 0, 1, 0, 0, 0, 0, 0, 0, 0, 0, 0, 0, 0, 0, 0], 0//1)\n",
       " HyperPlane(Rational{BigInt}[0, 0, 0, 0, 0, 0, 1, 0, 0, 0, 0, 0, 0, 0, 0, 0, 0, 0, -1, 0], -1//1)\n",
       " HyperPlane(Rational{BigInt}[0, 0, -1, 0, 0, 0, 0, 1, 0, 0, 0, 0, 0, 0, 0, 0, 0, 0, 0, 0], -1//1)\n",
       " HyperPlane(Rational{BigInt}[0, 0, 0, 0, 0, 0, 0, 1, 0, 0, 0, -1, 0, 0, 0, 0, 0, 0, 0, 0], 0//1)\n",
       " HyperPlane(Rational{BigInt}[0, 0, 0, 0, 0, 0, 0, 0, 0, 0, 0, 1, 0, 0, 0, -1, 0, 0, 0, 0], -6086//5363)\n",
       " HyperPlane(Rational{BigInt}[0, -1, 0, 0, 0, 0, 0, 0, 0, 0, 0, 0, 1, 0, 0, 0, 0, 0, 0, 0], 0//1),\n",
       "6-element iterator of HalfSpace{Rational{BigInt}, Vector{Rational{BigInt}}}:\n",
       " HalfSpace(Rational{BigInt}[0, 0, 0, 0, 1, 0, 0, -1, 0, 0, 0, 0, 0, 0, 0, 0, 0, 0, 0, 0], 1//1)\n",
       " HalfSpace(Rational{BigInt}[0, 0, 0, 0, 0, 0, 1, 0, 0, 0, 0, 0, 0, -1, 0, 0, 0, 0, 0, 0], 5//1)\n",
       " HalfSpace(Rational{BigInt}[0, 0, 0, 0, 0, 0, 0, 0, 1, 0, 0, 0, -1, 0, 0, 0, 0, 0, 0, 0], -3//29410)\n",
       " HalfSpace(Rational{BigInt}[0, 0, 0, 0, 0, 0, 0, 0, 0, 0, -1, 0, 0, 1, 0, 0, 0, 0, 0, 0], -211//527)\n",
       " HalfSpace(Rational{BigInt}[0, 0, 0, 0, -1, 0, 0, 0, 0, 0, 0, 0, 0, 0, 0, 1, 0, 0, 0, 0], 316//527)\n",
       " HalfSpace(Rational{BigInt}[0, 0, 0, 0, 0, 0, 0, 0, -1, 0, 0, 0, 0, 0, 0, 1, 0, 0, 0, 0], 6086//5363)"
      ]
     },
     "metadata": {},
     "output_type": "display_data"
    }
   ],
   "source": [
    "@time trop_frechet_set(rand_sample, rep=\"vrep\", tol=1e-3)"
   ]
  },
  {
   "cell_type": "markdown",
   "id": "541ecc26",
   "metadata": {},
   "source": [
    "### Big random sample in 3-space"
   ]
  },
  {
   "cell_type": "code",
   "execution_count": 32,
   "id": "96867a76",
   "metadata": {
    "scrolled": true
   },
   "outputs": [
    {
     "name": "stdout",
     "output_type": "stream",
     "text": [
      "[[5, 5, 9], [4, 6, 9]]\n",
      "2 sample points [0.0, 0.26262626262626265, 0.7373737373737373, 0.0]\n",
      "3 sample points [0.0, 0.6, 0.4, 0.0]\n",
      "4 sample points [0.0, 0.88, 0.12, 0.0]\n",
      "5 sample points [0.0, 0.93, 0.07, 0.0]\n",
      "6 sample points [0.0, 0.97, 0.03, 0.0]\n",
      "[[2, 4, 10], [3, 10, 2], [3, 2, 9], [1, 3, 3], [10, 6, 4], [6, 9, 1], [10, 9, 2]]\n",
      "[[2, 7, 1], [10, 3, 10], [9, 10, 10], [1, 2, 4], [5, 6, 7], [4, 6, 1], [6, 9, 10]]\n",
      "[[8, 9, 1], [8, 5, 10], [10, 3, 5], [9, 10, 9], [10, 7, 6], [7, 3, 7], [1, 1, 6]]\n",
      "7 sample points [0.0, 1.0, 0.0, 0.0]\n",
      "8 sample points [0.0, 1.0, 0.0, 0.0]\n",
      "9 sample points [0.0, 1.0, 0.0, 0.0]\n"
     ]
    }
   ],
   "source": [
    "n = 3\n",
    "\n",
    "Random.seed!(50)\n",
    "\n",
    "for m = 2:3n\n",
    "    dim_vec = zeros(Int64, n+1)\n",
    "    for _ = 1:100\n",
    "        rand_sample = [rand(1:10, n) for _ in 1:m]\n",
    "        try\n",
    "            my_frech = trop_frechet_set(rand_sample, rep=\"hrep\", tol=1e-3)\n",
    "            dim_vec[dim(my_frech) + 1] += 1\n",
    "        catch e\n",
    "            println(rand_sample)\n",
    "        end\n",
    "    end\n",
    "    println(m, \" sample points \", dim_vec / sum(dim_vec))\n",
    "end"
   ]
  },
  {
   "cell_type": "markdown",
   "id": "e025c747",
   "metadata": {},
   "source": [
    "## Application: Phylogenetic trees"
   ]
  },
  {
   "cell_type": "code",
   "execution_count": 27,
   "id": "a7341024",
   "metadata": {},
   "outputs": [
    {
     "data": {
      "text/plain": [
       "8-element Vector{String}:\n",
       " \"Tg\"\n",
       " \"Et\"\n",
       " \"Cp\"\n",
       " \"Ta\"\n",
       " \"Bb\"\n",
       " \"Tt\"\n",
       " \"Pv\"\n",
       " \"Pf\""
      ]
     },
     "metadata": {},
     "output_type": "display_data"
    }
   ],
   "source": [
    "using JSON3\n",
    "using DataFrames\n",
    "\n",
    "# Function to read the JSON file and convert to a list of matrices\n",
    "function read_and_convert_json(file_path::String)\n",
    "    # Read the JSON file\n",
    "    json_data = JSON3.read(file_path)\n",
    "    \n",
    "    # Extract elements from the nested arrays\n",
    "    elements = [x[1] for x in json_data]\n",
    "    elements = rationalize.(10000 * elements, tol=1e-2)\n",
    "    \n",
    "    # Convert elements into matrices\n",
    "    num_elements = length(elements)\n",
    "    matrices = []\n",
    "    \n",
    "    for i in 1:64:num_elements\n",
    "        # Get the next 64 elements\n",
    "        matrix_elements = elements[i:min(i+63, num_elements)]\n",
    "        \n",
    "        # Convert to an 8x8 matrix if there are 64 elements, otherwise create a smaller matrix\n",
    "        matrix_size = length(matrix_elements)\n",
    "        sqrt_size = Int(sqrt(matrix_size))\n",
    "        push!(matrices, reshape(matrix_elements, sqrt_size, sqrt_size))\n",
    "    end\n",
    "    \n",
    "    return matrices\n",
    "end\n",
    "\n",
    "# Read and convert the JSON file\n",
    "file_path = \"all_matrices.json\"\n",
    "matrices = read_and_convert_json(file_path)\n",
    "taxa = [\"Tg\", \"Et\", \"Cp\", \"Ta\", \"Bb\", \"Tt\", \"Pv\", \"Pf\"]"
   ]
  },
  {
   "cell_type": "code",
   "execution_count": 28,
   "id": "6917e852",
   "metadata": {},
   "outputs": [
    {
     "data": {
      "text/plain": [
       "cophenetic_from_distance"
      ]
     },
     "metadata": {},
     "output_type": "display_data"
    }
   ],
   "source": [
    "\"\"\"\n",
    "Take a matrix of pairwise distances between taxa and returns the cophenetic vector.\n",
    "\"\"\"\n",
    "function cophenetic_from_distance(pairwise)\n",
    "    n = size(pairwise, 1)\n",
    "    coph = [pairwise[i, j] for i in 1:n-1 for j in i+1:n]\n",
    "    return coph\n",
    "end"
   ]
  },
  {
   "cell_type": "code",
   "execution_count": 29,
   "id": "398c91c4",
   "metadata": {},
   "outputs": [
    {
     "data": {
      "text/plain": [
       "is_phylogenetic_tree"
      ]
     },
     "metadata": {},
     "output_type": "display_data"
    }
   ],
   "source": [
    "\"\"\"\n",
    "Check if a distance matrix defines a phylogenetic tree\n",
    "\"\"\"\n",
    "function is_phylogenetic_tree(D)\n",
    "    n = size(D, 1)\n",
    "    \n",
    "    # Check if the matrix is symmetric and non-negative\n",
    "    for i in 1:n\n",
    "        for j in i:n\n",
    "            if D[i, j] != D[j, i] || D[i, j] < 0\n",
    "                return false\n",
    "            end\n",
    "        end\n",
    "    end\n",
    "\n",
    "    # Check the four-point condition\n",
    "    for i in 1:n-3\n",
    "        for j in i+1:n-2\n",
    "            for k in j+1:n-1\n",
    "                for l in k+1:n\n",
    "                    # Calculate distances\n",
    "                    D_ij_kl = D[i, j] + D[k, l]\n",
    "                    D_ik_jl = D[i, k] + D[j, l]\n",
    "                    D_il_jk = D[i, l] + D[j, k]\n",
    "                    \n",
    "                    # Check the four-point condition\n",
    "                    if !(D_ij_kl >= D_ik_jl && D_ij_kl >= D_il_jk) &&\n",
    "                       !(D_ik_jl >= D_ij_kl && D_ik_jl >= D_il_jk) &&\n",
    "                       !(D_il_jk >= D_ij_kl && D_il_jk >= D_ik_jl)\n",
    "                        return false\n",
    "                    end\n",
    "                end\n",
    "            end\n",
    "        end\n",
    "    end\n",
    "    \n",
    "    return true\n",
    "end"
   ]
  },
  {
   "cell_type": "code",
   "execution_count": 30,
   "id": "9abc5825",
   "metadata": {},
   "outputs": [
    {
     "data": {
      "text/plain": [
       "is_ultrametric_tree"
      ]
     },
     "metadata": {},
     "output_type": "display_data"
    }
   ],
   "source": [
    "\"\"\"\n",
    "Check if a distance matrix defines an ultrametric tree\n",
    "\"\"\"\n",
    "function is_ultrametric_tree(D)\n",
    "    n = size(D, 1)\n",
    "    \n",
    "    # Check if the matrix is symmetric and non-negative\n",
    "    for i in 1:n\n",
    "        for j in i:n\n",
    "            if D[i, j] != D[j, i] || D[i, j] < 0\n",
    "                return false\n",
    "            end\n",
    "        end\n",
    "    end\n",
    "\n",
    "    # Check the ultrametric condition\n",
    "    for i in 1:n-2\n",
    "        for j in i+1:n-1\n",
    "            for k in j+1:n\n",
    "                # Calculate distances\n",
    "                Dij = D[i, j]\n",
    "                Dik = D[i, k]\n",
    "                Djk = D[j, k]\n",
    "                \n",
    "                # Check if the largest distance is attained at least twice\n",
    "                if !(Dij <= max(Dik, Djk) && Dik <= max(Dij, Djk) && Djk <= max(Dij, Dik))\n",
    "                    return false\n",
    "                end\n",
    "            end\n",
    "        end\n",
    "    end\n",
    "    \n",
    "    return true\n",
    "\n",
    "end"
   ]
  },
  {
   "cell_type": "code",
   "execution_count": 31,
   "id": "f2a47394",
   "metadata": {},
   "outputs": [
    {
     "name": "stdout",
     "output_type": "stream",
     "text": [
      "All phylogenetic: true\n",
      "All ultrametric: false\n"
     ]
    }
   ],
   "source": [
    "println(\"All phylogenetic: \", all([is_phylogenetic_tree(matrices[i]) for i = 1:268]))\n",
    "println(\"All ultrametric: \", all([is_ultrametric_tree(matrices[i]) for i = 1:268]))"
   ]
  },
  {
   "cell_type": "code",
   "execution_count": 32,
   "id": "e9a2a0ed",
   "metadata": {},
   "outputs": [
    {
     "data": {
      "text/plain": [
       "Polyhedron CDDLib.Polyhedron{Rational{BigInt}}:\n",
       "4-element iterator of HyperPlane{Rational{BigInt}, Vector{Rational{BigInt}}}:\n",
       " HyperPlane(Rational{BigInt}[1, 0, 0, 0, 0, 0, 0, 0, 0, 0, 0, 0, 0, 0, 0, 0, 0, 0, 0, 0, 0, 0, -1, 0, 0, 0, 0, 0], 0//1)\n",
       " HyperPlane(Rational{BigInt}[1, 0, 0, 0, 0, 0, 0, 0, 0, 0, 0, 0, 0, 0, 0, 0, 0, 0, 0, 0, 0, 0, 0, 0, 0, 0, 0, -1], 0//1)\n",
       " HyperPlane(Rational{BigInt}[0, 0, 0, 0, 0, 0, 0, 1, 0, 0, 0, 0, 0, 0, 0, 0, 0, 0, 0, 0, 0, 0, -1, 0, 0, 0, 0, 0], 0//1)\n",
       " HyperPlane(Rational{BigInt}[0, 0, 0, 0, 0, 0, 0, 0, 0, 0, 0, 0, 0, 1, 0, 0, 0, 0, 0, 0, 0, 0, 0, 0, 0, 0, 0, -1], 0//1),\n",
       "294-element iterator of HalfSpace{Rational{BigInt}, Vector{Rational{BigInt}}}:\n",
       " HalfSpace(Rational{BigInt}[0, 1, 0, 0, 0, 0, -1, 0, 0, 0, 0, 0, 0, 0, 0, 0, 0, 0, 0, 0, 0, 0, 0, 0, 0, 0, 0, 0], 1192//1)\n",
       " HalfSpace(Rational{BigInt}[0, 1, 0, 0, 0, 0, 0, 0, 0, -1, 0, 0, 0, 0, 0, 0, 0, 0, 0, 0, 0, 0, 0, 0, 0, 0, 0, 0], 866//1)\n",
       " HalfSpace(Rational{BigInt}[0, 1, 0, 0, 0, 0, 0, 0, 0, 0, 0, -1, 0, 0, 0, 0, 0, 0, 0, 0, 0, 0, 0, 0, 0, 0, 0, 0], 824//1)\n",
       " HalfSpace(Rational{BigInt}[0, 1, 0, 0, 0, 0, 0, 0, 0, 0, 0, 0, -1, 0, 0, 0, 0, 0, 0, 0, 0, 0, 0, 0, 0, 0, 0, 0], 677//1)\n",
       " HalfSpace(Rational{BigInt}[0, 1, 0, 0, 0, 0, 0, 0, 0, 0, 0, 0, 0, 0, 0, 0, 0, 0, -1, 0, 0, 0, 0, 0, 0, 0, 0, 0], 1023//1)\n",
       " HalfSpace(Rational{BigInt}[0, 1, 0, 0, 0, 0, 0, 0, 0, 0, 0, 0, 0, 0, 0, 0, 0, 0, 0, 0, -1, 0, 0, 0, 0, 0, 0, 0], 1023//1)\n",
       " HalfSpace(Rational{BigInt}[0, 1, 0, 0, 0, 0, 0, 0, 0, 0, 0, 0, 0, 0, 0, 0, 0, 0, 0, 0, 0, -1, 0, 0, 0, 0, 0, 0], 1477//1)\n",
       " HalfSpace(Rational{BigInt}[0, 1, 0, 0, 0, 0, 0, 0, 0, 0, 0, 0, 0, 0, 0, 0, 0, 0, 0, 0, 0, 0, 0, 0, -1, 0, 0, 0], 1245//1)\n",
       " HalfSpace(Rational{BigInt}[0, 0, 1, 0, 0, -1, 0, 0, 0, 0, 0, 0, 0, 0, 0, 0, 0, 0, 0, 0, 0, 0, 0, 0, 0, 0, 0, 0], 1705//1)\n",
       " HalfSpace(Rational{BigInt}[0, 0, 1, 0, 0, 0, -1, 0, 0, 0, 0, 0, 0, 0, 0, 0, 0, 0, 0, 0, 0, 0, 0, 0, 0, 0, 0, 0], 1229//1)\n",
       " HalfSpace(Rational{BigInt}[0, 0, 1, 0, 0, 0, 0, 0, 0, -1, 0, 0, 0, 0, 0, 0, 0, 0, 0, 0, 0, 0, 0, 0, 0, 0, 0, 0], 1580//1)\n",
       " HalfSpace(Rational{BigInt}[0, 0, 1, 0, 0, 0, 0, 0, 0, 0, 0, -1, 0, 0, 0, 0, 0, 0, 0, 0, 0, 0, 0, 0, 0, 0, 0, 0], 1626//1)\n",
       " HalfSpace(Rational{BigInt}[0, 0, 1, 0, 0, 0, 0, 0, 0, 0, 0, 0, -1, 0, 0, 0, 0, 0, 0, 0, 0, 0, 0, 0, 0, 0, 0, 0], 1151//1)\n",
       " HalfSpace(Rational{BigInt}[0, 0, 1, 0, 0, 0, 0, 0, 0, 0, 0, 0, 0, 0, -1, 0, 0, 0, 0, 0, 0, 0, 0, 0, 0, 0, 0, 0], 1563//1)\n",
       " HalfSpace(Rational{BigInt}[0, 0, 1, 0, 0, 0, 0, 0, 0, 0, 0, 0, 0, 0, 0, -1, 0, 0, 0, 0, 0, 0, 0, 0, 0, 0, 0, 0], 1525//1)\n",
       " HalfSpace(Rational{BigInt}[0, 0, 1, 0, 0, 0, 0, 0, 0, 0, 0, 0, 0, 0, 0, 0, -1, 0, 0, 0, 0, 0, 0, 0, 0, 0, 0, 0], 50557//34)\n",
       " HalfSpace(Rational{BigInt}[0, 0, 1, 0, 0, 0, 0, 0, 0, 0, 0, 0, 0, 0, 0, 0, 0, -1, 0, 0, 0, 0, 0, 0, 0, 0, 0, 0], 48619//34)\n",
       " HalfSpace(Rational{BigInt}[0, 0, 1, 0, 0, 0, 0, 0, 0, 0, 0, 0, 0, 0, 0, 0, 0, 0, 0, 0, 0, -1, 0, 0, 0, 0, 0, 0], 1734//1)\n",
       " HalfSpace(Rational{BigInt}[0, 0, 1, 0, 0, 0, 0, 0, 0, 0, 0, 0, 0, 0, 0, 0, 0, 0, 0, 0, 0, 0, -1, 0, 0, 0, 0, 0], 2058//1)\n",
       " HalfSpace(Rational{BigInt}[0, 0, 1, 0, 0, 0, 0, 0, 0, 0, 0, 0, 0, 0, 0, 0, 0, 0, 0, 0, 0, 0, 0, -1, 0, 0, 0, 0], 1512//1)\n",
       "  ⋮"
      ]
     },
     "metadata": {},
     "output_type": "display_data"
    }
   ],
   "source": [
    "coph_vecs = [cophenetic_from_distance(mat) for mat in matrices]\n",
    "phylo_frech = trop_frechet_set(coph_vecs, rep=\"hrep\")"
   ]
  },
  {
   "cell_type": "code",
   "execution_count": 59,
   "id": "7c50e980",
   "metadata": {},
   "outputs": [
    {
     "data": {
      "text/plain": [
       "268"
      ]
     },
     "metadata": {},
     "output_type": "display_data"
    }
   ],
   "source": [
    "length(coph_vecs)"
   ]
  },
  {
   "cell_type": "code",
   "execution_count": 39,
   "id": "b7d614aa",
   "metadata": {},
   "outputs": [
    {
     "data": {
      "text/plain": [
       "24"
      ]
     },
     "metadata": {},
     "output_type": "display_data"
    }
   ],
   "source": [
    "dim(phylo_frech)"
   ]
  },
  {
   "cell_type": "code",
   "execution_count": 40,
   "id": "d9f368bc",
   "metadata": {},
   "outputs": [
    {
     "name": "stdout",
     "output_type": "stream",
     "text": [
      "m = 2; n = 3 done!\n",
      "m = 3; n = 3 done!\n",
      "m = 4; n = 3 done!\n",
      "m = 5; n = 3 done!\n",
      "m = 6; n = 3 done!\n",
      "m = 7; n = 3 done!\n",
      "m = 8; n = 3 done!\n",
      "m = 9; n = 3 done!\n",
      "m = 10; n = 3 done!\n",
      "m = 11; n = 3 done!\n",
      "m = 12; n = 3 done!\n",
      "m = 13; n = 3 done!\n",
      "m = 14; n = 3 done!\n",
      "m = 15; n = 3 done!\n",
      "m = 16; n = 3 done!\n",
      "m = 17; n = 3 done!\n",
      "m = 18; n = 3 done!\n",
      "m = 19; n = 3 done!\n",
      "m = 20; n = 3 done!\n",
      "m = 21; n = 3 done!\n",
      "m = 22; n = 3 done!\n",
      "m = 23; n = 3 done!\n",
      "m = 24; n = 3 done!\n",
      "m = 25; n = 3 done!\n",
      "m = 26; n = 3 done!\n",
      "m = 27; n = 3 done!\n",
      "m = 28; n = 3 done!\n",
      "m = 29; n = 3 done!\n",
      "m = 30; n = 3 done!\n",
      "m = 31; n = 3 done!\n",
      "m = 32; n = 3 done!\n",
      "m = 33; n = 3 done!\n",
      "m = 34; n = 3 done!\n",
      "m = 35; n = 3 done!\n",
      "m = 36; n = 3 done!\n",
      "m = 37; n = 3 done!\n",
      "m = 38; n = 3 done!\n",
      "m = 39; n = 3 done!\n",
      "m = 40; n = 3 done!\n",
      "m = 41; n = 3 done!\n",
      "m = 42; n = 3 done!\n",
      "m = 43; n = 3 done!\n",
      "m = 44; n = 3 done!\n",
      "m = 45; n = 3 done!\n",
      "m = 46; n = 3 done!\n",
      "m = 47; n = 3 done!\n",
      "m = 48; n = 3 done!\n",
      "m = 49; n = 3 done!\n",
      "m = 50; n = 3 done!\n",
      "m = 51; n = 3 done!\n",
      "m = 52; n = 3 done!\n",
      "m = 53; n = 3 done!\n",
      "m = 54; n = 3 done!\n",
      "m = 55; n = 3 done!\n",
      "m = 56; n = 3 done!\n",
      "m = 57; n = 3 done!\n",
      "m = 58; n = 3 done!\n",
      "m = 59; n = 3 done!\n",
      "m = 60; n = 3 done!\n",
      "m = 61; n = 3 done!\n",
      "m = 62; n = 3 done!\n",
      "m = 63; n = 3 done!\n",
      "m = 64; n = 3 done!\n",
      "m = 65; n = 3 done!\n",
      "m = 66; n = 3 done!\n",
      "m = 67; n = 3 done!\n",
      "m = 68; n = 3 done!\n",
      "m = 69; n = 3 done!\n",
      "m = 70; n = 3 done!\n",
      "m = 71; n = 3 done!\n",
      "m = 72; n = 3 done!\n",
      "m = 73; n = 3 done!\n",
      "m = 74; n = 3 done!\n",
      "m = 75; n = 3 done!\n",
      "m = 76; n = 3 done!\n",
      "m = 77; n = 3 done!\n",
      "m = 78; n = 3 done!\n",
      "m = 79; n = 3 done!\n",
      "m = 80; n = 3 done!\n",
      "m = 81; n = 3 done!\n",
      "m = 82; n = 3 done!\n",
      "m = 83; n = 3 done!\n",
      "m = 84; n = 3 done!\n",
      "m = 85; n = 3 done!\n",
      "m = 86; n = 3 done!\n",
      "m = 87; n = 3 done!\n",
      "m = 88; n = 3 done!\n",
      "m = 89; n = 3 done!\n",
      "m = 90; n = 3 done!\n",
      "m = 91; n = 3 done!\n",
      "m = 92; n = 3 done!\n",
      "m = 93; n = 3 done!\n",
      "m = 94; n = 3 done!\n",
      "m = 95; n = 3 done!\n",
      "m = 96; n = 3 done!\n",
      "m = 97; n = 3 done!\n",
      "m = 98; n = 3 done!\n",
      "m = 99; n = 3 done!\n",
      "m = 100; n = 3 done!\n",
      "m = 2; n = 4 done!\n",
      "m = 3; n = 4 done!\n",
      "m = 4; n = 4 done!\n",
      "m = 5; n = 4 done!\n",
      "m = 6; n = 4 done!\n",
      "m = 7; n = 4 done!\n",
      "m = 8; n = 4 done!\n",
      "m = 9; n = 4 done!\n",
      "m = 10; n = 4 done!\n",
      "m = 11; n = 4 done!\n",
      "m = 12; n = 4 done!\n",
      "m = 13; n = 4 done!\n",
      "m = 14; n = 4 done!\n",
      "m = 15; n = 4 done!\n",
      "m = 16; n = 4 done!\n",
      "m = 17; n = 4 done!\n",
      "m = 18; n = 4 done!\n",
      "m = 19; n = 4 done!\n",
      "m = 20; n = 4 done!\n",
      "m = 21; n = 4 done!\n",
      "m = 22; n = 4 done!\n",
      "m = 23; n = 4 done!\n",
      "m = 24; n = 4 done!\n",
      "m = 25; n = 4 done!\n",
      "m = 26; n = 4 done!\n",
      "m = 27; n = 4 done!\n",
      "m = 28; n = 4 done!\n",
      "m = 29; n = 4 done!\n",
      "m = 30; n = 4 done!\n",
      "m = 31; n = 4 done!\n",
      "m = 32; n = 4 done!\n",
      "m = 33; n = 4 done!\n",
      "m = 34; n = 4 done!\n",
      "m = 35; n = 4 done!\n",
      "m = 36; n = 4 done!\n",
      "m = 37; n = 4 done!\n",
      "m = 38; n = 4 done!\n",
      "m = 39; n = 4 done!\n",
      "m = 40; n = 4 done!\n",
      "m = 41; n = 4 done!\n",
      "m = 42; n = 4 done!\n",
      "m = 43; n = 4 done!\n",
      "m = 44; n = 4 done!\n",
      "m = 45; n = 4 done!\n",
      "m = 46; n = 4 done!\n",
      "m = 47; n = 4 done!\n",
      "m = 48; n = 4 done!\n",
      "m = 49; n = 4 done!\n",
      "m = 50; n = 4 done!\n",
      "m = 51; n = 4 done!\n",
      "m = 52; n = 4 done!\n",
      "m = 53; n = 4 done!\n",
      "m = 54; n = 4 done!\n",
      "m = 55; n = 4 done!\n",
      "m = 56; n = 4 done!\n",
      "m = 57; n = 4 done!\n",
      "m = 58; n = 4 done!\n",
      "m = 59; n = 4 done!\n",
      "m = 60; n = 4 done!\n",
      "m = 61; n = 4 done!\n",
      "m = 62; n = 4 done!\n",
      "m = 63; n = 4 done!\n",
      "m = 64; n = 4 done!\n",
      "m = 65; n = 4 done!\n",
      "m = 66; n = 4 done!\n",
      "m = 67; n = 4 done!\n",
      "m = 68; n = 4 done!\n",
      "m = 69; n = 4 done!\n",
      "m = 70; n = 4 done!\n",
      "m = 71; n = 4 done!\n",
      "m = 72; n = 4 done!\n",
      "m = 73; n = 4 done!\n",
      "m = 74; n = 4 done!\n",
      "m = 75; n = 4 done!\n",
      "m = 76; n = 4 done!\n",
      "m = 77; n = 4 done!\n",
      "m = 78; n = 4 done!\n",
      "m = 79; n = 4 done!\n",
      "m = 80; n = 4 done!\n",
      "m = 81; n = 4 done!\n",
      "m = 82; n = 4 done!\n",
      "m = 83; n = 4 done!\n",
      "m = 84; n = 4 done!\n",
      "m = 85; n = 4 done!\n",
      "m = 86; n = 4 done!\n",
      "m = 87; n = 4 done!\n",
      "m = 88; n = 4 done!\n",
      "m = 89; n = 4 done!\n",
      "m = 90; n = 4 done!\n",
      "m = 91; n = 4 done!\n",
      "m = 92; n = 4 done!\n",
      "m = 93; n = 4 done!\n",
      "m = 94; n = 4 done!\n",
      "m = 95; n = 4 done!\n",
      "m = 96; n = 4 done!\n",
      "m = 97; n = 4 done!\n",
      "m = 98; n = 4 done!\n",
      "m = 99; n = 4 done!\n",
      "m = 100; n = 4 done!\n",
      "m = 2; n = 5 done!\n",
      "m = 3; n = 5 done!\n",
      "m = 4; n = 5 done!\n",
      "m = 5; n = 5 done!\n",
      "m = 6; n = 5 done!\n",
      "m = 7; n = 5 done!\n",
      "m = 8; n = 5 done!\n",
      "m = 9; n = 5 done!\n",
      "m = 10; n = 5 done!\n",
      "m = 11; n = 5 done!\n",
      "m = 12; n = 5 done!\n",
      "m = 13; n = 5 done!\n",
      "m = 14; n = 5 done!\n",
      "m = 15; n = 5 done!\n",
      "m = 16; n = 5 done!\n",
      "m = 17; n = 5 done!\n",
      "m = 18; n = 5 done!\n",
      "m = 19; n = 5 done!\n",
      "m = 20; n = 5 done!\n",
      "m = 21; n = 5 done!\n",
      "m = 22; n = 5 done!\n",
      "m = 23; n = 5 done!\n",
      "m = 24; n = 5 done!\n",
      "m = 25; n = 5 done!\n",
      "m = 26; n = 5 done!\n",
      "m = 27; n = 5 done!\n",
      "m = 28; n = 5 done!\n",
      "m = 29; n = 5 done!\n",
      "m = 30; n = 5 done!\n",
      "m = 31; n = 5 done!\n",
      "m = 32; n = 5 done!\n",
      "m = 33; n = 5 done!\n",
      "m = 34; n = 5 done!\n",
      "m = 35; n = 5 done!\n",
      "m = 36; n = 5 done!\n",
      "m = 37; n = 5 done!\n",
      "m = 38; n = 5 done!\n",
      "m = 39; n = 5 done!\n",
      "m = 40; n = 5 done!\n",
      "m = 41; n = 5 done!\n",
      "m = 42; n = 5 done!\n",
      "m = 43; n = 5 done!\n",
      "m = 44; n = 5 done!\n",
      "m = 45; n = 5 done!\n",
      "m = 46; n = 5 done!\n",
      "m = 47; n = 5 done!\n",
      "m = 48; n = 5 done!\n",
      "m = 49; n = 5 done!\n",
      "m = 50; n = 5 done!\n",
      "m = 51; n = 5 done!\n",
      "m = 52; n = 5 done!\n",
      "m = 53; n = 5 done!\n",
      "m = 54; n = 5 done!\n",
      "m = 55; n = 5 done!\n",
      "m = 56; n = 5 done!\n",
      "m = 57; n = 5 done!\n",
      "m = 58; n = 5 done!\n",
      "m = 59; n = 5 done!\n",
      "m = 60; n = 5 done!\n",
      "m = 61; n = 5 done!\n",
      "m = 62; n = 5 done!\n",
      "m = 63; n = 5 done!\n",
      "m = 64; n = 5 done!\n",
      "m = 65; n = 5 done!\n",
      "m = 66; n = 5 done!\n",
      "m = 67; n = 5 done!\n",
      "m = 68; n = 5 done!\n",
      "m = 69; n = 5 done!\n",
      "m = 70; n = 5 done!\n",
      "m = 71; n = 5 done!\n",
      "m = 72; n = 5 done!\n",
      "m = 73; n = 5 done!\n",
      "m = 74; n = 5 done!\n",
      "m = 75; n = 5 done!\n",
      "m = 76; n = 5 done!\n",
      "m = 77; n = 5 done!\n",
      "m = 78; n = 5 done!\n",
      "m = 79; n = 5 done!\n",
      "m = 80; n = 5 done!\n",
      "m = 81; n = 5 done!\n",
      "m = 82; n = 5 done!\n",
      "m = 83; n = 5 done!\n",
      "m = 84; n = 5 done!\n",
      "m = 85; n = 5 done!\n",
      "m = 86; n = 5 done!\n",
      "m = 87; n = 5 done!\n",
      "m = 88; n = 5 done!\n",
      "m = 89; n = 5 done!\n",
      "m = 90; n = 5 done!\n",
      "m = 91; n = 5 done!\n",
      "m = 92; n = 5 done!\n",
      "m = 93; n = 5 done!\n",
      "m = 94; n = 5 done!\n",
      "m = 95; n = 5 done!\n",
      "m = 96; n = 5 done!\n",
      "m = 97; n = 5 done!\n",
      "m = 98; n = 5 done!\n",
      "m = 99; n = 5 done!\n",
      "m = 100; n = 5 done!\n",
      "m = 2; n = 6 done!\n",
      "m = 3; n = 6 done!\n",
      "m = 4; n = 6 done!\n",
      "m = 5; n = 6 done!\n",
      "m = 6; n = 6 done!\n",
      "m = 7; n = 6 done!\n",
      "m = 8; n = 6 done!\n",
      "m = 9; n = 6 done!\n",
      "m = 10; n = 6 done!\n",
      "m = 11; n = 6 done!\n",
      "m = 12; n = 6 done!\n",
      "m = 13; n = 6 done!\n",
      "m = 14; n = 6 done!\n",
      "m = 15; n = 6 done!\n",
      "m = 16; n = 6 done!\n",
      "m = 17; n = 6 done!\n",
      "m = 18; n = 6 done!\n",
      "m = 19; n = 6 done!\n",
      "m = 20; n = 6 done!\n",
      "m = 21; n = 6 done!\n",
      "m = 22; n = 6 done!\n",
      "m = 23; n = 6 done!\n",
      "m = 24; n = 6 done!\n",
      "m = 25; n = 6 done!\n",
      "m = 26; n = 6 done!\n",
      "m = 27; n = 6 done!\n",
      "m = 28; n = 6 done!\n",
      "m = 29; n = 6 done!\n",
      "m = 30; n = 6 done!\n",
      "m = 31; n = 6 done!\n",
      "m = 32; n = 6 done!\n",
      "m = 33; n = 6 done!\n",
      "m = 34; n = 6 done!\n",
      "m = 35; n = 6 done!\n",
      "m = 36; n = 6 done!\n",
      "m = 37; n = 6 done!\n",
      "m = 38; n = 6 done!\n",
      "m = 39; n = 6 done!\n",
      "m = 40; n = 6 done!\n",
      "m = 41; n = 6 done!\n",
      "m = 42; n = 6 done!\n",
      "m = 43; n = 6 done!\n",
      "m = 44; n = 6 done!\n",
      "m = 45; n = 6 done!\n",
      "m = 46; n = 6 done!\n",
      "m = 47; n = 6 done!\n",
      "m = 48; n = 6 done!\n",
      "m = 49; n = 6 done!\n",
      "m = 50; n = 6 done!\n",
      "m = 51; n = 6 done!\n",
      "m = 52; n = 6 done!\n",
      "m = 53; n = 6 done!\n",
      "m = 54; n = 6 done!\n",
      "m = 55; n = 6 done!\n",
      "m = 56; n = 6 done!\n",
      "m = 57; n = 6 done!\n",
      "m = 58; n = 6 done!\n",
      "m = 59; n = 6 done!\n",
      "m = 60; n = 6 done!\n",
      "m = 61; n = 6 done!\n",
      "m = 62; n = 6 done!\n",
      "m = 63; n = 6 done!\n",
      "m = 64; n = 6 done!\n",
      "m = 65; n = 6 done!\n",
      "m = 66; n = 6 done!\n",
      "m = 67; n = 6 done!\n",
      "m = 68; n = 6 done!\n",
      "m = 69; n = 6 done!\n",
      "m = 70; n = 6 done!\n",
      "m = 71; n = 6 done!\n",
      "m = 72; n = 6 done!\n",
      "m = 73; n = 6 done!\n",
      "m = 74; n = 6 done!\n",
      "m = 75; n = 6 done!\n",
      "m = 76; n = 6 done!\n",
      "m = 77; n = 6 done!\n",
      "m = 78; n = 6 done!\n",
      "m = 79; n = 6 done!\n",
      "m = 80; n = 6 done!\n",
      "m = 81; n = 6 done!\n",
      "m = 82; n = 6 done!\n",
      "m = 83; n = 6 done!\n",
      "m = 84; n = 6 done!\n",
      "m = 85; n = 6 done!\n",
      "m = 86; n = 6 done!\n",
      "m = 87; n = 6 done!\n",
      "m = 88; n = 6 done!\n",
      "m = 89; n = 6 done!\n",
      "m = 90; n = 6 done!\n",
      "m = 91; n = 6 done!\n",
      "m = 92; n = 6 done!\n",
      "m = 93; n = 6 done!\n",
      "m = 94; n = 6 done!\n",
      "m = 95; n = 6 done!\n",
      "m = 96; n = 6 done!\n",
      "m = 97; n = 6 done!\n",
      "m = 98; n = 6 done!\n",
      "m = 99; n = 6 done!\n",
      "m = 100; n = 6 done!\n",
      "m = 2; n = 7 done!\n",
      "m = 3; n = 7 done!\n",
      "m = 4; n = 7 done!\n",
      "m = 5; n = 7 done!\n",
      "m = 6; n = 7 done!\n",
      "m = 7; n = 7 done!\n",
      "m = 8; n = 7 done!\n",
      "m = 9; n = 7 done!\n",
      "m = 10; n = 7 done!\n",
      "m = 11; n = 7 done!\n",
      "m = 12; n = 7 done!\n",
      "m = 13; n = 7 done!\n",
      "m = 14; n = 7 done!\n",
      "m = 15; n = 7 done!\n",
      "m = 16; n = 7 done!\n",
      "m = 17; n = 7 done!\n",
      "m = 18; n = 7 done!\n",
      "m = 19; n = 7 done!\n",
      "m = 20; n = 7 done!\n",
      "m = 21; n = 7 done!\n",
      "m = 22; n = 7 done!\n",
      "m = 23; n = 7 done!\n",
      "m = 24; n = 7 done!\n",
      "m = 25; n = 7 done!\n",
      "m = 26; n = 7 done!\n",
      "m = 27; n = 7 done!\n",
      "m = 28; n = 7 done!\n",
      "m = 29; n = 7 done!\n",
      "m = 30; n = 7 done!\n",
      "m = 31; n = 7 done!\n",
      "m = 32; n = 7 done!\n",
      "m = 33; n = 7 done!\n",
      "m = 34; n = 7 done!\n",
      "m = 35; n = 7 done!\n",
      "m = 36; n = 7 done!\n",
      "m = 37; n = 7 done!\n",
      "m = 38; n = 7 done!\n",
      "m = 39; n = 7 done!\n",
      "m = 40; n = 7 done!\n",
      "m = 41; n = 7 done!\n",
      "m = 42; n = 7 done!\n",
      "m = 43; n = 7 done!\n",
      "m = 44; n = 7 done!\n",
      "m = 45; n = 7 done!\n",
      "m = 46; n = 7 done!\n",
      "m = 47; n = 7 done!\n",
      "m = 48; n = 7 done!\n",
      "m = 49; n = 7 done!\n",
      "m = 50; n = 7 done!\n",
      "m = 51; n = 7 done!\n",
      "m = 52; n = 7 done!\n",
      "m = 53; n = 7 done!\n",
      "m = 54; n = 7 done!\n",
      "m = 55; n = 7 done!\n",
      "m = 56; n = 7 done!\n",
      "m = 57; n = 7 done!\n",
      "m = 58; n = 7 done!\n",
      "m = 59; n = 7 done!\n",
      "m = 60; n = 7 done!\n",
      "m = 61; n = 7 done!\n",
      "m = 62; n = 7 done!\n",
      "m = 63; n = 7 done!\n",
      "m = 64; n = 7 done!\n",
      "m = 65; n = 7 done!\n",
      "m = 66; n = 7 done!\n",
      "m = 67; n = 7 done!\n",
      "m = 68; n = 7 done!\n",
      "m = 69; n = 7 done!\n",
      "m = 70; n = 7 done!\n",
      "m = 71; n = 7 done!\n",
      "m = 72; n = 7 done!\n",
      "m = 73; n = 7 done!\n",
      "m = 74; n = 7 done!\n",
      "m = 75; n = 7 done!\n",
      "m = 76; n = 7 done!\n",
      "m = 77; n = 7 done!\n",
      "m = 78; n = 7 done!\n",
      "m = 79; n = 7 done!\n",
      "m = 80; n = 7 done!\n",
      "m = 81; n = 7 done!\n",
      "m = 82; n = 7 done!\n",
      "m = 83; n = 7 done!\n",
      "m = 84; n = 7 done!\n",
      "m = 85; n = 7 done!\n",
      "m = 86; n = 7 done!\n",
      "m = 87; n = 7 done!\n",
      "m = 88; n = 7 done!\n",
      "m = 89; n = 7 done!\n",
      "m = 90; n = 7 done!\n",
      "m = 91; n = 7 done!\n",
      "m = 92; n = 7 done!\n",
      "m = 93; n = 7 done!\n",
      "m = 94; n = 7 done!\n",
      "m = 95; n = 7 done!\n",
      "m = 96; n = 7 done!\n",
      "m = 97; n = 7 done!\n",
      "m = 98; n = 7 done!\n",
      "m = 99; n = 7 done!\n",
      "m = 100; n = 7 done!\n",
      "m = 2; n = 8 done!\n",
      "m = 3; n = 8 done!\n",
      "m = 4; n = 8 done!\n",
      "m = 5; n = 8 done!\n",
      "m = 6; n = 8 done!\n",
      "m = 7; n = 8 done!\n",
      "m = 8; n = 8 done!\n",
      "m = 9; n = 8 done!\n",
      "m = 10; n = 8 done!\n",
      "m = 11; n = 8 done!\n",
      "m = 12; n = 8 done!\n",
      "m = 13; n = 8 done!\n",
      "m = 14; n = 8 done!\n",
      "m = 15; n = 8 done!\n",
      "m = 16; n = 8 done!\n",
      "m = 17; n = 8 done!\n",
      "m = 18; n = 8 done!\n",
      "m = 19; n = 8 done!\n",
      "m = 20; n = 8 done!\n",
      "m = 21; n = 8 done!\n",
      "m = 22; n = 8 done!\n",
      "m = 23; n = 8 done!\n",
      "m = 24; n = 8 done!\n",
      "m = 25; n = 8 done!\n",
      "m = 26; n = 8 done!\n",
      "m = 27; n = 8 done!\n",
      "m = 28; n = 8 done!\n",
      "m = 29; n = 8 done!\n",
      "m = 30; n = 8 done!\n",
      "m = 31; n = 8 done!\n",
      "m = 32; n = 8 done!\n",
      "m = 33; n = 8 done!\n",
      "m = 34; n = 8 done!\n",
      "m = 35; n = 8 done!\n",
      "m = 36; n = 8 done!\n",
      "m = 37; n = 8 done!\n",
      "m = 38; n = 8 done!\n",
      "m = 39; n = 8 done!\n",
      "m = 40; n = 8 done!\n",
      "m = 41; n = 8 done!\n",
      "m = 42; n = 8 done!\n",
      "m = 43; n = 8 done!\n",
      "m = 44; n = 8 done!\n",
      "m = 45; n = 8 done!\n",
      "m = 46; n = 8 done!\n",
      "m = 47; n = 8 done!\n",
      "m = 48; n = 8 done!\n",
      "m = 49; n = 8 done!\n",
      "m = 50; n = 8 done!\n",
      "m = 51; n = 8 done!\n",
      "m = 52; n = 8 done!\n",
      "m = 53; n = 8 done!\n",
      "m = 54; n = 8 done!\n",
      "m = 55; n = 8 done!\n",
      "m = 56; n = 8 done!\n",
      "m = 57; n = 8 done!\n",
      "m = 58; n = 8 done!\n",
      "m = 59; n = 8 done!\n",
      "m = 60; n = 8 done!\n",
      "m = 61; n = 8 done!\n",
      "m = 62; n = 8 done!\n",
      "m = 63; n = 8 done!\n",
      "m = 64; n = 8 done!\n",
      "m = 65; n = 8 done!\n",
      "m = 66; n = 8 done!\n",
      "m = 67; n = 8 done!\n",
      "m = 68; n = 8 done!\n",
      "m = 69; n = 8 done!\n",
      "m = 70; n = 8 done!\n",
      "m = 71; n = 8 done!\n",
      "m = 72; n = 8 done!\n",
      "m = 73; n = 8 done!\n",
      "m = 74; n = 8 done!\n",
      "m = 75; n = 8 done!\n",
      "m = 76; n = 8 done!\n",
      "m = 77; n = 8 done!\n",
      "m = 78; n = 8 done!\n",
      "m = 79; n = 8 done!\n",
      "m = 80; n = 8 done!\n",
      "m = 81; n = 8 done!\n",
      "m = 82; n = 8 done!\n",
      "m = 83; n = 8 done!\n",
      "m = 84; n = 8 done!\n",
      "m = 85; n = 8 done!\n",
      "m = 86; n = 8 done!\n",
      "m = 87; n = 8 done!\n",
      "m = 88; n = 8 done!\n",
      "m = 89; n = 8 done!\n",
      "m = 90; n = 8 done!\n",
      "m = 91; n = 8 done!\n",
      "m = 92; n = 8 done!\n",
      "m = 93; n = 8 done!\n",
      "m = 94; n = 8 done!\n",
      "m = 95; n = 8 done!\n",
      "m = 96; n = 8 done!\n",
      "m = 97; n = 8 done!\n",
      "m = 98; n = 8 done!\n",
      "m = 99; n = 8 done!\n",
      "m = 100; n = 8 done!\n",
      "m = 2; n = 9 done!\n",
      "m = 3; n = 9 done!\n",
      "m = 4; n = 9 done!\n",
      "m = 5; n = 9 done!\n",
      "m = 6; n = 9 done!\n",
      "m = 7; n = 9 done!\n",
      "m = 8; n = 9 done!\n",
      "m = 9; n = 9 done!\n",
      "m = 10; n = 9 done!\n",
      "m = 11; n = 9 done!\n",
      "m = 12; n = 9 done!\n",
      "m = 13; n = 9 done!\n",
      "m = 14; n = 9 done!\n",
      "m = 15; n = 9 done!\n",
      "m = 16; n = 9 done!\n",
      "m = 17; n = 9 done!\n",
      "m = 18; n = 9 done!\n",
      "m = 19; n = 9 done!\n",
      "m = 20; n = 9 done!\n",
      "m = 21; n = 9 done!\n",
      "m = 22; n = 9 done!\n",
      "m = 23; n = 9 done!\n",
      "m = 24; n = 9 done!\n",
      "m = 25; n = 9 done!\n",
      "m = 26; n = 9 done!\n",
      "m = 27; n = 9 done!\n",
      "m = 28; n = 9 done!\n",
      "m = 29; n = 9 done!\n",
      "m = 30; n = 9 done!\n",
      "m = 31; n = 9 done!\n",
      "m = 32; n = 9 done!\n",
      "m = 33; n = 9 done!\n",
      "m = 34; n = 9 done!\n",
      "m = 35; n = 9 done!\n",
      "m = 36; n = 9 done!\n",
      "m = 37; n = 9 done!\n",
      "m = 38; n = 9 done!\n",
      "m = 39; n = 9 done!\n",
      "m = 40; n = 9 done!\n",
      "m = 41; n = 9 done!\n",
      "m = 42; n = 9 done!\n",
      "m = 43; n = 9 done!\n",
      "m = 44; n = 9 done!\n",
      "m = 45; n = 9 done!\n",
      "m = 46; n = 9 done!\n",
      "m = 47; n = 9 done!\n",
      "m = 48; n = 9 done!\n",
      "m = 49; n = 9 done!\n",
      "m = 50; n = 9 done!\n",
      "m = 51; n = 9 done!\n",
      "m = 52; n = 9 done!\n",
      "m = 53; n = 9 done!\n",
      "m = 54; n = 9 done!\n",
      "m = 55; n = 9 done!\n",
      "m = 56; n = 9 done!\n",
      "m = 57; n = 9 done!\n",
      "m = 58; n = 9 done!\n",
      "m = 59; n = 9 done!\n",
      "m = 60; n = 9 done!\n",
      "m = 61; n = 9 done!\n",
      "m = 62; n = 9 done!\n",
      "m = 63; n = 9 done!\n",
      "m = 64; n = 9 done!\n",
      "m = 65; n = 9 done!\n",
      "m = 66; n = 9 done!\n",
      "m = 67; n = 9 done!\n",
      "m = 68; n = 9 done!\n",
      "m = 69; n = 9 done!\n",
      "m = 70; n = 9 done!\n",
      "m = 71; n = 9 done!\n",
      "m = 72; n = 9 done!\n",
      "m = 73; n = 9 done!\n",
      "m = 74; n = 9 done!\n",
      "m = 75; n = 9 done!\n",
      "m = 76; n = 9 done!\n",
      "m = 77; n = 9 done!\n",
      "m = 78; n = 9 done!\n",
      "m = 79; n = 9 done!\n",
      "m = 80; n = 9 done!\n",
      "m = 81; n = 9 done!\n",
      "m = 82; n = 9 done!\n",
      "m = 83; n = 9 done!\n",
      "m = 84; n = 9 done!\n",
      "m = 85; n = 9 done!\n",
      "m = 86; n = 9 done!\n",
      "m = 87; n = 9 done!\n",
      "m = 88; n = 9 done!\n",
      "m = 89; n = 9 done!\n",
      "m = 90; n = 9 done!\n",
      "m = 91; n = 9 done!\n",
      "m = 92; n = 9 done!\n",
      "m = 93; n = 9 done!\n",
      "m = 94; n = 9 done!\n",
      "m = 95; n = 9 done!\n",
      "m = 96; n = 9 done!\n",
      "m = 97; n = 9 done!\n",
      "m = 98; n = 9 done!\n",
      "m = 99; n = 9 done!\n",
      "m = 100; n = 9 done!\n",
      "m = 2; n = 10 done!\n",
      "m = 3; n = 10 done!\n",
      "m = 4; n = 10 done!\n",
      "m = 5; n = 10 done!\n",
      "m = 6; n = 10 done!\n",
      "m = 7; n = 10 done!\n",
      "m = 8; n = 10 done!\n",
      "m = 9; n = 10 done!\n",
      "m = 10; n = 10 done!\n",
      "m = 11; n = 10 done!\n",
      "m = 12; n = 10 done!\n",
      "m = 13; n = 10 done!\n",
      "m = 14; n = 10 done!\n",
      "m = 15; n = 10 done!\n",
      "m = 16; n = 10 done!\n",
      "m = 17; n = 10 done!\n",
      "m = 18; n = 10 done!\n",
      "m = 19; n = 10 done!\n",
      "m = 20; n = 10 done!\n",
      "m = 21; n = 10 done!\n",
      "m = 22; n = 10 done!\n",
      "m = 23; n = 10 done!\n",
      "m = 24; n = 10 done!\n",
      "m = 25; n = 10 done!\n",
      "m = 26; n = 10 done!\n",
      "m = 27; n = 10 done!\n",
      "m = 28; n = 10 done!\n",
      "m = 29; n = 10 done!\n",
      "m = 30; n = 10 done!\n",
      "m = 31; n = 10 done!\n",
      "m = 32; n = 10 done!\n",
      "m = 33; n = 10 done!\n",
      "m = 34; n = 10 done!\n",
      "m = 35; n = 10 done!\n",
      "m = 36; n = 10 done!\n",
      "m = 37; n = 10 done!\n",
      "m = 38; n = 10 done!\n",
      "m = 39; n = 10 done!\n",
      "m = 40; n = 10 done!\n",
      "m = 41; n = 10 done!\n",
      "m = 42; n = 10 done!\n",
      "m = 43; n = 10 done!\n",
      "m = 44; n = 10 done!\n",
      "m = 45; n = 10 done!\n",
      "m = 46; n = 10 done!\n",
      "m = 47; n = 10 done!\n",
      "m = 48; n = 10 done!\n",
      "m = 49; n = 10 done!\n",
      "m = 50; n = 10 done!\n",
      "m = 51; n = 10 done!\n",
      "m = 52; n = 10 done!\n",
      "m = 53; n = 10 done!\n",
      "m = 54; n = 10 done!\n",
      "m = 55; n = 10 done!\n",
      "m = 56; n = 10 done!\n",
      "m = 57; n = 10 done!\n",
      "m = 58; n = 10 done!\n",
      "m = 59; n = 10 done!\n",
      "m = 60; n = 10 done!\n",
      "m = 61; n = 10 done!\n",
      "m = 62; n = 10 done!\n",
      "m = 63; n = 10 done!\n",
      "m = 64; n = 10 done!\n",
      "m = 65; n = 10 done!\n",
      "m = 66; n = 10 done!\n",
      "m = 67; n = 10 done!\n",
      "m = 68; n = 10 done!\n",
      "m = 69; n = 10 done!\n",
      "m = 70; n = 10 done!\n",
      "m = 71; n = 10 done!\n",
      "m = 72; n = 10 done!\n",
      "m = 73; n = 10 done!\n",
      "m = 74; n = 10 done!\n",
      "m = 75; n = 10 done!\n",
      "m = 76; n = 10 done!\n",
      "m = 77; n = 10 done!\n",
      "m = 78; n = 10 done!\n",
      "m = 79; n = 10 done!\n",
      "m = 80; n = 10 done!\n",
      "m = 81; n = 10 done!\n",
      "m = 82; n = 10 done!\n",
      "m = 83; n = 10 done!\n",
      "m = 84; n = 10 done!\n",
      "m = 85; n = 10 done!\n",
      "m = 86; n = 10 done!\n",
      "m = 87; n = 10 done!\n",
      "m = 88; n = 10 done!\n",
      "m = 89; n = 10 done!\n",
      "m = 90; n = 10 done!\n",
      "m = 91; n = 10 done!\n",
      "m = 92; n = 10 done!\n",
      "m = 93; n = 10 done!\n",
      "m = 94; n = 10 done!\n",
      "m = 95; n = 10 done!\n",
      "m = 96; n = 10 done!\n",
      "m = 97; n = 10 done!\n",
      "m = 98; n = 10 done!\n",
      "m = 99; n = 10 done!\n",
      "m = 100; n = 10 done!\n"
     ]
    },
    {
     "data": {
      "text/plain": [
       "8-element Vector{Vector{Any}}:\n",
       " [2, 1, 2, 1, 1, 1, 1, 1, 1, 1  …  1, 1, 1, 1, 1, 1, 1, 1, 1, 1]\n",
       " [3, 2, 1, 2, 1, 2, 1, 1, 1, 1  …  1, 1, 1, 1, 1, 1, 1, 1, 1, 1]\n",
       " [4, 3, 3, 3, 2, 1, 2, 1, 2, 1  …  1, 1, 1, 1, 1, 1, 1, 1, 1, 1]\n",
       " [5, 5, 4, 4, 3, 4, 1, 2, 2, 3  …  1, 1, 1, 1, 1, 1, 1, 1, 1, 1]\n",
       " [7, 7, 6, 3, 5, 4, 2, 4, 4, 4  …  1, 1, 1, 1, 1, 1, 1, 1, 1, 1]\n",
       " [7, 8, 5, 4, 6, 4, 5, 6, 2, 1  …  1, 1, 1, 1, 1, 1, 1, 1, 1, 1]\n",
       " [8, 7, 8, 7, 6, 5, 6, 5, 3, 4  …  1, 1, 1, 1, 1, 1, 1, 1, 1, 1]\n",
       " [9, 9, 10, 6, 7, 6, 4, 5, 5, 6  …  1, 1, 1, 1, 1, 1, 1, 1, 1, 1]"
      ]
     },
     "metadata": {},
     "output_type": "display_data"
    }
   ],
   "source": [
    "N = 10\n",
    "M = 100\n",
    "Random.seed!(123)\n",
    "\n",
    "dimensions = [[] for _ = 3:N]\n",
    "for n = 3:N\n",
    "    for m = 2:M\n",
    "        sample = [Rational.(rand(0:10000, n)) for _ in 1:m]\n",
    "        push!(dimensions[n-2], dim(trop_frechet_set(sample, rep=\"hrep\")))\n",
    "        println(\"m = \", m, \"; n = \", n, \" done!\")\n",
    "    end\n",
    "end\n",
    "\n",
    "dimensions"
   ]
  },
  {
   "cell_type": "code",
   "execution_count": 41,
   "id": "e48b0cf1",
   "metadata": {},
   "outputs": [
    {
     "ename": "UndefVarError",
     "evalue": "UndefVarError: `group1` not defined",
     "output_type": "error",
     "traceback": [
      "UndefVarError: `group1` not defined\n",
      "\n",
      "Stacktrace:\n",
      " [1] top-level scope\n",
      "   @ ~/Repos/TropicalFrechetMeans.jl/jl_notebook_cell_df34fa98e69747e1a8f8a730347b8e2f_Y101sZmlsZQ==.jl:10"
     ]
    }
   ],
   "source": [
    "using Plots\n",
    "\n",
    "# Example data: categories and their respective proportions in different groups\n",
    "categories = [\"Category 1\", \"Category 2\", \"Category 3\"]\n",
    "\n",
    "proportional_dimensions = [dim_list / M for dim_list in dimensions]\n",
    "data = hcat(proportional_dimensions...)\n",
    "\n",
    "# Create the proportional bar chart\n",
    "bar(data, label=1:M, legend=:topright, title=\"Proportional Bar Chart\", xlabel=\"Groups\", ylabel=\"Proportion\", bar_width=0.7, lw=0, series_annotations=transpose([group1 group2 group3]))\n",
    "\n",
    "# Save the plot to a file\n",
    "savefig(\"proportional_bar_chart.png\")\n",
    "\n",
    "# Display the plot\n",
    "display(plot)"
   ]
  },
  {
   "cell_type": "code",
   "execution_count": 42,
   "id": "ff2cf2dc",
   "metadata": {},
   "outputs": [
    {
     "name": "stdout",
     "output_type": "stream",
     "text": [
      "Any[2, 1, 2, 1, 1, 1, 1, 1, 1, 1, 1, 1, 1, 1, 1, 1, 1, 1, 1, 1, 1, 1, 1, 1, 1, 1, 1, 1, 1, 1, 1, 1, 1, 1, 1, 1, 1, 1, 1, 1, 1, 1, 1, 1, 1, 1, 1, 1, 1, 1, 1, 1, 1, 1, 1, 1, 1, 1, 1, 1, 1, 1, 1, 1, 1, 1, 1, 1, 1, 1, 1, 1, 1, 1, 1, 1, 1, 1, 1, 1, 1, 1, 1, 1, 1, 1, 1, 1, 1, 1, 1, 1, 1, 1, 1, 1, 1, 1, 1]\n",
      "\n",
      "Any[3, 2, 1, 2, 1, 2, 1, 1, 1, 1, 1, 1, 1, 1, 1, 1, 1, 1, 1, 1, 1, 1, 1, 1, 1, 1, 1, 1, 1, 1, 1, 1, 1, 1, 1, 1, 1, 1, 1, 1, 1, 1, 1, 1, 1, 1, 1, 1, 1, 1, 1, 1, 1, 1, 1, 1, 1, 1, 1, 1, 1, 1, 1, 1, 1, 1, 1, 1, 1, 1, 1, 1, 1, 1, 1, 1, 1, 1, 1, 1, 1, 1, 1, 1, 1, 1, 1, 1, 1, 1, 1, 1, 1, 1, 1, 1, 1, 1, 1]\n",
      "\n",
      "Any[4, 3, 3, 3, 2, 1, 2, 1, 2, 1, 1, 1, 1, 1, 1, 1, 1, 1, 1, 1, 1, 1, 1, 1, 1, 1, 1, 1, 1, 1, 1, 1, 1, 1, 1, 1, 1, 1, 1, 1, 1, 1, 1, 1, 1, 1, 1, 1, 1, 1, 1, 1, 1, 1, 1, 1, 1, 1, 1, 1, 1, 1, 1, 1, 1, 1, 1, 1, 1, 1, 1, 1, 1, 1, 1, 1, 1, 1, 1, 1, 1, 1, 1, 1, 1, 1, 1, 1, 1, 1, 1, 1, 1, 1, 1, 1, 1, 1, 1]\n",
      "\n",
      "Any[5, 5, 4, 4, 3, 4, 1, 2, 2, 3, 1, 1, 1, 1, 1, 1, 1, 1, 1, 1, 1, 1, 1, 1, 1, 1, 1, 1, 1, 1, 1, 1, 1, 1, 1, 1, 1, 1, 1, 1, 1, 1, 1, 1, 1, 1, 1, 1, 1, 1, 1, 1, 1, 1, 1, 1, 1, 1, 1, 1, 1, 1, 1, 1, 1, 1, 1, 1, 1, 1, 1, 1, 1, 1, 1, 1, 1, 1, 1, 1, 1, 1, 1, 1, 1, 1, 1, 1, 1, 1, 1, 1, 1, 1, 1, 1, 1, 1, 1]\n",
      "\n",
      "Any[7, 7, 6, 3, 5, 4, 2, 4, 4, 4, 1, 2, 2, 1, 2, 1, 1, 1, 1, 1, 1, 1, 1, 1, 1, 1, 1, 1, 1, 1, 1, 1, 1, 1, 1, 1, 1, 1, 1, 1, 1, 1, 1, 1, 1, 1, 1, 1, 1, 1, 1, 1, 1, 1, 1, 1, 1, 1, 1, 1, 1, 1, 1, 1, 1, 1, 1, 1, 1, 1, 1, 1, 1, 1, 1, 1, 1, 1, 1, 1, 1, 1, 1, 1, 1, 1, 1, 1, 1, 1, 1, 1, 1, 1, 1, 1, 1, 1, 1]\n",
      "\n",
      "Any[7, 8, 5, 4, 6, 4, 5, 6, 2, 1, 3, 1, 2, 1, 1, 2, 2, 1, 2, 1, 1, 1, 1, 1, 1, 1, 1, 1, 1, 1, 1, 1, 1, 1, 1, 1, 1, 1, 1, 1, 1, 1, 1, 1, 1, 1, 1, 1, 1, 1, 1, 1, 1, 1, 1, 1, 1, 1, 1, 1, 1, 1, 1, 1, 1, 1, 1, 1, 1, 1, 1, 1, 1, 1, 1, 1, 1, 1, 1, 1, 1, 1, 1, 1, 1, 1, 1, 1, 1, 1, 1, 1, 1, 1, 1, 1, 1, 1, 1]\n",
      "\n",
      "Any[8, 7, 8, 7, 6, 5, 6, 5, 3, 4, 3, 3, 2, 2, 2, 1, 2, 2, 1, 1, 1, 1, 1, 1, 1, 1, 1, 1, 1, 1, 1, 1, 1, 1, 1, 1, 1, 1, 1, 1, 1, 1, 1, 1, 1, 1, 1, 1, 1, 1, 1, 1, 1, 1, 1, 1, 1, 1, 1, 1, 1, 1, 1, 1, 1, 1, 1, 1, 1, 1, 1, 1, 1, 1, 1, 1, 1, 1, 1, 1, 1, 1, 1, 1, 1, 1, 1, 1, 1, 1, 1, 1, 1, 1, 1, 1, 1, 1, 1]\n",
      "\n",
      "Any[9, 9, 10, 6, 7, 6, 4, 5, 5, 6, 5, 1, 5, 3, 3, 2, 5, 2, 2, 2, 1, 1, 1, 2, 1, 1, 1, 1, 1, 1, 1, 2, 1, 1, 1, 1, 1, 1, 1, 1, 1, 1, 1, 1, 1, 1, 1, 1, 1, 1, 1, 1, 1, 1, 1, 1, 1, 1, 1, 1, 1, 1, 1, 1, 1, 1, 1, 1, 1, 1, 1, 1, 1, 1, 1, 1, 1, 1, 1, 1, 1, 1, 1, 1, 1, 1, 1, 1, 1, 1, 1, 1, 1, 1, 1, 1, 1, 1, 1]\n",
      "\n"
     ]
    }
   ],
   "source": [
    "for thing in dimensions\n",
    "    println(thing)\n",
    "    println()\n",
    "end"
   ]
  },
  {
   "cell_type": "markdown",
   "id": "95efa4b2",
   "metadata": {},
   "source": [
    "### Divide-and-conquer"
   ]
  },
  {
   "cell_type": "code",
   "execution_count": 32,
   "id": "bd359b7e",
   "metadata": {},
   "outputs": [
    {
     "name": "stdout",
     "output_type": "stream",
     "text": [
      "124.374851 seconds (389.82 M allocations: 8.778 GiB, 1.51% gc time, 0.22% compilation time)\n"
     ]
    },
    {
     "data": {
      "text/plain": [
       "Polyhedron CDDLib.Polyhedron{Rational{BigInt}}:\n",
       "4-element iterator of HyperPlane{Rational{BigInt}, Vector{Rational{BigInt}}}:\n",
       " HyperPlane(Rational{BigInt}[1, 0, 0, 0, 0, 0, 0, 0, 0, 0, 0, 0, 0, 0, 0, 0, 0, 0, 0, 0, 0, 0, -1, 0, 0, 0, 0, 0], 0//1)\n",
       " HyperPlane(Rational{BigInt}[1, 0, 0, 0, 0, 0, 0, 0, 0, 0, 0, 0, 0, 0, 0, 0, 0, 0, 0, 0, 0, 0, 0, 0, 0, 0, 0, -1], 0//1)\n",
       " HyperPlane(Rational{BigInt}[0, 0, 0, 0, 0, 0, 0, 1, 0, 0, 0, 0, 0, 0, 0, 0, 0, 0, 0, 0, 0, 0, -1, 0, 0, 0, 0, 0], 0//1)\n",
       " HyperPlane(Rational{BigInt}[0, 0, 0, 0, 0, 0, 0, 0, 0, 0, 0, 0, 0, 1, 0, 0, 0, 0, 0, 0, 0, 0, 0, 0, 0, 0, 0, -1], 0//1),\n",
       "294-element iterator of HalfSpace{Rational{BigInt}, Vector{Rational{BigInt}}}:\n",
       " HalfSpace(Rational{BigInt}[0, 1, 0, 0, 0, 0, -1, 0, 0, 0, 0, 0, 0, 0, 0, 0, 0, 0, 0, 0, 0, 0, 0, 0, 0, 0, 0, 0], 1192//1)\n",
       " HalfSpace(Rational{BigInt}[0, 1, 0, 0, 0, 0, 0, 0, 0, -1, 0, 0, 0, 0, 0, 0, 0, 0, 0, 0, 0, 0, 0, 0, 0, 0, 0, 0], 866//1)\n",
       " HalfSpace(Rational{BigInt}[0, 1, 0, 0, 0, 0, 0, 0, 0, 0, 0, -1, 0, 0, 0, 0, 0, 0, 0, 0, 0, 0, 0, 0, 0, 0, 0, 0], 824//1)\n",
       " HalfSpace(Rational{BigInt}[0, 1, 0, 0, 0, 0, 0, 0, 0, 0, 0, 0, -1, 0, 0, 0, 0, 0, 0, 0, 0, 0, 0, 0, 0, 0, 0, 0], 677//1)\n",
       " HalfSpace(Rational{BigInt}[0, 1, 0, 0, 0, 0, 0, 0, 0, 0, 0, 0, 0, 0, 0, 0, 0, 0, -1, 0, 0, 0, 0, 0, 0, 0, 0, 0], 1023//1)\n",
       " HalfSpace(Rational{BigInt}[0, 1, 0, 0, 0, 0, 0, 0, 0, 0, 0, 0, 0, 0, 0, 0, 0, 0, 0, 0, -1, 0, 0, 0, 0, 0, 0, 0], 1023//1)\n",
       " HalfSpace(Rational{BigInt}[0, 1, 0, 0, 0, 0, 0, 0, 0, 0, 0, 0, 0, 0, 0, 0, 0, 0, 0, 0, 0, -1, 0, 0, 0, 0, 0, 0], 1477//1)\n",
       " HalfSpace(Rational{BigInt}[0, 1, 0, 0, 0, 0, 0, 0, 0, 0, 0, 0, 0, 0, 0, 0, 0, 0, 0, 0, 0, 0, 0, 0, -1, 0, 0, 0], 1245//1)\n",
       " HalfSpace(Rational{BigInt}[0, 0, 1, 0, 0, -1, 0, 0, 0, 0, 0, 0, 0, 0, 0, 0, 0, 0, 0, 0, 0, 0, 0, 0, 0, 0, 0, 0], 1705//1)\n",
       " HalfSpace(Rational{BigInt}[0, 0, 1, 0, 0, 0, -1, 0, 0, 0, 0, 0, 0, 0, 0, 0, 0, 0, 0, 0, 0, 0, 0, 0, 0, 0, 0, 0], 1229//1)\n",
       " HalfSpace(Rational{BigInt}[0, 0, 1, 0, 0, 0, 0, 0, 0, -1, 0, 0, 0, 0, 0, 0, 0, 0, 0, 0, 0, 0, 0, 0, 0, 0, 0, 0], 1580//1)\n",
       " HalfSpace(Rational{BigInt}[0, 0, 1, 0, 0, 0, 0, 0, 0, 0, 0, -1, 0, 0, 0, 0, 0, 0, 0, 0, 0, 0, 0, 0, 0, 0, 0, 0], 1626//1)\n",
       " HalfSpace(Rational{BigInt}[0, 0, 1, 0, 0, 0, 0, 0, 0, 0, 0, 0, -1, 0, 0, 0, 0, 0, 0, 0, 0, 0, 0, 0, 0, 0, 0, 0], 1151//1)\n",
       " HalfSpace(Rational{BigInt}[0, 0, 1, 0, 0, 0, 0, 0, 0, 0, 0, 0, 0, 0, -1, 0, 0, 0, 0, 0, 0, 0, 0, 0, 0, 0, 0, 0], 1563//1)\n",
       " HalfSpace(Rational{BigInt}[0, 0, 1, 0, 0, 0, 0, 0, 0, 0, 0, 0, 0, 0, 0, -1, 0, 0, 0, 0, 0, 0, 0, 0, 0, 0, 0, 0], 1525//1)\n",
       " HalfSpace(Rational{BigInt}[0, 0, 1, 0, 0, 0, 0, 0, 0, 0, 0, 0, 0, 0, 0, 0, -1, 0, 0, 0, 0, 0, 0, 0, 0, 0, 0, 0], 50557//34)\n",
       " HalfSpace(Rational{BigInt}[0, 0, 1, 0, 0, 0, 0, 0, 0, 0, 0, 0, 0, 0, 0, 0, 0, -1, 0, 0, 0, 0, 0, 0, 0, 0, 0, 0], 48619//34)\n",
       " HalfSpace(Rational{BigInt}[0, 0, 1, 0, 0, 0, 0, 0, 0, 0, 0, 0, 0, 0, 0, 0, 0, 0, 0, 0, 0, -1, 0, 0, 0, 0, 0, 0], 1734//1)\n",
       " HalfSpace(Rational{BigInt}[0, 0, 1, 0, 0, 0, 0, 0, 0, 0, 0, 0, 0, 0, 0, 0, 0, 0, 0, 0, 0, 0, -1, 0, 0, 0, 0, 0], 2058//1)\n",
       " HalfSpace(Rational{BigInt}[0, 0, 1, 0, 0, 0, 0, 0, 0, 0, 0, 0, 0, 0, 0, 0, 0, 0, 0, 0, 0, 0, 0, -1, 0, 0, 0, 0], 1512//1)\n",
       "  ⋮"
      ]
     },
     "metadata": {},
     "output_type": "display_data"
    }
   ],
   "source": [
    "coph_vecs = [cophenetic_from_distance(mat) for mat in matrices]\n",
    "@time trop_frechet_set(coph_vecs)"
   ]
  },
  {
   "cell_type": "code",
   "execution_count": 33,
   "id": "f780e1bb",
   "metadata": {},
   "outputs": [
    {
     "data": {
      "text/plain": [
       "26-element Vector{Vector{Vector{Rational{Int64}}}}:\n",
       " [[3784, 6626, 9906, 6521, 11778, 8750, 7661, 7601, 10881, 7496  …  4901, 15579, 12551, 11462, 12194, 9167, 8078, 14217, 13128, 1089], [3485, 8484, 9427, 8865, 25257, 9257, 10300, 8814, 9756, 9195  …  3645, 25010, 9010, 10054, 24449, 8449, 9492, 20033, 21076, 2163], [3570, 5592, 6890, 4591, 4849, 5136, 4872, 3905, 6062, 3763  …  6609, 6867, 7154, 6890, 2383, 4367, 4103, 4625, 4361, 274], [1696, 4297, 5665, 6408, 4431, 4218, 4248, 4473, 5841, 6584  …  9039, 7062, 6849, 6880, 5542, 6984, 7014, 5006, 5037, 557], [1864, 8173, 6779, 10056, 10843, 9010, 9319, 8433, 7039, 10315  …  11759, 12546, 10713, 11022, 15116, 13283, 13592, 12332, 12642, 2722], [3801, 11567, 5222, 5725, 5642, 8167, 7548, 12836, 6491, 6994  …  6129, 6046, 8571, 7952, 601, 7410, 6791, 7327, 6708, 4443], [751, 29706, 6877, 4376, 5857, 9999, 8966, 29899, 7070, 4569  …  6079, 7560, 11702, 10669, 3359, 8305, 7272, 9787, 8754, 5104], [4080, 8200, 9699, 9924, 11942, 9302, 9463, 7689, 9188, 9413  …  7219, 10137, 9656, 9817, 10362, 9881, 10042, 11898, 12059, 878], [5044, 13355, 13753, 12176, 12887, 14429, 15134, 12604, 13002, 11425  …  13357, 14068, 15610, 16316, 5411, 12410, 13116, 13121, 13827, 2545], [1971, 3755, 11351, 4502, 4538, 4844, 4814, 4479, 12075, 5226  …  13369, 13405, 13711, 13681, 2561, 5853, 5823, 5889, 5859, 680]]\n",
       " [[7553, 17858, 16892, 12814, 12513, 12873, 12060, 20071, 19106, 15028  …  18750, 18448, 18808, 17995, 6781, 10749, 9936, 10448, 9634, 2055], [4481, 5171, 6427, 6220, 10239, 8715, 7999, 2148, 5771, 5564  …  207, 9656, 8132, 7416, 9448, 7925, 7208, 8235, 7518, 1888], [24517, 8749, 8565, 23377, 7876, 9556, 9010, 30444, 30259, 45072  …  24947, 9446, 11126, 10579, 20577, 22257, 21711, 6756, 6210, 892], [21338, 39879, 31177, 32824, 33527, 29272, 38222, 31344, 22642, 24288  …  1647, 20380, 16126, 25076, 22027, 17772, 26723, 16430, 25381, 12216], [7386, 2705, 2560, 6483, 3094, 4409, 4461, 8913, 8768, 12691  …  6158, 3910, 5225, 5276, 7833, 9148, 9199, 4236, 4287, 538], [7948, 6961, 10290, 9406, 9956, 9471, 10426, 9650, 12979, 12096  …  12142, 12693, 12207, 13162, 9426, 9764, 10719, 10314, 11269, 3035], [2052, 3243, 5570, 4414, 7947, 4991, 4660, 3507, 5834, 4678  …  2869, 10073, 7117, 6786, 8917, 5960, 5629, 7947, 7617, 823], [14475, 7761, 10738, 7725, 8144, 8079, 8383, 16213, 19190, 16177  …  10418, 10837, 10772, 11076, 3561, 6714, 7017, 7132, 7436, 902], [17955, 15864, 24239, 23975, 24141, 22378, 22248, 10369, 23339, 23075  …  11552, 11718, 9955, 9825, 7906, 7522, 7393, 7688, 7558, 1025], [9300, 16836, 11130, 8830, 9770, 10266, 10645, 19802, 14096, 11796  …  4528, 8599, 11311, 11690, 6299, 9011, 9390, 9952, 10331, 1892]]\n",
       " [[5957, 6605, 5618, 9153, 6718, 6983, 6459, 10098, 9111, 12647  …  9825, 7389, 7655, 7130, 6315, 9857, 9332, 7421, 6897, 1529], [3366, 13464, 7801, 9311, 9189, 11260, 11972, 12172, 6509, 8019  …  5475, 5353, 7424, 8135, 2710, 7122, 7834, 7000, 7712, 712], [31207, 18067, 22141, 16197, 19367, 16118, 15290, 36221, 40295, 34350  …  14790, 17960, 16688, 15861, 8353, 10744, 9917, 13915, 13087, 1138], [436, 2107, 2544, 2251, 6427, 3642, 3542, 2356, 2793, 2500  …  1619, 6309, 3524, 3424, 6016, 3231, 3131, 6318, 6218, 100], [5240, 8192, 8408, 28374, 13711, 11552, 11989, 8901, 9118, 29084  …  26192, 11529, 9370, 9807, 26089, 26845, 27282, 12182, 12619, 1443], [57, 4094, 3015, 11250, 4590, 6534, 5819, 4036, 2958, 11193  …  9007, 2346, 4290, 3575, 8886, 11610, 10896, 4950, 4235, 2195], [443, 3570, 3270, 10489, 9201, 12464, 13351, 3344, 3044, 10263  …  7308, 6021, 9284, 10171, 8668, 11931, 12818, 7804, 8691, 3098], [3567, 6026, 2762, 3495, 65256, 77784, 84382, 2460, 2197, 2930  …  1278, 63039, 75567, 82165, 61761, 74289, 80887, 12528, 19127, 11086], [3738, 39695, 26181, 8581, 17060, 8795, 9002, 39891, 26376, 8777  …  21967, 32104, 27213, 27420, 14505, 9614, 9820, 18093, 18300, 1362], [10563, 16556, 14314, 11787, 11992, 13831, 13053, 9328, 7086, 4560  …  3740, 3945, 7330, 6553, 357, 4804, 4027, 5009, 4231, 1090]]\n",
       " [[294, 4765, 6748, 4530, 4074, 5745, 6298, 4675, 6658, 4440  …  7032, 6577, 8248, 8801, 2662, 5283, 5835, 4827, 5380, 2260], [17139, 16638, 10910, 16033, 17329, 13861, 13775, 20926, 15198, 20320  …  12306, 13602, 10134, 10048, 7587, 10960, 10874, 12256, 12170, 1988], [8205, 7514, 8474, 9751, 9829, 10640, 11124, 11680, 12640, 13918  …  3733, 8091, 8902, 9386, 9368, 10179, 10664, 9367, 9852, 2170], [5765, 11756, 12000, 11771, 15765, 10619, 11096, 13012, 13256, 13027  …  12236, 16230, 11084, 11561, 15169, 10023, 10500, 12612, 13089, 1154], [16268, 11493, 10073, 5759, 7419, 7391, 7184, 18787, 17367, 17227  …  11032, 12692, 12664, 12456, 4299, 6686, 6478, 8345, 8138, 208], [4001, 7801, 7507, 5126, 5561, 1003402, 5823, 7604, 7310, 4929  …  6211, 6646, 1004487, 6908, 2463, 1001724, 4145, 1002159, 4579, 1002420], [3533, 3301, 4846, 7613, 9100, 5485, 7144, 376, 5365, 8447  …  9759, 11247, 7632, 9291, 13374, 9759, 11418, 10780, 12438, 2122], [7643, 20568, 15370, 12072, 10986, 15990, 15052, 21923, 16726, 13428  …  17413, 16326, 21331, 20392, 5585, 14606, 13667, 13519, 12581, 1218], [10031, 15989, 13347, 15573, 17095, 12518, 13447, 14462, 11819, 14045  …  14047, 15569, 10992, 11921, 16308, 11731, 12660, 11394, 12323, 2871], [6657, 7033, 7094, 6934, 8623, 6426, 9606, 1813, 5384, 5224  …  521, 8181, 5985, 9165, 8021, 5825, 9005, 6797, 9977, 5186]]\n",
       " [[5888, 16057, 13036, 11246, 14440, 11892, 11807, 16848, 13827, 12037  …  12239, 15432, 12884, 12800, 7048, 9323, 9238, 12517, 12432, 1436], [3729, 9987, 23461, 19669, 19900, 9797, 9449, 10574, 24048, 20256  …  28148, 28379, 23227, 22879, 8847, 19435, 19087, 19666, 19318, 1086], [1384, 4847, 1430, 2019, 2019, 3549, 3605, 3685, 267, 856  …  700, 700, 2230, 2286, 1//34, 2397, 2453, 2397, 2453, 737], [3650, 5284, 15572, 7312, 9598, 7040, 7097, 3990, 14277, 6018  …  16706, 18992, 16434, 16491, 9170, 6612, 6669, 7312, 7369, 667], [6424, 824, 1727, 2533, 1786, 2576, 2723, 5959, 7365, 8172  …  3024, 2276, 3067, 3214, 1111, 3437, 3585, 2690, 2837, 147], [7117, 14021, 8099, 10156, 9759, 9880, 9879, 9268, 5248, 7305  …  7410, 7012, 7133, 7132, 4179, 7731, 7730, 7334, 7332, 1514], [4664, 18508, 9250, 10159, 6631, 7570, 7620, 19419, 10161, 11069  …  7875, 5963, 8936, 8986, 6871, 9844, 9894, 6316, 6366, 870], [2078, 4389, 4013, 4821, 5208, 17824, 10141, 4015, 3640, 4447  …  3581, 3968, 16584, 8901, 2058, 16950, 9267, 17337, 9654, 19397], [5621, 8130, 12543, 10902, 10173, 12382, 11415, 9163, 13576, 11935  …  15019, 14290, 16500, 15533, 6284, 12514, 11547, 11785, 10818, 1674], [11413, 14532, 14501, 15027, 16848, 15756, 15497, 10960, 10930, 11456  …  9561, 11382, 10290, 10031, 5700, 8732, 8473, 10552, 10293, 1326]]\n",
       " [[1005191, 1001947, 1010230, 1025938, 1017603, 1022836, 1026179, 7138, 15421, 31129  …  28510, 20175, 25408, 28752, 13913, 30582, 33926, 22247, 25591, 3344], [22450, 20581, 19461, 13572, 16105, 15780, 16598, 24092, 22972, 19820  …  16831, 19364, 19039, 19857, 4963, 10700, 11518, 13233, 14051, 3175], [3723, 5806, 10172, 8886, 17381, 6888, 7516, 5909, 10275, 8988  …  10249, 20197, 9704, 10332, 18910, 8417, 9045, 14882, 15510, 1172], [9726, 11962, 15166, 14953, 14048, 16881, 16425, 4292, 7496, 7284  …  8530, 7624, 10457, 10001, 2987, 8077, 7621, 7172, 6716, 456], [1917, 8490, 9176, 4013, 6072, 5011, 5170, 8756, 9441, 4279  …  10505, 12565, 11504, 11663, 4627, 5675, 5834, 7734, 7893, 281], [6051, 8729, 8067, 10651, 10286, 9993, 9731, 10827, 10165, 12749  …  11870, 11504, 11212, 10950, 5828, 9152, 8891, 8786, 8525, 262], [3315, 4567, 4838, 4942, 6083, 8471, 6953, 1854, 4386, 4490  …  386, 7648, 10036, 8517, 7752, 10140, 8622, 9766, 8248, 5180], [2708, 6471, 3830, 3049, 3067, 6686, 6302, 7934, 5292, 4512  …  4342, 4360, 7979, 7594, 98, 6866, 6481, 6884, 6499, 4762], [4894, 13131, 7309, 9564, 10572, 14247, 13920, 14891, 9070, 11325  …  10005, 11013, 14688, 14361, 4684, 13767, 13440, 14775, 14448, 1475], [3783, 3813, 3673, 4631, 8980, 5596, 5279, 1947, 1807, 3551  …  3441, 7790, 4406, 4089, 8019, 4636, 4319, 8984, 8667, 1672]]\n",
       " [[12428, 12785, 8863, 8787, 9612, 8489, 8236, 9506, 13983, 13906  …  5178, 8907, 8585, 8331, 8831, 8508, 8255, 9333, 9080, 1205], [11740, 9983, 10149, 15056, 16159, 15375, 15305, 20601, 20767, 25674  …  13383, 14486, 13703, 13632, 5316, 11164, 11094, 12267, 12197, 706], [5601, 19537, 12607, 12860, 13921, 14598, 13702, 18497, 11566, 11819  …  11847, 12908, 13585, 12689, 5197, 11764, 10868, 12825, 11929, 2529], [16787, 18658, 16488, 15632, 14574, 16140, 15288, 25385, 23214, 22358  …  17083, 16026, 17591, 16739, 4738, 13538, 12686, 12481, 11628, 2915], [7612, 12604, 11932, 14456, 12658, 14339, 14476, 12024, 11352, 13877  …  5936, 9350, 11031, 11168, 11875, 13556, 13693, 11097, 11234, 2578], [503, 5154, 6459, 5607, 12281, 6372, 8015, 4651, 5956, 5104  …  6698, 14644, 8735, 10378, 13793, 7884, 9527, 13608, 15251, 3485], [13926, 14079, 11930, 9180, 8836, 10650, 10520, 19982, 17834, 15084  …  9958, 9614, 11428, 11298, 3935, 7696, 7565, 7352, 7222, 1011], [11070, 19650, 15097, 14684, 14937, 11343, 11220, 22851, 18298, 17885  …  15880, 16133, 12540, 12417, 6469, 10885, 10762, 11138, 11015, 331], [3987, 5890, 5717, 6453, 9787, 10063, 10227, 6841, 6668, 7404  …  4333, 9423, 9698, 9862, 10159, 10434, 10598, 11989, 12153, 652], [10400, 10344, 11108, 12136, 9732, 11898, 11518, 1618, 4627, 5655  …  2404, 5297, 7463, 7083, 6325, 8491, 8111, 6048, 5668, 738]]\n",
       " [[5830, 5564, 11437, 7294, 7522, 7352, 7802, 4396, 11910, 7767  …  11954, 12182, 12012, 12462, 3056, 6045, 6496, 6273, 6723, 450], [20175, 27285, 22560, 23128, 22239, 27382, 26814, 13654, 8929, 9497  …  3738, 7032, 12175, 11607, 7600, 12743, 12175, 10512, 9943, 1326], [11608, 13119, 12849, 13478, 14049, 13858, 14861, 9464, 9194, 9823  …  9494, 10065, 9874, 10877, 4020, 9038, 10040, 9609, 10611, 2165], [3323, 9158, 6586, 4800, 9670, 8365, 7616, 8152, 5580, 3793  …  4638, 9508, 8203, 7454, 6277, 4972, 4223, 9535, 8787, 749], [12473, 15717, 13628, 13435, 16973, 15252, 14651, 13645, 11556, 11362  …  11156, 14694, 12974, 12373, 7484, 10354, 9753, 13892, 13291, 2299], [9063, 8239, 8755, 12292, 10866, 10240, 10192, 8272, 8788, 12326  …  9732, 8306, 7680, 7631, 6447, 8731, 8682, 7304, 7256, 1245], [7566, 10600, 10790, 9176, 18831, 11966, 11906, 4667, 4856, 4074  …  7297, 16952, 10088, 10027, 14670, 7806, 7745, 14014, 13953, 1835], [8697, 16485, 15504, 13038, 14775, 15471, 15245, 15095, 14114, 11648  …  8109, 9846, 10541, 10316, 4186, 7577, 7352, 9314, 9088, 1405], [11280, 1003773, 8900, 14154, 12634, 11538, 11532, 1007508, 12635, 17888  …  12777, 11258, 11863, 11857, 7544, 17117, 17111, 15597, 15591, 1305], [1000000, 4172, 6953, 7094, 8185, 6794, 6996, 1004172, 1006953, 1007093  …  3723, 6615, 7739, 7941, 6756, 7880, 8082, 8971, 9173, 857]]\n",
       " [[1904, 10820, 4101, 4101, 3818, 4596, 5553, 11360, 4642, 4642  …  5144, 4862, 5639, 6596, 417, 5139, 6096, 4857, 5813, 1217], [7095, 13972, 8648, 8986, 9031, 11777, 11637, 13005, 7680, 8018  …  3127, 5023, 10344, 10203, 5361, 10682, 10541, 10727, 10586, 1574], [2852, 6801, 5587, 7053, 7349, 11111, 10253, 6475, 5960, 7426  …  8023, 8319, 12082, 11223, 3124, 11039, 10181, 11335, 10477, 2162], [3376, 7177, 7965, 11127, 8746, 9438, 9666, 6628, 7416, 10578  …  10067, 8255, 8947, 9175, 11417, 12109, 12337, 7916, 8144, 803], [13040, 17485, 18548, 18374, 19520, 19139, 20155, 22793, 23855, 23682  …  6955, 8101, 7720, 8736, 4258, 6272, 7289, 7418, 8434, 1512], [3540, 3195, 7788, 3686, 3964, 4323, 4553, 1537, 6630, 2528  …  4896, 5936, 6918, 7148, 1835, 2817, 3046, 3095, 3325, 230], [9897, 10595, 9304, 9747, 9232, 13954, 9024, 3042, 4905, 5348  …  635, 5399, 10121, 5190, 5842, 10564, 5633, 9251, 4321, 7466], [2340, 3292, 11141, 3753, 3718, 3588, 3232, 4101, 11950, 4562  …  11118, 11083, 10953, 10597, 1928, 3239, 2883, 3204, 2848, 586], [16540, 14176, 14214, 15146, 18080, 16923, 16525, 8252, 13326, 14259  …  5497, 12627, 11470, 11072, 13560, 12403, 12004, 11934, 11535, 2046], [14694, 44053, 11471, 11438, 21351, 12662, 12860, 48211, 15629, 17552  …  14329, 24242, 15553, 15750, 22445, 13756, 13954, 20969, 21167, 2375]]\n",
       " [[1140, 6428, 7206, 7131, 9375, 9731, 9042, 5544, 6322, 6247  …  7469, 10906, 11262, 10573, 10832, 11187, 10499, 10596, 9907, 7012], [12637, 7150, 9984, 14978, 11415, 10425, 12322, 11957, 14791, 19785  …  14017, 10454, 9464, 11361, 6408, 12337, 14234, 8774, 10671, 1897], [14045, 22983, 18885, 16870, 28757, 16258, 15175, 25579, 21481, 19465  …  15546, 27433, 14933, 13851, 16023, 10493, 9410, 22380, 21297, 2316], [4755, 10696, 4964, 5730, 6175, 7495, 7653, 11656, 5924, 6690  …  3231, 4231, 6924, 7082, 4997, 7690, 7848, 8134, 8292, 551], [3471, 12124, 7210, 8084, 6600, 7037, 7495, 12545, 7631, 8505  …  5737, 7965, 8403, 8861, 8840, 9277, 9736, 6073, 6531, 1508], [8447, 12936, 15185, 17905, 16662, 21213, 18923, 14718, 16966, 19687  …  19110, 17867, 22418, 20128, 12611, 23069, 20779, 21826, 19535, 3351], [2967, 2901, 3881, 4060, 1370, 19559, 9039, 1611, 3633, 3811  …  178, 3421, 21610, 11090, 3600, 21788, 11269, 19099, 8579, 18578], [9167, 9952, 19487, 10974, 13439, 16554, 15462, 3373, 16220, 7707  …  14278, 16743, 19858, 18766, 7132, 10247, 9154, 9292, 8199, 1571], [181, 4635, 4414, 3805, 8289, 19344, 18048, 4454, 4233, 3624  …  3243, 7727, 18783, 17486, 5546, 16601, 15305, 17133, 15837, 20897], [4317, 23506, 6393, 6128, 6727, 6000, 5929, 25630, 8517, 8252  …  9295, 9894, 9167, 9096, 5138, 6631, 6559, 7229, 7158, 834]]\n",
       " ⋮\n",
       " [[9120, 11184, 10254, 11428, 7478, 12095, 11004, 3363, 10986, 14178  …  15312, 11361, 15979, 14888, 8915, 16404, 15314, 12454, 11363, 1720], [4363, 8198, 9873, 6434, 9064, 7515, 7625, 9659, 11333, 7894  …  10989, 14106, 12557, 12666, 10667, 9118, 9228, 9220, 9330, 1767], [12621, 6377, 8768, 9765, 10898, 10070, 9781, 16784, 19175, 20173  …  10708, 11841, 11013, 10723, 3848, 9711, 9421, 10844, 10554, 1003], [15426, 13160, 11050, 13781, 13562, 9740, 9433, 28521, 26411, 29142  …  14202, 13983, 10161, 9854, 6855, 11744, 11437, 11525, 11218, 560], [7860, 8344, 8473, 11778, 10103, 9994, 9468, 4177, 4306, 7610  …  5893, 4218, 4109, 3584, 3440, 6411, 5885, 4736, 4210, 526], [220713, 218777, 224919, 224310, 224465, 224117, 224138, 4633, 10775, 10166  …  4673, 9129, 10952, 10972, 8520, 10342, 10363, 10498, 10518, 768], [17566, 9698, 15351, 15691, 11280, 10826, 1010037, 18597, 24251, 24591  …  10253, 14601, 14147, 1013357, 14941, 14487, 1013697, 2045, 1001255, 1000789], [787, 10711, 5101, 14918, 5244, 9949, 9302, 11105, 5495, 15312  …  14170, 4496, 9202, 8554, 11211, 18044, 17397, 8370, 7723, 4316], [4220, 8107, 8274, 12391, 14103, 14940, 14037, 8701, 8869, 12986  …  11406, 13117, 13954, 13052, 4265, 14235, 13332, 15946, 15043, 1703], [7760, 15120, 10768, 24986, 18360, 19053, 19393, 15367, 11015, 25232  …  20875, 14249, 14942, 15282, 25516, 26210, 26550, 17749, 18089, 10193]]\n",
       " [[10036, 31324, 17113, 21869, 19372, 16366, 16792, 24517, 10307, 15062  …  16962, 14465, 11459, 11885, 11613, 12559, 12985, 10063, 10488, 426], [4464, 4979, 9971, 6880, 6544, 5707, 5485, 2005, 6998, 3906  …  8818, 8482, 7645, 7423, 2633, 3888, 3665, 3552, 3329, 317], [6042, 7022, 8413, 9839, 12280, 7165, 7314, 6273, 7664, 9090  …  8319, 10761, 6361, 6510, 10477, 7787, 7936, 10229, 10377, 955], [20097, 4517, 4718, 6111, 7251, 7414, 7387, 18685, 18886, 21316  …  5936, 7076, 7239, 7212, 4701, 7497, 7470, 8637, 8610, 416], [15660, 14690, 12360, 10894, 13398, 12018, 11927, 16104, 13774, 12308  …  7347, 9851, 8471, 8380, 5326, 5964, 5874, 8469, 8378, 1819], [11617, 6216, 6864, 7656, 6772, 6989, 6990, 15873, 16521, 17312  …  4856, 6590, 7978, 7978, 7381, 8769, 8769, 7886, 7886, 531], [1559, 9366, 5063, 5099, 4911, 5564, 5037, 9222, 4919, 4955  …  2698, 6755, 7408, 6881, 6791, 7444, 6917, 6264, 5738, 1395], [3640, 16367, 7772, 22085, 8719, 6906, 7106, 16134, 7539, 21853  …  16476, 3109, 5667, 5867, 14736, 19980, 20180, 6614, 6814, 876], [3947, 5545, 2854, 11691, 5614, 4730, 4061, 2732, 2636, 13120  …  12027, 5951, 5067, 4398, 11383, 12397, 11727, 6320, 5650, 1291], [5011, 14516, 16668, 11683, 17796, 11122, 11221, 14881, 17033, 12048  …  16698, 22812, 16138, 16237, 10170, 8529, 8628, 14642, 14742, 673]]\n",
       " [[4628, 12792, 6195, 6523, 19561, 6773, 7128, 12411, 5814, 6143  …  2596, 18664, 5877, 6232, 18993, 6205, 6560, 16695, 17050, 1409], [7238, 30159, 13812, 13919, 15329, 12707, 11654, 29532, 13185, 13291  …  4106, 9249, 8362, 7309, 9356, 8468, 7416, 9878, 8825, 1333], [5661, 9551, 9627, 13741, 16095, 13086, 13543, 11625, 11701, 15815  …  14876, 17230, 14220, 14677, 4444, 15909, 16366, 18263, 18720, 753], [2381, 6882, 3432, 4896, 4872, 5800, 5672, 7562, 4112, 5575  …  4371, 4347, 5276, 5148, 2992, 5637, 5509, 5613, 5485, 621], [2655, 9953, 8528, 9025, 7522, 8638, 8050, 10596, 9171, 9668  …  11171, 9669, 10784, 10196, 5398, 8664, 8077, 7162, 6574, 588], [35557, 32840, 30435, 31305, 36472, 31280, 31334, 9679, 13389, 14260  …  3735, 10861, 6887, 6940, 11732, 7757, 7810, 12924, 12977, 1465], [4427, 12124, 6783, 8674, 8019, 9053, 9479, 12958, 7617, 9508  …  9464, 8809, 9843, 10269, 6768, 9955, 10381, 9300, 9726, 1598], [4551, 4770, 4688, 15821, 11061, 6902, 10042, 6368, 6287, 17419  …  13647, 8887, 4728, 7868, 12152, 14298, 17438, 9538, 12678, 4683], [16137, 15199, 14960, 20283, 21015, 23315, 22425, 12639, 12400, 17723  …  13598, 14330, 16630, 15740, 5851, 14887, 13997, 15619, 14729, 2279], [1218, 2241, 7739, 7021, 5440, 5205, 4425, 2464, 7962, 7244  …  10142, 8561, 10142, 9363, 4066, 9424, 8645, 7843, 7063, 1436]]\n",
       " [[5797, 10609, 8334, 9367, 7632, 9505, 9462, 13399, 11124, 12157  …  3765, 7144, 9016, 8974, 8177, 10049, 10007, 7012, 6970, 767], [4087, 7128, 7572, 9309, 9926, 12664, 13439, 8196, 8641, 10377  …  10381, 10999, 13736, 14512, 12100, 14838, 15613, 12214, 12990, 776], [4105, 16535, 20368, 9368, 11635, 10321, 11205, 14457, 18290, 7290  …  19896, 22163, 20849, 21733, 3787, 8412, 9295, 10679, 11563, 2043], [14959, 29179, 18020, 17456, 17331, 15009, 15677, 22847, 11688, 11124  …  10093, 9968, 9232, 9900, 6396, 8669, 9337, 8543, 9211, 668], [5867, 8495, 9519, 8880, 7642, 9876, 9617, 5580, 6604, 5964  …  6493, 5255, 8711, 8452, 2541, 8071, 7812, 6833, 6575, 1397], [2418, 2557, 5617, 3084, 2980, 3033, 3138, 485, 3545, 1012  …  4212, 4108, 4161, 4266, 104, 983, 1088, 879, 984, 105], [2261, 3046, 2631, 2663, 6599, 3875, 3568, 1838, 1830, 1863  …  116, 6734, 4010, 3703, 6766, 4042, 3736, 7360, 7054, 1597], [2456, 5813, 5574, 6366, 5336, 6566, 6396, 5524, 5285, 6077  …  3778, 4706, 7016, 6847, 5498, 7809, 7639, 6778, 6608, 867], [4769, 6844, 9933, 6498, 7611, 9638, 8715, 9221, 12310, 8875  …  9797, 10910, 15149, 14227, 4673, 11714, 10791, 12827, 11904, 923], [549, 4572, 3966, 10992, 10912, 5679, 5827, 4905, 4300, 11325  …  9838, 9759, 4526, 4674, 16578, 11345, 11493, 9158, 9305, 1553]]\n",
       " [[2096, 11544, 3981, 4551, 4485, 7294, 7149, 12327, 4763, 5333  …  4487, 4421, 7231, 7085, 333, 6407, 6262, 6341, 6196, 4180], [6588, 11731, 11941, 11772, 14201, 13271, 12915, 11631, 11841, 11672  …  6543, 13714, 12785, 12429, 13546, 12616, 12260, 13669, 13312, 1225], [5079, 4177, 7185, 8740, 7772, 10686, 10123, 6552, 9559, 11114  …  11377, 10408, 13323, 12760, 3982, 10913, 10350, 9945, 9382, 917], [14306, 20479, 18221, 17518, 18826, 20690, 20849, 20171, 17913, 17210  …  2672, 6381, 8245, 8404, 5678, 7542, 7701, 7363, 7522, 1393], [24778, 17115, 16525, 17760, 15879, 18082, 18405, 20279, 19689, 24614  …  16362, 14481, 16683, 17007, 14024, 16226, 16550, 13083, 13407, 2236], [31892, 31555, 34537, 34885, 36590, 35474, 35429, 14495, 17477, 17825  …  15962, 17668, 16551, 16507, 6786, 14462, 14418, 16168, 16123, 546], [3963, 14653, 15599, 20487, 14606, 9433, 9543, 14619, 15565, 20453  …  23276, 20362, 15189, 15299, 25250, 20078, 20188, 12231, 12341, 3363], [9249, 24251, 15224, 17496, 16336, 15282, 16031, 20021, 10995, 13266  …  4747, 9077, 8023, 8772, 11348, 10295, 11044, 7008, 7757, 749], [4613, 16517, 10251, 7224, 7856, 7342, 7941, 18729, 12463, 9437  …  12209, 12841, 12327, 12926, 1987, 5830, 6429, 6461, 7060, 599], [5636, 11234, 14588, 11313, 11081, 18616, 18756, 9871, 13224, 9950  …  11868, 13157, 20693, 20832, 9883, 17418, 17558, 16369, 16509, 1304]]\n",
       " [[5094, 5108, 11532, 6888, 5167, 6744, 6187, 7751, 14175, 9530  …  13475, 11754, 13331, 12774, 3071, 7399, 6842, 5679, 5121, 984], [11135, 9430, 9891, 13224, 11711, 10998, 10784, 11914, 12375, 15709  …  11017, 9504, 8791, 8577, 7870, 10966, 10752, 9452, 9238, 1685], [13960, 1004466, 11328, 11539, 9340, 7618, 7887, 1011301, 18162, 18373  …  5348, 11734, 10013, 10282, 11945, 10224, 10492, 7017, 7285, 590], [3274, 10629, 11305, 20476, 16225, 9335, 9343, 11129, 11805, 20976  …  21270, 17019, 12020, 12028, 13287, 21191, 21199, 16940, 16948, 645], [4994, 12789, 13276, 9492, 9530, 9630, 9811, 12632, 13118, 9335  …  14128, 14166, 14267, 14447, 2284, 7447, 7628, 7485, 7666, 309], [4201, 3742, 4226, 3270, 3270, 5532, 7429, 3434, 3918, 3652  …  3678, 3678, 5940, 7836, 1//34, 3786, 5682, 3786, 5682, 4119], [3296, 8687, 7190, 7327, 13987, 10340, 9982, 10544, 9048, 9185  …  3290, 13527, 9880, 9523, 13665, 10018, 9660, 12898, 12540, 2471], [10374, 9869, 8994, 8327, 7927, 8325, 8620, 11517, 10641, 11348  …  9968, 9568, 9967, 10262, 5806, 9300, 9595, 8900, 9195, 751], [3613, 13320, 7274, 5745, 5652, 5860, 5747, 13937, 7891, 6362  …  7890, 7798, 8005, 7892, 2769, 4581, 4468, 4488, 4375, 477], [4288, 10089, 7272, 7276, 7759, 7239, 7005, 11259, 8442, 8446  …  9448, 9931, 9411, 9178, 5539, 8493, 8260, 8976, 8743, 1389]]\n",
       " [[2384, 4002, 4092, 2976, 17739, 3797, 3917, 2231, 2320, 1491  …  3198, 18906, 4964, 5085, 17791, 3849, 3969, 16482, 16602, 120], [356, 6098, 5038, 8357, 9910, 5780, 7131, 6455, 5394, 8714  …  7476, 9029, 4898, 6250, 5473, 6438, 7790, 7991, 9343, 1351], [16071, 18597, 18236, 20333, 20473, 17766, 17739, 8648, 12459, 14555  …  9837, 9978, 11300, 11273, 5665, 13396, 13369, 13537, 13510, 5202], [17592, 14466, 15360, 16679, 15083, 16158, 16259, 11827, 14715, 16034  …  12599, 11002, 12077, 12178, 7203, 10413, 10514, 8816, 8917, 1129], [17913, 14021, 10521, 13452, 15129, 14203, 14181, 24473, 20973, 23904  …  4958, 6634, 5708, 5686, 3080, 6712, 6690, 8389, 8366, 1365], [2104, 5531, 5206, 4816, 6003, 10898, 8338, 5090, 4765, 4375  …  4860, 6047, 10942, 8382, 3014, 9793, 7233, 10980, 8420, 9522], [1491, 2736, 4812, 14735, 4708, 18004, 19848, 3696, 5773, 15696  …  13087, 4893, 18781, 20625, 14816, 28704, 30548, 18676, 20520, 14043], [15717, 9870, 13126, 11438, 12369, 13958, 13934, 16183, 19439, 17751  …  13060, 13991, 15579, 15556, 4776, 12618, 12595, 13550, 13526, 580], [1001233, 1001720, 1001291, 1005954, 1002025, 1001977, 1002216, 1808, 2524, 7187  …  5663, 3316, 3268, 3506, 7979, 7931, 8169, 2472, 2711, 239], [9312, 3580, 3680, 2907, 3052, 3693, 3752, 10884, 10984, 10212  …  2321, 2466, 4152, 4212, 145, 3380, 3439, 3524, 3584, 1599]]\n",
       " [[3284, 6452, 6789, 14673, 7217, 7038, 7237, 7350, 7686, 15571  …  17635, 10179, 10000, 10199, 17292, 17112, 17311, 8238, 8437, 633], [12829, 24464, 21696, 23259, 22581, 20413, 20121, 19204, 16435, 17998  …  3990, 4748, 6367, 6076, 6311, 7930, 7639, 7253, 6961, 980], [4120, 9894, 11736, 16236, 11994, 9681, 9060, 12443, 14284, 18784  …  19861, 15620, 13307, 12685, 15403, 15121, 14500, 10880, 10259, 1506], [4357, 3869, 3117, 4444, 8679, 13382, 2708, 7982, 7231, 8557  …  4569, 9621, 14323, 3649, 10947, 15650, 4976, 17721, 7047, 11621], [7770, 15017, 13536, 10709, 10942, 10547, 10127, 18123, 16642, 13815  …  13412, 13646, 13251, 12830, 7190, 9440, 9019, 9673, 9253, 2661], [7299, 10195, 12619, 12067, 11788, 12811, 12897, 11486, 13910, 13358  …  12397, 12118, 13141, 13227, 6987, 10661, 10747, 10382, 10468, 1602], [26143, 8758, 9468, 13050, 12517, 9990, 10298, 25574, 26285, 29867  …  10269, 9736, 7209, 7517, 5292, 8901, 9209, 8367, 8675, 683], [5339, 5569, 9874, 8778, 16049, 8431, 8290, 1512, 7527, 6432  …  10478, 17749, 10130, 9990, 11823, 7271, 7131, 14542, 14402, 702], [6321, 11517, 8902, 10846, 10800, 10566, 10032, 13302, 10688, 12631  …  8577, 8532, 8298, 7763, 3950, 8065, 7531, 8020, 7486, 1254], [4841, 5214, 14976, 5946, 5647, 4854, 4839, 5204, 14967, 5937  …  15002, 14703, 13910, 13895, 3304, 4294, 4279, 3995, 3980, 157]]\n",
       " [[2158, 23141, 6531, 6103, 5644, 6011, 5853, 23203, 6593, 6166  …  7795, 7336, 7703, 7545, 3165, 5691, 5533, 5232, 5074, 521], [13179, 7575, 5611, 6690, 9373, 7768, 7450, 9712, 10424, 11503  …  3232, 5914, 4309, 3991, 3565, 4638, 4319, 7320, 7002, 319], [10904, 11269, 18901, 18931, 20728, 20581, 18643, 8484, 16116, 16146  …  16679, 18475, 18329, 16391, 5286, 16003, 14065, 17799, 15862, 8547], [12885, 24691, 24662, 28822, 26970, 24615, 25009, 16471, 16441, 20602  …  23728, 21876, 19521, 19915, 11745, 20211, 20605, 18358, 18752, 2785], [1385, 2745, 2932, 15403, 4491, 5950, 7552, 2673, 2860, 15331  …  14976, 4064, 5523, 7125, 14793, 17173, 18775, 6261, 7864, 3757], [11592, 7610, 13000, 10045, 10481, 8309, 8582, 13427, 18817, 15863  …  14663, 15098, 12927, 13200, 5526, 7936, 8209, 8371, 8644, 2188], [3353, 6808, 6248, 8141, 8941, 9955, 10418, 7356, 6796, 8689  …  9289, 10089, 11103, 11566, 9207, 10221, 10683, 10015, 10478, 1477], [79, 1193, 1230, 943, 1779, 2843, 3319, 1272, 1309, 1022  …  438, 1274, 2339, 2814, 836, 1900, 2376, 2389, 2864, 1114], [5775, 12866, 15641, 1010230, 16365, 18602, 17867, 11013, 13789, 1008377  …  1005412, 11548, 13784, 13050, 1006136, 1008372, 1007638, 13544, 12809, 1429], [12104, 17530, 15133, 15138, 16057, 17311, 16792, 15835, 13437, 13443  …  13726, 14645, 15898, 15379, 6173, 13484, 12964, 14402, 13883, 1971]]"
      ]
     },
     "metadata": {},
     "output_type": "display_data"
    }
   ],
   "source": [
    "chunks = map(1:26) do i\n",
    "    coph_vecs[(i-1)*10+1:i*10]\n",
    "end"
   ]
  },
  {
   "cell_type": "code",
   "execution_count": 34,
   "id": "4bf24f4f",
   "metadata": {},
   "outputs": [
    {
     "name": "stdout",
     "output_type": "stream",
     "text": [
      " 21.307364 seconds (60.00 M allocations: 835.816 MiB, 0.19% gc time, 0.08% compilation time)\n"
     ]
    },
    {
     "data": {
      "text/plain": [
       "Polyhedron CDDLib.Polyhedron{Rational{BigInt}}:\n",
       "1-element iterator of HyperPlane{Rational{BigInt}, Vector{Rational{BigInt}}}:\n",
       " HyperPlane(Rational{BigInt}[0, 0, 0, 0, 0, 0, 0, 0, 0, 0, 0, 0, 0, 0, 0, 0, 1, 0, 0, 0, 0, 0, -1, 0, 0, 0, 0, 0], 9636073//1218),\n",
       "80-element iterator of HalfSpace{Rational{BigInt}, Vector{Rational{BigInt}}}:\n",
       " HalfSpace(Rational{BigInt}[1, 0, 0, 0, 0, 0, 0, 0, 0, 0, 0, 0, 0, 0, 0, 0, -1, 0, 0, 0, 0, 0, 0, 0, 0, 0, 0, 0], -12812617//1218)\n",
       " HalfSpace(Rational{BigInt}[0, 1, 0, 0, 0, 0, 0, 0, 0, 0, 0, 0, 0, 0, 0, 0, 0, 0, 0, 0, 0, 0, -1, 0, 0, 0, 0, 0], 10541281//2562)\n",
       " HalfSpace(Rational{BigInt}[0, 0, 1, 0, 0, 0, 0, 0, 0, 0, 0, 0, 0, 0, 0, 0, 0, 0, 0, 0, 0, 0, -1, 0, 0, 0, 0, 0], 6969853//2562)\n",
       " HalfSpace(Rational{BigInt}[0, 0, 0, 1, 0, 0, 0, 0, 0, 0, 0, 0, 0, 0, 0, 0, -1, 0, 0, 0, 0, 0, 0, 0, 0, 0, 0, 0], -8397367//1218)\n",
       " HalfSpace(Rational{BigInt}[0, 0, 0, 0, 1, 0, 0, 0, 0, 0, 0, 0, 0, 0, 0, 0, -1, 0, 0, 0, 0, 0, 0, 0, 0, 0, 0, 0], -6593509//1218)\n",
       " HalfSpace(Rational{BigInt}[0, 0, 0, 0, 0, 1, 0, 0, 0, 0, 0, 0, 0, 0, 0, 0, 0, 0, 0, 0, 0, 0, -1, 0, 0, 0, 0, 0], 12685675//2562)\n",
       " HalfSpace(Rational{BigInt}[0, 0, 0, 0, 0, 0, 1, 0, 0, 0, 0, 0, 0, 0, 0, 0, 0, 0, 0, 0, 0, 0, -1, 0, 0, 0, 0, 0], 13477333//2562)\n",
       " HalfSpace(Rational{BigInt}[0, 0, 0, 0, 0, 0, 0, 1, 0, 0, 0, 0, 0, 0, 0, 0, 0, 0, 0, 0, 0, 0, -1, 0, 0, 0, 0, 0], 11207401//2562)\n",
       " HalfSpace(Rational{BigInt}[0, 0, 0, 0, 0, 0, 0, 0, 1, 0, 0, 0, 0, 0, 0, 0, 0, 0, 0, 0, 0, 0, -1, 0, 0, 0, 0, 0], 7635973//2562)\n",
       " HalfSpace(Rational{BigInt}[0, 0, 0, 0, 0, 0, 0, 0, 0, 1, 0, 0, 0, 0, 0, 0, -1, 0, 0, 0, 0, 0, 0, 0, 0, 0, 0, 0], -8162293//1218)\n",
       " HalfSpace(Rational{BigInt}[0, 0, 0, 0, 0, 0, 0, 0, 0, 0, 1, 0, 0, 0, 0, 0, -1, 0, 0, 0, 0, 0, 0, 0, 0, 0, 0, 0], -6358435//1218)\n",
       " HalfSpace(Rational{BigInt}[0, 0, 0, 0, 0, 0, 0, 0, 0, 0, 0, 1, 0, 0, 0, 0, 0, 0, 0, 0, 0, 0, -1, 0, 0, 0, 0, 0], 13349233//2562)\n",
       " HalfSpace(Rational{BigInt}[0, 0, 0, 0, 0, 0, 0, 0, 0, 0, 0, 0, 1, 0, 0, 0, 0, 0, 0, 0, 0, 0, -1, 0, 0, 0, 0, 0], 14143453//2562)\n",
       " HalfSpace(Rational{BigInt}[0, 0, 0, 0, 0, 0, 0, 0, 0, 0, 0, 0, 0, 1, 0, 0, 0, 0, 0, 0, 0, 0, -1, 0, 0, 0, 0, 0], 5752903//2562)\n",
       " HalfSpace(Rational{BigInt}[0, 0, 0, 0, 0, 0, 0, 0, 0, 0, 0, 0, 0, 0, 1, 0, 0, 0, 0, 0, 0, 0, -1, 0, 0, 0, 0, 0], 6667807//1218)\n",
       " HalfSpace(Rational{BigInt}[-1, 0, 0, 0, 0, 0, 0, 0, 0, 0, 0, 0, 0, 0, 0, 1, 0, 0, 0, 0, 0, 0, 0, 0, 0, 0, 0, 0], 9158930//783)\n",
       " HalfSpace(Rational{BigInt}[0, 0, -1, 0, 0, 0, 0, 0, 0, 0, 0, 0, 0, 0, 0, 1, 0, 0, 0, 0, 0, 0, 0, 0, 0, 0, 0, 0], 4076027//588)\n",
       " HalfSpace(Rational{BigInt}[0, 0, 0, -1, 0, 0, 0, 0, 0, 0, 0, 0, 0, 0, 0, 1, 0, 0, 0, 0, 0, 0, 0, 0, 0, 0, 0, 0], 5003303//588)\n",
       " HalfSpace(Rational{BigInt}[0, 0, 0, 0, 0, -1, 0, 0, 0, 0, 0, 0, 0, 0, 0, 1, 0, 0, 0, 0, 0, 0, 0, 0, 0, 0, 0, 0], 3678539//588)\n",
       " HalfSpace(Rational{BigInt}[0, 0, 0, 0, 0, 0, -1, 0, 0, 0, 0, 0, 0, 0, 0, 1, 0, 0, 0, 0, 0, 0, 0, 0, 0, 0, 0, 0], 3263999//588)\n",
       "  ⋮"
      ]
     },
     "metadata": {},
     "output_type": "display_data"
    }
   ],
   "source": [
    "@time trop_frechet_set(chunks[1])"
   ]
  },
  {
   "cell_type": "code",
   "execution_count": null,
   "id": "53613d7a",
   "metadata": {},
   "outputs": [],
   "source": [
    "using ProgressBars\n",
    "\n",
    "runtimes = []\n",
    "intermediate_FM = []\n",
    "@time begin \n",
    "    for P in ProgressBar(chunks)\n",
    "        @time push!(runtimes, @elapsed push!(intermediate_FM, trop_frechet_set(P) .|> points .|> first))\n",
    "    end\n",
    "    trop_frechet_set(intermediate_FM)\n",
    "end"
   ]
  }
 ],
 "metadata": {
  "kernelspec": {
   "display_name": "Julia 1.10.7",
   "language": "julia",
   "name": "julia-1.10"
  },
  "language_info": {
   "file_extension": ".jl",
   "mimetype": "application/julia",
   "name": "julia",
   "version": "1.10.7"
  }
 },
 "nbformat": 4,
 "nbformat_minor": 5
}
