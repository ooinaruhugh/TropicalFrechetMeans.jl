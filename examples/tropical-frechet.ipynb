{
 "cells": [
  {
   "cell_type": "code",
   "execution_count": 1,
   "id": "a2de8446",
   "metadata": {},
   "outputs": [],
   "source": [
    "using LinearAlgebra, Polyhedra, CDDLib\n",
    "using JuMP, Ipopt, Clarabel\n",
    "using Random\n",
    "using PhyloNetworks"
   ]
  },
  {
   "cell_type": "code",
   "execution_count": 2,
   "id": "f0221357",
   "metadata": {},
   "outputs": [
    {
     "data": {
      "text/plain": [
       "trop_normalize (generic function with 1 method)"
      ]
     },
     "metadata": {},
     "output_type": "display_data"
    }
   ],
   "source": [
    "function trop_normalize(x)\n",
    "    return x .- first(x)\n",
    "end"
   ]
  },
  {
   "cell_type": "markdown",
   "id": "4241a9e1",
   "metadata": {},
   "source": [
    "# Polyhedral point location"
   ]
  },
  {
   "cell_type": "code",
   "execution_count": 3,
   "id": "0b715c1b",
   "metadata": {},
   "outputs": [
    {
     "data": {
      "text/plain": [
       "poly_dist"
      ]
     },
     "metadata": {},
     "output_type": "display_data"
    }
   ],
   "source": [
    "\"\"\"\n",
    "Calculate the polyhedral distance between two vectors.\n",
    "The rows of `alphas` are the facet normals scaled to α⋅x = 1.\n",
    "\"\"\"\n",
    "function poly_dist(vec1, vec2, alphas)\n",
    "    differences = alphas * (vec1 - vec2)\n",
    "    return maximum(differences)\n",
    "end"
   ]
  },
  {
   "cell_type": "code",
   "execution_count": 4,
   "id": "d82bc87b",
   "metadata": {},
   "outputs": [
    {
     "data": {
      "text/plain": [
       "sum_of_poly_dist"
      ]
     },
     "metadata": {},
     "output_type": "display_data"
    }
   ],
   "source": [
    "\"\"\"\n",
    "Calculate the sum of polyhedral distances between `ref` and the points in `sample`.\n",
    "The rows of `alphas` are the facet normals scaled to α⋅x = 1.\n",
    "`power` gives the exponent of the distance before taking the sum.\n",
    "\"\"\"\n",
    "function sum_of_poly_dist(ref, sample, alphas; power=1)\n",
    "    return sum([poly_dist(pt, ref, alphas)^power for pt in sample])\n",
    "end"
   ]
  },
  {
   "cell_type": "code",
   "execution_count": 5,
   "id": "378a9b82",
   "metadata": {},
   "outputs": [
    {
     "data": {
      "text/plain": [
       "poly_frechet_model (generic function with 1 method)"
      ]
     },
     "metadata": {},
     "output_type": "display_data"
    }
   ],
   "source": [
    "function poly_frechet_model(sample, alphas; power=2)\n",
    "    dim = length(sample[1])\n",
    "    \n",
    "    # Choose model depending on power\n",
    "    if power == 1\n",
    "        error(\"FW computation not yet implemeneted\")\n",
    "    elseif power == 2\n",
    "        model = Model(Clarabel.Optimizer)\n",
    "    else\n",
    "        model = Model(Ipopt.Optimizer)\n",
    "    end\n",
    "    \n",
    "    # suppress printing\n",
    "    set_silent(model)\n",
    "\n",
    "    @variable(model, x[1:dim])\n",
    "    @variable(model, t[1:length(sample)])\n",
    "\n",
    "    @objective(model, Min, sum(t))\n",
    "\n",
    "    for (p_idx, p) in enumerate(sample)\n",
    "        expressions = alphas * (x - p)\n",
    "        \n",
    "        for expr in expressions\n",
    "            @constraint(model, t[p_idx] >= (expr)^power)\n",
    "        end\n",
    "    end\n",
    "\n",
    "    return model, x\n",
    "end"
   ]
  },
  {
   "cell_type": "code",
   "execution_count": 6,
   "id": "2ba35da7",
   "metadata": {},
   "outputs": [
    {
     "data": {
      "text/plain": [
       "poly_frechet"
      ]
     },
     "metadata": {},
     "output_type": "display_data"
    }
   ],
   "source": [
    "\"\"\"\n",
    "Find one polyhedral Fréchet mean of a given sample.\n",
    "The rows of `alphas` are the facet normals scaled to α⋅x = 1.\n",
    "`power` gives the exponent of the distance before taking the sum.\n",
    "\"\"\"\n",
    "function poly_frechet(sample, alphas; power=2)\n",
    "    model, x = poly_frechet_model(sample, alphas, power=power)\n",
    "    \n",
    "    @debug \"\\nOptimising...\"\n",
    "    \n",
    "    optimize!(model)\n",
    "    minimiser = value.(x)\n",
    "    \n",
    "    return minimiser\n",
    "end"
   ]
  },
  {
   "cell_type": "code",
   "execution_count": 7,
   "id": "68904da6",
   "metadata": {},
   "outputs": [
    {
     "data": {
      "text/plain": [
       "poly_frechet_set (generic function with 2 methods)"
      ]
     },
     "metadata": {},
     "output_type": "display_data"
    }
   ],
   "source": [
    "\"\"\"\n",
    "Find the set of polyhedral Fréchet means of a given sample.\n",
    "The rows of `alphas` are the facet normals scaled to α⋅x = 1.\n",
    "`power` gives the exponent of the distance before taking the sum.\n",
    "`rep` is either \"vrep\" or \"hrep\" -- returning either vertices or halfspaces.\n",
    "\"\"\"\n",
    "function poly_frechet_set(::Type{T}, sample, alphas; power=2, rep=:polyhedron, tol=1e-3) where {T<:Polyhedra.Library}\n",
    "    dim = length(sample[1])\n",
    "    num_facets = size(alphas)[1]\n",
    "    \n",
    "    # Compute one Fréchet mean\n",
    "    one_mean = poly_frechet(sample, alphas, power=power)\n",
    "    \n",
    "    @debug \"Frechet mean found: $(one_mean)\"\n",
    "    \n",
    "    # Rationalise all coordinates\n",
    "    rat_alphas = rationalize.(alphas, tol=tol)\n",
    "    rat_sample = [rationalize.(pt, tol=tol) for pt in sample]\n",
    "    rat_mean = rationalize.(one_mean, tol=tol)\n",
    "    \n",
    "    distances = [poly_dist(rat_mean, pt, alphas) for pt in rat_sample]\n",
    "    \n",
    "    Amat = vcat(rat_alphas, -rat_alphas)\n",
    "    bval1 = Rational{Int64}[]\n",
    "    bval2 = Rational{Int64}[]\n",
    "    \n",
    "    # Discard redundant halfspacesprintln(\"Setting up constraints: $(round(progress/total * 100, digits=3))%   \\r\")\n",
    "    evals = rat_alphas * hcat([rat_mean - pt for pt in rat_sample]...)\n",
    "    for k in 1:length(rat_sample)\n",
    "        evals[:,k] .-= distances[k]\n",
    "    end\n",
    "    \n",
    "    progress = 0\n",
    "    total = num_facets\n",
    "    \n",
    "    for k = 1:num_facets\n",
    "        \n",
    "        greatest_nonpos = argmax([x > 0 ? -Inf : x for x in evals[k,:]])\n",
    "        push!(bval1, dot(rat_alphas[k,:], rat_sample[greatest_nonpos]) + \n",
    "            distances[greatest_nonpos])\n",
    "        \n",
    "        progress += 1\n",
    "        @debug \"Removing redundant half-spaces: $(round(progress/total * 100, digits=3))%   \\r\"    \n",
    "    end\n",
    "    \n",
    "    @debug \"\\nFinding defining facets...\"\n",
    "    \n",
    "    poly = polyhedron(hrep(rat_alphas, bval1), T(:exact))\n",
    "    removehredundancy!(poly)\n",
    "    \n",
    "    if rep == :hrep\n",
    "        @debug \"Finding facets...\"\n",
    "        return hrep(poly)\n",
    "    elseif rep == :vrep\n",
    "        @debug \"Finding vertices...\"\n",
    "        return vrep(poly)\n",
    "    else\n",
    "        @debug \"Defaulting to polyhedron.\"\n",
    "        return poly\n",
    "    end\n",
    "end\n",
    "\n",
    "poly_frechet_set(sample, alphas; power=2, rep=:polyhedron, tol=1e-3) = poly_frechet_set(CDDLib.Library, sample, alphas, power=power, rep=rep, tol=tol)"
   ]
  },
  {
   "cell_type": "markdown",
   "id": "252934fc",
   "metadata": {},
   "source": [
    "## Examples"
   ]
  },
  {
   "cell_type": "markdown",
   "id": "b10eada7",
   "metadata": {},
   "source": [
    "### Toy example: Fréchet mean for $L^\\infty$-norm in $\\mathbb{R}^2$"
   ]
  },
  {
   "cell_type": "code",
   "execution_count": 8,
   "id": "6d912cc2",
   "metadata": {},
   "outputs": [
    {
     "name": "stdout",
     "output_type": "stream",
     "text": [
      "Polyhedral distances from sample to [7, 10]: [10, 8]\n",
      "Sum of polyhedral distances: 18\n",
      "Sum of squared polyhedral distances: 164\n"
     ]
    }
   ],
   "source": [
    "### Facets for the L-infinity norm\n",
    "### Technically twice as long as strictly necessary\n",
    "Linf_facets = [ 1  0 ;\n",
    "               -1  0 ;\n",
    "                0  1 ;\n",
    "                0 -1 ]\n",
    "\n",
    "sample = [ [0, 0], \n",
    "           [2, 2] ]\n",
    "\n",
    "my_point = [7, 10]\n",
    "\n",
    "println(\"Polyhedral distances from sample to $(my_point): \", \n",
    "    [poly_dist(pt, my_point, Linf_facets) for pt in sample])\n",
    "\n",
    "println(\"Sum of polyhedral distances: \", \n",
    "    sum_of_poly_dist(my_point, sample, Linf_facets))\n",
    "\n",
    "println(\"Sum of squared polyhedral distances: \", \n",
    "    sum_of_poly_dist(my_point, sample, Linf_facets, power=2))\n"
   ]
  },
  {
   "cell_type": "code",
   "execution_count": 9,
   "id": "0b3dc5b9",
   "metadata": {},
   "outputs": [
    {
     "name": "stdout",
     "output_type": "stream",
     "text": [
      "poly_frechet(sample, Linf_facets) = [1.000052213466546, 1.000052213466426]\n"
     ]
    },
    {
     "ename": "InterruptException",
     "evalue": "InterruptException:",
     "output_type": "error",
     "traceback": [
      "InterruptException:\n",
      "\n",
      "Stacktrace:\n",
      "  [1] eval\n",
      "    @ ./boot.jl:385 [inlined]\n",
      "  [2] include_string(mapexpr::typeof(REPL.softscope), mod::Module, code::String, filename::String)\n",
      "    @ Base ./loading.jl:2139\n",
      "  [3] #invokelatest#2\n",
      "    @ ./essentials.jl:892 [inlined]\n",
      "  [4] invokelatest\n",
      "    @ ./essentials.jl:889 [inlined]\n",
      "  [5] (::VSCodeServer.var\"#217#218\"{VSCodeServer.NotebookRunCellArguments, String})()\n",
      "    @ VSCodeServer ~/.vscode/extensions/julialang.language-julia-1.127.2/scripts/packages/VSCodeServer/src/serve_notebook.jl:24\n",
      "  [6] withpath(f::VSCodeServer.var\"#217#218\"{VSCodeServer.NotebookRunCellArguments, String}, path::String)\n",
      "    @ VSCodeServer ~/.vscode/extensions/julialang.language-julia-1.127.2/scripts/packages/VSCodeServer/src/repl.jl:276\n",
      "  [7] notebook_runcell_request(conn::VSCodeServer.JSONRPC.JSONRPCEndpoint{Base.PipeEndpoint, Base.PipeEndpoint}, params::VSCodeServer.NotebookRunCellArguments)\n",
      "    @ VSCodeServer ~/.vscode/extensions/julialang.language-julia-1.127.2/scripts/packages/VSCodeServer/src/serve_notebook.jl:13\n",
      "  [8] dispatch_msg(x::VSCodeServer.JSONRPC.JSONRPCEndpoint{Base.PipeEndpoint, Base.PipeEndpoint}, dispatcher::VSCodeServer.JSONRPC.MsgDispatcher, msg::Dict{String, Any})\n",
      "    @ VSCodeServer.JSONRPC ~/.vscode/extensions/julialang.language-julia-1.127.2/scripts/packages/JSONRPC/src/typed.jl:67\n",
      "  [9] serve_notebook(pipename::String, debugger_pipename::String, outputchannel_logger::Base.CoreLogging.SimpleLogger; error_handler::var\"#5#10\"{String})\n",
      "    @ VSCodeServer ~/.vscode/extensions/julialang.language-julia-1.127.2/scripts/packages/VSCodeServer/src/serve_notebook.jl:147\n",
      " [10] top-level scope\n",
      "    @ ~/.vscode/extensions/julialang.language-julia-1.127.2/scripts/notebook/notebook.jl:35"
     ]
    }
   ],
   "source": [
    "@show poly_frechet(sample, Linf_facets)\n",
    "poly_frechet_set(sample, Linf_facets; tol=1e-3) |> vrep"
   ]
  },
  {
   "cell_type": "markdown",
   "id": "c540918f",
   "metadata": {},
   "source": [
    "### Manual tropical Fréchet mean in $\\mathbb{R}^3/\\mathbb{R}\\mathbf{1}$"
   ]
  },
  {
   "cell_type": "code",
   "execution_count": 10,
   "id": "91673b97",
   "metadata": {},
   "outputs": [
    {
     "name": "stdout",
     "output_type": "stream",
     "text": [
      "poly_frechet(sample2, Linf3_facets, power = 2) |> trop_normalize = [0.0, 1.9999999991413533, 1.0001319108600755]\n"
     ]
    },
    {
     "data": {
      "text/plain": [
       "Polyhedron CDDLib.Polyhedron{Rational{BigInt}}:\n",
       "2-element iterator of HyperPlane{Rational{BigInt}, Vector{Rational{BigInt}}}:\n",
       " HyperPlane(Rational{BigInt}[-1, 1, 0], 2//1)\n",
       " HyperPlane(Rational{BigInt}[1, 0, -1], -1//1)"
      ]
     },
     "metadata": {},
     "output_type": "display_data"
    }
   ],
   "source": [
    "Linf3_facets = [ -1   1  0;\n",
    "                  1  -1  0;\n",
    "                 -1   0  1;\n",
    "                  1   0 -1;\n",
    "                  0  -1  1;\n",
    "                  0   1 -1 ]\n",
    "\n",
    "sample2 = [ [0, 0, 0], \n",
    "            [0, 2, 4],\n",
    "            [0, 5, 1] ]\n",
    "\n",
    "@show poly_frechet(sample2, Linf3_facets, power=2) |> trop_normalize\n",
    "poly_frechet_set(sample2, Linf3_facets, rep=\"vrep\", tol=1e-3)"
   ]
  },
  {
   "cell_type": "markdown",
   "id": "cac2307f",
   "metadata": {},
   "source": [
    "# Tropical Frèchet means"
   ]
  },
  {
   "cell_type": "code",
   "execution_count": 11,
   "id": "cf8379a5",
   "metadata": {},
   "outputs": [
    {
     "data": {
      "text/plain": [
       "trop_facets"
      ]
     },
     "metadata": {},
     "output_type": "display_data"
    }
   ],
   "source": [
    "\"\"\"\n",
    "Find the relevant facet normals in n dimensions for a tropical ball\n",
    "\"\"\"\n",
    "function trop_facets(n::Int64)\n",
    "    result = zeros(Rational{Int64}, n * (n - 1), n)\n",
    "    k = 1\n",
    "    for i = 1:n\n",
    "        for j = 1:n\n",
    "            if i != j\n",
    "                result[k, i] = 1//1\n",
    "                result[k, j] = -1//1\n",
    "                k += 1\n",
    "            end\n",
    "        end\n",
    "    end\n",
    "    return result\n",
    "end"
   ]
  },
  {
   "cell_type": "code",
   "execution_count": 12,
   "id": "da07504e",
   "metadata": {},
   "outputs": [
    {
     "data": {
      "text/plain": [
       "trop_dist"
      ]
     },
     "metadata": {},
     "output_type": "display_data"
    }
   ],
   "source": [
    "\"\"\"\n",
    "Calculate the tropical distance between two vectors.\n",
    "\"\"\"\n",
    "function trop_dist(vec1, vec2)\n",
    "    return maximum(vec1 - vec2) - minimum(vec1 - vec2)\n",
    "end"
   ]
  },
  {
   "cell_type": "code",
   "execution_count": 13,
   "id": "a1b90ca3",
   "metadata": {},
   "outputs": [
    {
     "data": {
      "text/plain": [
       "sum_of_trop_dist"
      ]
     },
     "metadata": {},
     "output_type": "display_data"
    }
   ],
   "source": [
    "\"\"\"\n",
    "Calculate the sum of tropical distances between `ref` and the points in `sample`.\n",
    "\"\"\"\n",
    "function sum_of_trop_dist(ref, sample; power=1)\n",
    "    return sum([trop_dist(pt, ref)^power for pt in sample])\n",
    "end"
   ]
  },
  {
   "cell_type": "code",
   "execution_count": 14,
   "id": "c92af025",
   "metadata": {},
   "outputs": [
    {
     "data": {
      "text/plain": [
       "trop_frechet"
      ]
     },
     "metadata": {},
     "output_type": "display_data"
    }
   ],
   "source": [
    "\"\"\"\n",
    "Find one polyhedral Fréchet mean of a given sample.\n",
    "The rows of `alphas` are the facet normals scaled to α⋅x = 1.\n",
    "`power` gives the exponent of the distance before taking the sum.\n",
    "\"\"\"\n",
    "function trop_frechet(sample; power=2)\n",
    "    dim = length(sample[1])\n",
    "    alphas = trop_facets(dim)\n",
    "    return poly_frechet(sample, alphas, power=power)\n",
    "end"
   ]
  },
  {
   "cell_type": "code",
   "execution_count": 15,
   "id": "60da57ca",
   "metadata": {},
   "outputs": [
    {
     "data": {
      "text/plain": [
       "trop_frechet_set"
      ]
     },
     "metadata": {},
     "output_type": "display_data"
    }
   ],
   "source": [
    "\"\"\"\n",
    "Find one polyhedral Fréchet mean of a given sample.\n",
    "The rows of `alphas` are the facet normals scaled to α⋅x = 1.\n",
    "`power` gives the exponent of the distance before taking the sum.\n",
    "\"\"\"\n",
    "function trop_frechet_set(sample; power=2, rep=:polyhedron, tol=1e-3)\n",
    "    dim = length(sample[1])\n",
    "    alphas = trop_facets(dim)\n",
    "    return poly_frechet_set(sample, alphas, power=power, rep=rep, tol=tol)\n",
    "end"
   ]
  },
  {
   "cell_type": "markdown",
   "id": "25b33af5",
   "metadata": {},
   "source": [
    "## Examples\n",
    "### Toy example"
   ]
  },
  {
   "cell_type": "code",
   "execution_count": 16,
   "id": "9a7e42d9",
   "metadata": {},
   "outputs": [
    {
     "name": "stdout",
     "output_type": "stream",
     "text": [
      "Tropical distances: [8, 6]\n",
      "Sum of tropical distances: 14\n",
      "Sum of squared tropical distances: 100\n"
     ]
    }
   ],
   "source": [
    "sample = [[0,0,0], [0,4,1]]\n",
    "\n",
    "my_point = [7, 10, 2]\n",
    "\n",
    "println(\"Tropical distances: \", \n",
    "    [trop_dist(pt, my_point) for pt in sample])\n",
    "\n",
    "println(\"Sum of tropical distances: \", \n",
    "    sum_of_trop_dist(my_point, sample))\n",
    "\n",
    "println(\"Sum of squared tropical distances: \", \n",
    "    sum_of_trop_dist(my_point, sample, power=2))"
   ]
  },
  {
   "cell_type": "code",
   "execution_count": 17,
   "id": "49dc3793",
   "metadata": {},
   "outputs": [
    {
     "name": "stdout",
     "output_type": "stream",
     "text": [
      "num_FM = [0.0, 2.0000154234464373, 0.7004901999320469]\n"
     ]
    },
    {
     "data": {
      "text/plain": [
       "V-representation CDDGeneratorMatrix{Rational{BigInt}, GMPRational}:\n",
       "2-element iterator of Vector{Rational{BigInt}}:\n",
       " Rational{BigInt}[-1, 1, 0]\n",
       " Rational{BigInt}[0, 2, 0],\n",
       "1-element iterator of Line{Rational{BigInt}, Vector{Rational{BigInt}}}:\n",
       " Line(Rational{BigInt}[1, 1, 1])"
      ]
     },
     "metadata": {},
     "output_type": "display_data"
    }
   ],
   "source": [
    "num_FM = trop_frechet(sample) |> trop_normalize\n",
    "@show num_FM\n",
    "trop_frechet_set(sample, rep=:vrep, tol=1e-3)"
   ]
  },
  {
   "cell_type": "markdown",
   "id": "8b7bfcc6",
   "metadata": {},
   "source": [
    "### Example of Section 4.2. \"Exact Quadratic Optimization\""
   ]
  },
  {
   "cell_type": "code",
   "execution_count": 18,
   "id": "255b3261",
   "metadata": {},
   "outputs": [
    {
     "name": "stdout",
     "output_type": "stream",
     "text": [
      "num_FM = [0.0, -1.4387319974273893e-8, -1.0001294161599674]\n"
     ]
    },
    {
     "data": {
      "text/plain": [
       "V-representation CDDGeneratorMatrix{Rational{BigInt}, GMPRational}:\n",
       "1-element iterator of Vector{Rational{BigInt}}:\n",
       " Rational{BigInt}[1, 1, 0],\n",
       "1-element iterator of Line{Rational{BigInt}, Vector{Rational{BigInt}}}:\n",
       " Line(Rational{BigInt}[1, 1, 1])"
      ]
     },
     "metadata": {},
     "output_type": "display_data"
    }
   ],
   "source": [
    "sample = [[-3,0,0], [0,-6,0], [0,0,-12]]\n",
    "\n",
    "num_FM = trop_frechet(sample) |> trop_normalize\n",
    "@show num_FM\n",
    "trop_frechet_set(sample, rep=\"vrep\", tol=1e-3) |> vrep"
   ]
  },
  {
   "cell_type": "code",
   "execution_count": 19,
   "id": "a801a290",
   "metadata": {},
   "outputs": [
    {
     "data": {
      "text/plain": [
       "6×3 Matrix{Rational{Int64}}:\n",
       "  1  -1   0\n",
       "  1   0  -1\n",
       " -1   1   0\n",
       "  0   1  -1\n",
       " -1   0   1\n",
       "  0  -1   1"
      ]
     },
     "metadata": {},
     "output_type": "display_data"
    }
   ],
   "source": [
    "trop_facets(3)"
   ]
  },
  {
   "cell_type": "markdown",
   "id": "1c25a001",
   "metadata": {},
   "source": [
    "### Example 10 (Failure of Sturm's algorithm)"
   ]
  },
  {
   "cell_type": "code",
   "execution_count": 20,
   "id": "f9cbbadc",
   "metadata": {},
   "outputs": [
    {
     "name": "stdout",
     "output_type": "stream",
     "text": [
      "num_FM = [0.0, 1.9999999991422408, 1.0001320211409572]\n"
     ]
    },
    {
     "data": {
      "text/plain": [
       "Polyhedron CDDLib.Polyhedron{Rational{BigInt}}:\n",
       "2-element iterator of HyperPlane{Rational{BigInt}, Vector{Rational{BigInt}}}:\n",
       " HyperPlane(Rational{BigInt}[1, -1, 0], -2//1)\n",
       " HyperPlane(Rational{BigInt}[1, 0, -1], -1//1)"
      ]
     },
     "metadata": {},
     "output_type": "display_data"
    }
   ],
   "source": [
    "sample = [ [0, 0, 0], \n",
    "           [0, 2, 4],\n",
    "           [0, 5, 1] ]\n",
    "\n",
    "num_FM = trop_frechet(sample) |> trop_normalize\n",
    "@show num_FM\n",
    "trop_frechet_set(sample, rep=\"vrep\", tol=1e-3)"
   ]
  },
  {
   "cell_type": "code",
   "execution_count": 21,
   "id": "02207a6b",
   "metadata": {},
   "outputs": [
    {
     "data": {
      "text/plain": [
       "A JuMP Model\n",
       "├ solver: Clarabel\n",
       "├ objective_sense: MIN_SENSE\n",
       "│ └ objective_function_type: AffExpr\n",
       "├ num_variables: 6\n",
       "├ num_constraints: 18\n",
       "│ └ QuadExpr in MOI.GreaterThan{Float64}: 18\n",
       "└ Names registered in the model\n",
       "  └ :t, :x"
      ]
     },
     "metadata": {},
     "output_type": "display_data"
    },
    {
     "data": {
      "text/plain": [
       "18-element Vector{String}:\n",
       " \"-x[1]² + 2 x[2]*x[1] - x[2]² + t[1] ≥ 0\"\n",
       " \"-x[1]² + 2 x[3]*x[1] - x[3]² + t[1] ≥ 0\"\n",
       " \"-x[1]² + 2 x[2]*x[1] - x[2]² + t[1] ≥ 0\"\n",
       " \"-x[2]² + 2 x[3]*x[2] - x[3]² + t[1] ≥ 0\"\n",
       " \"-x[1]² + 2 x[3]*x[1] - x[3]² + t[1] ≥ 0\"\n",
       " \"-x[2]² + 2 x[3]*x[2] - x[3]² + t[1] ≥ 0\"\n",
       " \"-x[1]² + 2 x[2]*x[1] - x[2]² - 4 x[1] + 4 x[2] + t[2] ≥ 4\"\n",
       " \"-x[1]² + 2 x[3]*x[1] - x[3]² - 8 x[1] + 8 x[3] + t[2] ≥ 16\"\n",
       " \"-x[1]² + 2 x[2]*x[1] - x[2]² - 4 x[1] + 4 x[2] + t[2] ≥ 4\"\n",
       " \"-x[2]² + 2 x[3]*x[2] - x[3]² - 4 x[2] + 4 x[3] + t[2] ≥ 4\"\n",
       " \"-x[1]² + 2 x[3]*x[1] - x[3]² - 8 x[1] + 8 x[3] + t[2] ≥ 16\"\n",
       " \"-x[2]² + 2 x[3]*x[2] - x[3]² - 4 x[2] + 4 x[3] + t[2] ≥ 4\"\n",
       " \"-x[1]² + 2 x[2]*x[1] - x[2]² - 10 x[1] + 10 x[2] + t[3] ≥ 25\"\n",
       " \"-x[1]² + 2 x[3]*x[1] - x[3]² - 2 x[1] + 2 x[3] + t[3] ≥ 1\"\n",
       " \"-x[1]² + 2 x[2]*x[1] - x[2]² - 10 x[1] + 10 x[2] + t[3] ≥ 25\"\n",
       " \"-x[2]² + 2 x[3]*x[2] - x[3]² + 8 x[2] - 8 x[3] + t[3] ≥ 16\"\n",
       " \"-x[1]² + 2 x[3]*x[1] - x[3]² - 2 x[1] + 2 x[3] + t[3] ≥ 1\"\n",
       " \"-x[2]² + 2 x[3]*x[2] - x[3]² + 8 x[2] - 8 x[3] + t[3] ≥ 16\""
      ]
     },
     "metadata": {},
     "output_type": "display_data"
    }
   ],
   "source": [
    "model = poly_frechet_model(sample, trop_facets(3), power=2) |> first\n",
    "display(model)\n",
    "constraints_string(MIME(\"text/plain\"), model)"
   ]
  },
  {
   "cell_type": "markdown",
   "id": "8ae3c65f",
   "metadata": {},
   "source": [
    "### Figure 1"
   ]
  },
  {
   "cell_type": "code",
   "execution_count": 22,
   "id": "4a783720",
   "metadata": {},
   "outputs": [
    {
     "name": "stdout",
     "output_type": "stream",
     "text": [
      "trop_frechet(sample) |> trop_normalize = [0.0, 3.205087304018976, 3.2050203078168154]\n"
     ]
    },
    {
     "data": {
      "text/plain": [
       "Polyhedron CDDLib.Polyhedron{Rational{BigInt}}:\n",
       "1-element iterator of HyperPlane{Rational{BigInt}, Vector{Rational{BigInt}}}:\n",
       " HyperPlane(Rational{BigInt}[0, 1, -1], 0//1),\n",
       "2-element iterator of HalfSpace{Rational{BigInt}, Vector{Rational{BigInt}}}:\n",
       " HalfSpace(Rational{BigInt}[1, -1, 0], -3//1)\n",
       " HalfSpace(Rational{BigInt}[-1, 1, 0], 4//1)"
      ]
     },
     "metadata": {},
     "output_type": "display_data"
    }
   ],
   "source": [
    "sample = [ [0,  0, 8], \n",
    "           [0,  2, 4],\n",
    "           [0,  5, 3],\n",
    "           [0, 10, 2] ]\n",
    "\n",
    "@show trop_frechet(sample) |> trop_normalize\n",
    "P = trop_frechet_set(sample, tol=1e-3)"
   ]
  },
  {
   "cell_type": "code",
   "execution_count": 23,
   "id": "cf2d2db1",
   "metadata": {},
   "outputs": [
    {
     "name": "stdout",
     "output_type": "stream",
     "text": [
      "exact_FM = Rational{BigInt}[0, 3, 3]\n"
     ]
    },
    {
     "data": {
      "text/plain": [
       "4-element Vector{Rational{BigInt}}:\n",
       " 8\n",
       " 2\n",
       " 2\n",
       " 8"
      ]
     },
     "metadata": {},
     "output_type": "display_data"
    }
   ],
   "source": [
    "exact_FM = points(P) |> collect |> rand |> trop_normalize\n",
    "@show exact_FM\n",
    "trop_dist.(Ref(exact_FM), sample)"
   ]
  },
  {
   "cell_type": "markdown",
   "id": "42e2e827",
   "metadata": {},
   "source": [
    "### Random points in high dimensional space"
   ]
  },
  {
   "cell_type": "code",
   "execution_count": 24,
   "id": "0c5b3ff4",
   "metadata": {},
   "outputs": [
    {
     "data": {
      "text/plain": [
       "20-element Vector{Vector{Int64}}:\n",
       " [1, 5, 5, 20, 6, 14, 20, 13, 19, 1, 13, 4, 8, 8, 19, 6, 17, 13, 20, 4]\n",
       " [20, 15, 6, 1, 20, 8, 12, 19, 12, 11, 13, 12, 8, 18, 3, 16, 18, 7, 6, 18]\n",
       " [2, 9, 12, 10, 1, 17, 9, 6, 3, 17, 19, 13, 4, 1, 19, 9, 6, 5, 10, 10]\n",
       " [15, 14, 6, 3, 13, 16, 10, 9, 16, 15, 12, 1, 2, 4, 15, 12, 5, 4, 11, 17]\n",
       " [10, 3, 18, 11, 12, 17, 2, 9, 10, 1, 14, 9, 14, 9, 14, 20, 16, 9, 16, 13]\n",
       " [2, 11, 15, 3, 10, 20, 12, 11, 9, 11, 6, 2, 19, 10, 3, 9, 2, 10, 12, 14]\n",
       " [5, 12, 10, 9, 17, 1, 19, 17, 17, 4, 8, 16, 10, 14, 6, 14, 15, 8, 20, 17]\n",
       " [9, 6, 13, 1, 16, 19, 5, 7, 2, 1, 5, 1, 16, 11, 5, 20, 11, 12, 11, 8]\n",
       " [9, 7, 13, 18, 11, 17, 6, 7, 4, 7, 15, 8, 14, 12, 3, 2, 11, 14, 1, 6]\n",
       " [14, 2, 13, 7, 15, 14, 1, 9, 8, 15, 19, 15, 5, 4, 9, 15, 2, 3, 3, 2]\n",
       " [10, 6, 7, 12, 14, 14, 7, 16, 4, 19, 11, 14, 17, 6, 2, 11, 15, 7, 10, 13]\n",
       " [17, 13, 12, 7, 2, 12, 5, 14, 12, 11, 20, 16, 1, 1, 20, 7, 11, 19, 20, 1]\n",
       " [1, 13, 3, 17, 15, 8, 6, 2, 17, 13, 9, 1, 6, 3, 13, 5, 17, 3, 20, 14]\n",
       " [13, 15, 8, 4, 5, 12, 6, 6, 18, 6, 12, 20, 15, 18, 3, 18, 14, 12, 4, 17]\n",
       " [20, 11, 2, 13, 8, 2, 18, 1, 8, 7, 20, 8, 8, 19, 5, 3, 19, 1, 13, 8]\n",
       " [6, 12, 2, 14, 2, 11, 8, 13, 10, 18, 9, 3, 11, 7, 14, 6, 12, 19, 19, 17]\n",
       " [1, 15, 10, 5, 17, 5, 2, 18, 7, 13, 15, 1, 12, 11, 10, 8, 17, 18, 6, 19]\n",
       " [1, 2, 2, 13, 10, 7, 10, 4, 12, 5, 15, 14, 16, 19, 14, 13, 4, 5, 19, 4]\n",
       " [10, 3, 17, 8, 20, 19, 9, 7, 4, 11, 2, 15, 20, 14, 11, 12, 9, 11, 15, 10]\n",
       " [11, 15, 4, 4, 20, 19, 20, 10, 19, 6, 6, 2, 8, 2, 17, 3, 5, 4, 2, 6]"
      ]
     },
     "metadata": {},
     "output_type": "display_data"
    }
   ],
   "source": [
    "n = 20\n",
    "m = n\n",
    "\n",
    "rand_sample = [rand(1:20, n) for _ in 1:m]"
   ]
  },
  {
   "cell_type": "code",
   "execution_count": 25,
   "id": "1d862933",
   "metadata": {},
   "outputs": [
    {
     "name": "stdout",
     "output_type": "stream",
     "text": [
      "  0.369399 seconds (3.81 M allocations: 293.948 MiB, 11.76% gc time)\n"
     ]
    },
    {
     "data": {
      "text/plain": [
       "20-element Vector{Float64}:\n",
       "  0.0\n",
       "  0.5523435986748666\n",
       "  0.9999999976089882\n",
       "  0.7499998696921821\n",
       "  1.0000000026982683\n",
       "  1.99999999630856\n",
       "  0.9999999974340525\n",
       "  0.9999999931824561\n",
       "  1.3875358202138486\n",
       "  1.0530598615332565e-9\n",
       "  1.0001709066815536\n",
       " -9.417533419764368e-10\n",
       "  1.0000000022933833\n",
       "  1.0000000126270585\n",
       "  1.000000000144027\n",
       "  2.9999999966578237\n",
       " -4.244167683964406e-9\n",
       "  0.9999999996372964\n",
       "  1.9999999974126794\n",
       "  1.9999999855203576"
      ]
     },
     "metadata": {},
     "output_type": "display_data"
    }
   ],
   "source": [
    "@time trop_frechet(rand_sample) |> trop_normalize"
   ]
  },
  {
   "cell_type": "code",
   "execution_count": 26,
   "id": "f54259bf",
   "metadata": {},
   "outputs": [
    {
     "name": "stdout",
     "output_type": "stream",
     "text": [
      "  2.584861 seconds (13.15 M allocations: 384.377 MiB, 5.64% gc time)\n"
     ]
    },
    {
     "data": {
      "text/plain": [
       "Polyhedron CDDLib.Polyhedron{Rational{BigInt}}:\n",
       "17-element iterator of HyperPlane{Rational{BigInt}, Vector{Rational{BigInt}}}:\n",
       " HyperPlane(Rational{BigInt}[1, 0, 0, -1, 0, 0, 0, 0, 0, 0, 0, 0, 0, 0, 0, 0, 0, 0, 0, 0], -674//899)\n",
       " HyperPlane(Rational{BigInt}[1, 0, 0, 0, 0, -1, 0, 0, 0, 0, 0, 0, 0, 0, 0, 0, 0, 0, 0, 0], -2//1)\n",
       " HyperPlane(Rational{BigInt}[1, 0, 0, 0, 0, 0, 0, -1, 0, 0, 0, 0, 0, 0, 0, 0, 0, 0, 0, 0], -1//1)\n",
       " HyperPlane(Rational{BigInt}[1, 0, 0, 0, 0, 0, 0, 0, 0, 0, 0, 0, -1, 0, 0, 0, 0, 0, 0, 0], -1//1)\n",
       " HyperPlane(Rational{BigInt}[1, 0, 0, 0, 0, 0, 0, 0, 0, 0, 0, 0, 0, -1, 0, 0, 0, 0, 0, 0], -1//1)\n",
       " HyperPlane(Rational{BigInt}[1, 0, 0, 0, 0, 0, 0, 0, 0, 0, 0, 0, 0, 0, 0, 0, -1, 0, 0, 0], 0//1)\n",
       " HyperPlane(Rational{BigInt}[1, 0, 0, 0, 0, 0, 0, 0, 0, 0, 0, 0, 0, 0, 0, 0, 0, -1, 0, 0], -1//1)\n",
       " HyperPlane(Rational{BigInt}[1, 0, 0, 0, 0, 0, 0, 0, 0, 0, 0, 0, 0, 0, 0, 0, 0, 0, -1, 0], -2//1)\n",
       " HyperPlane(Rational{BigInt}[1, 0, 0, 0, 0, 0, 0, 0, 0, 0, 0, 0, 0, 0, 0, 0, 0, 0, 0, -1], -2//1)\n",
       " HyperPlane(Rational{BigInt}[0, 0, 1, 0, 0, 0, 0, 0, 0, -1, 0, 0, 0, 0, 0, 0, 0, 0, 0, 0], 1//1)\n",
       " HyperPlane(Rational{BigInt}[0, 0, 1, 0, 0, 0, 0, 0, 0, 0, 0, 0, 0, -1, 0, 0, 0, 0, 0, 0], 0//1)\n",
       " HyperPlane(Rational{BigInt}[0, 0, 0, 1, 0, 0, 0, 0, 0, 0, 0, 0, 0, 0, 0, -1, 0, 0, 0, 0], -2023//899)\n",
       " HyperPlane(Rational{BigInt}[0, 0, 0, 0, 1, 0, 0, 0, 0, -1, 0, 0, 0, 0, 0, 0, 0, 0, 0, 0], 1//1)\n",
       " HyperPlane(Rational{BigInt}[0, 0, 0, 0, 1, 0, 0, 0, 0, 0, -1, 0, 0, 0, 0, 0, 0, 0, 0, 0], 0//1)\n",
       " HyperPlane(Rational{BigInt}[0, 0, 0, 0, 1, 0, 0, 0, 0, 0, 0, 0, 0, 0, -1, 0, 0, 0, 0, 0], 0//1)\n",
       " HyperPlane(Rational{BigInt}[0, 0, 0, 0, 0, 1, -1, 0, 0, 0, 0, 0, 0, 0, 0, 0, 0, 0, 0, 0], 1//1)\n",
       " HyperPlane(Rational{BigInt}[-1, 0, 0, 0, 0, 0, 0, 0, 0, 0, 0, 1, 0, 0, 0, 0, 0, 0, 0, 0], 0//1),\n",
       "4-element iterator of HalfSpace{Rational{BigInt}, Vector{Rational{BigInt}}}:\n",
       " HalfSpace(Rational{BigInt}[0, 1, 0, 0, 0, 0, 0, 0, 0, 0, 0, 0, 0, -1, 0, 0, 0, 0, 0, 0], 0//1)\n",
       " HalfSpace(Rational{BigInt}[0, 0, 0, 0, 0, 0, 0, 0, 1, 0, 0, 0, 0, 0, 0, -1, 0, 0, 0, 0], -1124//899)\n",
       " HalfSpace(Rational{BigInt}[0, -1, 0, 0, 0, 0, 0, 0, 0, 0, 0, 0, 1, 0, 0, 0, 0, 0, 0, 0], 2//1)\n",
       " HalfSpace(Rational{BigInt}[0, 0, 0, 0, 0, 0, 0, 0, -1, 0, 0, 0, 1, 0, 0, 0, 0, 0, 0, 0], 0//1)"
      ]
     },
     "metadata": {},
     "output_type": "display_data"
    }
   ],
   "source": [
    "@time trop_frechet_set(rand_sample, rep=\"vrep\", tol=1e-3)"
   ]
  },
  {
   "cell_type": "markdown",
   "id": "541ecc26",
   "metadata": {},
   "source": [
    "### Big random sample in 3-space"
   ]
  },
  {
   "cell_type": "code",
   "execution_count": 27,
   "id": "96867a76",
   "metadata": {
    "scrolled": true
   },
   "outputs": [
    {
     "name": "stdout",
     "output_type": "stream",
     "text": [
      "[[5, 5, 9], [4, 6, 9]]\n",
      "2 sample points [0.0, 0.26262626262626265, 0.7373737373737373, 0.0]\n",
      "3 sample points [0.0, 0.6, 0.4, 0.0]\n",
      "4 sample points [0.0, 0.88, 0.12, 0.0]\n",
      "5 sample points [0.0, 0.93, 0.07, 0.0]\n",
      "6 sample points [0.0, 0.97, 0.03, 0.0]\n",
      "[[2, 4, 10], [3, 10, 2], [3, 2, 9], [1, 3, 3], [10, 6, 4], [6, 9, 1], [10, 9, 2]]\n",
      "[[2, 7, 1], [10, 3, 10], [9, 10, 10], [1, 2, 4], [5, 6, 7], [4, 6, 1], [6, 9, 10]]\n",
      "[[8, 9, 1], [8, 5, 10], [10, 3, 5], [9, 10, 9], [10, 7, 6], [7, 3, 7], [1, 1, 6]]\n",
      "7 sample points [0.0, 1.0, 0.0, 0.0]\n",
      "8 sample points [0.0, 1.0, 0.0, 0.0]\n",
      "9 sample points [0.0, 1.0, 0.0, 0.0]\n"
     ]
    }
   ],
   "source": [
    "n = 3\n",
    "\n",
    "Random.seed!(50)\n",
    "\n",
    "for m = 2:3n\n",
    "    dim_vec = zeros(Int64, n+1)\n",
    "    for _ = 1:100\n",
    "        rand_sample = [rand(1:10, n) for _ in 1:m]\n",
    "        try\n",
    "            my_frech = trop_frechet_set(rand_sample, rep=\"hrep\", tol=1e-3)\n",
    "            dim_vec[dim(my_frech) + 1] += 1\n",
    "        catch e\n",
    "            println(rand_sample)\n",
    "        end\n",
    "    end\n",
    "    println(m, \" sample points \", dim_vec / sum(dim_vec))\n",
    "end"
   ]
  },
  {
   "cell_type": "markdown",
   "id": "e025c747",
   "metadata": {},
   "source": [
    "## Application: Phylogenetic trees"
   ]
  },
  {
   "cell_type": "code",
   "execution_count": 28,
   "id": "a7341024",
   "metadata": {},
   "outputs": [
    {
     "data": {
      "text/plain": [
       "8-element Vector{String}:\n",
       " \"Tg\"\n",
       " \"Et\"\n",
       " \"Cp\"\n",
       " \"Ta\"\n",
       " \"Bb\"\n",
       " \"Tt\"\n",
       " \"Pv\"\n",
       " \"Pf\""
      ]
     },
     "metadata": {},
     "output_type": "display_data"
    }
   ],
   "source": [
    "using JSON3\n",
    "using DataFrames\n",
    "\n",
    "# Function to read the JSON file and convert to a list of matrices\n",
    "function read_and_convert_json(file_path::String)\n",
    "    # Read the JSON file\n",
    "    json_data = JSON3.read(file_path)\n",
    "    \n",
    "    # Extract elements from the nested arrays\n",
    "    elements = [x[1] for x in json_data]\n",
    "    elements = rationalize.(10000 * elements, tol=1e-2)\n",
    "    \n",
    "    # Convert elements into matrices\n",
    "    num_elements = length(elements)\n",
    "    matrices = []\n",
    "    \n",
    "    for i in 1:64:num_elements\n",
    "        # Get the next 64 elements\n",
    "        matrix_elements = elements[i:min(i+63, num_elements)]\n",
    "        \n",
    "        # Convert to an 8x8 matrix if there are 64 elements, otherwise create a smaller matrix\n",
    "        matrix_size = length(matrix_elements)\n",
    "        sqrt_size = Int(sqrt(matrix_size))\n",
    "        push!(matrices, reshape(matrix_elements, sqrt_size, sqrt_size))\n",
    "    end\n",
    "    \n",
    "    return matrices\n",
    "end\n",
    "\n",
    "# Read and convert the JSON file\n",
    "file_path = \"all_matrices.json\"\n",
    "matrices = read_and_convert_json(file_path)\n",
    "taxa = [\"Tg\", \"Et\", \"Cp\", \"Ta\", \"Bb\", \"Tt\", \"Pv\", \"Pf\"]"
   ]
  },
  {
   "cell_type": "code",
   "execution_count": 29,
   "id": "6917e852",
   "metadata": {},
   "outputs": [
    {
     "data": {
      "text/plain": [
       "cophenetic_from_distance"
      ]
     },
     "metadata": {},
     "output_type": "display_data"
    }
   ],
   "source": [
    "\"\"\"\n",
    "Take a matrix of pairwise distances between taxa and returns the cophenetic vector.\n",
    "\"\"\"\n",
    "function cophenetic_from_distance(pairwise)\n",
    "    n = size(pairwise, 1)\n",
    "    coph = [pairwise[i, j] for i in 1:n-1 for j in i+1:n]\n",
    "    return coph\n",
    "end"
   ]
  },
  {
   "cell_type": "code",
   "execution_count": 30,
   "id": "398c91c4",
   "metadata": {},
   "outputs": [
    {
     "data": {
      "text/plain": [
       "is_phylogenetic_tree"
      ]
     },
     "metadata": {},
     "output_type": "display_data"
    }
   ],
   "source": [
    "\"\"\"\n",
    "Check if a distance matrix defines a phylogenetic tree\n",
    "\"\"\"\n",
    "function is_phylogenetic_tree(D)\n",
    "    n = size(D, 1)\n",
    "    \n",
    "    # Check if the matrix is symmetric and non-negative\n",
    "    for i in 1:n\n",
    "        for j in i:n\n",
    "            if D[i, j] != D[j, i] || D[i, j] < 0\n",
    "                return false\n",
    "            end\n",
    "        end\n",
    "    end\n",
    "\n",
    "    # Check the four-point condition\n",
    "    for i in 1:n-3\n",
    "        for j in i+1:n-2\n",
    "            for k in j+1:n-1\n",
    "                for l in k+1:n\n",
    "                    # Calculate distances\n",
    "                    D_ij_kl = D[i, j] + D[k, l]\n",
    "                    D_ik_jl = D[i, k] + D[j, l]\n",
    "                    D_il_jk = D[i, l] + D[j, k]\n",
    "                    \n",
    "                    # Check the four-point condition\n",
    "                    if !(D_ij_kl >= D_ik_jl && D_ij_kl >= D_il_jk) &&\n",
    "                       !(D_ik_jl >= D_ij_kl && D_ik_jl >= D_il_jk) &&\n",
    "                       !(D_il_jk >= D_ij_kl && D_il_jk >= D_ik_jl)\n",
    "                        return false\n",
    "                    end\n",
    "                end\n",
    "            end\n",
    "        end\n",
    "    end\n",
    "    \n",
    "    return true\n",
    "end"
   ]
  },
  {
   "cell_type": "code",
   "execution_count": 31,
   "id": "9abc5825",
   "metadata": {},
   "outputs": [
    {
     "data": {
      "text/plain": [
       "is_ultrametric_tree"
      ]
     },
     "metadata": {},
     "output_type": "display_data"
    }
   ],
   "source": [
    "\"\"\"\n",
    "Check if a distance matrix defines an ultrametric tree\n",
    "\"\"\"\n",
    "function is_ultrametric_tree(D)\n",
    "    n = size(D, 1)\n",
    "    \n",
    "    # Check if the matrix is symmetric and non-negative\n",
    "    for i in 1:n\n",
    "        for j in i:n\n",
    "            if D[i, j] != D[j, i] || D[i, j] < 0\n",
    "                return false\n",
    "            end\n",
    "        end\n",
    "    end\n",
    "\n",
    "    # Check the ultrametric condition\n",
    "    for i in 1:n-2\n",
    "        for j in i+1:n-1\n",
    "            for k in j+1:n\n",
    "                # Calculate distances\n",
    "                Dij = D[i, j]\n",
    "                Dik = D[i, k]\n",
    "                Djk = D[j, k]\n",
    "                \n",
    "                # Check if the largest distance is attained at least twice\n",
    "                if !(Dij <= max(Dik, Djk) && Dik <= max(Dij, Djk) && Djk <= max(Dij, Dik))\n",
    "                    return false\n",
    "                end\n",
    "            end\n",
    "        end\n",
    "    end\n",
    "    \n",
    "    return true\n",
    "\n",
    "end"
   ]
  },
  {
   "cell_type": "code",
   "execution_count": 32,
   "id": "f2a47394",
   "metadata": {},
   "outputs": [
    {
     "name": "stdout",
     "output_type": "stream",
     "text": [
      "All phylogenetic: true\n",
      "All ultrametric: false\n"
     ]
    }
   ],
   "source": [
    "println(\"All phylogenetic: \", all([is_phylogenetic_tree(matrices[i]) for i = 1:268]))\n",
    "println(\"All ultrametric: \", all([is_ultrametric_tree(matrices[i]) for i = 1:268]))"
   ]
  },
  {
   "cell_type": "code",
   "execution_count": 35,
   "id": "e9a2a0ed",
   "metadata": {},
   "outputs": [
    {
     "ename": "InterruptException",
     "evalue": "InterruptException:",
     "output_type": "error",
     "traceback": [
      "InterruptException:\n",
      "\n",
      "Stacktrace:\n",
      "  [1] macro expansion\n",
      "    @ ~/.julia/packages/CDDLib/OpQiu/src/ccall.jl:13 [inlined]\n",
      "  [2] dd_matrixcanonicalize(matrix::Ptr{CDDLib.Cdd_MatrixData{GMPRational}})\n",
      "    @ CDDLib ~/.julia/packages/CDDLib/OpQiu/src/operations.jl:188\n",
      "  [3] canonicalize!(matrix::CDDInequalityMatrix{Rational{BigInt}, GMPRational})\n",
      "    @ CDDLib ~/.julia/packages/CDDLib/OpQiu/src/operations.jl:201\n",
      "  [4] removehredundancy!(p::CDDLib.Polyhedron{Rational{BigInt}}; kws::@Kwargs{})\n",
      "    @ CDDLib ~/.julia/packages/CDDLib/OpQiu/src/polyhedron.jl:234\n",
      "  [5] removehredundancy!(p::CDDLib.Polyhedron{Rational{BigInt}})\n",
      "    @ CDDLib ~/.julia/packages/CDDLib/OpQiu/src/polyhedron.jl:231\n",
      "  [6] poly_frechet_set(::Type{CDDLib.Library}, sample::Vector{Vector{Rational{Int64}}}, alphas::Matrix{Rational{Int64}}; power::Int64, rep::String, tol::Float64)\n",
      "    @ Main ~/Repos/TropicalFrechetMeans.jl/examples/jl_notebook_cell_df34fa98e69747e1a8f8a730347b8e2f_X10sZmlsZQ==.jl:49\n",
      "  [7] poly_frechet_set\n",
      "    @ ~/Repos/TropicalFrechetMeans.jl/examples/jl_notebook_cell_df34fa98e69747e1a8f8a730347b8e2f_X10sZmlsZQ==.jl:7 [inlined]\n",
      "  [8] poly_frechet_set\n",
      "    @ ~/Repos/TropicalFrechetMeans.jl/examples/jl_notebook_cell_df34fa98e69747e1a8f8a730347b8e2f_X10sZmlsZQ==.jl:63 [inlined]\n",
      "  [9] #trop_frechet_set#36\n",
      "    @ ~/Repos/TropicalFrechetMeans.jl/examples/jl_notebook_cell_df34fa98e69747e1a8f8a730347b8e2f_X25sZmlsZQ==.jl:9 [inlined]\n",
      " [10] eval\n",
      "    @ ./boot.jl:385 [inlined]\n",
      " [11] include_string(mapexpr::typeof(REPL.softscope), mod::Module, code::String, filename::String)\n",
      "    @ Base ./loading.jl:2139\n",
      " [12] #invokelatest#2\n",
      "    @ ./essentials.jl:892 [inlined]\n",
      " [13] invokelatest\n",
      "    @ ./essentials.jl:889 [inlined]\n",
      " [14] (::VSCodeServer.var\"#217#218\"{VSCodeServer.NotebookRunCellArguments, String})()\n",
      "    @ VSCodeServer ~/.vscode/extensions/julialang.language-julia-1.127.2/scripts/packages/VSCodeServer/src/serve_notebook.jl:24\n",
      " [15] withpath(f::VSCodeServer.var\"#217#218\"{VSCodeServer.NotebookRunCellArguments, String}, path::String)\n",
      "    @ VSCodeServer ~/.vscode/extensions/julialang.language-julia-1.127.2/scripts/packages/VSCodeServer/src/repl.jl:276\n",
      " [16] notebook_runcell_request(conn::VSCodeServer.JSONRPC.JSONRPCEndpoint{Base.PipeEndpoint, Base.PipeEndpoint}, params::VSCodeServer.NotebookRunCellArguments)\n",
      "    @ VSCodeServer ~/.vscode/extensions/julialang.language-julia-1.127.2/scripts/packages/VSCodeServer/src/serve_notebook.jl:13\n",
      " [17] dispatch_msg(x::VSCodeServer.JSONRPC.JSONRPCEndpoint{Base.PipeEndpoint, Base.PipeEndpoint}, dispatcher::VSCodeServer.JSONRPC.MsgDispatcher, msg::Dict{String, Any})\n",
      "    @ VSCodeServer.JSONRPC ~/.vscode/extensions/julialang.language-julia-1.127.2/scripts/packages/JSONRPC/src/typed.jl:67\n",
      " [18] serve_notebook(pipename::String, debugger_pipename::String, outputchannel_logger::Base.CoreLogging.SimpleLogger; error_handler::var\"#5#10\"{String})\n",
      "    @ VSCodeServer ~/.vscode/extensions/julialang.language-julia-1.127.2/scripts/packages/VSCodeServer/src/serve_notebook.jl:147\n",
      " [19] top-level scope\n",
      "    @ ~/.vscode/extensions/julialang.language-julia-1.127.2/scripts/notebook/notebook.jl:35"
     ]
    }
   ],
   "source": [
    "coph_vecs = [cophenetic_from_distance(mat) for mat in matrices]\n",
    "phylo_frech = trop_frechet_set(coph_vecs, rep=\"hrep\")"
   ]
  },
  {
   "cell_type": "code",
   "execution_count": null,
   "id": "9c970dd4",
   "metadata": {},
   "outputs": [],
   "source": [
    "vrep(phylo_frech)"
   ]
  },
  {
   "cell_type": "code",
   "execution_count": 34,
   "id": "84b1a5f4",
   "metadata": {},
   "outputs": [
    {
     "name": "stdout",
     "output_type": "stream",
     "text": [
      "  6.946808 seconds (79.28 M allocations: 5.832 GiB, 11.30% gc time, 0.04% compilation time)\n"
     ]
    },
    {
     "data": {
      "text/plain": [
       "28-element Vector{Float64}:\n",
       " -0.0076861671948035\n",
       " -0.00768606923026732\n",
       " -0.007686279028993909\n",
       " -0.007686061716270971\n",
       " -0.007686216799891854\n",
       " -0.0076861889394709984\n",
       " -0.007686027372466219\n",
       " -0.007686054728709499\n",
       " -0.0076862927980135744\n",
       " -0.007686092103339983\n",
       "  ⋮\n",
       " -0.007701168321674087\n",
       " -0.007687357882420762\n",
       " -0.007686128126366775\n",
       " -0.007686499659441921\n",
       " -0.007686313938359478\n",
       " -0.007686038674918775\n",
       " -0.007687437677703947\n",
       " -0.007686452817458049\n",
       " -0.007686530141153633"
      ]
     },
     "metadata": {},
     "output_type": "display_data"
    }
   ],
   "source": [
    "@time trop_frechet(coph_vecs)"
   ]
  },
  {
   "cell_type": "code",
   "execution_count": 35,
   "id": "7c50e980",
   "metadata": {},
   "outputs": [
    {
     "data": {
      "text/plain": [
       "268"
      ]
     },
     "metadata": {},
     "output_type": "display_data"
    }
   ],
   "source": [
    "length(coph_vecs)"
   ]
  },
  {
   "cell_type": "code",
   "execution_count": 36,
   "id": "b7d614aa",
   "metadata": {},
   "outputs": [
    {
     "data": {
      "text/plain": [
       "24"
      ]
     },
     "metadata": {},
     "output_type": "display_data"
    }
   ],
   "source": [
    "dim(phylo_frech)"
   ]
  },
  {
   "cell_type": "code",
   "execution_count": 37,
   "id": "d9f368bc",
   "metadata": {},
   "outputs": [
    {
     "name": "stdout",
     "output_type": "stream",
     "text": [
      "m = 2; n = 3 done!\n",
      "m = 3; n = 3 done!\n",
      "m = 4; n = 3 done!\n",
      "m = 5; n = 3 done!\n",
      "m = 6; n = 3 done!\n",
      "m = 7; n = 3 done!\n",
      "m = 8; n = 3 done!\n",
      "m = 9; n = 3 done!\n",
      "m = 10; n = 3 done!\n",
      "m = 11; n = 3 done!\n",
      "m = 12; n = 3 done!\n",
      "m = 13; n = 3 done!\n",
      "m = 14; n = 3 done!\n",
      "m = 15; n = 3 done!\n",
      "m = 16; n = 3 done!\n",
      "m = 17; n = 3 done!\n",
      "m = 18; n = 3 done!\n",
      "m = 19; n = 3 done!\n",
      "m = 20; n = 3 done!\n",
      "m = 21; n = 3 done!\n",
      "m = 22; n = 3 done!\n",
      "m = 23; n = 3 done!\n",
      "m = 24; n = 3 done!\n",
      "m = 25; n = 3 done!\n",
      "m = 26; n = 3 done!\n",
      "m = 27; n = 3 done!\n",
      "m = 28; n = 3 done!\n",
      "m = 29; n = 3 done!\n",
      "m = 30; n = 3 done!\n",
      "m = 31; n = 3 done!\n",
      "m = 32; n = 3 done!\n",
      "m = 33; n = 3 done!\n",
      "m = 34; n = 3 done!\n",
      "m = 35; n = 3 done!\n",
      "m = 36; n = 3 done!\n",
      "m = 37; n = 3 done!\n",
      "m = 38; n = 3 done!\n",
      "m = 39; n = 3 done!\n",
      "m = 40; n = 3 done!\n",
      "m = 41; n = 3 done!\n",
      "m = 42; n = 3 done!\n",
      "m = 43; n = 3 done!\n",
      "m = 44; n = 3 done!\n",
      "m = 45; n = 3 done!\n",
      "m = 46; n = 3 done!\n",
      "m = 47; n = 3 done!\n",
      "m = 48; n = 3 done!\n",
      "m = 49; n = 3 done!\n",
      "m = 50; n = 3 done!\n",
      "m = 51; n = 3 done!\n",
      "m = 52; n = 3 done!\n",
      "m = 53; n = 3 done!\n",
      "m = 54; n = 3 done!\n",
      "m = 55; n = 3 done!\n",
      "m = 56; n = 3 done!\n",
      "m = 57; n = 3 done!\n",
      "m = 58; n = 3 done!\n",
      "m = 59; n = 3 done!\n",
      "m = 60; n = 3 done!\n",
      "m = 61; n = 3 done!\n",
      "m = 62; n = 3 done!\n",
      "m = 63; n = 3 done!\n",
      "m = 64; n = 3 done!\n",
      "m = 65; n = 3 done!\n",
      "m = 66; n = 3 done!\n",
      "m = 67; n = 3 done!\n",
      "m = 68; n = 3 done!\n",
      "m = 69; n = 3 done!\n",
      "m = 70; n = 3 done!\n",
      "m = 71; n = 3 done!\n",
      "m = 72; n = 3 done!\n",
      "m = 73; n = 3 done!\n",
      "m = 74; n = 3 done!\n",
      "m = 75; n = 3 done!\n",
      "m = 76; n = 3 done!\n",
      "m = 77; n = 3 done!\n",
      "m = 78; n = 3 done!\n",
      "m = 79; n = 3 done!\n",
      "m = 80; n = 3 done!\n",
      "m = 81; n = 3 done!\n",
      "m = 82; n = 3 done!\n",
      "m = 83; n = 3 done!\n",
      "m = 84; n = 3 done!\n",
      "m = 85; n = 3 done!\n",
      "m = 86; n = 3 done!\n",
      "m = 87; n = 3 done!\n",
      "m = 88; n = 3 done!\n",
      "m = 89; n = 3 done!\n",
      "m = 90; n = 3 done!\n",
      "m = 91; n = 3 done!\n",
      "m = 92; n = 3 done!\n",
      "m = 93; n = 3 done!\n",
      "m = 94; n = 3 done!\n",
      "m = 95; n = 3 done!\n",
      "m = 96; n = 3 done!\n",
      "m = 97; n = 3 done!\n",
      "m = 98; n = 3 done!\n",
      "m = 99; n = 3 done!\n",
      "m = 100; n = 3 done!\n",
      "m = 2; n = 4 done!\n",
      "m = 3; n = 4 done!\n",
      "m = 4; n = 4 done!\n",
      "m = 5; n = 4 done!\n",
      "m = 6; n = 4 done!\n",
      "m = 7; n = 4 done!\n",
      "m = 8; n = 4 done!\n",
      "m = 9; n = 4 done!\n",
      "m = 10; n = 4 done!\n",
      "m = 11; n = 4 done!\n",
      "m = 12; n = 4 done!\n",
      "m = 13; n = 4 done!\n",
      "m = 14; n = 4 done!\n",
      "m = 15; n = 4 done!\n",
      "m = 16; n = 4 done!\n",
      "m = 17; n = 4 done!\n",
      "m = 18; n = 4 done!\n",
      "m = 19; n = 4 done!\n",
      "m = 20; n = 4 done!\n",
      "m = 21; n = 4 done!\n",
      "m = 22; n = 4 done!\n",
      "m = 23; n = 4 done!\n",
      "m = 24; n = 4 done!\n",
      "m = 25; n = 4 done!\n",
      "m = 26; n = 4 done!\n",
      "m = 27; n = 4 done!\n",
      "m = 28; n = 4 done!\n",
      "m = 29; n = 4 done!\n",
      "m = 30; n = 4 done!\n",
      "m = 31; n = 4 done!\n",
      "m = 32; n = 4 done!\n",
      "m = 33; n = 4 done!\n",
      "m = 34; n = 4 done!\n",
      "m = 35; n = 4 done!\n",
      "m = 36; n = 4 done!\n",
      "m = 37; n = 4 done!\n",
      "m = 38; n = 4 done!\n",
      "m = 39; n = 4 done!\n",
      "m = 40; n = 4 done!\n",
      "m = 41; n = 4 done!\n",
      "m = 42; n = 4 done!\n",
      "m = 43; n = 4 done!\n",
      "m = 44; n = 4 done!\n",
      "m = 45; n = 4 done!\n",
      "m = 46; n = 4 done!\n",
      "m = 47; n = 4 done!\n",
      "m = 48; n = 4 done!\n",
      "m = 49; n = 4 done!\n",
      "m = 50; n = 4 done!\n",
      "m = 51; n = 4 done!\n",
      "m = 52; n = 4 done!\n",
      "m = 53; n = 4 done!\n",
      "m = 54; n = 4 done!\n",
      "m = 55; n = 4 done!\n",
      "m = 56; n = 4 done!\n",
      "m = 57; n = 4 done!\n",
      "m = 58; n = 4 done!\n",
      "m = 59; n = 4 done!\n",
      "m = 60; n = 4 done!\n",
      "m = 61; n = 4 done!\n",
      "m = 62; n = 4 done!\n",
      "m = 63; n = 4 done!\n",
      "m = 64; n = 4 done!\n",
      "m = 65; n = 4 done!\n",
      "m = 66; n = 4 done!\n",
      "m = 67; n = 4 done!\n",
      "m = 68; n = 4 done!\n",
      "m = 69; n = 4 done!\n",
      "m = 70; n = 4 done!\n",
      "m = 71; n = 4 done!\n",
      "m = 72; n = 4 done!\n",
      "m = 73; n = 4 done!\n",
      "m = 74; n = 4 done!\n",
      "m = 75; n = 4 done!\n",
      "m = 76; n = 4 done!\n",
      "m = 77; n = 4 done!\n",
      "m = 78; n = 4 done!\n",
      "m = 79; n = 4 done!\n",
      "m = 80; n = 4 done!\n",
      "m = 81; n = 4 done!\n",
      "m = 82; n = 4 done!\n",
      "m = 83; n = 4 done!\n",
      "m = 84; n = 4 done!\n",
      "m = 85; n = 4 done!\n",
      "m = 86; n = 4 done!\n",
      "m = 87; n = 4 done!\n",
      "m = 88; n = 4 done!\n",
      "m = 89; n = 4 done!\n",
      "m = 90; n = 4 done!\n",
      "m = 91; n = 4 done!\n",
      "m = 92; n = 4 done!\n",
      "m = 93; n = 4 done!\n",
      "m = 94; n = 4 done!\n",
      "m = 95; n = 4 done!\n",
      "m = 96; n = 4 done!\n",
      "m = 97; n = 4 done!\n",
      "m = 98; n = 4 done!\n",
      "m = 99; n = 4 done!\n",
      "m = 100; n = 4 done!\n",
      "m = 2; n = 5 done!\n",
      "m = 3; n = 5 done!\n",
      "m = 4; n = 5 done!\n",
      "m = 5; n = 5 done!\n",
      "m = 6; n = 5 done!\n",
      "m = 7; n = 5 done!\n",
      "m = 8; n = 5 done!\n",
      "m = 9; n = 5 done!\n",
      "m = 10; n = 5 done!\n",
      "m = 11; n = 5 done!\n",
      "m = 12; n = 5 done!\n",
      "m = 13; n = 5 done!\n",
      "m = 14; n = 5 done!\n",
      "m = 15; n = 5 done!\n",
      "m = 16; n = 5 done!\n",
      "m = 17; n = 5 done!\n",
      "m = 18; n = 5 done!\n",
      "m = 19; n = 5 done!\n",
      "m = 20; n = 5 done!\n",
      "m = 21; n = 5 done!\n",
      "m = 22; n = 5 done!\n",
      "m = 23; n = 5 done!\n",
      "m = 24; n = 5 done!\n",
      "m = 25; n = 5 done!\n",
      "m = 26; n = 5 done!\n",
      "m = 27; n = 5 done!\n",
      "m = 28; n = 5 done!\n",
      "m = 29; n = 5 done!\n",
      "m = 30; n = 5 done!\n",
      "m = 31; n = 5 done!\n",
      "m = 32; n = 5 done!\n",
      "m = 33; n = 5 done!\n",
      "m = 34; n = 5 done!\n",
      "m = 35; n = 5 done!\n",
      "m = 36; n = 5 done!\n",
      "m = 37; n = 5 done!\n",
      "m = 38; n = 5 done!\n",
      "m = 39; n = 5 done!\n",
      "m = 40; n = 5 done!\n",
      "m = 41; n = 5 done!\n",
      "m = 42; n = 5 done!\n",
      "m = 43; n = 5 done!\n",
      "m = 44; n = 5 done!\n",
      "m = 45; n = 5 done!\n",
      "m = 46; n = 5 done!\n",
      "m = 47; n = 5 done!\n",
      "m = 48; n = 5 done!\n",
      "m = 49; n = 5 done!\n",
      "m = 50; n = 5 done!\n",
      "m = 51; n = 5 done!\n",
      "m = 52; n = 5 done!\n",
      "m = 53; n = 5 done!\n",
      "m = 54; n = 5 done!\n",
      "m = 55; n = 5 done!\n",
      "m = 56; n = 5 done!\n",
      "m = 57; n = 5 done!\n",
      "m = 58; n = 5 done!\n",
      "m = 59; n = 5 done!\n",
      "m = 60; n = 5 done!\n",
      "m = 61; n = 5 done!\n",
      "m = 62; n = 5 done!\n",
      "m = 63; n = 5 done!\n",
      "m = 64; n = 5 done!\n",
      "m = 65; n = 5 done!\n",
      "m = 66; n = 5 done!\n",
      "m = 67; n = 5 done!\n",
      "m = 68; n = 5 done!\n",
      "m = 69; n = 5 done!\n",
      "m = 70; n = 5 done!\n",
      "m = 71; n = 5 done!\n",
      "m = 72; n = 5 done!\n",
      "m = 73; n = 5 done!\n",
      "m = 74; n = 5 done!\n",
      "m = 75; n = 5 done!\n",
      "m = 76; n = 5 done!\n",
      "m = 77; n = 5 done!\n",
      "m = 78; n = 5 done!\n",
      "m = 79; n = 5 done!\n",
      "m = 80; n = 5 done!\n",
      "m = 81; n = 5 done!\n",
      "m = 82; n = 5 done!\n",
      "m = 83; n = 5 done!\n",
      "m = 84; n = 5 done!\n",
      "m = 85; n = 5 done!\n",
      "m = 86; n = 5 done!\n",
      "m = 87; n = 5 done!\n",
      "m = 88; n = 5 done!\n",
      "m = 89; n = 5 done!\n",
      "m = 90; n = 5 done!\n",
      "m = 91; n = 5 done!\n",
      "m = 92; n = 5 done!\n",
      "m = 93; n = 5 done!\n",
      "m = 94; n = 5 done!\n",
      "m = 95; n = 5 done!\n",
      "m = 96; n = 5 done!\n",
      "m = 97; n = 5 done!\n",
      "m = 98; n = 5 done!\n",
      "m = 99; n = 5 done!\n",
      "m = 100; n = 5 done!\n",
      "m = 2; n = 6 done!\n",
      "m = 3; n = 6 done!\n",
      "m = 4; n = 6 done!\n",
      "m = 5; n = 6 done!\n",
      "m = 6; n = 6 done!\n",
      "m = 7; n = 6 done!\n",
      "m = 8; n = 6 done!\n",
      "m = 9; n = 6 done!\n",
      "m = 10; n = 6 done!\n",
      "m = 11; n = 6 done!\n",
      "m = 12; n = 6 done!\n",
      "m = 13; n = 6 done!\n",
      "m = 14; n = 6 done!\n",
      "m = 15; n = 6 done!\n",
      "m = 16; n = 6 done!\n",
      "m = 17; n = 6 done!\n",
      "m = 18; n = 6 done!\n",
      "m = 19; n = 6 done!\n",
      "m = 20; n = 6 done!\n",
      "m = 21; n = 6 done!\n",
      "m = 22; n = 6 done!\n",
      "m = 23; n = 6 done!\n",
      "m = 24; n = 6 done!\n",
      "m = 25; n = 6 done!\n",
      "m = 26; n = 6 done!\n",
      "m = 27; n = 6 done!\n",
      "m = 28; n = 6 done!\n",
      "m = 29; n = 6 done!\n",
      "m = 30; n = 6 done!\n",
      "m = 31; n = 6 done!\n",
      "m = 32; n = 6 done!\n",
      "m = 33; n = 6 done!\n",
      "m = 34; n = 6 done!\n",
      "m = 35; n = 6 done!\n",
      "m = 36; n = 6 done!\n",
      "m = 37; n = 6 done!\n",
      "m = 38; n = 6 done!\n",
      "m = 39; n = 6 done!\n",
      "m = 40; n = 6 done!\n",
      "m = 41; n = 6 done!\n",
      "m = 42; n = 6 done!\n",
      "m = 43; n = 6 done!\n",
      "m = 44; n = 6 done!\n",
      "m = 45; n = 6 done!\n",
      "m = 46; n = 6 done!\n",
      "m = 47; n = 6 done!\n",
      "m = 48; n = 6 done!\n",
      "m = 49; n = 6 done!\n",
      "m = 50; n = 6 done!\n",
      "m = 51; n = 6 done!\n",
      "m = 52; n = 6 done!\n",
      "m = 53; n = 6 done!\n",
      "m = 54; n = 6 done!\n",
      "m = 55; n = 6 done!\n",
      "m = 56; n = 6 done!\n",
      "m = 57; n = 6 done!\n",
      "m = 58; n = 6 done!\n",
      "m = 59; n = 6 done!\n",
      "m = 60; n = 6 done!\n",
      "m = 61; n = 6 done!\n",
      "m = 62; n = 6 done!\n",
      "m = 63; n = 6 done!\n",
      "m = 64; n = 6 done!\n",
      "m = 65; n = 6 done!\n",
      "m = 66; n = 6 done!\n",
      "m = 67; n = 6 done!\n",
      "m = 68; n = 6 done!\n",
      "m = 69; n = 6 done!\n",
      "m = 70; n = 6 done!\n",
      "m = 71; n = 6 done!\n",
      "m = 72; n = 6 done!\n",
      "m = 73; n = 6 done!\n",
      "m = 74; n = 6 done!\n",
      "m = 75; n = 6 done!\n",
      "m = 76; n = 6 done!\n",
      "m = 77; n = 6 done!\n",
      "m = 78; n = 6 done!\n",
      "m = 79; n = 6 done!\n",
      "m = 80; n = 6 done!\n",
      "m = 81; n = 6 done!\n",
      "m = 82; n = 6 done!\n",
      "m = 83; n = 6 done!\n",
      "m = 84; n = 6 done!\n",
      "m = 85; n = 6 done!\n",
      "m = 86; n = 6 done!\n",
      "m = 87; n = 6 done!\n",
      "m = 88; n = 6 done!\n",
      "m = 89; n = 6 done!\n",
      "m = 90; n = 6 done!\n",
      "m = 91; n = 6 done!\n",
      "m = 92; n = 6 done!\n",
      "m = 93; n = 6 done!\n",
      "m = 94; n = 6 done!\n",
      "m = 95; n = 6 done!\n",
      "m = 96; n = 6 done!\n",
      "m = 97; n = 6 done!\n",
      "m = 98; n = 6 done!\n",
      "m = 99; n = 6 done!\n",
      "m = 100; n = 6 done!\n",
      "m = 2; n = 7 done!\n",
      "m = 3; n = 7 done!\n",
      "m = 4; n = 7 done!\n",
      "m = 5; n = 7 done!\n",
      "m = 6; n = 7 done!\n",
      "m = 7; n = 7 done!\n",
      "m = 8; n = 7 done!\n",
      "m = 9; n = 7 done!\n",
      "m = 10; n = 7 done!\n",
      "m = 11; n = 7 done!\n",
      "m = 12; n = 7 done!\n",
      "m = 13; n = 7 done!\n",
      "m = 14; n = 7 done!\n",
      "m = 15; n = 7 done!\n",
      "m = 16; n = 7 done!\n",
      "m = 17; n = 7 done!\n",
      "m = 18; n = 7 done!\n",
      "m = 19; n = 7 done!\n",
      "m = 20; n = 7 done!\n",
      "m = 21; n = 7 done!\n",
      "m = 22; n = 7 done!\n",
      "m = 23; n = 7 done!\n",
      "m = 24; n = 7 done!\n",
      "m = 25; n = 7 done!\n",
      "m = 26; n = 7 done!\n",
      "m = 27; n = 7 done!\n",
      "m = 28; n = 7 done!\n",
      "m = 29; n = 7 done!\n",
      "m = 30; n = 7 done!\n",
      "m = 31; n = 7 done!\n",
      "m = 32; n = 7 done!\n",
      "m = 33; n = 7 done!\n",
      "m = 34; n = 7 done!\n",
      "m = 35; n = 7 done!\n",
      "m = 36; n = 7 done!\n",
      "m = 37; n = 7 done!\n",
      "m = 38; n = 7 done!\n",
      "m = 39; n = 7 done!\n",
      "m = 40; n = 7 done!\n",
      "m = 41; n = 7 done!\n",
      "m = 42; n = 7 done!\n",
      "m = 43; n = 7 done!\n",
      "m = 44; n = 7 done!\n",
      "m = 45; n = 7 done!\n",
      "m = 46; n = 7 done!\n",
      "m = 47; n = 7 done!\n",
      "m = 48; n = 7 done!\n",
      "m = 49; n = 7 done!\n",
      "m = 50; n = 7 done!\n",
      "m = 51; n = 7 done!\n",
      "m = 52; n = 7 done!\n",
      "m = 53; n = 7 done!\n",
      "m = 54; n = 7 done!\n",
      "m = 55; n = 7 done!\n",
      "m = 56; n = 7 done!\n",
      "m = 57; n = 7 done!\n",
      "m = 58; n = 7 done!\n",
      "m = 59; n = 7 done!\n",
      "m = 60; n = 7 done!\n",
      "m = 61; n = 7 done!\n",
      "m = 62; n = 7 done!\n",
      "m = 63; n = 7 done!\n",
      "m = 64; n = 7 done!\n",
      "m = 65; n = 7 done!\n",
      "m = 66; n = 7 done!\n",
      "m = 67; n = 7 done!\n",
      "m = 68; n = 7 done!\n",
      "m = 69; n = 7 done!\n",
      "m = 70; n = 7 done!\n",
      "m = 71; n = 7 done!\n",
      "m = 72; n = 7 done!\n",
      "m = 73; n = 7 done!\n",
      "m = 74; n = 7 done!\n",
      "m = 75; n = 7 done!\n",
      "m = 76; n = 7 done!\n",
      "m = 77; n = 7 done!\n",
      "m = 78; n = 7 done!\n",
      "m = 79; n = 7 done!\n",
      "m = 80; n = 7 done!\n",
      "m = 81; n = 7 done!\n",
      "m = 82; n = 7 done!\n",
      "m = 83; n = 7 done!\n",
      "m = 84; n = 7 done!\n",
      "m = 85; n = 7 done!\n",
      "m = 86; n = 7 done!\n",
      "m = 87; n = 7 done!\n",
      "m = 88; n = 7 done!\n",
      "m = 89; n = 7 done!\n",
      "m = 90; n = 7 done!\n",
      "m = 91; n = 7 done!\n",
      "m = 92; n = 7 done!\n",
      "m = 93; n = 7 done!\n",
      "m = 94; n = 7 done!\n",
      "m = 95; n = 7 done!\n",
      "m = 96; n = 7 done!\n",
      "m = 97; n = 7 done!\n",
      "m = 98; n = 7 done!\n",
      "m = 99; n = 7 done!\n",
      "m = 100; n = 7 done!\n",
      "m = 2; n = 8 done!\n",
      "m = 3; n = 8 done!\n",
      "m = 4; n = 8 done!\n",
      "m = 5; n = 8 done!\n",
      "m = 6; n = 8 done!\n",
      "m = 7; n = 8 done!\n",
      "m = 8; n = 8 done!\n",
      "m = 9; n = 8 done!\n",
      "m = 10; n = 8 done!\n",
      "m = 11; n = 8 done!\n",
      "m = 12; n = 8 done!\n",
      "m = 13; n = 8 done!\n",
      "m = 14; n = 8 done!\n",
      "m = 15; n = 8 done!\n",
      "m = 16; n = 8 done!\n",
      "m = 17; n = 8 done!\n",
      "m = 18; n = 8 done!\n",
      "m = 19; n = 8 done!\n",
      "m = 20; n = 8 done!\n",
      "m = 21; n = 8 done!\n",
      "m = 22; n = 8 done!\n",
      "m = 23; n = 8 done!\n",
      "m = 24; n = 8 done!\n",
      "m = 25; n = 8 done!\n",
      "m = 26; n = 8 done!\n",
      "m = 27; n = 8 done!\n",
      "m = 28; n = 8 done!\n",
      "m = 29; n = 8 done!\n",
      "m = 30; n = 8 done!\n",
      "m = 31; n = 8 done!\n",
      "m = 32; n = 8 done!\n",
      "m = 33; n = 8 done!\n",
      "m = 34; n = 8 done!\n",
      "m = 35; n = 8 done!\n",
      "m = 36; n = 8 done!\n",
      "m = 37; n = 8 done!\n",
      "m = 38; n = 8 done!\n",
      "m = 39; n = 8 done!\n",
      "m = 40; n = 8 done!\n",
      "m = 41; n = 8 done!\n",
      "m = 42; n = 8 done!\n",
      "m = 43; n = 8 done!\n",
      "m = 44; n = 8 done!\n",
      "m = 45; n = 8 done!\n",
      "m = 46; n = 8 done!\n",
      "m = 47; n = 8 done!\n",
      "m = 48; n = 8 done!\n",
      "m = 49; n = 8 done!\n",
      "m = 50; n = 8 done!\n",
      "m = 51; n = 8 done!\n",
      "m = 52; n = 8 done!\n",
      "m = 53; n = 8 done!\n",
      "m = 54; n = 8 done!\n",
      "m = 55; n = 8 done!\n",
      "m = 56; n = 8 done!\n",
      "m = 57; n = 8 done!\n",
      "m = 58; n = 8 done!\n",
      "m = 59; n = 8 done!\n",
      "m = 60; n = 8 done!\n",
      "m = 61; n = 8 done!\n",
      "m = 62; n = 8 done!\n",
      "m = 63; n = 8 done!\n",
      "m = 64; n = 8 done!\n",
      "m = 65; n = 8 done!\n",
      "m = 66; n = 8 done!\n",
      "m = 67; n = 8 done!\n",
      "m = 68; n = 8 done!\n",
      "m = 69; n = 8 done!\n",
      "m = 70; n = 8 done!\n",
      "m = 71; n = 8 done!\n",
      "m = 72; n = 8 done!\n",
      "m = 73; n = 8 done!\n",
      "m = 74; n = 8 done!\n",
      "m = 75; n = 8 done!\n",
      "m = 76; n = 8 done!\n",
      "m = 77; n = 8 done!\n",
      "m = 78; n = 8 done!\n",
      "m = 79; n = 8 done!\n",
      "m = 80; n = 8 done!\n",
      "m = 81; n = 8 done!\n",
      "m = 82; n = 8 done!\n",
      "m = 83; n = 8 done!\n",
      "m = 84; n = 8 done!\n",
      "m = 85; n = 8 done!\n",
      "m = 86; n = 8 done!\n",
      "m = 87; n = 8 done!\n",
      "m = 88; n = 8 done!\n",
      "m = 89; n = 8 done!\n",
      "m = 90; n = 8 done!\n",
      "m = 91; n = 8 done!\n",
      "m = 92; n = 8 done!\n",
      "m = 93; n = 8 done!\n",
      "m = 94; n = 8 done!\n",
      "m = 95; n = 8 done!\n",
      "m = 96; n = 8 done!\n",
      "m = 97; n = 8 done!\n",
      "m = 98; n = 8 done!\n",
      "m = 99; n = 8 done!\n",
      "m = 100; n = 8 done!\n",
      "m = 2; n = 9 done!\n",
      "m = 3; n = 9 done!\n",
      "m = 4; n = 9 done!\n",
      "m = 5; n = 9 done!\n",
      "m = 6; n = 9 done!\n",
      "m = 7; n = 9 done!\n",
      "m = 8; n = 9 done!\n",
      "m = 9; n = 9 done!\n",
      "m = 10; n = 9 done!\n",
      "m = 11; n = 9 done!\n",
      "m = 12; n = 9 done!\n",
      "m = 13; n = 9 done!\n",
      "m = 14; n = 9 done!\n",
      "m = 15; n = 9 done!\n",
      "m = 16; n = 9 done!\n",
      "m = 17; n = 9 done!\n",
      "m = 18; n = 9 done!\n",
      "m = 19; n = 9 done!\n",
      "m = 20; n = 9 done!\n",
      "m = 21; n = 9 done!\n",
      "m = 22; n = 9 done!\n",
      "m = 23; n = 9 done!\n",
      "m = 24; n = 9 done!\n",
      "m = 25; n = 9 done!\n",
      "m = 26; n = 9 done!\n",
      "m = 27; n = 9 done!\n",
      "m = 28; n = 9 done!\n",
      "m = 29; n = 9 done!\n",
      "m = 30; n = 9 done!\n",
      "m = 31; n = 9 done!\n",
      "m = 32; n = 9 done!\n",
      "m = 33; n = 9 done!\n",
      "m = 34; n = 9 done!\n",
      "m = 35; n = 9 done!\n",
      "m = 36; n = 9 done!\n",
      "m = 37; n = 9 done!\n",
      "m = 38; n = 9 done!\n",
      "m = 39; n = 9 done!\n",
      "m = 40; n = 9 done!\n",
      "m = 41; n = 9 done!\n",
      "m = 42; n = 9 done!\n",
      "m = 43; n = 9 done!\n",
      "m = 44; n = 9 done!\n",
      "m = 45; n = 9 done!\n",
      "m = 46; n = 9 done!\n",
      "m = 47; n = 9 done!\n",
      "m = 48; n = 9 done!\n",
      "m = 49; n = 9 done!\n",
      "m = 50; n = 9 done!\n",
      "m = 51; n = 9 done!\n",
      "m = 52; n = 9 done!\n",
      "m = 53; n = 9 done!\n",
      "m = 54; n = 9 done!\n",
      "m = 55; n = 9 done!\n",
      "m = 56; n = 9 done!\n",
      "m = 57; n = 9 done!\n",
      "m = 58; n = 9 done!\n",
      "m = 59; n = 9 done!\n",
      "m = 60; n = 9 done!\n",
      "m = 61; n = 9 done!\n",
      "m = 62; n = 9 done!\n",
      "m = 63; n = 9 done!\n",
      "m = 64; n = 9 done!\n",
      "m = 65; n = 9 done!\n",
      "m = 66; n = 9 done!\n",
      "m = 67; n = 9 done!\n",
      "m = 68; n = 9 done!\n",
      "m = 69; n = 9 done!\n",
      "m = 70; n = 9 done!\n",
      "m = 71; n = 9 done!\n",
      "m = 72; n = 9 done!\n",
      "m = 73; n = 9 done!\n",
      "m = 74; n = 9 done!\n",
      "m = 75; n = 9 done!\n",
      "m = 76; n = 9 done!\n",
      "m = 77; n = 9 done!\n",
      "m = 78; n = 9 done!\n",
      "m = 79; n = 9 done!\n",
      "m = 80; n = 9 done!\n",
      "m = 81; n = 9 done!\n",
      "m = 82; n = 9 done!\n",
      "m = 83; n = 9 done!\n",
      "m = 84; n = 9 done!\n",
      "m = 85; n = 9 done!\n",
      "m = 86; n = 9 done!\n",
      "m = 87; n = 9 done!\n",
      "m = 88; n = 9 done!\n",
      "m = 89; n = 9 done!\n",
      "m = 90; n = 9 done!\n",
      "m = 91; n = 9 done!\n",
      "m = 92; n = 9 done!\n",
      "m = 93; n = 9 done!\n",
      "m = 94; n = 9 done!\n",
      "m = 95; n = 9 done!\n",
      "m = 96; n = 9 done!\n",
      "m = 97; n = 9 done!\n",
      "m = 98; n = 9 done!\n",
      "m = 99; n = 9 done!\n",
      "m = 100; n = 9 done!\n",
      "m = 2; n = 10 done!\n",
      "m = 3; n = 10 done!\n",
      "m = 4; n = 10 done!\n",
      "m = 5; n = 10 done!\n",
      "m = 6; n = 10 done!\n",
      "m = 7; n = 10 done!\n",
      "m = 8; n = 10 done!\n",
      "m = 9; n = 10 done!\n",
      "m = 10; n = 10 done!\n",
      "m = 11; n = 10 done!\n",
      "m = 12; n = 10 done!\n",
      "m = 13; n = 10 done!\n",
      "m = 14; n = 10 done!\n",
      "m = 15; n = 10 done!\n",
      "m = 16; n = 10 done!\n",
      "m = 17; n = 10 done!\n",
      "m = 18; n = 10 done!\n",
      "m = 19; n = 10 done!\n",
      "m = 20; n = 10 done!\n",
      "m = 21; n = 10 done!\n",
      "m = 22; n = 10 done!\n",
      "m = 23; n = 10 done!\n",
      "m = 24; n = 10 done!\n",
      "m = 25; n = 10 done!\n",
      "m = 26; n = 10 done!\n",
      "m = 27; n = 10 done!\n",
      "m = 28; n = 10 done!\n",
      "m = 29; n = 10 done!\n",
      "m = 30; n = 10 done!\n",
      "m = 31; n = 10 done!\n",
      "m = 32; n = 10 done!\n",
      "m = 33; n = 10 done!\n",
      "m = 34; n = 10 done!\n",
      "m = 35; n = 10 done!\n",
      "m = 36; n = 10 done!\n",
      "m = 37; n = 10 done!\n",
      "m = 38; n = 10 done!\n",
      "m = 39; n = 10 done!\n",
      "m = 40; n = 10 done!\n",
      "m = 41; n = 10 done!\n",
      "m = 42; n = 10 done!\n",
      "m = 43; n = 10 done!\n",
      "m = 44; n = 10 done!\n",
      "m = 45; n = 10 done!\n",
      "m = 46; n = 10 done!\n",
      "m = 47; n = 10 done!\n",
      "m = 48; n = 10 done!\n",
      "m = 49; n = 10 done!\n",
      "m = 50; n = 10 done!\n",
      "m = 51; n = 10 done!\n",
      "m = 52; n = 10 done!\n",
      "m = 53; n = 10 done!\n",
      "m = 54; n = 10 done!\n",
      "m = 55; n = 10 done!\n",
      "m = 56; n = 10 done!\n",
      "m = 57; n = 10 done!\n",
      "m = 58; n = 10 done!\n",
      "m = 59; n = 10 done!\n",
      "m = 60; n = 10 done!\n",
      "m = 61; n = 10 done!\n",
      "m = 62; n = 10 done!\n",
      "m = 63; n = 10 done!\n",
      "m = 64; n = 10 done!\n",
      "m = 65; n = 10 done!\n",
      "m = 66; n = 10 done!\n",
      "m = 67; n = 10 done!\n",
      "m = 68; n = 10 done!\n",
      "m = 69; n = 10 done!\n",
      "m = 70; n = 10 done!\n",
      "m = 71; n = 10 done!\n",
      "m = 72; n = 10 done!\n",
      "m = 73; n = 10 done!\n",
      "m = 74; n = 10 done!\n",
      "m = 75; n = 10 done!\n",
      "m = 76; n = 10 done!\n",
      "m = 77; n = 10 done!\n",
      "m = 78; n = 10 done!\n",
      "m = 79; n = 10 done!\n",
      "m = 80; n = 10 done!\n",
      "m = 81; n = 10 done!\n",
      "m = 82; n = 10 done!\n",
      "m = 83; n = 10 done!\n",
      "m = 84; n = 10 done!\n",
      "m = 85; n = 10 done!\n",
      "m = 86; n = 10 done!\n",
      "m = 87; n = 10 done!\n",
      "m = 88; n = 10 done!\n",
      "m = 89; n = 10 done!\n",
      "m = 90; n = 10 done!\n",
      "m = 91; n = 10 done!\n",
      "m = 92; n = 10 done!\n",
      "m = 93; n = 10 done!\n",
      "m = 94; n = 10 done!\n",
      "m = 95; n = 10 done!\n",
      "m = 96; n = 10 done!\n",
      "m = 97; n = 10 done!\n",
      "m = 98; n = 10 done!\n",
      "m = 99; n = 10 done!\n",
      "m = 100; n = 10 done!\n"
     ]
    },
    {
     "data": {
      "text/plain": [
       "8-element Vector{Vector{Any}}:\n",
       " [2, 1, 2, 1, 1, 1, 1, 1, 1, 1  …  1, 1, 1, 1, 1, 1, 1, 1, 1, 1]\n",
       " [3, 2, 1, 2, 1, 2, 1, 1, 1, 1  …  1, 1, 1, 1, 1, 1, 1, 1, 1, 1]\n",
       " [4, 3, 3, 3, 2, 1, 2, 1, 2, 1  …  1, 1, 1, 1, 1, 1, 1, 1, 1, 1]\n",
       " [5, 5, 4, 4, 3, 4, 1, 2, 2, 3  …  1, 1, 1, 1, 1, 1, 1, 1, 1, 1]\n",
       " [7, 7, 6, 3, 5, 4, 2, 4, 4, 4  …  1, 1, 1, 1, 1, 1, 1, 1, 1, 1]\n",
       " [7, 8, 5, 4, 6, 4, 5, 6, 2, 1  …  1, 1, 1, 1, 1, 1, 1, 1, 1, 1]\n",
       " [8, 7, 8, 7, 6, 5, 6, 5, 3, 4  …  1, 1, 1, 1, 1, 1, 1, 1, 1, 1]\n",
       " [9, 9, 10, 6, 7, 6, 4, 5, 5, 6  …  1, 1, 1, 1, 1, 1, 1, 1, 1, 1]"
      ]
     },
     "metadata": {},
     "output_type": "display_data"
    }
   ],
   "source": [
    "N = 10\n",
    "M = 100\n",
    "Random.seed!(123)\n",
    "\n",
    "dimensions = [[] for _ = 3:N]\n",
    "for n = 3:N\n",
    "    for m = 2:M\n",
    "        sample = [Rational.(rand(0:10000, n)) for _ in 1:m]\n",
    "        push!(dimensions[n-2], dim(trop_frechet_set(sample, rep=\"hrep\")))\n",
    "        println(\"m = \", m, \"; n = \", n, \" done!\")\n",
    "    end\n",
    "end\n",
    "\n",
    "dimensions"
   ]
  },
  {
   "cell_type": "code",
   "execution_count": 38,
   "id": "e48b0cf1",
   "metadata": {},
   "outputs": [
    {
     "ename": "UndefVarError",
     "evalue": "UndefVarError: `group1` not defined",
     "output_type": "error",
     "traceback": [
      "UndefVarError: `group1` not defined\n",
      "\n",
      "Stacktrace:\n",
      " [1] top-level scope\n",
      "   @ ~/Repos/TropicalFrechetMeans.jl/examples/jl_notebook_cell_df34fa98e69747e1a8f8a730347b8e2f_Y100sZmlsZQ==.jl:10"
     ]
    }
   ],
   "source": [
    "using Plots\n",
    "\n",
    "# Example data: categories and their respective proportions in different groups\n",
    "categories = [\"Category 1\", \"Category 2\", \"Category 3\"]\n",
    "\n",
    "proportional_dimensions = [dim_list / M for dim_list in dimensions]\n",
    "data = hcat(proportional_dimensions...)\n",
    "\n",
    "# Create the proportional bar chart\n",
    "bar(data, label=1:M, legend=:topright, title=\"Proportional Bar Chart\", xlabel=\"Groups\", ylabel=\"Proportion\", bar_width=0.7, lw=0, series_annotations=transpose([group1 group2 group3]))\n",
    "\n",
    "# Save the plot to a file\n",
    "savefig(\"proportional_bar_chart.png\")\n",
    "\n",
    "# Display the plot\n",
    "display(plot)"
   ]
  },
  {
   "cell_type": "code",
   "execution_count": 39,
   "id": "ff2cf2dc",
   "metadata": {},
   "outputs": [
    {
     "name": "stdout",
     "output_type": "stream",
     "text": [
      "Any[2, 1, 2, 1, 1, 1, 1, 1, 1, 1, 1, 1, 1, 1, 1, 1, 1, 1, 1, 1, 1, 1, 1, 1, 1, 1, 1, 1, 1, 1, 1, 1, 1, 1, 1, 1, 1, 1, 1, 1, 1, 1, 1, 1, 1, 1, 1, 1, 1, 1, 1, 1, 1, 1, 1, 1, 1, 1, 1, 1, 1, 1, 1, 1, 1, 1, 1, 1, 1, 1, 1, 1, 1, 1, 1, 1, 1, 1, 1, 1, 1, 1, 1, 1, 1, 1, 1, 1, 1, 1, 1, 1, 1, 1, 1, 1, 1, 1, 1]\n",
      "\n",
      "Any[3, 2, 1, 2, 1, 2, 1, 1, 1, 1, 1, 1, 1, 1, 1, 1, 1, 1, 1, 1, 1, 1, 1, 1, 1, 1, 1, 1, 1, 1, 1, 1, 1, 1, 1, 1, 1, 1, 1, 1, 1, 1, 1, 1, 1, 1, 1, 1, 1, 1, 1, 1, 1, 1, 1, 1, 1, 1, 1, 1, 1, 1, 1, 1, 1, 1, 1, 1, 1, 1, 1, 1, 1, 1, 1, 1, 1, 1, 1, 1, 1, 1, 1, 1, 1, 1, 1, 1, 1, 1, 1, 1, 1, 1, 1, 1, 1, 1, 1]\n",
      "\n",
      "Any[4, 3, 3, 3, 2, 1, 2, 1, 2, 1, 1, 1, 1, 1, 1, 1, 1, 1, 1, 1, 1, 1, 1, 1, 1, 1, 1, 1, 1, 1, 1, 1, 1, 1, 1, 1, 1, 1, 1, 1, 1, 1, 1, 1, 1, 1, 1, 1, 1, 1, 1, 1, 1, 1, 1, 1, 1, 1, 1, 1, 1, 1, 1, 1, 1, 1, 1, 1, 1, 1, 1, 1, 1, 1, 1, 1, 1, 1, 1, 1, 1, 1, 1, 1, 1, 1, 1, 1, 1, 1, 1, 1, 1, 1, 1, 1, 1, 1, 1]\n",
      "\n",
      "Any[5, 5, 4, 4, 3, 4, 1, 2, 2, 3, 1, 1, 1, 1, 1, 1, 1, 1, 1, 1, 1, 1, 1, 1, 1, 1, 1, 1, 1, 1, 1, 1, 1, 1, 1, 1, 1, 1, 1, 1, 1, 1, 1, 1, 1, 1, 1, 1, 1, 1, 1, 1, 1, 1, 1, 1, 1, 1, 1, 1, 1, 1, 1, 1, 1, 1, 1, 1, 1, 1, 1, 1, 1, 1, 1, 1, 1, 1, 1, 1, 1, 1, 1, 1, 1, 1, 1, 1, 1, 1, 1, 1, 1, 1, 1, 1, 1, 1, 1]\n",
      "\n",
      "Any[7, 7, 6, 3, 5, 4, 2, 4, 4, 4, 1, 2, 2, 1, 2, 1, 1, 1, 1, 1, 1, 1, 1, 1, 1, 1, 1, 1, 1, 1, 1, 1, 1, 1, 1, 1, 1, 1, 1, 1, 1, 1, 1, 1, 1, 1, 1, 1, 1, 1, 1, 1, 1, 1, 1, 1, 1, 1, 1, 1, 1, 1, 1, 1, 1, 1, 1, 1, 1, 1, 1, 1, 1, 1, 1, 1, 1, 1, 1, 1, 1, 1, 1, 1, 1, 1, 1, 1, 1, 1, 1, 1, 1, 1, 1, 1, 1, 1, 1]\n",
      "\n",
      "Any[7, 8, 5, 4, 6, 4, 5, 6, 2, 1, 3, 1, 2, 1, 1, 2, 2, 1, 2, 1, 1, 1, 1, 1, 1, 1, 1, 1, 1, 1, 1, 1, 1, 1, 1, 1, 1, 1, 1, 1, 1, 1, 1, 1, 1, 1, 1, 1, 1, 1, 1, 1, 1, 1, 1, 1, 1, 1, 1, 1, 1, 1, 1, 1, 1, 1, 1, 1, 1, 1, 1, 1, 1, 1, 1, 1, 1, 1, 1, 1, 1, 1, 1, 1, 1, 1, 1, 1, 1, 1, 1, 1, 1, 1, 1, 1, 1, 1, 1]\n",
      "\n",
      "Any[8, 7, 8, 7, 6, 5, 6, 5, 3, 4, 3, 3, 2, 2, 2, 1, 2, 2, 1, 1, 1, 1, 1, 1, 1, 1, 1, 1, 1, 1, 1, 1, 1, 1, 1, 1, 1, 1, 1, 1, 1, 1, 1, 1, 1, 1, 1, 1, 1, 1, 1, 1, 1, 1, 1, 1, 1, 1, 1, 1, 1, 1, 1, 1, 1, 1, 1, 1, 1, 1, 1, 1, 1, 1, 1, 1, 1, 1, 1, 1, 1, 1, 1, 1, 1, 1, 1, 1, 1, 1, 1, 1, 1, 1, 1, 1, 1, 1, 1]\n",
      "\n",
      "Any[9, 9, 10, 6, 7, 6, 4, 5, 5, 6, 5, 1, 5, 3, 3, 2, 5, 2, 2, 2, 1, 1, 1, 2, 1, 1, 1, 1, 1, 1, 1, 2, 1, 1, 1, 1, 1, 1, 1, 1, 1, 1, 1, 1, 1, 1, 1, 1, 1, 1, 1, 1, 1, 1, 1, 1, 1, 1, 1, 1, 1, 1, 1, 1, 1, 1, 1, 1, 1, 1, 1, 1, 1, 1, 1, 1, 1, 1, 1, 1, 1, 1, 1, 1, 1, 1, 1, 1, 1, 1, 1, 1, 1, 1, 1, 1, 1, 1, 1]\n",
      "\n"
     ]
    }
   ],
   "source": [
    "for thing in dimensions\n",
    "    println(thing)\n",
    "    println()\n",
    "end"
   ]
  }
 ],
 "metadata": {
  "kernelspec": {
   "display_name": "Julia 1.10.7",
   "language": "julia",
   "name": "julia-1.10"
  },
  "language_info": {
   "file_extension": ".jl",
   "mimetype": "application/julia",
   "name": "julia",
   "version": "1.10.7"
  }
 },
 "nbformat": 4,
 "nbformat_minor": 5
}
