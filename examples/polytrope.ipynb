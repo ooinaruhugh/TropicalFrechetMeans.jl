{
 "cells": [
  {
   "cell_type": "markdown",
   "metadata": {},
   "source": [
    "# Computing the Fréchet mean polytrope using Kleene stars"
   ]
  },
  {
   "cell_type": "code",
   "execution_count": 20,
   "metadata": {},
   "outputs": [],
   "source": [
    "using TropicalFrechetMeans\n",
    "using Polyhedra\n",
    "using Clarabel, CDDLib\n",
    "using Oscar"
   ]
  },
  {
   "cell_type": "markdown",
   "metadata": {},
   "source": [
    "The following function serves to compute the breakpoints of a tropical line segments according to Theorem 5.11. in \"Essentials of Tropical Combinatorics\" by Joswig."
   ]
  },
  {
   "cell_type": "code",
   "execution_count": 21,
   "metadata": {},
   "outputs": [
    {
     "data": {
      "text/plain": [
       "breakpoints_of_tropical_line (generic function with 2 methods)"
      ]
     },
     "metadata": {},
     "output_type": "display_data"
    }
   ],
   "source": [
    "breakpoints_of_tropical_line(p::Vector{T}, q::Vector{T}) where {T<:TropicalSemiringElem} = breakpoints_of_tropical_line(QQ.(p), QQ.(q))\n",
    "\n",
    "function breakpoints_of_tropical_line(p,q)\n",
    "    r = q - p\n",
    "    σ = sortperm(r)\n",
    "\n",
    "    V = Vector{typeof(r)}(undef, length(r))\n",
    "\n",
    "    for k in 1:length(r)\n",
    "        V[k] = [q[σ[1:k]]..., r[σ[k]] .+ p[σ[k+1:end]]...][σ]\n",
    "    end\n",
    "    \n",
    "    return V\n",
    "end"
   ]
  },
  {
   "cell_type": "code",
   "execution_count": 22,
   "metadata": {},
   "outputs": [
    {
     "data": {
      "text/plain": [
       "indices (generic function with 1 method)"
      ]
     },
     "metadata": {},
     "output_type": "display_data"
    }
   ],
   "source": [
    "function trop_normalize(x)\n",
    "    return x .- first(x)\n",
    "end\n",
    "\n",
    "function trop_normalize(x::Vector{T}) where {T<:TropicalSemiringElem}\n",
    "    return x ./ first(x)\n",
    "end\n",
    "\n",
    "function indices(v)\n",
    "    findfirst(==(1), v), findfirst(==(-1), v)\n",
    "end"
   ]
  },
  {
   "cell_type": "code",
   "execution_count": 39,
   "metadata": {},
   "outputs": [
    {
     "name": "stdout",
     "output_type": "stream",
     "text": [
      "num_FM = Rational{Int64}[0, 0, -1]\n"
     ]
    },
    {
     "data": {
      "text/plain": [
       "Polyhedron CDDLib.Polyhedron{Rational{BigInt}}:\n",
       "5-element iterator of HalfSpace{Rational{BigInt}, Vector{Rational{BigInt}}}:\n",
       " HalfSpace(Rational{BigInt}[1, 0, -1], 1//1)\n",
       " HalfSpace(Rational{BigInt}[-1, 1, 0], 1//1)\n",
       " HalfSpace(Rational{BigInt}[0, 1, -1], 1//1)\n",
       " HalfSpace(Rational{BigInt}[-1, 0, 1], -1//1)\n",
       " HalfSpace(Rational{BigInt}[0, -1, 1], -1//1)"
      ]
     },
     "metadata": {},
     "output_type": "display_data"
    }
   ],
   "source": [
    "sample = [[-3,0,0], [0,-6,0], [0,0,-12]]\n",
    "n = length(sample |> first)\n",
    "\n",
    "num_FM = tropical_frechet_mean(sample) |> trop_normalize\n",
    "@show num_FM\n",
    "P = tropical_frechet_set(sample)"
   ]
  },
  {
   "cell_type": "markdown",
   "metadata": {},
   "source": [
    "The following tells us that the FM polytrope is a single point modulo lineality."
   ]
  },
  {
   "cell_type": "code",
   "execution_count": 42,
   "metadata": {},
   "outputs": [
    {
     "data": {
      "text/plain": [
       "V-representation CDDGeneratorMatrix{Rational{BigInt}, GMPRational}:\n",
       "1-element iterator of Vector{Rational{BigInt}}:\n",
       " Rational{BigInt}[1, 1, 0],\n",
       "1-element iterator of Line{Rational{BigInt}, Vector{Rational{BigInt}}}:\n",
       " Line(Rational{BigInt}[1, 1, 1])"
      ]
     },
     "metadata": {},
     "output_type": "display_data"
    }
   ],
   "source": [
    "vrep(P)"
   ]
  },
  {
   "cell_type": "code",
   "execution_count": 25,
   "metadata": {},
   "outputs": [
    {
     "data": {
      "text/plain": [
       "H-representation CDDInequalityMatrix{Rational{BigInt}, GMPRational}:\n",
       "5-element iterator of HalfSpace{Rational{BigInt}, Vector{Rational{BigInt}}}:\n",
       " HalfSpace(Rational{BigInt}[1, 0, -1], 1//1)\n",
       " HalfSpace(Rational{BigInt}[-1, 1, 0], 1//1)\n",
       " HalfSpace(Rational{BigInt}[0, 1, -1], 1//1)\n",
       " HalfSpace(Rational{BigInt}[-1, 0, 1], -1//1)\n",
       " HalfSpace(Rational{BigInt}[0, -1, 1], -1//1)"
      ]
     },
     "metadata": {},
     "output_type": "display_data"
    }
   ],
   "source": [
    "H = hrep(P)"
   ]
  },
  {
   "cell_type": "markdown",
   "metadata": {},
   "source": [
    "From the facet description, we construct the matrix $C\\in\\mathbb{T}^{n\\times n}$ that realizes the FM polytrope $\\overline{P}$ as a weighted digraph polyhedron $$x_i - x_j \\leq C_{ij}.$$"
   ]
  },
  {
   "cell_type": "code",
   "execution_count": 26,
   "metadata": {},
   "outputs": [
    {
     "data": {
      "text/plain": [
       "3×3 Matrix{TropicalSemiringElem{typeof(min)}}:\n",
       " (0)   ∞     (1)\n",
       " (1)   (0)   (1)\n",
       " (-1)  (-1)  (0)"
      ]
     },
     "metadata": {},
     "output_type": "display_data"
    }
   ],
   "source": [
    "T = tropical_semiring()\n",
    "C = identity_matrix(T, n)\n",
    "for h in halfspaces(H)\n",
    "    setindex!(C, h.β, indices(h.a)...)\n",
    "end\n",
    "Matrix(C)"
   ]
  },
  {
   "cell_type": "markdown",
   "metadata": {},
   "source": [
    "The following uses the tropical vertex description of $\\overline{P} = \\mathrm{tconv}(C^*)$ as the tropical column span of the Kleene star $$C^* = I_n \\oplus C \\oplus C^2 \\oplus \\dots \\oplus C^{n-1}.$$"
   ]
  },
  {
   "cell_type": "code",
   "execution_count": 27,
   "metadata": {},
   "outputs": [
    {
     "data": {
      "text/html": [
       "[(0) (0) (1); (0) (0) (1); (-1) (-1) (0)]"
      ],
      "text/latex": [
       "\\begin{array}{ccc}\n",
       "\\left(0\\right) & \\left(0\\right) & \\left(1\\right) \\\\\n",
       "\\left(0\\right) & \\left(0\\right) & \\left(1\\right) \\\\\n",
       "\\left(-1\\right) & \\left(-1\\right) & \\left(0\\right)\n",
       "\\end{array}"
      ],
      "text/plain": [
       "[ (0)    (0)   (1)]\n",
       "[ (0)    (0)   (1)]\n",
       "[(-1)   (-1)   (0)]"
      ]
     },
     "metadata": {},
     "output_type": "display_data"
    }
   ],
   "source": [
    "V = Set{Vector}()\n",
    "A = C^n\n",
    "\n",
    "for i in 1:size(A,1)\n",
    "    for j in 1:size(A,1)\n",
    "        if i != j\n",
    "            for v in breakpoints_of_tropical_line(A[:,i], A[:,j])\n",
    "                push!(V, trop_normalize(v))\n",
    "            end\n",
    "        end\n",
    "    end\n",
    "end\n",
    "A"
   ]
  },
  {
   "cell_type": "markdown",
   "metadata": {},
   "source": [
    "The procedure above recovers the pseudovertices as expected, which give the classical vertex description of $\\overline{P}$. In this case, this is a single point."
   ]
  },
  {
   "cell_type": "code",
   "execution_count": 28,
   "metadata": {},
   "outputs": [
    {
     "data": {
      "text/plain": [
       "Set{Vector} with 1 element:\n",
       "  QQFieldElem[0, 0, -1]"
      ]
     },
     "metadata": {},
     "output_type": "display_data"
    }
   ],
   "source": [
    "V"
   ]
  },
  {
   "cell_type": "markdown",
   "metadata": {},
   "source": [
    "## Phylogenetic trees"
   ]
  },
  {
   "cell_type": "markdown",
   "metadata": {},
   "source": [
    "In the following, we apply the above computation of a classical vertex description to a FM polytrope with many vertices.\n",
    "The corresponding dataset consists of phylogenetic trees, meaning the both dimension and number of facets is relatively high.\n",
    "For this reason, even the double description method is infeasible, which means we turn to above Kleene star-based computation instead."
   ]
  },
  {
   "cell_type": "code",
   "execution_count": 29,
   "metadata": {},
   "outputs": [
    {
     "data": {
      "text/plain": [
       "268-element Vector{Vector{Rational{Int64}}}:\n",
       " [3784, 6626, 9906, 6521, 11778, 8750, 7661, 7601, 10881, 7496  …  4901, 15579, 12551, 11462, 12194, 9167, 8078, 14217, 13128, 1089]\n",
       " [3485, 8484, 9427, 8865, 25257, 9257, 10300, 8814, 9756, 9195  …  3645, 25010, 9010, 10054, 24449, 8449, 9492, 20033, 21076, 2163]\n",
       " [3570, 5592, 6890, 4591, 4849, 5136, 4872, 3905, 6062, 3763  …  6609, 6867, 7154, 6890, 2383, 4367, 4103, 4625, 4361, 274]\n",
       " [1696, 4297, 5665, 6408, 4431, 4218, 4248, 4473, 5841, 6584  …  9039, 7062, 6849, 6880, 5542, 6984, 7014, 5006, 5037, 557]\n",
       " [1864, 8173, 6779, 10056, 10843, 9010, 9319, 8433, 7039, 10315  …  11759, 12546, 10713, 11022, 15116, 13283, 13592, 12332, 12642, 2722]\n",
       " [3801, 11567, 5222, 5725, 5642, 8167, 7548, 12836, 6491, 6994  …  6129, 6046, 8571, 7952, 601, 7410, 6791, 7327, 6708, 4443]\n",
       " [751, 29706, 6877, 4376, 5857, 9999, 8966, 29899, 7070, 4569  …  6079, 7560, 11702, 10669, 3359, 8305, 7272, 9787, 8754, 5104]\n",
       " [4080, 8200, 9699, 9924, 11942, 9302, 9463, 7689, 9188, 9413  …  7219, 10137, 9656, 9817, 10362, 9881, 10042, 11898, 12059, 878]\n",
       " [5044, 13355, 13753, 12176, 12887, 14429, 15134, 12604, 13002, 11425  …  13357, 14068, 15610, 16316, 5411, 12410, 13116, 13121, 13827, 2545]\n",
       " [1971, 3755, 11351, 4502, 4538, 4844, 4814, 4479, 12075, 5226  …  13369, 13405, 13711, 13681, 2561, 5853, 5823, 5889, 5859, 680]\n",
       " ⋮\n",
       " [12104, 17530, 15133, 15138, 16057, 17311, 16792, 15835, 13437, 13443  …  13726, 14645, 15898, 15379, 6173, 13484, 12964, 14402, 13883, 1971]\n",
       " [3791, 6224, 9785, 6030, 5971, 7025, 7227, 6645, 10205, 6450  …  8730, 8672, 9726, 9927, 612, 5150, 5351, 5091, 5292, 2972]\n",
       " [12419, 12190, 13716, 15054, 18758, 15491, 16261, 3497, 6847, 8185  …  4423, 11913, 8646, 9416, 13251, 9984, 10754, 11736, 12506, 2095]\n",
       " [662, 1852, 10877, 2590, 2588, 3423, 3718, 1956, 10981, 2694  …  10906, 10904, 11740, 12034, 127, 2488, 2782, 2485, 2780, 1168]\n",
       " [8737, 13294, 11818, 19727, 22705, 11726, 12582, 11154, 9678, 17587  …  14552, 17530, 9628, 10485, 17556, 17537, 18393, 20515, 21372, 2294]\n",
       " [100, 1344, 1612, 7520, 3292, 3702, 3564, 1444, 1712, 7619  …  7234, 3007, 3416, 3279, 6118, 8141, 8003, 3914, 3776, 1018]\n",
       " [1007896, 1005727, 1006998, 1002046, 1006305, 1002804, 1003055, 6308, 11448, 7611  …  6713, 13303, 9801, 10053, 8351, 4849, 5101, 9107, 9359, 756]\n",
       " [4444, 15042, 7404, 11317, 8120, 9215, 9044, 14670, 7032, 10945  …  5282, 4967, 7167, 6996, 8880, 11080, 10909, 7883, 7712, 735]\n",
       " [7063, 13650, 24004, 16860, 17949, 14844, 15366, 11574, 21928, 14784  …  21722, 22811, 21576, 22097, 8020, 14432, 14954, 15521, 16042, 1776]"
      ]
     },
     "metadata": {},
     "output_type": "display_data"
    }
   ],
   "source": [
    "using JSON3\n",
    "using DataFrames\n",
    "\n",
    "# Function to read the JSON file and convert to a list of matrices\n",
    "function read_and_convert_json(file_path::String)\n",
    "    # Read the JSON file\n",
    "    json_data = JSON3.read(file_path)\n",
    "    \n",
    "    # Extract elements from the nested arrays\n",
    "    elements = [x[1] for x in json_data]\n",
    "    elements = rationalize.(10000 * elements, tol=1e-2)\n",
    "    \n",
    "    # Convert elements into matrices\n",
    "    num_elements = length(elements)\n",
    "    matrices = []\n",
    "    \n",
    "    for i in 1:64:num_elements\n",
    "        # Get the next 64 elements\n",
    "        matrix_elements = elements[i:min(i+63, num_elements)]\n",
    "        \n",
    "        # Convert to an 8x8 matrix if there are 64 elements, otherwise create a smaller matrix\n",
    "        matrix_size = length(matrix_elements)\n",
    "        sqrt_size = Int(sqrt(matrix_size))\n",
    "        push!(matrices, reshape(matrix_elements, sqrt_size, sqrt_size))\n",
    "    end\n",
    "    \n",
    "    return matrices\n",
    "end\n",
    "\n",
    "\"\"\"\n",
    "Take a matrix of pairwise distances between taxa and returns the cophenetic vector.\n",
    "\"\"\"\n",
    "function cophenetic_from_distance(pairwise)\n",
    "    n = size(pairwise, 1)\n",
    "    coph = [pairwise[i, j] for i in 1:n-1 for j in i+1:n]\n",
    "    return coph\n",
    "end\n",
    "\n",
    "# Read and convert the JSON file\n",
    "file_path = \"all_matrices.json\"\n",
    "matrices = read_and_convert_json(file_path)\n",
    "taxa = [\"Tg\", \"Et\", \"Cp\", \"Ta\", \"Bb\", \"Tt\", \"Pv\", \"Pf\"]\n",
    "\n",
    "coph_vecs = [cophenetic_from_distance(mat) for mat in matrices]"
   ]
  },
  {
   "cell_type": "code",
   "execution_count": 30,
   "metadata": {},
   "outputs": [
    {
     "data": {
      "text/plain": [
       "is_phylogenetic_tree"
      ]
     },
     "metadata": {},
     "output_type": "display_data"
    }
   ],
   "source": [
    "\"\"\"\n",
    "Check if a distance matrix defines a phylogenetic tree\n",
    "\"\"\"\n",
    "function is_phylogenetic_tree(D)\n",
    "    n = size(D, 1)\n",
    "    \n",
    "    # Check if the matrix is symmetric and non-negative\n",
    "    for i in 1:n\n",
    "        for j in i:n\n",
    "            if D[i, j] != D[j, i] || D[i, j] < 0\n",
    "                return false\n",
    "            end\n",
    "        end\n",
    "    end\n",
    "\n",
    "    # Check the four-point condition\n",
    "    for i in 1:n-3\n",
    "        for j in i+1:n-2\n",
    "            for k in j+1:n-1\n",
    "                for l in k+1:n\n",
    "                    # Calculate distances\n",
    "                    D_ij_kl = D[i, j] + D[k, l]\n",
    "                    D_ik_jl = D[i, k] + D[j, l]\n",
    "                    D_il_jk = D[i, l] + D[j, k]\n",
    "                    \n",
    "                    # Check the four-point condition\n",
    "                    if !(D_ij_kl >= D_ik_jl && D_ij_kl >= D_il_jk) &&\n",
    "                       !(D_ik_jl >= D_ij_kl && D_ik_jl >= D_il_jk) &&\n",
    "                       !(D_il_jk >= D_ij_kl && D_il_jk >= D_ik_jl)\n",
    "                        return false\n",
    "                    end\n",
    "                end\n",
    "            end\n",
    "        end\n",
    "    end\n",
    "    \n",
    "    return true\n",
    "end"
   ]
  },
  {
   "cell_type": "code",
   "execution_count": 38,
   "metadata": {},
   "outputs": [
    {
     "name": "stdout",
     "output_type": "stream",
     "text": [
      " 10.259706 seconds (94.03 M allocations: 7.270 GiB, 7.17% gc time, 0.12% compilation time)\n"
     ]
    },
    {
     "data": {
      "text/plain": [
       "Polyhedron CDDLib.Polyhedron{Rational{BigInt}}:\n",
       "300-element iterator of HalfSpace{Rational{BigInt}, Vector{Rational{BigInt}}}:\n",
       " HalfSpace(Rational{BigInt}[1, 0, 0, 0, 0, 0, 0, 0, 0, 0, 0, 0, 0, 0, 0, 0, 0, 0, 0, 0, 0, 0, 0, 0, 0, 0, 0, -1], 0//1)\n",
       " HalfSpace(Rational{BigInt}[0, 1, 0, 0, 0, 0, -1, 0, 0, 0, 0, 0, 0, 0, 0, 0, 0, 0, 0, 0, 0, 0, 0, 0, 0, 0, 0, 0], 1192//1)\n",
       " HalfSpace(Rational{BigInt}[0, 1, 0, 0, 0, 0, 0, 0, 0, -1, 0, 0, 0, 0, 0, 0, 0, 0, 0, 0, 0, 0, 0, 0, 0, 0, 0, 0], 866//1)\n",
       " HalfSpace(Rational{BigInt}[0, 1, 0, 0, 0, 0, 0, 0, 0, 0, 0, -1, 0, 0, 0, 0, 0, 0, 0, 0, 0, 0, 0, 0, 0, 0, 0, 0], 824//1)\n",
       " HalfSpace(Rational{BigInt}[0, 1, 0, 0, 0, 0, 0, 0, 0, 0, 0, 0, -1, 0, 0, 0, 0, 0, 0, 0, 0, 0, 0, 0, 0, 0, 0, 0], 677//1)\n",
       " HalfSpace(Rational{BigInt}[0, 1, 0, 0, 0, 0, 0, 0, 0, 0, 0, 0, 0, 0, 0, 0, 0, 0, -1, 0, 0, 0, 0, 0, 0, 0, 0, 0], 1023//1)\n",
       " HalfSpace(Rational{BigInt}[0, 1, 0, 0, 0, 0, 0, 0, 0, 0, 0, 0, 0, 0, 0, 0, 0, 0, 0, 0, -1, 0, 0, 0, 0, 0, 0, 0], 1023//1)\n",
       " HalfSpace(Rational{BigInt}[0, 1, 0, 0, 0, 0, 0, 0, 0, 0, 0, 0, 0, 0, 0, 0, 0, 0, 0, 0, 0, -1, 0, 0, 0, 0, 0, 0], 1477//1)\n",
       " HalfSpace(Rational{BigInt}[0, 1, 0, 0, 0, 0, 0, 0, 0, 0, 0, 0, 0, 0, 0, 0, 0, 0, 0, 0, 0, 0, 0, 0, -1, 0, 0, 0], 1245//1)\n",
       " HalfSpace(Rational{BigInt}[0, 0, 1, 0, 0, -1, 0, 0, 0, 0, 0, 0, 0, 0, 0, 0, 0, 0, 0, 0, 0, 0, 0, 0, 0, 0, 0, 0], 1705//1)\n",
       " HalfSpace(Rational{BigInt}[0, 0, 1, 0, 0, 0, -1, 0, 0, 0, 0, 0, 0, 0, 0, 0, 0, 0, 0, 0, 0, 0, 0, 0, 0, 0, 0, 0], 1229//1)\n",
       " HalfSpace(Rational{BigInt}[0, 0, 1, 0, 0, 0, 0, 0, 0, -1, 0, 0, 0, 0, 0, 0, 0, 0, 0, 0, 0, 0, 0, 0, 0, 0, 0, 0], 1580//1)\n",
       " HalfSpace(Rational{BigInt}[0, 0, 1, 0, 0, 0, 0, 0, 0, 0, 0, -1, 0, 0, 0, 0, 0, 0, 0, 0, 0, 0, 0, 0, 0, 0, 0, 0], 1626//1)\n",
       " HalfSpace(Rational{BigInt}[0, 0, 1, 0, 0, 0, 0, 0, 0, 0, 0, 0, -1, 0, 0, 0, 0, 0, 0, 0, 0, 0, 0, 0, 0, 0, 0, 0], 1151//1)\n",
       " HalfSpace(Rational{BigInt}[0, 0, 1, 0, 0, 0, 0, 0, 0, 0, 0, 0, 0, 0, -1, 0, 0, 0, 0, 0, 0, 0, 0, 0, 0, 0, 0, 0], 1563//1)\n",
       " HalfSpace(Rational{BigInt}[0, 0, 1, 0, 0, 0, 0, 0, 0, 0, 0, 0, 0, 0, 0, -1, 0, 0, 0, 0, 0, 0, 0, 0, 0, 0, 0, 0], 1525//1)\n",
       " HalfSpace(Rational{BigInt}[0, 0, 1, 0, 0, 0, 0, 0, 0, 0, 0, 0, 0, 0, 0, 0, -1, 0, 0, 0, 0, 0, 0, 0, 0, 0, 0, 0], 49070//33)\n",
       " HalfSpace(Rational{BigInt}[0, 0, 1, 0, 0, 0, 0, 0, 0, 0, 0, 0, 0, 0, 0, 0, 0, -1, 0, 0, 0, 0, 0, 0, 0, 0, 0, 0], 47189//33)\n",
       " HalfSpace(Rational{BigInt}[0, 0, 1, 0, 0, 0, 0, 0, 0, 0, 0, 0, 0, 0, 0, 0, 0, 0, 0, 0, 0, -1, 0, 0, 0, 0, 0, 0], 1734//1)\n",
       " HalfSpace(Rational{BigInt}[0, 0, 1, 0, 0, 0, 0, 0, 0, 0, 0, 0, 0, 0, 0, 0, 0, 0, 0, 0, 0, 0, -1, 0, 0, 0, 0, 0], 2058//1)\n",
       "  ⋮"
      ]
     },
     "metadata": {},
     "output_type": "display_data"
    }
   ],
   "source": [
    "@time phylo_frech = tropical_frechet_set(coph_vecs)"
   ]
  },
  {
   "cell_type": "code",
   "execution_count": 32,
   "metadata": {},
   "outputs": [
    {
     "data": {
      "text/plain": [
       "H-representation CDDInequalityMatrix{Rational{BigInt}, GMPRational}:\n",
       "300-element iterator of HalfSpace{Rational{BigInt}, Vector{Rational{BigInt}}}:\n",
       " HalfSpace(Rational{BigInt}[1, 0, 0, 0, 0, 0, 0, 0, 0, 0, 0, 0, 0, 0, 0, 0, 0, 0, 0, 0, 0, 0, 0, 0, 0, 0, 0, -1], 0//1)\n",
       " HalfSpace(Rational{BigInt}[0, 1, 0, 0, 0, 0, -1, 0, 0, 0, 0, 0, 0, 0, 0, 0, 0, 0, 0, 0, 0, 0, 0, 0, 0, 0, 0, 0], 1192//1)\n",
       " HalfSpace(Rational{BigInt}[0, 1, 0, 0, 0, 0, 0, 0, 0, -1, 0, 0, 0, 0, 0, 0, 0, 0, 0, 0, 0, 0, 0, 0, 0, 0, 0, 0], 866//1)\n",
       " HalfSpace(Rational{BigInt}[0, 1, 0, 0, 0, 0, 0, 0, 0, 0, 0, -1, 0, 0, 0, 0, 0, 0, 0, 0, 0, 0, 0, 0, 0, 0, 0, 0], 824//1)\n",
       " HalfSpace(Rational{BigInt}[0, 1, 0, 0, 0, 0, 0, 0, 0, 0, 0, 0, -1, 0, 0, 0, 0, 0, 0, 0, 0, 0, 0, 0, 0, 0, 0, 0], 677//1)\n",
       " HalfSpace(Rational{BigInt}[0, 1, 0, 0, 0, 0, 0, 0, 0, 0, 0, 0, 0, 0, 0, 0, 0, 0, -1, 0, 0, 0, 0, 0, 0, 0, 0, 0], 1023//1)\n",
       " HalfSpace(Rational{BigInt}[0, 1, 0, 0, 0, 0, 0, 0, 0, 0, 0, 0, 0, 0, 0, 0, 0, 0, 0, 0, -1, 0, 0, 0, 0, 0, 0, 0], 1023//1)\n",
       " HalfSpace(Rational{BigInt}[0, 1, 0, 0, 0, 0, 0, 0, 0, 0, 0, 0, 0, 0, 0, 0, 0, 0, 0, 0, 0, -1, 0, 0, 0, 0, 0, 0], 1477//1)\n",
       " HalfSpace(Rational{BigInt}[0, 1, 0, 0, 0, 0, 0, 0, 0, 0, 0, 0, 0, 0, 0, 0, 0, 0, 0, 0, 0, 0, 0, 0, -1, 0, 0, 0], 1245//1)\n",
       " HalfSpace(Rational{BigInt}[0, 0, 1, 0, 0, -1, 0, 0, 0, 0, 0, 0, 0, 0, 0, 0, 0, 0, 0, 0, 0, 0, 0, 0, 0, 0, 0, 0], 1705//1)\n",
       " HalfSpace(Rational{BigInt}[0, 0, 1, 0, 0, 0, -1, 0, 0, 0, 0, 0, 0, 0, 0, 0, 0, 0, 0, 0, 0, 0, 0, 0, 0, 0, 0, 0], 1229//1)\n",
       " HalfSpace(Rational{BigInt}[0, 0, 1, 0, 0, 0, 0, 0, 0, -1, 0, 0, 0, 0, 0, 0, 0, 0, 0, 0, 0, 0, 0, 0, 0, 0, 0, 0], 1580//1)\n",
       " HalfSpace(Rational{BigInt}[0, 0, 1, 0, 0, 0, 0, 0, 0, 0, 0, -1, 0, 0, 0, 0, 0, 0, 0, 0, 0, 0, 0, 0, 0, 0, 0, 0], 1626//1)\n",
       " HalfSpace(Rational{BigInt}[0, 0, 1, 0, 0, 0, 0, 0, 0, 0, 0, 0, -1, 0, 0, 0, 0, 0, 0, 0, 0, 0, 0, 0, 0, 0, 0, 0], 1151//1)\n",
       " HalfSpace(Rational{BigInt}[0, 0, 1, 0, 0, 0, 0, 0, 0, 0, 0, 0, 0, 0, -1, 0, 0, 0, 0, 0, 0, 0, 0, 0, 0, 0, 0, 0], 1563//1)\n",
       " HalfSpace(Rational{BigInt}[0, 0, 1, 0, 0, 0, 0, 0, 0, 0, 0, 0, 0, 0, 0, -1, 0, 0, 0, 0, 0, 0, 0, 0, 0, 0, 0, 0], 1525//1)\n",
       " HalfSpace(Rational{BigInt}[0, 0, 1, 0, 0, 0, 0, 0, 0, 0, 0, 0, 0, 0, 0, 0, -1, 0, 0, 0, 0, 0, 0, 0, 0, 0, 0, 0], 49070//33)\n",
       " HalfSpace(Rational{BigInt}[0, 0, 1, 0, 0, 0, 0, 0, 0, 0, 0, 0, 0, 0, 0, 0, 0, -1, 0, 0, 0, 0, 0, 0, 0, 0, 0, 0], 47189//33)\n",
       " HalfSpace(Rational{BigInt}[0, 0, 1, 0, 0, 0, 0, 0, 0, 0, 0, 0, 0, 0, 0, 0, 0, 0, 0, 0, 0, -1, 0, 0, 0, 0, 0, 0], 1734//1)\n",
       " HalfSpace(Rational{BigInt}[0, 0, 1, 0, 0, 0, 0, 0, 0, 0, 0, 0, 0, 0, 0, 0, 0, 0, 0, 0, 0, 0, -1, 0, 0, 0, 0, 0], 2058//1)\n",
       "  ⋮"
      ]
     },
     "metadata": {},
     "output_type": "display_data"
    }
   ],
   "source": [
    "n = length(coph_vecs |> first)\n",
    "H = hrep(phylo_frech)"
   ]
  },
  {
   "cell_type": "code",
   "execution_count": 33,
   "metadata": {},
   "outputs": [
    {
     "data": {
      "text/plain": [
       "28×28 Matrix{TropicalSemiringElem{typeof(min)}}:\n",
       " (0)  ∞            ∞      ∞       …  ∞       ∞       ∞       ∞       (0)\n",
       " ∞    (0)          ∞      ∞          ∞       (1245)  ∞       ∞       ∞\n",
       " ∞    ∞            (0)    ∞          (1512)  (1650)  ∞       (1684)  ∞\n",
       " ∞    ∞            ∞      (0)        (2361)  (1885)  (1872)  (1397)  ∞\n",
       " ∞    ∞            ∞      ∞          (1192)  ∞       ∞       (2233)  ∞\n",
       " ∞    ∞            ∞      ∞       …  ∞       (2538)  (2330)  (2238)  ∞\n",
       " ∞    ∞            ∞      ∞          ∞       ∞       (1956)  (2331)  ∞\n",
       " ∞    ∞            ∞      ∞          ∞       ∞       ∞       ∞       ∞\n",
       " ∞    (37091//33)  ∞      ∞          (1612)  (1750)  (1667)  (1763)  ∞\n",
       " ∞    (56528//33)  (908)  ∞          ∞       (1964)  (1747)  (1476)  ∞\n",
       " ⋮                                ⋱                  ⋮               \n",
       " ∞    (51380//33)  ∞      ∞          (2289)  (2216)  (2203)  (1728)  ∞\n",
       " ∞    ∞            ∞      ∞       …  ∞       (2149)  (2275)  (2183)  ∞\n",
       " ∞    ∞            ∞      ∞          ∞       (2565)  (2367)  (2275)  ∞\n",
       " ∞    ∞            ∞      ∞          ∞       ∞       ∞       ∞       ∞\n",
       " ∞    ∞            (879)  ∞          (0)     ∞       ∞       ∞       ∞\n",
       " ∞    ∞            (984)  ∞          ∞       (0)     ∞       ∞       ∞\n",
       " ∞    ∞            (775)  (2233)  …  ∞       ∞       (0)     ∞       ∞\n",
       " ∞    ∞            (880)  ∞          ∞       ∞       ∞       (0)     ∞\n",
       " (0)  (0)          (0)    (0)        ∞       (0)     ∞       ∞       (0)"
      ]
     },
     "metadata": {},
     "output_type": "display_data"
    }
   ],
   "source": [
    "T = tropical_semiring(min)\n",
    "C = identity_matrix(T, n)\n",
    "for h in halfspaces(H)\n",
    "    setindex!(C, h.β, indices(h.a)...)\n",
    "end\n",
    "Matrix(C)"
   ]
  },
  {
   "cell_type": "code",
   "execution_count": 34,
   "metadata": {},
   "outputs": [
    {
     "data": {
      "text/plain": [
       "28×28 Matrix{TropicalSemiringElem{typeof(min)}}:\n",
       " (0)     (0)          (0)          (0)     …  (0)     (0)     (0)     (0)\n",
       " (1617)  (0)          (1617)       (1617)     (1245)  (1023)  (1023)  (1617)\n",
       " (2058)  (2058)       (0)          (2058)     (1650)  (2058)  (1684)  (2058)\n",
       " (2741)  (2741)       (1826)       (0)        (1885)  (1872)  (1397)  (2741)\n",
       " (2560)  (2560)       (2071)       (2560)     (2560)  (2560)  (2233)  (2560)\n",
       " (2572)  (2572)       (2572)       (2572)  …  (2538)  (2330)  (2238)  (2572)\n",
       " (2646)  (2646)       (2646)       (2646)     (2646)  (1956)  (2331)  (2646)\n",
       " (0)     (0)          (0)          (0)        (0)     (0)     (0)     (0)\n",
       " (2165)  (37091//33)  (997)        (2165)     (1750)  (1667)  (1763)  (2165)\n",
       " (2341)  (56528//33)  (908)        (2341)     (1964)  (1747)  (1476)  (2341)\n",
       " ⋮                                         ⋱          ⋮               \n",
       " (2494)  (51380//33)  (57881//33)  (2494)     (2216)  (2203)  (1728)  (2494)\n",
       " (2497)  (2497)       (2497)       (2497)  …  (2149)  (2275)  (2183)  (2497)\n",
       " (2635)  (2635)       (2635)       (2635)     (2565)  (2367)  (2275)  (2635)\n",
       " (0)     (0)          (0)          (0)        (0)     (0)     (0)     (0)\n",
       " (2326)  (2326)       (879)        (2326)     (2326)  (2284)  (2284)  (2326)\n",
       " (2297)  (2297)       (984)        (2297)     (0)     (2297)  (2297)  (2297)\n",
       " (2549)  (2549)       (775)        (2233)  …  (2425)  (0)     (2180)  (2549)\n",
       " (2262)  (2262)       (880)        (2262)     (2127)  (2262)  (0)     (2262)\n",
       " (0)     (0)          (0)          (0)        (0)     (0)     (0)     (0)"
      ]
     },
     "metadata": {},
     "output_type": "display_data"
    }
   ],
   "source": [
    "Matrix(C^n)"
   ]
  },
  {
   "cell_type": "code",
   "execution_count": 35,
   "metadata": {},
   "outputs": [
    {
     "data": {
      "text/plain": [
       "Set{Vector} with 9789 elements:\n",
       "  QQFieldElem[0, -22078//33, -2099, -235, -1000, -131, -19439//33, -2497, -4102…\n",
       "  QQFieldElem[0, 168, 1216, 1148, -277, 312, 1481, -933, 648, -1165  …  138, 11…\n",
       "  QQFieldElem[0, -17786//33, -1143, -379, -1763, -7589//33, -1737, -74942//33, …\n",
       "  QQFieldElem[0, 2297, 2421, 2230, 2257, 1841, 1894, 932, 66, 2326  …  1932, 0,…\n",
       "  QQFieldElem[0, -541, 255, 348, -1954, -1377, -505, -470, 321, 121  …  -757, 3…\n",
       "  QQFieldElem[0, 28247//33, 19865//33, 0, 63293//33, 0, 9206//33, 37718//33, 0,…\n",
       "  QQFieldElem[0, -1174, -1588, -1768, 74, -75, -1664, -2231, -2572, -746  …  -1…\n",
       "  QQFieldElem[0, 1903, -594, -594, -594, 2052, -594, 2507, -594, 36926//33  …  …\n",
       "  QQFieldElem[0, 226, 122, -975, -2058, -1035, 357, -1738, 502, -2058  …  199, …\n",
       "  QQFieldElem[0, 1339, 2588, 798, 1418, 2572, 2839//33, 0, 2296, 2254  …  0, 13…\n",
       "  QQFieldElem[0, -453, 733, -79, 641, 704, 799, 216, -1476, -1476  …  -1476, -1…\n",
       "  QQFieldElem[0, -836, 229, -79, 213, 42, 334, -628, -1456, -584  …  -620, -22,…\n",
       "  QQFieldElem[0, -2163, -1586, -2163, -46399//33, -88, -1909, -1045, -2163, -12…\n",
       "  QQFieldElem[0, -344, -2402, 158, -2402, 105, -2402, 13, -1379, -2402  …  -166…\n",
       "  QQFieldElem[0, 1152, 1049, -1264, 998, 941, 685, 750, -1023, 1242  …  713, 18…\n",
       "  QQFieldElem[0, -2275, -6568//33, -1252, -154, -92, -50095//33, -2275, -44947/…\n",
       "  QQFieldElem[0, -37421//33, -330, -41018//33, 36928//33, 30757//33, -15080//33…\n",
       "  QQFieldElem[0, 1023, 2284, 2183, 2121, 49070//33, 1397, 30128//33, 0, 24980//…\n",
       "  QQFieldElem[0, 2635, 0, 2180, 2262, 2497, 2495, 0, 1023, 2313  …  2560, 2297,…\n",
       "  ⋮ "
      ]
     },
     "metadata": {},
     "output_type": "display_data"
    }
   ],
   "source": [
    "V = Set{Vector}()\n",
    "A = C^n\n",
    "\n",
    "for i in 1:size(A,1)\n",
    "    for j in 1:size(A,1)\n",
    "        if i != j\n",
    "            for v in breakpoints_of_tropical_line(A[:,i], A[:,j])\n",
    "                push!(V, trop_normalize(v))\n",
    "            end\n",
    "        end\n",
    "    end\n",
    "end\n",
    "V"
   ]
  },
  {
   "cell_type": "code",
   "execution_count": 36,
   "metadata": {},
   "outputs": [
    {
     "data": {
      "text/plain": [
       "9789×27 transpose(::Matrix{QQFieldElem}) with eltype QQFieldElem:\n",
       " -22078//33  -2099      -235   -1000      …  -2497       -2497      9\n",
       " 168         1216       1148   -277          569         -54        392\n",
       " -17786//33  -1143      -379   -1763         -94544//33  -1622      -935\n",
       " 2297        2421       2230   2257          2608        2450       2646\n",
       " -541        255        348    -1954         -1954       -1954      413\n",
       " 28247//33   19865//33  0      63293//33  …  2174        2402       0\n",
       " -1174       -1588      -1768  74            -1575       -1693      -2197\n",
       " 1903        -594       -594   -594          1955        1703       2367\n",
       " 226         122        -975   -2058         265         255        -2058\n",
       " 1339        2588       798    1418          2082        2728       0\n",
       " ⋮                                        ⋱              ⋮          \n",
       " 330         -2560      86     -2560      …  242         -66        -85\n",
       " 0           2191       2575   0             2308        2542       0\n",
       " -541        308        413    -1778         -1778       -1778      857\n",
       " 2297        2580       594    1753          1753        0          2437\n",
       " 1271        1167       -1375  1185          -781        1050       752\n",
       " 58508//33   1023       0      2183       …  0           65867//33  1397\n",
       " 2290        1023       0      0             2379        2261       0\n",
       " -1612       -1612      -420   790           -1612       651        1034\n",
       " 292         171        -2024  -1001         483         -2058      105"
      ]
     },
     "metadata": {},
     "output_type": "display_data"
    }
   ],
   "source": [
    "ratV = reduce(hcat, map(collect(V)) do v\n",
    "    QQ.(v)[2:end]\n",
    "end) |> transpose"
   ]
  },
  {
   "cell_type": "code",
   "execution_count": 37,
   "metadata": {},
   "outputs": [
    {
     "data": {
      "text/plain": [
       "Polyhedron in ambient dimension 27"
      ]
     },
     "metadata": {},
     "output_type": "display_data"
    }
   ],
   "source": [
    "FMP = convex_hull(ratV)"
   ]
  }
 ],
 "metadata": {
  "kernelspec": {
   "display_name": "Julia 1.10.7",
   "language": "julia",
   "name": "julia-1.10"
  },
  "language_info": {
   "file_extension": ".jl",
   "mimetype": "application/julia",
   "name": "julia",
   "version": "1.10.7"
  }
 },
 "nbformat": 4,
 "nbformat_minor": 2
}
