{
 "cells": [
  {
   "cell_type": "code",
   "execution_count": 1,
   "metadata": {},
   "outputs": [
    {
     "name": "stdout",
     "output_type": "stream",
     "text": [
      "\r"
     ]
    }
   ],
   "source": [
    "using TropicalFrechetMeans\n",
    "using CDDLib, Polyhedra\n",
    "using Oscar"
   ]
  },
  {
   "cell_type": "code",
   "execution_count": 2,
   "metadata": {},
   "outputs": [
    {
     "data": {
      "text/plain": [
       "indices (generic function with 1 method)"
      ]
     },
     "metadata": {},
     "output_type": "display_data"
    }
   ],
   "source": [
    "function trop_normalize(x)\n",
    "    return x .- first(x)\n",
    "end\n",
    "\n",
    "function trop_normalize(x::Vector{T}) where {T<:TropicalSemiringElem}\n",
    "    return x ./ first(x)\n",
    "end\n",
    "\n",
    "function indices(v)\n",
    "    findfirst(==(-1), v), findfirst(==(1), v)\n",
    "end"
   ]
  },
  {
   "cell_type": "code",
   "execution_count": 3,
   "metadata": {},
   "outputs": [
    {
     "name": "stdout",
     "output_type": "stream",
     "text": [
      "num_FM = [0.0, -1.4387319974273893e-8, -1.0001294161599674]\n"
     ]
    },
    {
     "data": {
      "text/plain": [
       "Polyhedron CDDLib.Polyhedron{Rational{BigInt}}:\n",
       "5-element iterator of HalfSpace{Rational{BigInt}, Vector{Rational{BigInt}}}:\n",
       " HalfSpace(Rational{BigInt}[1, 0, -1], 1//1)\n",
       " HalfSpace(Rational{BigInt}[-1, 1, 0], 1//1)\n",
       " HalfSpace(Rational{BigInt}[0, 1, -1], 1//1)\n",
       " HalfSpace(Rational{BigInt}[-1, 0, 1], -1//1)\n",
       " HalfSpace(Rational{BigInt}[0, -1, 1], -1//1)"
      ]
     },
     "metadata": {},
     "output_type": "display_data"
    }
   ],
   "source": [
    "sample = [[-3,0,0], [0,-6,0], [0,0,-12]]\n",
    "n = length(sample |> first)\n",
    "\n",
    "num_FM = tropical_frechet_mean(sample) |> trop_normalize\n",
    "@show num_FM\n",
    "P = tropical_frechet_set(sample; tol=1e-3)"
   ]
  },
  {
   "cell_type": "code",
   "execution_count": 4,
   "metadata": {},
   "outputs": [
    {
     "data": {
      "text/plain": [
       "V-representation CDDGeneratorMatrix{Rational{BigInt}, GMPRational}:\n",
       "1-element iterator of Vector{Rational{BigInt}}:\n",
       " Rational{BigInt}[1, 1, 0],\n",
       "1-element iterator of Line{Rational{BigInt}, Vector{Rational{BigInt}}}:\n",
       " Line(Rational{BigInt}[1, 1, 1])"
      ]
     },
     "metadata": {},
     "output_type": "display_data"
    }
   ],
   "source": [
    "vrep(P)"
   ]
  },
  {
   "cell_type": "code",
   "execution_count": 5,
   "metadata": {},
   "outputs": [
    {
     "data": {
      "text/plain": [
       "H-representation CDDInequalityMatrix{Rational{BigInt}, GMPRational}:\n",
       "5-element iterator of HalfSpace{Rational{BigInt}, Vector{Rational{BigInt}}}:\n",
       " HalfSpace(Rational{BigInt}[1, 0, -1], 1//1)\n",
       " HalfSpace(Rational{BigInt}[-1, 1, 0], 1//1)\n",
       " HalfSpace(Rational{BigInt}[0, 1, -1], 1//1)\n",
       " HalfSpace(Rational{BigInt}[-1, 0, 1], -1//1)\n",
       " HalfSpace(Rational{BigInt}[0, -1, 1], -1//1)"
      ]
     },
     "metadata": {},
     "output_type": "display_data"
    }
   ],
   "source": [
    "H = hrep(P)"
   ]
  },
  {
   "cell_type": "code",
   "execution_count": 6,
   "metadata": {},
   "outputs": [
    {
     "data": {
      "text/plain": [
       "3×3 Matrix{TropicalSemiringElem{typeof(min)}}:\n",
       " (0)  (1)  (-1)\n",
       " ∞    (0)  (-1)\n",
       " (1)  (1)  (0)"
      ]
     },
     "metadata": {},
     "output_type": "display_data"
    }
   ],
   "source": [
    "T = tropical_semiring()\n",
    "C = identity_matrix(T, n)\n",
    "for h in halfspaces(H)\n",
    "    setindex!(C, h.β, indices(h.a)...)\n",
    "end\n",
    "Matrix(C)"
   ]
  },
  {
   "cell_type": "code",
   "execution_count": 7,
   "metadata": {},
   "outputs": [
    {
     "ename": "UndefVarError",
     "evalue": "UndefVarError: `breakpoints_of_tropical_line` not defined",
     "output_type": "error",
     "traceback": [
      "UndefVarError: `breakpoints_of_tropical_line` not defined\n",
      "\n",
      "Stacktrace:\n",
      " [1] top-level scope\n",
      "   @ ~/Repos/TropicalFrechetMeans.jl/examples/jl_notebook_cell_df34fa98e69747e1a8f8a730347b8e2f_W6sZmlsZQ==.jl:7"
     ]
    }
   ],
   "source": [
    "V = Set{Vector}()\n",
    "A = C^n\n",
    "\n",
    "for i in 1:size(A,1)\n",
    "    for j in 1:size(A,1)\n",
    "        if i != j\n",
    "            for v in breakpoints_of_tropical_line(A[:,i], A[:,j])\n",
    "                push!(V, trop_normalize(v))\n",
    "            end\n",
    "        end\n",
    "    end\n",
    "end"
   ]
  },
  {
   "cell_type": "markdown",
   "metadata": {},
   "source": [
    "## Phylogenetic trees"
   ]
  },
  {
   "cell_type": "code",
   "execution_count": 8,
   "metadata": {},
   "outputs": [
    {
     "data": {
      "text/plain": [
       "268-element Vector{Vector{Rational{Int64}}}:\n",
       " [3784, 6626, 9906, 6521, 11778, 8750, 7661, 7601, 10881, 7496  …  4901, 15579, 12551, 11462, 12194, 9167, 8078, 14217, 13128, 1089]\n",
       " [3485, 8484, 9427, 8865, 25257, 9257, 10300, 8814, 9756, 9195  …  3645, 25010, 9010, 10054, 24449, 8449, 9492, 20033, 21076, 2163]\n",
       " [3570, 5592, 6890, 4591, 4849, 5136, 4872, 3905, 6062, 3763  …  6609, 6867, 7154, 6890, 2383, 4367, 4103, 4625, 4361, 274]\n",
       " [1696, 4297, 5665, 6408, 4431, 4218, 4248, 4473, 5841, 6584  …  9039, 7062, 6849, 6880, 5542, 6984, 7014, 5006, 5037, 557]\n",
       " [1864, 8173, 6779, 10056, 10843, 9010, 9319, 8433, 7039, 10315  …  11759, 12546, 10713, 11022, 15116, 13283, 13592, 12332, 12642, 2722]\n",
       " [3801, 11567, 5222, 5725, 5642, 8167, 7548, 12836, 6491, 6994  …  6129, 6046, 8571, 7952, 601, 7410, 6791, 7327, 6708, 4443]\n",
       " [751, 29706, 6877, 4376, 5857, 9999, 8966, 29899, 7070, 4569  …  6079, 7560, 11702, 10669, 3359, 8305, 7272, 9787, 8754, 5104]\n",
       " [4080, 8200, 9699, 9924, 11942, 9302, 9463, 7689, 9188, 9413  …  7219, 10137, 9656, 9817, 10362, 9881, 10042, 11898, 12059, 878]\n",
       " [5044, 13355, 13753, 12176, 12887, 14429, 15134, 12604, 13002, 11425  …  13357, 14068, 15610, 16316, 5411, 12410, 13116, 13121, 13827, 2545]\n",
       " [1971, 3755, 11351, 4502, 4538, 4844, 4814, 4479, 12075, 5226  …  13369, 13405, 13711, 13681, 2561, 5853, 5823, 5889, 5859, 680]\n",
       " ⋮\n",
       " [12104, 17530, 15133, 15138, 16057, 17311, 16792, 15835, 13437, 13443  …  13726, 14645, 15898, 15379, 6173, 13484, 12964, 14402, 13883, 1971]\n",
       " [3791, 6224, 9785, 6030, 5971, 7025, 7227, 6645, 10205, 6450  …  8730, 8672, 9726, 9927, 612, 5150, 5351, 5091, 5292, 2972]\n",
       " [12419, 12190, 13716, 15054, 18758, 15491, 16261, 3497, 6847, 8185  …  4423, 11913, 8646, 9416, 13251, 9984, 10754, 11736, 12506, 2095]\n",
       " [662, 1852, 10877, 2590, 2588, 3423, 3718, 1956, 10981, 2694  …  10906, 10904, 11740, 12034, 127, 2488, 2782, 2485, 2780, 1168]\n",
       " [8737, 13294, 11818, 19727, 22705, 11726, 12582, 11154, 9678, 17587  …  14552, 17530, 9628, 10485, 17556, 17537, 18393, 20515, 21372, 2294]\n",
       " [100, 1344, 1612, 7520, 3292, 3702, 3564, 1444, 1712, 7619  …  7234, 3007, 3416, 3279, 6118, 8141, 8003, 3914, 3776, 1018]\n",
       " [1007896, 1005727, 1006998, 1002046, 1006305, 1002804, 1003055, 6308, 11448, 7611  …  6713, 13303, 9801, 10053, 8351, 4849, 5101, 9107, 9359, 756]\n",
       " [4444, 15042, 7404, 11317, 8120, 9215, 9044, 14670, 7032, 10945  …  5282, 4967, 7167, 6996, 8880, 11080, 10909, 7883, 7712, 735]\n",
       " [7063, 13650, 24004, 16860, 17949, 14844, 15366, 11574, 21928, 14784  …  21722, 22811, 21576, 22097, 8020, 14432, 14954, 15521, 16042, 1776]"
      ]
     },
     "metadata": {},
     "output_type": "display_data"
    }
   ],
   "source": [
    "using JSON3\n",
    "using DataFrames\n",
    "\n",
    "# Function to read the JSON file and convert to a list of matrices\n",
    "function read_and_convert_json(file_path::String)\n",
    "    # Read the JSON file\n",
    "    json_data = JSON3.read(file_path)\n",
    "    \n",
    "    # Extract elements from the nested arrays\n",
    "    elements = [x[1] for x in json_data]\n",
    "    elements = rationalize.(10000 * elements, tol=1e-2)\n",
    "    \n",
    "    # Convert elements into matrices\n",
    "    num_elements = length(elements)\n",
    "    matrices = []\n",
    "    \n",
    "    for i in 1:64:num_elements\n",
    "        # Get the next 64 elements\n",
    "        matrix_elements = elements[i:min(i+63, num_elements)]\n",
    "        \n",
    "        # Convert to an 8x8 matrix if there are 64 elements, otherwise create a smaller matrix\n",
    "        matrix_size = length(matrix_elements)\n",
    "        sqrt_size = Int(sqrt(matrix_size))\n",
    "        push!(matrices, reshape(matrix_elements, sqrt_size, sqrt_size))\n",
    "    end\n",
    "    \n",
    "    return matrices\n",
    "end\n",
    "\n",
    "\"\"\"\n",
    "Take a matrix of pairwise distances between taxa and returns the cophenetic vector.\n",
    "\"\"\"\n",
    "function cophenetic_from_distance(pairwise)\n",
    "    n = size(pairwise, 1)\n",
    "    coph = [pairwise[i, j] for i in 1:n-1 for j in i+1:n]\n",
    "    return coph\n",
    "end\n",
    "\n",
    "# Read and convert the JSON file\n",
    "file_path = \"all_matrices.json\"\n",
    "matrices = read_and_convert_json(file_path)\n",
    "taxa = [\"Tg\", \"Et\", \"Cp\", \"Ta\", \"Bb\", \"Tt\", \"Pv\", \"Pf\"]\n",
    "\n",
    "coph_vecs = [cophenetic_from_distance(mat) for mat in matrices]"
   ]
  },
  {
   "cell_type": "code",
   "execution_count": 9,
   "metadata": {},
   "outputs": [
    {
     "data": {
      "text/plain": [
       "is_phylogenetic_tree"
      ]
     },
     "metadata": {},
     "output_type": "display_data"
    }
   ],
   "source": [
    "\"\"\"\n",
    "Check if a distance matrix defines a phylogenetic tree\n",
    "\"\"\"\n",
    "function is_phylogenetic_tree(D)\n",
    "    n = size(D, 1)\n",
    "    \n",
    "    # Check if the matrix is symmetric and non-negative\n",
    "    for i in 1:n\n",
    "        for j in i:n\n",
    "            if D[i, j] != D[j, i] || D[i, j] < 0\n",
    "                return false\n",
    "            end\n",
    "        end\n",
    "    end\n",
    "\n",
    "    # Check the four-point condition\n",
    "    for i in 1:n-3\n",
    "        for j in i+1:n-2\n",
    "            for k in j+1:n-1\n",
    "                for l in k+1:n\n",
    "                    # Calculate distances\n",
    "                    D_ij_kl = D[i, j] + D[k, l]\n",
    "                    D_ik_jl = D[i, k] + D[j, l]\n",
    "                    D_il_jk = D[i, l] + D[j, k]\n",
    "                    \n",
    "                    # Check the four-point condition\n",
    "                    if !(D_ij_kl >= D_ik_jl && D_ij_kl >= D_il_jk) &&\n",
    "                       !(D_ik_jl >= D_ij_kl && D_ik_jl >= D_il_jk) &&\n",
    "                       !(D_il_jk >= D_ij_kl && D_il_jk >= D_ik_jl)\n",
    "                        return false\n",
    "                    end\n",
    "                end\n",
    "            end\n",
    "        end\n",
    "    end\n",
    "    \n",
    "    return true\n",
    "end"
   ]
  },
  {
   "cell_type": "code",
   "execution_count": 10,
   "metadata": {},
   "outputs": [
    {
     "name": "stdout",
     "output_type": "stream",
     "text": [
      " 11.631271 seconds (94.31 M allocations: 7.301 GiB, 13.63% gc time, 3.02% compilation time: 24% of which was recompilation)\n",
      "HalfSpace(Rational{BigInt}[1, 0, 0, 0, 0, 0, 0, 0, 0, 0, 0, 0, 0, 0, 0, 0, 0, 0, 0, 0, 0, 0, 0, 0, 0, 0, 0, -1], 0//1) ∩ HalfSpace(Rational{BigInt}[0, 1, 0, 0, 0, 0, -1, 0, 0, 0, 0, 0, 0, 0, 0, 0, 0, 0, 0, 0, 0, 0, 0, 0, 0, 0, 0, 0], 1192//1) ∩ HalfSpace(Rational{BigInt}[0, 1, 0, 0, 0, 0, 0, 0, 0, -1, 0, 0, 0, 0, 0, 0, 0, 0, 0, 0, 0, 0, 0, 0, 0, 0, 0, 0], 866//1) ∩ HalfSpace(Rational{BigInt}[0, 1, 0, 0, 0, 0, 0, 0, 0, 0, 0, -1, 0, 0, 0, 0, 0, 0, 0, 0, 0, 0, 0, 0, 0, 0, 0, 0], 824//1) ∩ HalfSpace(Rational{BigInt}[0, 1, 0, 0, 0, 0, 0, 0, 0, 0, 0, 0, -1, 0, 0, 0, 0, 0, 0, 0, 0, 0, 0, 0, 0, 0, 0, 0], 677//1) ∩ HalfSpace(Rational{BigInt}[0, 1, 0, 0, 0, 0, 0, 0, 0, 0, 0, 0, 0, 0, 0, 0, 0, 0, -1, 0, 0, 0, 0, 0, 0, 0, 0, 0], 1023//1) ∩ HalfSpace(Rational{BigInt}[0, 1, 0, 0, 0, 0, 0, 0, 0, 0, 0, 0, 0, 0, 0, 0, 0, 0, 0, 0, -1, 0, 0, 0, 0, 0, 0, 0], 1023//1) ∩ HalfSpace(Rational{BigInt}[0, 1, 0, 0, 0, 0, 0, 0, 0, 0, 0, 0, 0, 0, 0, 0, 0, 0, 0, 0, 0, -1, 0, 0, 0, 0, 0, 0], 1477//1) ∩ HalfSpace(Rational{BigInt}[0, 1, 0, 0, 0, 0, 0, 0, 0, 0, 0, 0, 0, 0, 0, 0, 0, 0, 0, 0, 0, 0, 0, 0, -1, 0, 0, 0], 1245//1) ∩ HalfSpace(Rational{BigInt}[0, 0, 1, 0, 0, -1, 0, 0, 0, 0, 0, 0, 0, 0, 0, 0, 0, 0, 0, 0, 0, 0, 0, 0, 0, 0, 0, 0], 1705//1) ∩ HalfSpace(Rational{BigInt}[0, 0, 1, 0, 0, 0, -1, 0, 0, 0, 0, 0, 0, 0, 0, 0, 0, 0, 0, 0, 0, 0, 0, 0, 0, 0, 0, 0], 1229//1) ∩ HalfSpace(Rational{BigInt}[0, 0, 1, 0, 0, 0, 0, 0, 0, -1, 0, 0, 0, 0, 0, 0, 0, 0, 0, 0, 0, 0, 0, 0, 0, 0, 0, 0], 1580//1) ∩ HalfSpace(Rational{BigInt}[0, 0, 1, 0, 0, 0, 0, 0, 0, 0, 0, -1, 0, 0, 0, 0, 0, 0, 0, 0, 0, 0, 0, 0, 0, 0, 0, 0], 1626//1) ∩ HalfSpace(Rational{BigInt}[0, 0, 1, 0, 0, 0, 0, 0, 0, 0, 0, 0, -1, 0, 0, 0, 0, 0, 0, 0, 0, 0, 0, 0, 0, 0, 0, 0], 1151//1) ∩ HalfSpace(Rational{BigInt}[0, 0, 1, 0, 0, 0, 0, 0, 0, 0, 0, 0, 0, 0, -1, 0, 0, 0, 0, 0, 0, 0, 0, 0, 0, 0, 0, 0], 1563//1) ∩ HalfSpace(Rational{BigInt}[0, 0, 1, 0, 0, 0, 0, 0, 0, 0, 0, 0, 0, 0, 0, -1, 0, 0, 0, 0, 0, 0, 0, 0, 0, 0, 0, 0], 1525//1) ∩ HalfSpace(Rational{BigInt}[0, 0, 1, 0, 0, 0, 0, 0, 0, 0, 0, 0, 0, 0, 0, 0, -1, 0, 0, 0, 0, 0, 0, 0, 0, 0, 0, 0], 49070//33) ∩ HalfSpace(Rational{BigInt}[0, 0, 1, 0, 0, 0, 0, 0, 0, 0, 0, 0, 0, 0, 0, 0, 0, -1, 0, 0, 0, 0, 0, 0, 0, 0, 0, 0], 47189//33) ∩ HalfSpace(Rational{BigInt}[0, 0, 1, 0, 0, 0, 0, 0, 0, 0, 0, 0, 0, 0, 0, 0, 0, 0, 0, 0, 0, -1, 0, 0, 0, 0, 0, 0], 1734//1) ∩ HalfSpace(Rational{BigInt}[0, 0, 1, 0, 0, 0, 0, 0, 0, 0, 0, 0, 0, 0, 0, 0, 0, 0, 0, 0, 0, 0, -1, 0, 0, 0, 0, 0], 2058//1) … \n"
     ]
    }
   ],
   "source": [
    "@time phylo_frech = tropical_frechet_set(coph_vecs)\n",
    "println(phylo_frech)"
   ]
  },
  {
   "cell_type": "code",
   "execution_count": 11,
   "metadata": {},
   "outputs": [
    {
     "data": {
      "text/plain": [
       "H-representation CDDInequalityMatrix{Rational{BigInt}, GMPRational}:\n",
       "300-element iterator of HalfSpace{Rational{BigInt}, Vector{Rational{BigInt}}}:\n",
       " HalfSpace(Rational{BigInt}[1, 0, 0, 0, 0, 0, 0, 0, 0, 0, 0, 0, 0, 0, 0, 0, 0, 0, 0, 0, 0, 0, 0, 0, 0, 0, 0, -1], 0//1)\n",
       " HalfSpace(Rational{BigInt}[0, 1, 0, 0, 0, 0, -1, 0, 0, 0, 0, 0, 0, 0, 0, 0, 0, 0, 0, 0, 0, 0, 0, 0, 0, 0, 0, 0], 1192//1)\n",
       " HalfSpace(Rational{BigInt}[0, 1, 0, 0, 0, 0, 0, 0, 0, -1, 0, 0, 0, 0, 0, 0, 0, 0, 0, 0, 0, 0, 0, 0, 0, 0, 0, 0], 866//1)\n",
       " HalfSpace(Rational{BigInt}[0, 1, 0, 0, 0, 0, 0, 0, 0, 0, 0, -1, 0, 0, 0, 0, 0, 0, 0, 0, 0, 0, 0, 0, 0, 0, 0, 0], 824//1)\n",
       " HalfSpace(Rational{BigInt}[0, 1, 0, 0, 0, 0, 0, 0, 0, 0, 0, 0, -1, 0, 0, 0, 0, 0, 0, 0, 0, 0, 0, 0, 0, 0, 0, 0], 677//1)\n",
       " HalfSpace(Rational{BigInt}[0, 1, 0, 0, 0, 0, 0, 0, 0, 0, 0, 0, 0, 0, 0, 0, 0, 0, -1, 0, 0, 0, 0, 0, 0, 0, 0, 0], 1023//1)\n",
       " HalfSpace(Rational{BigInt}[0, 1, 0, 0, 0, 0, 0, 0, 0, 0, 0, 0, 0, 0, 0, 0, 0, 0, 0, 0, -1, 0, 0, 0, 0, 0, 0, 0], 1023//1)\n",
       " HalfSpace(Rational{BigInt}[0, 1, 0, 0, 0, 0, 0, 0, 0, 0, 0, 0, 0, 0, 0, 0, 0, 0, 0, 0, 0, -1, 0, 0, 0, 0, 0, 0], 1477//1)\n",
       " HalfSpace(Rational{BigInt}[0, 1, 0, 0, 0, 0, 0, 0, 0, 0, 0, 0, 0, 0, 0, 0, 0, 0, 0, 0, 0, 0, 0, 0, -1, 0, 0, 0], 1245//1)\n",
       " HalfSpace(Rational{BigInt}[0, 0, 1, 0, 0, -1, 0, 0, 0, 0, 0, 0, 0, 0, 0, 0, 0, 0, 0, 0, 0, 0, 0, 0, 0, 0, 0, 0], 1705//1)\n",
       " HalfSpace(Rational{BigInt}[0, 0, 1, 0, 0, 0, -1, 0, 0, 0, 0, 0, 0, 0, 0, 0, 0, 0, 0, 0, 0, 0, 0, 0, 0, 0, 0, 0], 1229//1)\n",
       " HalfSpace(Rational{BigInt}[0, 0, 1, 0, 0, 0, 0, 0, 0, -1, 0, 0, 0, 0, 0, 0, 0, 0, 0, 0, 0, 0, 0, 0, 0, 0, 0, 0], 1580//1)\n",
       " HalfSpace(Rational{BigInt}[0, 0, 1, 0, 0, 0, 0, 0, 0, 0, 0, -1, 0, 0, 0, 0, 0, 0, 0, 0, 0, 0, 0, 0, 0, 0, 0, 0], 1626//1)\n",
       " HalfSpace(Rational{BigInt}[0, 0, 1, 0, 0, 0, 0, 0, 0, 0, 0, 0, -1, 0, 0, 0, 0, 0, 0, 0, 0, 0, 0, 0, 0, 0, 0, 0], 1151//1)\n",
       " HalfSpace(Rational{BigInt}[0, 0, 1, 0, 0, 0, 0, 0, 0, 0, 0, 0, 0, 0, -1, 0, 0, 0, 0, 0, 0, 0, 0, 0, 0, 0, 0, 0], 1563//1)\n",
       " HalfSpace(Rational{BigInt}[0, 0, 1, 0, 0, 0, 0, 0, 0, 0, 0, 0, 0, 0, 0, -1, 0, 0, 0, 0, 0, 0, 0, 0, 0, 0, 0, 0], 1525//1)\n",
       " HalfSpace(Rational{BigInt}[0, 0, 1, 0, 0, 0, 0, 0, 0, 0, 0, 0, 0, 0, 0, 0, -1, 0, 0, 0, 0, 0, 0, 0, 0, 0, 0, 0], 49070//33)\n",
       " HalfSpace(Rational{BigInt}[0, 0, 1, 0, 0, 0, 0, 0, 0, 0, 0, 0, 0, 0, 0, 0, 0, -1, 0, 0, 0, 0, 0, 0, 0, 0, 0, 0], 47189//33)\n",
       " HalfSpace(Rational{BigInt}[0, 0, 1, 0, 0, 0, 0, 0, 0, 0, 0, 0, 0, 0, 0, 0, 0, 0, 0, 0, 0, -1, 0, 0, 0, 0, 0, 0], 1734//1)\n",
       " HalfSpace(Rational{BigInt}[0, 0, 1, 0, 0, 0, 0, 0, 0, 0, 0, 0, 0, 0, 0, 0, 0, 0, 0, 0, 0, 0, -1, 0, 0, 0, 0, 0], 2058//1)\n",
       "  ⋮"
      ]
     },
     "metadata": {},
     "output_type": "display_data"
    }
   ],
   "source": [
    "n = length(coph_vecs |> first)\n",
    "H = hrep(phylo_frech)"
   ]
  },
  {
   "cell_type": "code",
   "execution_count": 12,
   "metadata": {},
   "outputs": [
    {
     "data": {
      "text/plain": [
       "28×28 Matrix{TropicalSemiringElem{typeof(min)}}:\n",
       " (0)  ∞       ∞       ∞       ∞       …  ∞            ∞            (0)\n",
       " ∞    (0)     ∞       ∞       ∞          ∞            ∞            (0)\n",
       " ∞    ∞       (0)     ∞       ∞          (775)        (880)        (0)\n",
       " ∞    ∞       ∞       (0)     ∞          (2233)       ∞            (0)\n",
       " ∞    ∞       ∞       (2400)  (0)        ∞            ∞            (0)\n",
       " ∞    ∞       (1705)  (1418)  (2254)  …  ∞            ∞            ∞\n",
       " ∞    (1192)  (1229)  (942)   (1778)     ∞            ∞            (0)\n",
       " ∞    ∞       ∞       ∞       ∞          ∞            ∞            (0)\n",
       " ∞    ∞       ∞       (2282)  (2240)     (65867//33)  (65867//33)  (0)\n",
       " ∞    (866)   (1580)  (2575)  (1828)     ∞            ∞            (0)\n",
       " ⋮                                    ⋱  ⋮                         \n",
       " ∞    ∞       ∞       (2518)  ∞          (2284)       ∞            (0)\n",
       " ∞    (1023)  ∞       (1922)  (1370)  …  (2231)       ∞            (0)\n",
       " ∞    (1477)  (1734)  (1303)  (1527)     (1111)       (2231)       (0)\n",
       " ∞    ∞       (2058)  ∞       ∞          ∞            ∞            ∞\n",
       " ∞    ∞       (1512)  (2361)  (1192)     ∞            ∞            ∞\n",
       " ∞    (1245)  (1650)  (1885)  ∞          ∞            ∞            (0)\n",
       " ∞    ∞       ∞       (1872)  ∞       …  (0)          ∞            ∞\n",
       " ∞    ∞       (1684)  (1397)  (2233)     ∞            (0)          ∞\n",
       " (0)  ∞       ∞       ∞       ∞          ∞            ∞            (0)"
      ]
     },
     "metadata": {},
     "output_type": "display_data"
    }
   ],
   "source": [
    "T = tropical_semiring()\n",
    "C = identity_matrix(T, n)\n",
    "for h in halfspaces(H)\n",
    "    setindex!(C, h.β, indices(h.a)...)\n",
    "end\n",
    "Matrix(C)"
   ]
  },
  {
   "cell_type": "code",
   "execution_count": 13,
   "metadata": {},
   "outputs": [
    {
     "data": {
      "text/plain": [
       "28×28 Matrix{TropicalSemiringElem{typeof(min)}}:\n",
       " (0)  (1617)  (2058)  (2741)  (2560)  …  (2549)       (2262)       (0)\n",
       " (0)  (0)     (2058)  (2741)  (2560)     (2549)       (2262)       (0)\n",
       " (0)  (1617)  (0)     (1826)  (2071)     (775)        (880)        (0)\n",
       " (0)  (1617)  (2058)  (0)     (2560)     (2233)       (2262)       (0)\n",
       " (0)  (1057)  (2058)  (2400)  (0)        (2214)       (2262)       (0)\n",
       " (0)  (1023)  (1705)  (1418)  (2254)  …  (2180)       (2262)       (0)\n",
       " (0)  (1192)  (1229)  (942)   (1778)     (2004)       (2109)       (0)\n",
       " (0)  (1617)  (2058)  (2741)  (2560)     (2549)       (2262)       (0)\n",
       " (0)  (1617)  (2058)  (2282)  (2240)     (65867//33)  (65867//33)  (0)\n",
       " (0)  (866)   (1580)  (2575)  (1828)     (2355)       (1753)       (0)\n",
       " ⋮                                    ⋱  ⋮                         \n",
       " (0)  (1617)  (2058)  (2518)  (2560)     (2284)       (2262)       (0)\n",
       " (0)  (1023)  (2058)  (1922)  (1370)  …  (2231)       (2262)       (0)\n",
       " (0)  (1477)  (1734)  (1303)  (1527)     (1111)       (2231)       (0)\n",
       " (0)  (1617)  (2058)  (2741)  (2560)     (2549)       (2262)       (0)\n",
       " (0)  (1023)  (1512)  (2361)  (1192)     (2180)       (2262)       (0)\n",
       " (0)  (1245)  (1650)  (1885)  (2560)     (2425)       (2127)       (0)\n",
       " (0)  (1023)  (2058)  (1872)  (2560)  …  (0)          (2262)       (0)\n",
       " (0)  (1023)  (1684)  (1397)  (2233)     (2180)       (0)          (0)\n",
       " (0)  (1617)  (2058)  (2741)  (2560)     (2549)       (2262)       (0)"
      ]
     },
     "metadata": {},
     "output_type": "display_data"
    }
   ],
   "source": [
    "Matrix(C^n)"
   ]
  },
  {
   "cell_type": "code",
   "execution_count": 14,
   "metadata": {},
   "outputs": [
    {
     "data": {
      "text/plain": [
       "breakpoints_of_tropical_line (generic function with 1 method)"
      ]
     },
     "metadata": {},
     "output_type": "display_data"
    }
   ],
   "source": [
    "function breakpoints_of_tropical_line(p,q)\n",
    "    r = q ./ p\n",
    "    σ = sortperm(r)\n",
    "\n",
    "    return map(1:length(r)) do k\n",
    "        [q[σ[1:k]]..., r[σ[k]] .* p[σ[k+1:end]]...][σ]\n",
    "    end\n",
    "end"
   ]
  },
  {
   "cell_type": "code",
   "execution_count": 15,
   "metadata": {},
   "outputs": [
    {
     "data": {
      "text/plain": [
       "Set{Vector} with 9497 elements:\n",
       "  TropicalSemiringElem{typeof(min)}[(0), (0), (-2635), (-862), (0), (-268), (0)…\n",
       "  TropicalSemiringElem{typeof(min)}[(0), (-131), (-37984//33), (-175), (0), (-2…\n",
       "  TropicalSemiringElem{typeof(min)}[(0), (-498), (-381), (-2165), (-415), (0), …\n",
       "  TropicalSemiringElem{typeof(min)}[(0), (-412), (354), (354), (-206), (-240), …\n",
       "  TropicalSemiringElem{typeof(min)}[(0), (870), (-493), (1190), (863), (1190), …\n",
       "  TropicalSemiringElem{typeof(min)}[(0), (-521), (0), (-745), (0), (-241), (-10…\n",
       "  TropicalSemiringElem{typeof(min)}[(0), (412), (412), (-1753), (412), (-523), …\n",
       "  TropicalSemiringElem{typeof(min)}[(0), (0), (0), (0), (-55), (-437), (-1667),…\n",
       "  TropicalSemiringElem{typeof(min)}[(0), (-73), (222), (-2275), (202), (222), (…\n",
       "  TropicalSemiringElem{typeof(min)}[(0), (18844//33), (18844//33), (3070//33), …\n",
       "  TropicalSemiringElem{typeof(min)}[(0), (923), (895), (58), (923), (923), (923…\n",
       "  TropicalSemiringElem{typeof(min)}[(0), (460), (460), (-1705), (-72), (-360), …\n",
       "  TropicalSemiringElem{typeof(min)}[(0), (472), (472), (157), (472), (472), (47…\n",
       "  TropicalSemiringElem{typeof(min)}[(0), (212), (-2415), (-642), (220), (-48), …\n",
       "  TropicalSemiringElem{typeof(min)}[(0), (365), (844), (-21), (-79), (365), (84…\n",
       "  TropicalSemiringElem{typeof(min)}[(0), (-645), (-1746), (-467), (0), (-341), …\n",
       "  TropicalSemiringElem{typeof(min)}[(0), (0), (0), (0), (0), (0), (0), (0), (0)…\n",
       "  TropicalSemiringElem{typeof(min)}[(0), (-50062//33), (-560), (0), (-594), (-1…\n",
       "  TropicalSemiringElem{typeof(min)}[(0), (17920//33), (-57881//33), (17920//33)…\n",
       "  ⋮ "
      ]
     },
     "metadata": {},
     "output_type": "display_data"
    }
   ],
   "source": [
    "V = Set{Vector}()\n",
    "A = C^n\n",
    "\n",
    "for i in 1:size(A,1)\n",
    "    for j in 1:size(A,1)\n",
    "        if i != j\n",
    "            for v in breakpoints_of_tropical_line(A[:,i], A[:,j])\n",
    "                push!(V, trop_normalize(v))\n",
    "            end\n",
    "        end\n",
    "    end\n",
    "end\n",
    "V"
   ]
  },
  {
   "cell_type": "code",
   "execution_count": 16,
   "metadata": {},
   "outputs": [
    {
     "data": {
      "text/plain": [
       "9497×27 transpose(::Matrix{QQFieldElem}) with eltype QQFieldElem:\n",
       " 0           -2635       -862        …  -444        0           0\n",
       " -131        -37984//33  -175           0           -690        -760\n",
       " -498        -381        -2165          -553        -62635//33  0\n",
       " -412        354         354            354         -240        -240\n",
       " 870         -493        1190           1190        458         440\n",
       " -521        0           -745        …  -186        0           -278\n",
       " 412         412         -1753          -49039//33  359         31\n",
       " 0           0           0              0           0           0\n",
       " -73         222         -2275          -126        222         -594\n",
       " 18844//33   18844//33   3070//33       2509//33    7195//33    -8513//33\n",
       " ⋮                                   ⋱              ⋮           \n",
       " 84          292         326            -309        326         139\n",
       " -109        66          66             66          -751        -398\n",
       " -165        495         -19306//33  …  -477        -555        495\n",
       " -44452//33  -1090//33   -355           53          -262        -403\n",
       " -124        -158        0              0           -528        0\n",
       " -238        397         155            397         397         63\n",
       " 0           0           -1345          -2297       -35575//33  0\n",
       " 0           0           0           …  0           0           0\n",
       " -51         124         543            -16468//33  107         543"
      ]
     },
     "metadata": {},
     "output_type": "display_data"
    }
   ],
   "source": [
    "ratV = reduce(hcat, map(collect(V)) do v\n",
    "    QQ.(v)[2:end]\n",
    "end) |> transpose"
   ]
  },
  {
   "cell_type": "code",
   "execution_count": 17,
   "metadata": {},
   "outputs": [
    {
     "data": {
      "text/plain": [
       "Polyhedron in ambient dimension 27"
      ]
     },
     "metadata": {},
     "output_type": "display_data"
    }
   ],
   "source": [
    "FMP = convex_hull(ratV)"
   ]
  }
 ],
 "metadata": {
  "kernelspec": {
   "display_name": "Julia 1.10.7",
   "language": "julia",
   "name": "julia-1.10"
  },
  "language_info": {
   "file_extension": ".jl",
   "mimetype": "application/julia",
   "name": "julia",
   "version": "1.10.7"
  }
 },
 "nbformat": 4,
 "nbformat_minor": 2
}
