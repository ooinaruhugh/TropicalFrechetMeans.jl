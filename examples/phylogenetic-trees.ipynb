{
 "cells": [
  {
   "cell_type": "code",
   "execution_count": 12,
   "metadata": {},
   "outputs": [],
   "source": [
    "using LinearAlgebra\n",
    "using Polyhedra, CDDLib\n",
    "using JuMP, Ipopt, Clarabel\n",
    "using TropicalFrechetMeans"
   ]
  },
  {
   "cell_type": "code",
   "execution_count": 13,
   "metadata": {},
   "outputs": [
    {
     "data": {
      "text/plain": [
       "tropical_frechet_set (generic function with 3 methods)"
      ]
     },
     "metadata": {},
     "output_type": "display_data"
    }
   ],
   "source": [
    "import TropicalFrechetMeans: tropical_frechet_mean, tropical_frechet_set\n",
    "\n",
    "tropical_frechet_mean(sample; power=2) = tropical_frechet_mean(Clarabel.Optimizer, sample; power=power)\n",
    "tropical_frechet_set(sample; power=2, tol=1e-3) = tropical_frechet_set(Clarabel.Optimizer, CDDLib.Library(:exact), sample; power=power, tol=tol)"
   ]
  },
  {
   "cell_type": "code",
   "execution_count": 14,
   "metadata": {},
   "outputs": [
    {
     "data": {
      "text/plain": [
       "trop_normalize (generic function with 1 method)"
      ]
     },
     "metadata": {},
     "output_type": "display_data"
    }
   ],
   "source": [
    "function trop_normalize(x)\n",
    "    return x .- first(x)\n",
    "end"
   ]
  },
  {
   "cell_type": "code",
   "execution_count": 15,
   "metadata": {},
   "outputs": [
    {
     "data": {
      "text/plain": [
       "8-element Vector{String}:\n",
       " \"Tg\"\n",
       " \"Et\"\n",
       " \"Cp\"\n",
       " \"Ta\"\n",
       " \"Bb\"\n",
       " \"Tt\"\n",
       " \"Pv\"\n",
       " \"Pf\""
      ]
     },
     "metadata": {},
     "output_type": "display_data"
    }
   ],
   "source": [
    "using JSON3\n",
    "using DataFrames\n",
    "\n",
    "# Function to read the JSON file and convert to a list of matrices\n",
    "function read_and_convert_json(file_path::String)\n",
    "    # Read the JSON file\n",
    "    json_data = JSON3.read(file_path)\n",
    "    \n",
    "    # Extract elements from the nested arrays\n",
    "    elements = [x[1] for x in json_data]\n",
    "    elements = rationalize.(10000 * elements, tol=1e-2)\n",
    "    \n",
    "    # Convert elements into matrices\n",
    "    num_elements = length(elements)\n",
    "    matrices = []\n",
    "    \n",
    "    for i in 1:64:num_elements\n",
    "        # Get the next 64 elements\n",
    "        matrix_elements = elements[i:min(i+63, num_elements)]\n",
    "        \n",
    "        # Convert to an 8x8 matrix if there are 64 elements, otherwise create a smaller matrix\n",
    "        matrix_size = length(matrix_elements)\n",
    "        sqrt_size = Int(sqrt(matrix_size))\n",
    "        push!(matrices, reshape(matrix_elements, sqrt_size, sqrt_size))\n",
    "    end\n",
    "    \n",
    "    return matrices\n",
    "end\n",
    "\n",
    "# Read and convert the JSON file\n",
    "file_path = \"all_matrices.json\"\n",
    "matrices = read_and_convert_json(file_path)\n",
    "taxa = [\"Tg\", \"Et\", \"Cp\", \"Ta\", \"Bb\", \"Tt\", \"Pv\", \"Pf\"]"
   ]
  },
  {
   "cell_type": "code",
   "execution_count": 16,
   "metadata": {},
   "outputs": [
    {
     "data": {
      "text/plain": [
       "cophenetic_from_distance"
      ]
     },
     "metadata": {},
     "output_type": "display_data"
    }
   ],
   "source": [
    "\"\"\"\n",
    "Take a matrix of pairwise distances between taxa and returns the cophenetic vector.\n",
    "\"\"\"\n",
    "function cophenetic_from_distance(pairwise)\n",
    "    n = size(pairwise, 1)\n",
    "    coph = [pairwise[i, j] for i in 1:n-1 for j in i+1:n]\n",
    "    return coph\n",
    "end"
   ]
  },
  {
   "cell_type": "code",
   "execution_count": 17,
   "metadata": {},
   "outputs": [
    {
     "data": {
      "text/plain": [
       "is_phylogenetic_tree"
      ]
     },
     "metadata": {},
     "output_type": "display_data"
    }
   ],
   "source": [
    "\"\"\"\n",
    "Check if a distance matrix defines a phylogenetic tree\n",
    "\"\"\"\n",
    "function is_phylogenetic_tree(D)\n",
    "    n = size(D, 1)\n",
    "    \n",
    "    # Check if the matrix is symmetric and non-negative\n",
    "    for i in 1:n\n",
    "        for j in i:n\n",
    "            if D[i, j] != D[j, i] || D[i, j] < 0\n",
    "                return false\n",
    "            end\n",
    "        end\n",
    "    end\n",
    "\n",
    "    # Check the four-point condition\n",
    "    for i in 1:n-3\n",
    "        for j in i+1:n-2\n",
    "            for k in j+1:n-1\n",
    "                for l in k+1:n\n",
    "                    # Calculate distances\n",
    "                    D_ij_kl = D[i, j] + D[k, l]\n",
    "                    D_ik_jl = D[i, k] + D[j, l]\n",
    "                    D_il_jk = D[i, l] + D[j, k]\n",
    "                    \n",
    "                    # Check the four-point condition\n",
    "                    if !(D_ij_kl >= D_ik_jl && D_ij_kl >= D_il_jk) &&\n",
    "                       !(D_ik_jl >= D_ij_kl && D_ik_jl >= D_il_jk) &&\n",
    "                       !(D_il_jk >= D_ij_kl && D_il_jk >= D_ik_jl)\n",
    "                        return false\n",
    "                    end\n",
    "                end\n",
    "            end\n",
    "        end\n",
    "    end\n",
    "    \n",
    "    return true\n",
    "end"
   ]
  },
  {
   "cell_type": "code",
   "execution_count": 18,
   "metadata": {},
   "outputs": [
    {
     "data": {
      "text/plain": [
       "is_ultrametric_tree"
      ]
     },
     "metadata": {},
     "output_type": "display_data"
    }
   ],
   "source": [
    "\"\"\"\n",
    "Check if a distance matrix defines an ultrametric tree\n",
    "\"\"\"\n",
    "function is_ultrametric_tree(D)\n",
    "    n = size(D, 1)\n",
    "    \n",
    "    # Check if the matrix is symmetric and non-negative\n",
    "    for i in 1:n\n",
    "        for j in i:n\n",
    "            if D[i, j] != D[j, i] || D[i, j] < 0\n",
    "                return false\n",
    "            end\n",
    "        end\n",
    "    end\n",
    "\n",
    "    # Check the ultrametric condition\n",
    "    for i in 1:n-2\n",
    "        for j in i+1:n-1\n",
    "            for k in j+1:n\n",
    "                # Calculate distances\n",
    "                Dij = D[i, j]\n",
    "                Dik = D[i, k]\n",
    "                Djk = D[j, k]\n",
    "                \n",
    "                # Check if the largest distance is attained at least twice\n",
    "                if !(Dij <= max(Dik, Djk) && Dik <= max(Dij, Djk) && Djk <= max(Dij, Dik))\n",
    "                    return false\n",
    "                end\n",
    "            end\n",
    "        end\n",
    "    end\n",
    "    \n",
    "    return true\n",
    "\n",
    "end"
   ]
  },
  {
   "cell_type": "code",
   "execution_count": 19,
   "metadata": {},
   "outputs": [
    {
     "name": "stdout",
     "output_type": "stream",
     "text": [
      "All phylogenetic: true\n",
      "All ultrametric: false\n"
     ]
    }
   ],
   "source": [
    "println(\"All phylogenetic: \", all([is_phylogenetic_tree(matrices[i]) for i = 1:268]))\n",
    "println(\"All ultrametric: \", all([is_ultrametric_tree(matrices[i]) for i = 1:268]))"
   ]
  },
  {
   "cell_type": "code",
   "execution_count": 20,
   "metadata": {},
   "outputs": [
    {
     "data": {
      "text/plain": [
       "268-element Vector{Vector{Rational{Int64}}}:\n",
       " [3784, 6626, 9906, 6521, 11778, 8750, 7661, 7601, 10881, 7496  …  4901, 15579, 12551, 11462, 12194, 9167, 8078, 14217, 13128, 1089]\n",
       " [3485, 8484, 9427, 8865, 25257, 9257, 10300, 8814, 9756, 9195  …  3645, 25010, 9010, 10054, 24449, 8449, 9492, 20033, 21076, 2163]\n",
       " [3570, 5592, 6890, 4591, 4849, 5136, 4872, 3905, 6062, 3763  …  6609, 6867, 7154, 6890, 2383, 4367, 4103, 4625, 4361, 274]\n",
       " [1696, 4297, 5665, 6408, 4431, 4218, 4248, 4473, 5841, 6584  …  9039, 7062, 6849, 6880, 5542, 6984, 7014, 5006, 5037, 557]\n",
       " [1864, 8173, 6779, 10056, 10843, 9010, 9319, 8433, 7039, 10315  …  11759, 12546, 10713, 11022, 15116, 13283, 13592, 12332, 12642, 2722]\n",
       " [3801, 11567, 5222, 5725, 5642, 8167, 7548, 12836, 6491, 6994  …  6129, 6046, 8571, 7952, 601, 7410, 6791, 7327, 6708, 4443]\n",
       " [751, 29706, 6877, 4376, 5857, 9999, 8966, 29899, 7070, 4569  …  6079, 7560, 11702, 10669, 3359, 8305, 7272, 9787, 8754, 5104]\n",
       " [4080, 8200, 9699, 9924, 11942, 9302, 9463, 7689, 9188, 9413  …  7219, 10137, 9656, 9817, 10362, 9881, 10042, 11898, 12059, 878]\n",
       " [5044, 13355, 13753, 12176, 12887, 14429, 15134, 12604, 13002, 11425  …  13357, 14068, 15610, 16316, 5411, 12410, 13116, 13121, 13827, 2545]\n",
       " [1971, 3755, 11351, 4502, 4538, 4844, 4814, 4479, 12075, 5226  …  13369, 13405, 13711, 13681, 2561, 5853, 5823, 5889, 5859, 680]\n",
       " ⋮\n",
       " [12104, 17530, 15133, 15138, 16057, 17311, 16792, 15835, 13437, 13443  …  13726, 14645, 15898, 15379, 6173, 13484, 12964, 14402, 13883, 1971]\n",
       " [3791, 6224, 9785, 6030, 5971, 7025, 7227, 6645, 10205, 6450  …  8730, 8672, 9726, 9927, 612, 5150, 5351, 5091, 5292, 2972]\n",
       " [12419, 12190, 13716, 15054, 18758, 15491, 16261, 3497, 6847, 8185  …  4423, 11913, 8646, 9416, 13251, 9984, 10754, 11736, 12506, 2095]\n",
       " [662, 1852, 10877, 2590, 2588, 3423, 3718, 1956, 10981, 2694  …  10906, 10904, 11740, 12034, 127, 2488, 2782, 2485, 2780, 1168]\n",
       " [8737, 13294, 11818, 19727, 22705, 11726, 12582, 11154, 9678, 17587  …  14552, 17530, 9628, 10485, 17556, 17537, 18393, 20515, 21372, 2294]\n",
       " [100, 1344, 1612, 7520, 3292, 3702, 3564, 1444, 1712, 7619  …  7234, 3007, 3416, 3279, 6118, 8141, 8003, 3914, 3776, 1018]\n",
       " [1007896, 1005727, 1006998, 1002046, 1006305, 1002804, 1003055, 6308, 11448, 7611  …  6713, 13303, 9801, 10053, 8351, 4849, 5101, 9107, 9359, 756]\n",
       " [4444, 15042, 7404, 11317, 8120, 9215, 9044, 14670, 7032, 10945  …  5282, 4967, 7167, 6996, 8880, 11080, 10909, 7883, 7712, 735]\n",
       " [7063, 13650, 24004, 16860, 17949, 14844, 15366, 11574, 21928, 14784  …  21722, 22811, 21576, 22097, 8020, 14432, 14954, 15521, 16042, 1776]"
      ]
     },
     "metadata": {},
     "output_type": "display_data"
    }
   ],
   "source": [
    "coph_vecs = [cophenetic_from_distance(mat) for mat in matrices]"
   ]
  },
  {
   "cell_type": "code",
   "execution_count": 24,
   "metadata": {},
   "outputs": [
    {
     "name": "stdout",
     "output_type": "stream",
     "text": [
      "  6.768138 seconds (79.33 M allocations: 5.835 GiB, 8.33% gc time, 0.22% compilation time)\n"
     ]
    },
    {
     "data": {
      "text/plain": [
       "28-element Vector{Float64}:\n",
       "  0.0\n",
       "  9.796453618021034e-8\n",
       " -1.1183419040827758e-7\n",
       "  1.0547853252981798e-7\n",
       " -4.96050883537838e-8\n",
       " -2.1744667498026227e-8\n",
       "  1.398223372812979e-7\n",
       "  1.1246609400109714e-7\n",
       " -1.2560321007402953e-7\n",
       "  7.509146351773743e-8\n",
       "  ⋮\n",
       " -1.5001126870586683e-5\n",
       " -1.1906876172616127e-6\n",
       "  3.9068436725325784e-8\n",
       " -3.324646384202101e-7\n",
       " -1.4674355597755345e-7\n",
       "  1.2851988472582787e-7\n",
       " -1.2704829004464568e-6\n",
       " -2.856226545486229e-7\n",
       " -3.6294635013221777e-7"
      ]
     },
     "metadata": {},
     "output_type": "display_data"
    }
   ],
   "source": [
    "@time tropical_frechet_mean(coph_vecs) |> trop_normalize"
   ]
  },
  {
   "cell_type": "code",
   "execution_count": 23,
   "metadata": {},
   "outputs": [
    {
     "name": "stdout",
     "output_type": "stream",
     "text": [
      " 16.595804 seconds (275.28 M allocations: 12.098 GiB, 15.34% gc time)\n"
     ]
    },
    {
     "data": {
      "text/plain": [
       "Polyhedron CDDLib.Polyhedron{Rational{BigInt}}:\n",
       "202608-element iterator of HalfSpace{Rational{BigInt}, Vector{Rational{BigInt}}}:\n",
       " HalfSpace(Rational{BigInt}[1, -1, 0, 0, 0, 0, 0, 0, 0, 0, 0, 0, 0, 0, 0, 0, 0, 0, 0, 0, 0, 0, 0, 0, 0, 0, 0, 0], 155384321//13340)\n",
       " HalfSpace(Rational{BigInt}[1, 0, -1, 0, 0, 0, 0, 0, 0, 0, 0, 0, 0, 0, 0, 0, 0, 0, 0, 0, 0, 0, 0, 0, 0, 0, 0, 0], 111629121//13340)\n",
       " HalfSpace(Rational{BigInt}[1, 0, 0, -1, 0, 0, 0, 0, 0, 0, 0, 0, 0, 0, 0, 0, 0, 0, 0, 0, 0, 0, 0, 0, 0, 0, 0, 0], 156785021//13340)\n",
       " HalfSpace(Rational{BigInt}[1, 0, 0, 0, -1, 0, 0, 0, 0, 0, 0, 0, 0, 0, 0, 0, 0, 0, 0, 0, 0, 0, 0, 0, 0, 0, 0, 0], 86656641//13340)\n",
       " HalfSpace(Rational{BigInt}[1, 0, 0, 0, 0, -1, 0, 0, 0, 0, 0, 0, 0, 0, 0, 0, 0, 0, 0, 0, 0, 0, 0, 0, 0, 0, 0, 0], 127050161//13340)\n",
       " HalfSpace(Rational{BigInt}[1, 0, 0, 0, 0, 0, -1, 0, 0, 0, 0, 0, 0, 0, 0, 0, 0, 0, 0, 0, 0, 0, 0, 0, 0, 0, 0, 0], 141577421//13340)\n",
       " HalfSpace(Rational{BigInt}[1, 0, 0, 0, 0, 0, 0, -1, 0, 0, 0, 0, 0, 0, 0, 0, 0, 0, 0, 0, 0, 0, 0, 0, 0, 0, 0, 0], 142377821//13340)\n",
       " HalfSpace(Rational{BigInt}[1, 0, 0, 0, 0, 0, 0, 0, -1, 0, 0, 0, 0, 0, 0, 0, 0, 0, 0, 0, 0, 0, 0, 0, 0, 0, 0, 0], 98622621//13340)\n",
       " HalfSpace(Rational{BigInt}[1, 0, 0, 0, 0, 0, 0, 0, 0, -1, 0, 0, 0, 0, 0, 0, 0, 0, 0, 0, 0, 0, 0, 0, 0, 0, 0, 0], 143778521//13340)\n",
       " HalfSpace(Rational{BigInt}[1, 0, 0, 0, 0, 0, 0, 0, 0, 0, -1, 0, 0, 0, 0, 0, 0, 0, 0, 0, 0, 0, 0, 0, 0, 0, 0, 0], 73650141//13340)\n",
       " HalfSpace(Rational{BigInt}[1, 0, 0, 0, 0, 0, 0, 0, 0, 0, 0, -1, 0, 0, 0, 0, 0, 0, 0, 0, 0, 0, 0, 0, 0, 0, 0, 0], 114043661//13340)\n",
       " HalfSpace(Rational{BigInt}[1, 0, 0, 0, 0, 0, 0, 0, 0, 0, 0, 0, -1, 0, 0, 0, 0, 0, 0, 0, 0, 0, 0, 0, 0, 0, 0, 0], 128570921//13340)\n",
       " HalfSpace(Rational{BigInt}[1, 0, 0, 0, 0, 0, 0, 0, 0, 0, 0, 0, 0, -1, 0, 0, 0, 0, 0, 0, 0, 0, 0, 0, 0, 0, 0, 0], 104678981//13340)\n",
       " HalfSpace(Rational{BigInt}[1, 0, 0, 0, 0, 0, 0, 0, 0, 0, 0, 0, 0, 0, -1, 0, 0, 0, 0, 0, 0, 0, 0, 0, 0, 0, 0, 0], 149821541//13340)\n",
       " HalfSpace(Rational{BigInt}[1, 0, 0, 0, 0, 0, 0, 0, 0, 0, 0, 0, 0, 0, 0, -1, 0, 0, 0, 0, 0, 0, 0, 0, 0, 0, 0, 0], 79706501//13340)\n",
       " HalfSpace(Rational{BigInt}[1, 0, 0, 0, 0, 0, 0, 0, 0, 0, 0, 0, 0, 0, 0, 0, -1, 0, 0, 0, 0, 0, 0, 0, 0, 0, 0, 0], 120100021//13340)\n",
       " HalfSpace(Rational{BigInt}[1, 0, 0, 0, 0, 0, 0, 0, 0, 0, 0, 0, 0, 0, 0, 0, 0, -1, 0, 0, 0, 0, 0, 0, 0, 0, 0, 0], 134613941//13340)\n",
       " HalfSpace(Rational{BigInt}[1, 0, 0, 0, 0, 0, 0, 0, 0, 0, 0, 0, 0, 0, 0, 0, 0, 0, -1, 0, 0, 0, 0, 0, 0, 0, 0, 0], 178395821//13340)\n",
       " HalfSpace(Rational{BigInt}[1, 0, 0, 0, 0, 0, 0, 0, 0, 0, 0, 0, 0, 0, 0, 0, 0, 0, 0, -1, 0, 0, 0, 0, 0, 0, 0, 0], 35951301//13340)\n",
       " HalfSpace(Rational{BigInt}[1, 0, 0, 0, 0, 0, 0, 0, 0, 0, 0, 0, 0, 0, 0, 0, 0, 0, 0, 0, -1, 0, 0, 0, 0, 0, 0, 0], 76344821//13340)\n",
       "  ⋮"
      ]
     },
     "metadata": {},
     "output_type": "display_data"
    }
   ],
   "source": [
    "@time phylo_frech = tropical_frechet_set(coph_vecs)"
   ]
  }
 ],
 "metadata": {
  "kernelspec": {
   "display_name": "Julia 1.10.7",
   "language": "julia",
   "name": "julia-1.10"
  },
  "language_info": {
   "file_extension": ".jl",
   "mimetype": "application/julia",
   "name": "julia",
   "version": "1.10.7"
  }
 },
 "nbformat": 4,
 "nbformat_minor": 2
}
