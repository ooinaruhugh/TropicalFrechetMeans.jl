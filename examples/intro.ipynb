{
 "cells": [
  {
   "cell_type": "code",
   "execution_count": 126,
   "metadata": {},
   "outputs": [],
   "source": [
    "using LinearAlgebra\n",
    "using Polyhedra\n",
    "\n",
    "using CDDLib\n",
    "using Clarabel\n",
    "\n",
    "using TropicalFrechetMeans"
   ]
  },
  {
   "cell_type": "code",
   "execution_count": 127,
   "metadata": {},
   "outputs": [
    {
     "data": {
      "text/plain": [
       "trop_normalize (generic function with 1 method)"
      ]
     },
     "metadata": {},
     "output_type": "display_data"
    }
   ],
   "source": [
    "function trop_normalize(x)\n",
    "    return x .- first(x)\n",
    "end"
   ]
  },
  {
   "cell_type": "markdown",
   "metadata": {},
   "source": [
    "# Examples"
   ]
  },
  {
   "cell_type": "markdown",
   "metadata": {},
   "source": [
    "## Line segment"
   ]
  },
  {
   "cell_type": "markdown",
   "metadata": {},
   "source": [
    "In this example, we calculate the tropical Fréchet mean (FM) of two points. This is going to be the midpoint of the tropical line segment between both points."
   ]
  },
  {
   "cell_type": "code",
   "execution_count": 128,
   "metadata": {},
   "outputs": [
    {
     "data": {
      "text/plain": [
       "2-element Vector{Vector{Int64}}:\n",
       " [0, 0, 0]\n",
       " [0, 4, 1]"
      ]
     },
     "metadata": {},
     "output_type": "display_data"
    }
   ],
   "source": [
    "sample = [[0,0,0], [0,4,1]]"
   ]
  },
  {
   "cell_type": "code",
   "execution_count": 129,
   "metadata": {},
   "outputs": [
    {
     "name": "stdout",
     "output_type": "stream",
     "text": [
      "num_FM = Rational{Int64}[-41//49, 57//49, -5//37]\n"
     ]
    },
    {
     "data": {
      "text/plain": [
       "Polyhedron CDDLib.Polyhedron{Rational{BigInt}}:\n",
       "4-element iterator of HalfSpace{Rational{BigInt}, Vector{Rational{BigInt}}}:\n",
       " HalfSpace(Rational{BigInt}[1, -1, 0], -2//1)\n",
       " HalfSpace(Rational{BigInt}[-1, 1, 0], 2//1)\n",
       " HalfSpace(Rational{BigInt}[0, 1, -1], 2//1)\n",
       " HalfSpace(Rational{BigInt}[0, -1, 1], -1//1)"
      ]
     },
     "metadata": {},
     "output_type": "display_data"
    }
   ],
   "source": [
    "num_FM = tropical_frechet_mean(sample)\n",
    "@show num_FM\n",
    "P = tropical_frechet_set(sample)"
   ]
  },
  {
   "cell_type": "code",
   "execution_count": 130,
   "metadata": {},
   "outputs": [
    {
     "data": {
      "text/plain": [
       "V-representation CDDGeneratorMatrix{Rational{BigInt}, GMPRational}:\n",
       "2-element iterator of Vector{Rational{BigInt}}:\n",
       " Rational{BigInt}[-1, 1, 0]\n",
       " Rational{BigInt}[0, 2, 0],\n",
       "1-element iterator of Line{Rational{BigInt}, Vector{Rational{BigInt}}}:\n",
       " Line(Rational{BigInt}[1, 1, 1])"
      ]
     },
     "metadata": {},
     "output_type": "display_data"
    }
   ],
   "source": [
    "vrep(P)"
   ]
  },
  {
   "cell_type": "markdown",
   "metadata": {},
   "source": [
    "As a sanity check, we show that the previously computed tropical FM also lies in the FM polytrope."
   ]
  },
  {
   "cell_type": "code",
   "execution_count": 131,
   "metadata": {},
   "outputs": [
    {
     "data": {
      "text/plain": [
       "true"
      ]
     },
     "metadata": {},
     "output_type": "display_data"
    }
   ],
   "source": [
    "num_FM in P"
   ]
  },
  {
   "cell_type": "markdown",
   "metadata": {},
   "source": [
    "## Example of Section 4.1. \"Exact Quadratic Optimization\""
   ]
  },
  {
   "cell_type": "code",
   "execution_count": 132,
   "metadata": {},
   "outputs": [
    {
     "name": "stdout",
     "output_type": "stream",
     "text": [
      "num_FM = Rational{Int64}[0, 0, -1]\n"
     ]
    },
    {
     "data": {
      "text/plain": [
       "Polyhedron CDDLib.Polyhedron{Rational{BigInt}}:\n",
       "5-element iterator of HalfSpace{Rational{BigInt}, Vector{Rational{BigInt}}}:\n",
       " HalfSpace(Rational{BigInt}[1, 0, -1], 1//1)\n",
       " HalfSpace(Rational{BigInt}[-1, 1, 0], 1//1)\n",
       " HalfSpace(Rational{BigInt}[0, 1, -1], 1//1)\n",
       " HalfSpace(Rational{BigInt}[-1, 0, 1], -1//1)\n",
       " HalfSpace(Rational{BigInt}[0, -1, 1], -1//1)"
      ]
     },
     "metadata": {},
     "output_type": "display_data"
    }
   ],
   "source": [
    "sample = [[-3,0,0], [0,-6,0], [0,0,-12]]\n",
    "\n",
    "num_FM = tropical_frechet_mean(sample) |> trop_normalize\n",
    "@show num_FM\n",
    "P = tropical_frechet_set(sample)"
   ]
  },
  {
   "cell_type": "markdown",
   "metadata": {},
   "source": [
    "Calculating the FM polytrope shows that we already got the unique tropical Fréchet mean modulo lineality."
   ]
  },
  {
   "cell_type": "code",
   "execution_count": 133,
   "metadata": {},
   "outputs": [
    {
     "data": {
      "text/plain": [
       "V-representation CDDGeneratorMatrix{Rational{BigInt}, GMPRational}:\n",
       "1-element iterator of Vector{Rational{BigInt}}:\n",
       " Rational{BigInt}[1, 1, 0],\n",
       "1-element iterator of Line{Rational{BigInt}, Vector{Rational{BigInt}}}:\n",
       " Line(Rational{BigInt}[1, 1, 1])"
      ]
     },
     "metadata": {},
     "output_type": "display_data"
    }
   ],
   "source": [
    "vrep(P)"
   ]
  },
  {
   "cell_type": "markdown",
   "metadata": {},
   "source": [
    "## Remark 17 (Failure of Sturm's algorithm)"
   ]
  },
  {
   "cell_type": "code",
   "execution_count": 134,
   "metadata": {},
   "outputs": [
    {
     "name": "stdout",
     "output_type": "stream",
     "text": [
      "num_FM = Rational{Int64}[0, 2, 1]\n"
     ]
    },
    {
     "data": {
      "text/plain": [
       "Polyhedron CDDLib.Polyhedron{Rational{BigInt}}:\n",
       "4-element iterator of HalfSpace{Rational{BigInt}, Vector{Rational{BigInt}}}:\n",
       " HalfSpace(Rational{BigInt}[1, 0, -1], -1//1)\n",
       " HalfSpace(Rational{BigInt}[-1, 1, 0], 2//1)\n",
       " HalfSpace(Rational{BigInt}[-1, 0, 1], 2//1)\n",
       " HalfSpace(Rational{BigInt}[0, -1, 1], -1//1)"
      ]
     },
     "metadata": {},
     "output_type": "display_data"
    }
   ],
   "source": [
    "sample = [ [0, 0, 0], \n",
    "           [0, 2, 4],\n",
    "           [0, 5, 1] ]\n",
    "\n",
    "num_FM = tropical_frechet_mean(sample) |> trop_normalize\n",
    "@show num_FM\n",
    "P = tropical_frechet_set(sample)"
   ]
  },
  {
   "cell_type": "code",
   "execution_count": 135,
   "metadata": {},
   "outputs": [
    {
     "name": "stdout",
     "output_type": "stream",
     "text": [
      "  0.000149 seconds (1.42 k allocations: 14.086 KiB)\n"
     ]
    },
    {
     "data": {
      "text/plain": [
       "V-representation CDDGeneratorMatrix{Rational{BigInt}, GMPRational}:\n",
       "1-element iterator of Vector{Rational{BigInt}}:\n",
       " Rational{BigInt}[-1, 1, 0],\n",
       "1-element iterator of Line{Rational{BigInt}, Vector{Rational{BigInt}}}:\n",
       " Line(Rational{BigInt}[1, 1, 1])"
      ]
     },
     "metadata": {},
     "output_type": "display_data"
    }
   ],
   "source": [
    "@time vrep(P)"
   ]
  },
  {
   "cell_type": "markdown",
   "metadata": {},
   "source": [
    "## Figure 2"
   ]
  },
  {
   "cell_type": "code",
   "execution_count": 136,
   "metadata": {},
   "outputs": [
    {
     "name": "stdout",
     "output_type": "stream",
     "text": [
      "num_FM = tropical_frechet_mean(sample) = Rational{Int64}[-109//37, 7//27, 7//27]\n"
     ]
    },
    {
     "data": {
      "text/plain": [
       "Polyhedron CDDLib.Polyhedron{Rational{BigInt}}:\n",
       "4-element iterator of HalfSpace{Rational{BigInt}, Vector{Rational{BigInt}}}:\n",
       " HalfSpace(Rational{BigInt}[1, -1, 0], -3//1)\n",
       " HalfSpace(Rational{BigInt}[-1, 1, 0], 4//1)\n",
       " HalfSpace(Rational{BigInt}[0, 1, -1], 0//1)\n",
       " HalfSpace(Rational{BigInt}[0, -1, 1], 0//1)"
      ]
     },
     "metadata": {},
     "output_type": "display_data"
    }
   ],
   "source": [
    "sample = [ [0,  0, 8], \n",
    "           [0,  2, 4],\n",
    "           [0,  5, 3],\n",
    "           [0, 10, 2] ]\n",
    "\n",
    "@show num_FM = tropical_frechet_mean(sample)\n",
    "P = tropical_frechet_set(sample)"
   ]
  },
  {
   "cell_type": "code",
   "execution_count": 137,
   "metadata": {},
   "outputs": [
    {
     "name": "stdout",
     "output_type": "stream",
     "text": [
      "  0.000156 seconds (1.47 k allocations: 14.383 KiB)\n"
     ]
    },
    {
     "data": {
      "text/plain": [
       "V-representation CDDGeneratorMatrix{Rational{BigInt}, GMPRational}:\n",
       "2-element iterator of Vector{Rational{BigInt}}:\n",
       " Rational{BigInt}[-3, 0, 0]\n",
       " Rational{BigInt}[-4, 0, 0],\n",
       "1-element iterator of Line{Rational{BigInt}, Vector{Rational{BigInt}}}:\n",
       " Line(Rational{BigInt}[1, 1, 1])"
      ]
     },
     "metadata": {},
     "output_type": "display_data"
    }
   ],
   "source": [
    "@time vrep(P)"
   ]
  },
  {
   "cell_type": "code",
   "execution_count": 138,
   "metadata": {},
   "outputs": [
    {
     "data": {
      "text/plain": [
       "true"
      ]
     },
     "metadata": {},
     "output_type": "display_data"
    }
   ],
   "source": [
    "FM in P"
   ]
  },
  {
   "cell_type": "code",
   "execution_count": 139,
   "metadata": {},
   "outputs": [
    {
     "name": "stdout",
     "output_type": "stream",
     "text": [
      "exact_FM = Rational{BigInt}[0, 4, 4]\n"
     ]
    },
    {
     "data": {
      "text/plain": [
       "4-element Vector{Rational{BigInt}}:\n",
       " 8\n",
       " 2\n",
       " 2\n",
       " 8"
      ]
     },
     "metadata": {},
     "output_type": "display_data"
    }
   ],
   "source": [
    "exact_FM = points(P) |> collect |> rand |> trop_normalize\n",
    "@show exact_FM\n",
    "tropical_distance.(Ref(exact_FM), sample)"
   ]
  },
  {
   "cell_type": "code",
   "execution_count": 140,
   "metadata": {},
   "outputs": [
    {
     "data": {
      "text/plain": [
       "4-element Vector{Rational{BigInt}}:\n",
       " 8\n",
       " 2\n",
       " 2\n",
       " 8"
      ]
     },
     "metadata": {},
     "output_type": "display_data"
    }
   ],
   "source": [
    "t = rand() |> Rational\n",
    "pt = (points(P) |> collect) .* [t, 1-t] |> sum\n",
    "tropical_distance.(Ref(pt), sample)"
   ]
  }
 ],
 "metadata": {
  "kernelspec": {
   "display_name": "Julia 1.10.7",
   "language": "julia",
   "name": "julia-1.10"
  },
  "language_info": {
   "file_extension": ".jl",
   "mimetype": "application/julia",
   "name": "julia",
   "version": "1.10.7"
  }
 },
 "nbformat": 4,
 "nbformat_minor": 2
}
