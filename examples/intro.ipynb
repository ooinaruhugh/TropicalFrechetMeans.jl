{
 "cells": [
  {
   "cell_type": "code",
   "execution_count": 95,
   "metadata": {},
   "outputs": [],
   "source": [
    "using LinearAlgebra\n",
    "using Polyhedra\n",
    "\n",
    "using CDDLib\n",
    "using Clarabel\n",
    "\n",
    "using TropicalFrechetMeans"
   ]
  },
  {
   "cell_type": "code",
   "execution_count": 96,
   "metadata": {},
   "outputs": [
    {
     "data": {
      "text/plain": [
       "trop_normalize (generic function with 1 method)"
      ]
     },
     "metadata": {},
     "output_type": "display_data"
    }
   ],
   "source": [
    "function trop_normalize(x)\n",
    "    return x .- first(x)\n",
    "end"
   ]
  },
  {
   "cell_type": "markdown",
   "metadata": {},
   "source": [
    "# Examples"
   ]
  },
  {
   "cell_type": "code",
   "execution_count": 97,
   "metadata": {},
   "outputs": [
    {
     "data": {
      "text/plain": [
       "2-element Vector{Vector{Int64}}:\n",
       " [0, 0]\n",
       " [2, 2]"
      ]
     },
     "metadata": {},
     "output_type": "display_data"
    }
   ],
   "source": [
    "A = [ 1  0 ;\n",
    "     -1  0 ;\n",
    "      0  1 ;\n",
    "      0 -1 ]\n",
    "\n",
    "sample = [ [0, 0], \n",
    "           [2, 2] ]"
   ]
  },
  {
   "cell_type": "code",
   "execution_count": 98,
   "metadata": {},
   "outputs": [
    {
     "name": "stdout",
     "output_type": "stream",
     "text": [
      "polyhedral_frechet_mean(sample, A) = Rational{Int64}[1, 1]\n"
     ]
    },
    {
     "data": {
      "text/plain": [
       "V-representation CDDGeneratorMatrix{Rational{BigInt}, GMPRational}:\n",
       "1-element iterator of Vector{Rational{BigInt}}:\n",
       " Rational{BigInt}[1, 1]"
      ]
     },
     "metadata": {},
     "output_type": "display_data"
    }
   ],
   "source": [
    "@show polyhedral_frechet_mean(sample, A)\n",
    "polyhedral_frechet_set(sample, A) |> vrep"
   ]
  },
  {
   "cell_type": "markdown",
   "metadata": {},
   "source": [
    "## Toy example"
   ]
  },
  {
   "cell_type": "code",
   "execution_count": 99,
   "metadata": {},
   "outputs": [
    {
     "data": {
      "text/plain": [
       "2-element Vector{Vector{Int64}}:\n",
       " [0, 0, 0]\n",
       " [0, 4, 1]"
      ]
     },
     "metadata": {},
     "output_type": "display_data"
    }
   ],
   "source": [
    "sample = [[0,0,0], [0,4,1]]"
   ]
  },
  {
   "cell_type": "code",
   "execution_count": 100,
   "metadata": {},
   "outputs": [
    {
     "name": "stdout",
     "output_type": "stream",
     "text": [
      "num_FM = [0.0, 2.0000154234464373, 0.7004901999320469]\n"
     ]
    },
    {
     "data": {
      "text/plain": [
       "Polyhedron CDDLib.Polyhedron{Rational{BigInt}}:\n",
       "4-element iterator of HalfSpace{Rational{BigInt}, Vector{Rational{BigInt}}}:\n",
       " HalfSpace(Rational{BigInt}[1, -1, 0], -2//1)\n",
       " HalfSpace(Rational{BigInt}[-1, 1, 0], 2//1)\n",
       " HalfSpace(Rational{BigInt}[0, 1, -1], 2//1)\n",
       " HalfSpace(Rational{BigInt}[0, -1, 1], -1//1)"
      ]
     },
     "metadata": {},
     "output_type": "display_data"
    }
   ],
   "source": [
    "num_FM = tropical_frechet_mean(sample, tol=0) |> trop_normalize\n",
    "@show num_FM\n",
    "P = tropical_frechet_set(sample; tol=1e-3)"
   ]
  },
  {
   "cell_type": "code",
   "execution_count": 101,
   "metadata": {},
   "outputs": [
    {
     "data": {
      "text/plain": [
       "V-representation CDDGeneratorMatrix{Rational{BigInt}, GMPRational}:\n",
       "2-element iterator of Vector{Rational{BigInt}}:\n",
       " Rational{BigInt}[-1, 1, 0]\n",
       " Rational{BigInt}[0, 2, 0],\n",
       "1-element iterator of Line{Rational{BigInt}, Vector{Rational{BigInt}}}:\n",
       " Line(Rational{BigInt}[1, 1, 1])"
      ]
     },
     "metadata": {},
     "output_type": "display_data"
    }
   ],
   "source": [
    "vrep(P)"
   ]
  },
  {
   "cell_type": "code",
   "execution_count": 102,
   "metadata": {},
   "outputs": [
    {
     "data": {
      "text/plain": [
       "6×3 Matrix{Rational{Int64}}:\n",
       "  1  -1   0\n",
       "  1   0  -1\n",
       " -1   1   0\n",
       "  0   1  -1\n",
       " -1   0   1\n",
       "  0  -1   1"
      ]
     },
     "metadata": {},
     "output_type": "display_data"
    }
   ],
   "source": [
    "tropical_ball_facets(3)"
   ]
  },
  {
   "cell_type": "markdown",
   "metadata": {},
   "source": [
    "## Example of Section 4.1. \"Exact Quadratic Optimization\""
   ]
  },
  {
   "cell_type": "code",
   "execution_count": 103,
   "metadata": {},
   "outputs": [
    {
     "name": "stdout",
     "output_type": "stream",
     "text": [
      "num_FM = Rational{Int64}[0, 0, -1]\n"
     ]
    },
    {
     "data": {
      "text/plain": [
       "Polyhedron CDDLib.Polyhedron{Rational{BigInt}}:\n",
       "5-element iterator of HalfSpace{Rational{BigInt}, Vector{Rational{BigInt}}}:\n",
       " HalfSpace(Rational{BigInt}[1, 0, -1], 1//1)\n",
       " HalfSpace(Rational{BigInt}[-1, 1, 0], 1//1)\n",
       " HalfSpace(Rational{BigInt}[0, 1, -1], 1//1)\n",
       " HalfSpace(Rational{BigInt}[-1, 0, 1], -1//1)\n",
       " HalfSpace(Rational{BigInt}[0, -1, 1], -1//1)"
      ]
     },
     "metadata": {},
     "output_type": "display_data"
    }
   ],
   "source": [
    "sample = [[-3,0,0], [0,-6,0], [0,0,-12]]\n",
    "\n",
    "num_FM = tropical_frechet_mean(sample) |> trop_normalize\n",
    "@show num_FM\n",
    "P = tropical_frechet_set(sample; tol=1e-3)"
   ]
  },
  {
   "cell_type": "code",
   "execution_count": 104,
   "metadata": {},
   "outputs": [
    {
     "data": {
      "text/plain": [
       "V-representation CDDGeneratorMatrix{Rational{BigInt}, GMPRational}:\n",
       "1-element iterator of Vector{Rational{BigInt}}:\n",
       " Rational{BigInt}[1, 1, 0],\n",
       "1-element iterator of Line{Rational{BigInt}, Vector{Rational{BigInt}}}:\n",
       " Line(Rational{BigInt}[1, 1, 1])"
      ]
     },
     "metadata": {},
     "output_type": "display_data"
    }
   ],
   "source": [
    "vrep(P)"
   ]
  },
  {
   "cell_type": "markdown",
   "metadata": {},
   "source": [
    "## Remark 17 (Failure of Sturm's algorithm)"
   ]
  },
  {
   "cell_type": "code",
   "execution_count": 105,
   "metadata": {},
   "outputs": [
    {
     "name": "stdout",
     "output_type": "stream",
     "text": [
      "num_FM = Rational{Int64}[0, 2, 1]\n"
     ]
    },
    {
     "data": {
      "text/plain": [
       "Polyhedron CDDLib.Polyhedron{Rational{BigInt}}:\n",
       "4-element iterator of HalfSpace{Rational{BigInt}, Vector{Rational{BigInt}}}:\n",
       " HalfSpace(Rational{BigInt}[1, 0, -1], -1//1)\n",
       " HalfSpace(Rational{BigInt}[-1, 1, 0], 2//1)\n",
       " HalfSpace(Rational{BigInt}[-1, 0, 1], 2//1)\n",
       " HalfSpace(Rational{BigInt}[0, -1, 1], -1//1)"
      ]
     },
     "metadata": {},
     "output_type": "display_data"
    }
   ],
   "source": [
    "sample = [ [0, 0, 0], \n",
    "           [0, 2, 4],\n",
    "           [0, 5, 1] ]\n",
    "\n",
    "num_FM = tropical_frechet_mean(sample) |> trop_normalize\n",
    "@show num_FM\n",
    "P = tropical_frechet_set(sample; tol=1e-3)"
   ]
  },
  {
   "cell_type": "code",
   "execution_count": 106,
   "metadata": {},
   "outputs": [
    {
     "data": {
      "text/plain": [
       "H-representation CDDInequalityMatrix{Rational{BigInt}, GMPRational}:\n",
       "4-element iterator of HalfSpace{Rational{BigInt}, Vector{Rational{BigInt}}}:\n",
       " HalfSpace(Rational{BigInt}[1, 0, -1], -1//1)\n",
       " HalfSpace(Rational{BigInt}[-1, 1, 0], 2//1)\n",
       " HalfSpace(Rational{BigInt}[-1, 0, 1], 2//1)\n",
       " HalfSpace(Rational{BigInt}[0, -1, 1], -1//1)"
      ]
     },
     "metadata": {},
     "output_type": "display_data"
    }
   ],
   "source": [
    "hrep(P)"
   ]
  },
  {
   "cell_type": "code",
   "execution_count": 107,
   "metadata": {},
   "outputs": [
    {
     "name": "stdout",
     "output_type": "stream",
     "text": [
      "  0.000169 seconds (1.42 k allocations: 14.086 KiB)\n"
     ]
    },
    {
     "data": {
      "text/plain": [
       "V-representation CDDGeneratorMatrix{Rational{BigInt}, GMPRational}:\n",
       "1-element iterator of Vector{Rational{BigInt}}:\n",
       " Rational{BigInt}[-1, 1, 0],\n",
       "1-element iterator of Line{Rational{BigInt}, Vector{Rational{BigInt}}}:\n",
       " Line(Rational{BigInt}[1, 1, 1])"
      ]
     },
     "metadata": {},
     "output_type": "display_data"
    }
   ],
   "source": [
    "@time vrep(P)"
   ]
  },
  {
   "cell_type": "markdown",
   "metadata": {},
   "source": [
    "## Figure 2"
   ]
  },
  {
   "cell_type": "code",
   "execution_count": 108,
   "metadata": {},
   "outputs": [
    {
     "name": "stdout",
     "output_type": "stream",
     "text": [
      "tropical_frechet_mean(sample) |> trop_normalize = Rational{Int64}[0, 3202//999, 3202//999]\n"
     ]
    },
    {
     "data": {
      "text/plain": [
       "Polyhedron CDDLib.Polyhedron{Rational{BigInt}}:\n",
       "4-element iterator of HalfSpace{Rational{BigInt}, Vector{Rational{BigInt}}}:\n",
       " HalfSpace(Rational{BigInt}[1, -1, 0], -3//1)\n",
       " HalfSpace(Rational{BigInt}[-1, 1, 0], 4//1)\n",
       " HalfSpace(Rational{BigInt}[0, 1, -1], 0//1)\n",
       " HalfSpace(Rational{BigInt}[0, -1, 1], 0//1)"
      ]
     },
     "metadata": {},
     "output_type": "display_data"
    }
   ],
   "source": [
    "sample = [ [0,  0, 8], \n",
    "           [0,  2, 4],\n",
    "           [0,  5, 3],\n",
    "           [0, 10, 2] ]\n",
    "\n",
    "@show tropical_frechet_mean(sample) |> trop_normalize\n",
    "P = tropical_frechet_set(sample, tol=1e-3)"
   ]
  },
  {
   "cell_type": "code",
   "execution_count": 112,
   "metadata": {},
   "outputs": [
    {
     "name": "stdout",
     "output_type": "stream",
     "text": [
      "  0.000001 seconds\n"
     ]
    },
    {
     "data": {
      "text/plain": [
       "V-representation CDDGeneratorMatrix{Rational{BigInt}, GMPRational}:\n",
       "2-element iterator of Vector{Rational{BigInt}}:\n",
       " Rational{BigInt}[-3, 0, 0]\n",
       " Rational{BigInt}[-4, 0, 0],\n",
       "1-element iterator of Line{Rational{BigInt}, Vector{Rational{BigInt}}}:\n",
       " Line(Rational{BigInt}[1, 1, 1])"
      ]
     },
     "metadata": {},
     "output_type": "display_data"
    }
   ],
   "source": [
    "@time vrep(P)"
   ]
  },
  {
   "cell_type": "code",
   "execution_count": null,
   "metadata": {},
   "outputs": [],
   "source": []
  },
  {
   "cell_type": "code",
   "execution_count": 110,
   "metadata": {},
   "outputs": [
    {
     "name": "stdout",
     "output_type": "stream",
     "text": [
      "exact_FM = Rational{BigInt}[0, 3, 3]\n"
     ]
    },
    {
     "data": {
      "text/plain": [
       "4-element Vector{Rational{BigInt}}:\n",
       " 8\n",
       " 2\n",
       " 2\n",
       " 8"
      ]
     },
     "metadata": {},
     "output_type": "display_data"
    }
   ],
   "source": [
    "exact_FM = points(P) |> collect |> rand |> trop_normalize\n",
    "@show exact_FM\n",
    "tropical_distance.(Ref(exact_FM), sample)"
   ]
  }
 ],
 "metadata": {
  "kernelspec": {
   "display_name": "Julia 1.10.7",
   "language": "julia",
   "name": "julia-1.10"
  },
  "language_info": {
   "file_extension": ".jl",
   "mimetype": "application/julia",
   "name": "julia",
   "version": "1.10.7"
  }
 },
 "nbformat": 4,
 "nbformat_minor": 2
}
