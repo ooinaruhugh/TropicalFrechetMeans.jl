{
 "cells": [
  {
   "cell_type": "code",
   "execution_count": 1,
   "metadata": {},
   "outputs": [],
   "source": [
    "using LinearAlgebra\n",
    "using Polyhedra\n",
    "\n",
    "using CDDLib\n",
    "using Clarabel, Ipopt\n",
    "\n",
    "using TropicalFrechetMeans"
   ]
  },
  {
   "cell_type": "code",
   "execution_count": 2,
   "metadata": {},
   "outputs": [
    {
     "data": {
      "text/plain": [
       "trop_normalize (generic function with 1 method)"
      ]
     },
     "metadata": {},
     "output_type": "display_data"
    }
   ],
   "source": [
    "function trop_normalize(x)\n",
    "    return x .- first(x)\n",
    "end"
   ]
  },
  {
   "cell_type": "markdown",
   "metadata": {},
   "source": [
    "Here, we define the sample. For this, we need to use `BigInt` as the underlying scalar type because some computations below overflow otherwise."
   ]
  },
  {
   "cell_type": "code",
   "execution_count": 3,
   "metadata": {},
   "outputs": [
    {
     "data": {
      "text/plain": [
       "3-element Vector{Vector{Rational{BigInt}}}:\n",
       " [1//5, 2//5, 2, 2//5, 2, 2]\n",
       " [2, 2, 2, 2//5, 2//5, 2]\n",
       " [2//5, 2//5, 2, 1//5, 2, 2]"
      ]
     },
     "metadata": {},
     "output_type": "display_data"
    }
   ],
   "source": [
    "sample = map([\n",
    "    [2//10, 4//10, 2//1, 4//10, 2//1, 2//1],\n",
    "    [2//1, 2//1, 2//1, 4//10, 4//10, 2//1],\n",
    "    [4//10, 4//10, 2//1, 2//10, 2//1, 2//1]\n",
    "]) do pt; Rational{BigInt}.(pt) end"
   ]
  },
  {
   "cell_type": "markdown",
   "metadata": {},
   "source": [
    "## Clarabel"
   ]
  },
  {
   "cell_type": "code",
   "execution_count": 4,
   "metadata": {},
   "outputs": [
    {
     "data": {
      "text/plain": [
       "6-element Vector{Float64}:\n",
       " -0.7725470731887855\n",
       " -0.7725470115433544\n",
       "  0.03351399424026832\n",
       " -1.048104444707801\n",
       " -0.1724770004909199\n",
       "  0.03351399424027505"
      ]
     },
     "metadata": {},
     "output_type": "display_data"
    }
   ],
   "source": [
    "FM_clarabel = tropical_frechet_mean(sample; tol=0)"
   ]
  },
  {
   "cell_type": "markdown",
   "metadata": {},
   "source": [
    "The following calculation suggests that for a tropical Fréchet mean the sum of square distances to the sample is close to $7.28$."
   ]
  },
  {
   "cell_type": "code",
   "execution_count": 5,
   "metadata": {},
   "outputs": [
    {
     "data": {
      "text/plain": [
       "7.280000138012775621504297395663831911704951328104053148208134281223029293794702"
      ]
     },
     "metadata": {},
     "output_type": "display_data"
    }
   ],
   "source": [
    "sos_clarabel = sum_of_trop_dist(FM_clarabel, sample; power=2) "
   ]
  },
  {
   "cell_type": "markdown",
   "metadata": {},
   "source": [
    "We can also calculate the FM polytrope to obtain more Fréchet means."
   ]
  },
  {
   "cell_type": "code",
   "execution_count": 6,
   "metadata": {},
   "outputs": [
    {
     "data": {
      "text/plain": [
       "Polyhedron CDDLib.Polyhedron{Rational{BigInt}}:\n",
       "10-element iterator of HalfSpace{Rational{BigInt}, Vector{Rational{BigInt}}}:\n",
       " HalfSpace(Rational{BigInt}[1, 0, 0, -1, 0, 0], 1//1)\n",
       " HalfSpace(Rational{BigInt}[1, 0, 0, 0, -1, 0], -3//5)\n",
       " HalfSpace(Rational{BigInt}[0, 1, -1, 0, 0, 0], -3//5)\n",
       " HalfSpace(Rational{BigInt}[0, 1, 0, 0, -1, 0], -3//5)\n",
       " HalfSpace(Rational{BigInt}[0, 1, 0, 0, 0, -1], -3//5)\n",
       " HalfSpace(Rational{BigInt}[0, 0, 1, 0, -1, 0], 1//1)\n",
       " HalfSpace(Rational{BigInt}[0, 0, 0, 1, -1, 0], -4//5)\n",
       " HalfSpace(Rational{BigInt}[-1, 0, 0, 0, 1, 0], 3//5)\n",
       " HalfSpace(Rational{BigInt}[0, -1, 0, 0, 1, 0], 3//5)\n",
       " HalfSpace(Rational{BigInt}[0, 0, 0, 0, -1, 1], 1//1)"
      ]
     },
     "metadata": {},
     "output_type": "display_data"
    }
   ],
   "source": [
    "P_clarabel = tropical_frechet_set(sample)"
   ]
  },
  {
   "cell_type": "code",
   "execution_count": 7,
   "metadata": {},
   "outputs": [
    {
     "data": {
      "text/plain": [
       "8-element iterator of Vector{Rational{BigInt}}:\n",
       " Rational{BigInt}[-3//5, -3//5, 0, -4//5, 0, 0]\n",
       " Rational{BigInt}[-3//5, -3//5, 0, -8//5, 0, 0]\n",
       " Rational{BigInt}[-3//5, -3//5, 1, -8//5, 0, 0]\n",
       " Rational{BigInt}[-3//5, -3//5, 1, -4//5, 0, 0]\n",
       " Rational{BigInt}[-8//5, -8//5, -1, -13//5, -1, 0]\n",
       " Rational{BigInt}[-8//5, -8//5, -1, -9//5, -1, 0]\n",
       " Rational{BigInt}[-8//5, -8//5, 0, -13//5, -1, 0]\n",
       " Rational{BigInt}[-8//5, -8//5, 0, -9//5, -1, 0]"
      ]
     },
     "metadata": {},
     "output_type": "display_data"
    }
   ],
   "source": [
    "pts_clarabel = points(P_clarabel)"
   ]
  },
  {
   "cell_type": "markdown",
   "metadata": {},
   "source": [
    "Using `Clarabel`, we obtain a FM polytrope $\\overline{P}$ whose vertices all attain the same sum of square distances to the sample."
   ]
  },
  {
   "cell_type": "code",
   "execution_count": 8,
   "metadata": {},
   "outputs": [
    {
     "data": {
      "text/plain": [
       "8-element Vector{Rational{BigInt}}:\n",
       " 182//25\n",
       " 182//25\n",
       " 182//25\n",
       " 182//25\n",
       " 182//25\n",
       " 182//25\n",
       " 182//25\n",
       " 182//25"
      ]
     },
     "metadata": {},
     "output_type": "display_data"
    }
   ],
   "source": [
    "sum_of_trop_dist.(pts_clarabel, Ref(sample); power=2)"
   ]
  },
  {
   "cell_type": "markdown",
   "metadata": {},
   "source": [
    "In particular, the vertices of $\\overline{P}$ realize a sum of square distances of exactly $7.28$."
   ]
  },
  {
   "cell_type": "code",
   "execution_count": 9,
   "metadata": {},
   "outputs": [
    {
     "data": {
      "text/plain": [
       "7.28"
      ]
     },
     "metadata": {},
     "output_type": "display_data"
    }
   ],
   "source": [
    "sum_of_trop_dist(pts_clarabel |> first, sample; power=2) |> Float64"
   ]
  },
  {
   "cell_type": "markdown",
   "metadata": {},
   "source": [
    "## Ipopt"
   ]
  },
  {
   "cell_type": "code",
   "execution_count": 10,
   "metadata": {},
   "outputs": [
    {
     "data": {
      "text/plain": [
       "6-element Vector{Float64}:\n",
       " -0.5665307602267998\n",
       " -0.5665307577476556\n",
       "  0.6262037885666266\n",
       " -1.0869983660316738\n",
       "  0.0334691296903913\n",
       "  0.6262037885666267"
      ]
     },
     "metadata": {},
     "output_type": "display_data"
    }
   ],
   "source": [
    "FM_ipopt = tropical_frechet_mean(Ipopt.Optimizer, sample; tol=0)"
   ]
  },
  {
   "cell_type": "markdown",
   "metadata": {},
   "source": [
    "The tropical FM we obtain from `Ipopt` beahves similarly to the one from `Clarabel`. "
   ]
  },
  {
   "cell_type": "code",
   "execution_count": 11,
   "metadata": {},
   "outputs": [
    {
     "data": {
      "text/plain": [
       "7.280000004958325353131174279587538977394609420973774267107165773981944639075998"
      ]
     },
     "metadata": {},
     "output_type": "display_data"
    }
   ],
   "source": [
    "sos_ipopt = sum_of_trop_dist(FM_ipopt, sample; power=2) "
   ]
  },
  {
   "cell_type": "code",
   "execution_count": 12,
   "metadata": {},
   "outputs": [],
   "source": [
    "P_ipopt = tropical_frechet_set(Ipopt.Optimizer, sample);"
   ]
  },
  {
   "cell_type": "code",
   "execution_count": 13,
   "metadata": {},
   "outputs": [
    {
     "data": {
      "text/plain": [
       "8-element iterator of Vector{Rational{BigInt}}:\n",
       " Rational{BigInt}[-8//5, -8//5, -1, -9//5, -1, 0]\n",
       " Rational{BigInt}[-8//5, -8//5, 0, -9//5, -1, 0]\n",
       " Rational{BigInt}[-3//5, -3//5, 0, -4//5, 0, 0]\n",
       " Rational{BigInt}[-3//5, -3//5, 1, -4//5, 0, 0]\n",
       " Rational{BigInt}[-8//5, -8//5, -1, -13//5, -1, 0]\n",
       " Rational{BigInt}[-8//5, -8//5, 0, -13//5, -1, 0]\n",
       " Rational{BigInt}[-3//5, -3//5, 0, -8//5, 0, 0]\n",
       " Rational{BigInt}[-3//5, -3//5, 1, -8//5, 0, 0]"
      ]
     },
     "metadata": {},
     "output_type": "display_data"
    }
   ],
   "source": [
    "pts_ipopt = points(P_ipopt)"
   ]
  },
  {
   "cell_type": "code",
   "execution_count": 14,
   "metadata": {},
   "outputs": [
    {
     "data": {
      "text/plain": [
       "8-element Vector{Rational{BigInt}}:\n",
       " 182//25\n",
       " 182//25\n",
       " 182//25\n",
       " 182//25\n",
       " 182//25\n",
       " 182//25\n",
       " 182//25\n",
       " 182//25"
      ]
     },
     "metadata": {},
     "output_type": "display_data"
    }
   ],
   "source": [
    "sum_of_trop_dist.(pts_ipopt, Ref(sample); power=2)"
   ]
  }
 ],
 "metadata": {
  "kernelspec": {
   "display_name": "Julia 1.10.7",
   "language": "julia",
   "name": "julia-1.10"
  },
  "language_info": {
   "file_extension": ".jl",
   "mimetype": "application/julia",
   "name": "julia",
   "version": "1.10.7"
  }
 },
 "nbformat": 4,
 "nbformat_minor": 2
}
