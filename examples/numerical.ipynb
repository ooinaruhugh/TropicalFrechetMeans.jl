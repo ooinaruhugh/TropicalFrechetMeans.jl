{
 "cells": [
  {
   "cell_type": "code",
   "execution_count": 1,
   "metadata": {},
   "outputs": [],
   "source": [
    "using LinearAlgebra\n",
    "using Polyhedra\n",
    "\n",
    "using CDDLib\n",
    "using Clarabel, Ipopt\n",
    "\n",
    "using TropicalFrechetMeans"
   ]
  },
  {
   "cell_type": "code",
   "execution_count": 2,
   "metadata": {
    "scrolled": true
   },
   "outputs": [
    {
     "data": {
      "text/plain": [
       "trop_normalize (generic function with 1 method)"
      ]
     },
     "execution_count": 2,
     "metadata": {},
     "output_type": "execute_result"
    }
   ],
   "source": [
    "function trop_normalize(x)\n",
    "    return x .- first(x)\n",
    "end"
   ]
  },
  {
   "cell_type": "markdown",
   "metadata": {},
   "source": [
    "# Simple example"
   ]
  },
  {
   "cell_type": "markdown",
   "metadata": {},
   "source": [
    "Here, we define the sample. For this, we need to use `BigInt` as the underlying scalar type because some computations below overflow otherwise."
   ]
  },
  {
   "cell_type": "code",
   "execution_count": 3,
   "metadata": {},
   "outputs": [
    {
     "data": {
      "text/plain": [
       "3-element Vector{Vector{Rational{BigInt}}}:\n",
       " [1//5, 2//5, 2, 2//5, 2, 2]\n",
       " [2, 2, 2, 2//5, 2//5, 2]\n",
       " [2//5, 2//5, 2, 1//5, 2, 2]"
      ]
     },
     "execution_count": 3,
     "metadata": {},
     "output_type": "execute_result"
    }
   ],
   "source": [
    "sample = broadcast.(big, [\n",
    "    [2//10, 4//10, 2//1, 4//10, 2//1, 2//1],\n",
    "    [2//1, 2//1, 2//1, 4//10, 4//10, 2//1],\n",
    "    [4//10, 4//10, 2//1, 2//10, 2//1, 2//1]\n",
    "])"
   ]
  },
  {
   "cell_type": "markdown",
   "metadata": {},
   "source": [
    "## Clarabel"
   ]
  },
  {
   "cell_type": "code",
   "execution_count": 4,
   "metadata": {},
   "outputs": [
    {
     "data": {
      "text/plain": [
       "6-element Vector{Float64}:\n",
       " -0.7224697008896936\n",
       " -0.72246970056275\n",
       "  0.08383364713211054\n",
       " -0.9980604959340645\n",
       " -0.1224618319156645\n",
       "  0.08378590966924016"
      ]
     },
     "execution_count": 4,
     "metadata": {},
     "output_type": "execute_result"
    }
   ],
   "source": [
    "FM_clarabel = tropical_frechet_mean(sample; tol=0)"
   ]
  },
  {
   "cell_type": "markdown",
   "metadata": {},
   "source": [
    "The following calculation suggests that for a tropical Fréchet mean the sum of square distances to the sample is close to $7.28$."
   ]
  },
  {
   "cell_type": "code",
   "execution_count": 5,
   "metadata": {},
   "outputs": [
    {
     "data": {
      "text/plain": [
       "7.280000000839644500177929709347000404190869240814846689527169752073610092118919"
      ]
     },
     "execution_count": 5,
     "metadata": {},
     "output_type": "execute_result"
    }
   ],
   "source": [
    "sos_clarabel = sum_of_trop_dist(FM_clarabel, sample; power=2) "
   ]
  },
  {
   "cell_type": "markdown",
   "metadata": {},
   "source": [
    "We can also calculate the FM polytrope to obtain more Fréchet means."
   ]
  },
  {
   "cell_type": "code",
   "execution_count": 6,
   "metadata": {},
   "outputs": [
    {
     "data": {
      "text/plain": [
       "Polyhedron CDDLib.Polyhedron{Rational{BigInt}}:\n",
       "10-element iterator of HalfSpace{Rational{BigInt}, Vector{Rational{BigInt}}}:\n",
       " HalfSpace(Rational{BigInt}[1, 0, 0, -1, 0, 0], 1//1)\n",
       " HalfSpace(Rational{BigInt}[1, 0, 0, 0, -1, 0], -3//5)\n",
       " HalfSpace(Rational{BigInt}[0, 1, -1, 0, 0, 0], -3//5)\n",
       " HalfSpace(Rational{BigInt}[0, 1, 0, 0, -1, 0], -3//5)\n",
       " HalfSpace(Rational{BigInt}[0, 1, 0, 0, 0, -1], -3//5)\n",
       " HalfSpace(Rational{BigInt}[0, 0, 1, 0, -1, 0], 1//1)\n",
       " HalfSpace(Rational{BigInt}[0, 0, 0, 1, -1, 0], -4//5)\n",
       " HalfSpace(Rational{BigInt}[-1, 0, 0, 0, 1, 0], 3//5)\n",
       " HalfSpace(Rational{BigInt}[0, -1, 0, 0, 1, 0], 3//5)\n",
       " HalfSpace(Rational{BigInt}[0, 0, 0, 0, -1, 1], 1//1)"
      ]
     },
     "execution_count": 6,
     "metadata": {},
     "output_type": "execute_result"
    }
   ],
   "source": [
    "P_clarabel = tropical_frechet_set(sample)"
   ]
  },
  {
   "cell_type": "code",
   "execution_count": 7,
   "metadata": {},
   "outputs": [
    {
     "data": {
      "text/plain": [
       "8-element iterator of Vector{Rational{BigInt}}:\n",
       " Rational{BigInt}[-3//5, -3//5, 0, -4//5, 0, 0]\n",
       " Rational{BigInt}[-3//5, -3//5, 0, -8//5, 0, 0]\n",
       " Rational{BigInt}[-3//5, -3//5, 1, -8//5, 0, 0]\n",
       " Rational{BigInt}[-3//5, -3//5, 1, -4//5, 0, 0]\n",
       " Rational{BigInt}[-8//5, -8//5, -1, -13//5, -1, 0]\n",
       " Rational{BigInt}[-8//5, -8//5, -1, -9//5, -1, 0]\n",
       " Rational{BigInt}[-8//5, -8//5, 0, -13//5, -1, 0]\n",
       " Rational{BigInt}[-8//5, -8//5, 0, -9//5, -1, 0]"
      ]
     },
     "execution_count": 7,
     "metadata": {},
     "output_type": "execute_result"
    }
   ],
   "source": [
    "pts_clarabel = points(P_clarabel)"
   ]
  },
  {
   "cell_type": "markdown",
   "metadata": {},
   "source": [
    "Using `Clarabel`, we obtain a FM polytrope $\\overline{P}$ whose vertices all attain the same sum of square distances to the sample."
   ]
  },
  {
   "cell_type": "code",
   "execution_count": 8,
   "metadata": {},
   "outputs": [
    {
     "data": {
      "text/plain": [
       "8-element Vector{Rational{BigInt}}:\n",
       " 182//25\n",
       " 182//25\n",
       " 182//25\n",
       " 182//25\n",
       " 182//25\n",
       " 182//25\n",
       " 182//25\n",
       " 182//25"
      ]
     },
     "execution_count": 8,
     "metadata": {},
     "output_type": "execute_result"
    }
   ],
   "source": [
    "sum_of_trop_dist.(pts_clarabel, Ref(sample); power=2)"
   ]
  },
  {
   "cell_type": "markdown",
   "metadata": {},
   "source": [
    "In particular, the vertices of $\\overline{P}$ realize a sum of square distances of exactly $7.28$."
   ]
  },
  {
   "cell_type": "code",
   "execution_count": 9,
   "metadata": {},
   "outputs": [
    {
     "data": {
      "text/plain": [
       "7.28"
      ]
     },
     "execution_count": 9,
     "metadata": {},
     "output_type": "execute_result"
    }
   ],
   "source": [
    "sum_of_trop_dist(pts_clarabel |> first, sample; power=2) |> Float64"
   ]
  },
  {
   "cell_type": "markdown",
   "metadata": {},
   "source": [
    "## Ipopt"
   ]
  },
  {
   "cell_type": "code",
   "execution_count": 10,
   "metadata": {},
   "outputs": [
    {
     "name": "stdout",
     "output_type": "stream",
     "text": [
      "\n",
      "******************************************************************************\n",
      "This program contains Ipopt, a library for large-scale nonlinear optimization.\n",
      " Ipopt is released as open source code under the Eclipse Public License (EPL).\n",
      "         For more information visit https://github.com/coin-or/Ipopt\n",
      "******************************************************************************\n",
      "\n"
     ]
    },
    {
     "data": {
      "text/plain": [
       "6-element Vector{Float64}:\n",
       " -2.420568765584609\n",
       " -2.420568763105464\n",
       " -1.2271034242953822\n",
       " -2.9375139940978983\n",
       " -1.8205688128778803\n",
       " -1.227103331354988"
      ]
     },
     "execution_count": 10,
     "metadata": {},
     "output_type": "execute_result"
    }
   ],
   "source": [
    "FM_ipopt = tropical_frechet_mean(Ipopt.Optimizer, sample; tol=0)"
   ]
  },
  {
   "cell_type": "markdown",
   "metadata": {},
   "source": [
    "The tropical FM we obtain from `Ipopt` beahves similarly to the one from `Clarabel`. "
   ]
  },
  {
   "cell_type": "code",
   "execution_count": 11,
   "metadata": {},
   "outputs": [
    {
     "data": {
      "text/plain": [
       "7.280000004958296729356369774337790501729526162658762950850919841438990687265554"
      ]
     },
     "execution_count": 11,
     "metadata": {},
     "output_type": "execute_result"
    }
   ],
   "source": [
    "sos_ipopt = sum_of_trop_dist(FM_ipopt, sample; power=2) "
   ]
  },
  {
   "cell_type": "code",
   "execution_count": 12,
   "metadata": {},
   "outputs": [],
   "source": [
    "P_ipopt = tropical_frechet_set(Ipopt.Optimizer, sample);"
   ]
  },
  {
   "cell_type": "code",
   "execution_count": 13,
   "metadata": {},
   "outputs": [
    {
     "data": {
      "text/plain": [
       "8-element iterator of Vector{Rational{BigInt}}:\n",
       " Rational{BigInt}[-8//5, -8//5, -1, -9//5, -1, 0]\n",
       " Rational{BigInt}[-8//5, -8//5, 0, -9//5, -1, 0]\n",
       " Rational{BigInt}[-3//5, -3//5, 0, -4//5, 0, 0]\n",
       " Rational{BigInt}[-3//5, -3//5, 1, -4//5, 0, 0]\n",
       " Rational{BigInt}[-8//5, -8//5, -1, -13//5, -1, 0]\n",
       " Rational{BigInt}[-8//5, -8//5, 0, -13//5, -1, 0]\n",
       " Rational{BigInt}[-3//5, -3//5, 0, -8//5, 0, 0]\n",
       " Rational{BigInt}[-3//5, -3//5, 1, -8//5, 0, 0]"
      ]
     },
     "execution_count": 13,
     "metadata": {},
     "output_type": "execute_result"
    }
   ],
   "source": [
    "pts_ipopt = points(P_ipopt)"
   ]
  },
  {
   "cell_type": "code",
   "execution_count": 14,
   "metadata": {},
   "outputs": [
    {
     "data": {
      "text/plain": [
       "8-element Vector{Rational{BigInt}}:\n",
       " 182//25\n",
       " 182//25\n",
       " 182//25\n",
       " 182//25\n",
       " 182//25\n",
       " 182//25\n",
       " 182//25\n",
       " 182//25"
      ]
     },
     "execution_count": 14,
     "metadata": {},
     "output_type": "execute_result"
    }
   ],
   "source": [
    "sum_of_trop_dist.(pts_ipopt, Ref(sample); power=2)"
   ]
  },
  {
   "cell_type": "markdown",
   "metadata": {},
   "source": [
    "# Random instances"
   ]
  },
  {
   "cell_type": "code",
   "execution_count": 15,
   "metadata": {},
   "outputs": [
    {
     "data": {
      "text/plain": [
       "perform_random_experiment (generic function with 1 method)"
      ]
     },
     "execution_count": 15,
     "metadata": {},
     "output_type": "execute_result"
    }
   ],
   "source": [
    "D = [10,15,20]\n",
    "N = [1,2,3]\n",
    "meta_sample_size = 3\n",
    "\n",
    "function perform_random_experiment()\n",
    "    return map(D) do d\n",
    "        map(N) do n\n",
    "            map(1:meta_sample_size) do _\n",
    "                k = d*n\n",
    "                rand_sample = [rand(big.(1:20), d) for _ in 1:k]\n",
    "\n",
    "                num_FM = tropical_frechet_mean(rand_sample; tol=0)\n",
    "                P = tropical_frechet_set(rand_sample)\n",
    "\n",
    "                num_c = sum_of_trop_dist(num_FM, rand_sample)\n",
    "                P_c = map(points(P)) do pt\n",
    "                    sum_of_trop_dist(num_FM, rand_sample)\n",
    "                end\n",
    "\n",
    "                num_FM, num_c, P, P_c\n",
    "            end\n",
    "        end\n",
    "    end\n",
    "end"
   ]
  },
  {
   "cell_type": "code",
   "execution_count": 16,
   "metadata": {},
   "outputs": [
    {
     "name": "stdout",
     "output_type": "stream",
     "text": [
      " 66.055506 seconds (459.73 M allocations: 23.800 GiB, 21.56% gc time, 1.77% compilation time)\n"
     ]
    }
   ],
   "source": [
    "import Random\n",
    "Random.seed!(0xACE0FBA2E)\n",
    "\n",
    "@time results = perform_random_experiment();"
   ]
  },
  {
   "cell_type": "markdown",
   "metadata": {},
   "source": [
    "Checking that the FM polytrope for each random sample agrees with Theorem 9."
   ]
  },
  {
   "cell_type": "code",
   "execution_count": 17,
   "metadata": {},
   "outputs": [
    {
     "data": {
      "text/plain": [
       "27-element Vector{Tuple{Bool, Int64, Int64, Int64}}:\n",
       " (1, 1, 1, 1)\n",
       " (1, 1, 1, 2)\n",
       " (1, 1, 1, 3)\n",
       " (1, 1, 2, 1)\n",
       " (1, 1, 2, 2)\n",
       " (1, 1, 2, 3)\n",
       " (1, 1, 3, 1)\n",
       " (1, 1, 3, 2)\n",
       " (1, 1, 3, 3)\n",
       " (1, 2, 1, 1)\n",
       " (1, 2, 1, 2)\n",
       " (1, 2, 1, 3)\n",
       " (1, 2, 2, 1)\n",
       " ⋮\n",
       " (0, 2, 3, 1)\n",
       " (1, 2, 3, 2)\n",
       " (1, 2, 3, 3)\n",
       " (1, 3, 1, 1)\n",
       " (1, 3, 1, 2)\n",
       " (1, 3, 1, 3)\n",
       " (1, 3, 2, 1)\n",
       " (1, 3, 2, 2)\n",
       " (1, 3, 2, 3)\n",
       " (0, 3, 3, 1)\n",
       " (1, 3, 3, 2)\n",
       " (1, 3, 3, 3)"
      ]
     },
     "execution_count": 17,
     "metadata": {},
     "output_type": "execute_result"
    }
   ],
   "source": [
    "consistency = map(enumerate(D)) do (i,d)\n",
    "    map(enumerate(N)) do (j,n)\n",
    "        map(1:meta_sample_size) do k\n",
    "            ((unique(results[i][j][k][4]) |> length) == 1),i,j,k\n",
    "        end\n",
    "    end\n",
    "end |> splat(vcat) |> splat(vcat)"
   ]
  },
  {
   "cell_type": "code",
   "execution_count": 18,
   "metadata": {},
   "outputs": [
    {
     "data": {
      "text/plain": [
       "2-element Vector{Tuple{Bool, Int64, Int64, Int64}}:\n",
       " (0, 2, 3, 1)\n",
       " (0, 3, 3, 1)"
      ]
     },
     "execution_count": 18,
     "metadata": {},
     "output_type": "execute_result"
    }
   ],
   "source": [
    "filter(!first, consistency)"
   ]
  },
  {
   "cell_type": "markdown",
   "metadata": {},
   "source": [
    "For the random instances which do not agree with Theorem 9, it turns out that the computation of the FM polytrope yielded an empty set."
   ]
  },
  {
   "cell_type": "code",
   "execution_count": 19,
   "metadata": {},
   "outputs": [
    {
     "data": {
      "text/plain": [
       "2-element Vector{Bool}:\n",
       " 1\n",
       " 1"
      ]
     },
     "execution_count": 19,
     "metadata": {},
     "output_type": "execute_result"
    }
   ],
   "source": [
    "map(filter(!first, consistency)) do (_,i,j,k)\n",
    "    isempty(results[i][j][k][3])\n",
    "end"
   ]
  },
  {
   "cell_type": "markdown",
   "metadata": {},
   "source": [
    "For those random sample for which the computed FM polytrope is non-empty, we can verify that the numerical tropical FM and the vertices of the FM polytrope have almost equal sum of square distances. Inspecting the sum of square distances for the numerical FMs also suggests that the error due to the floating-point computations is in the order of $10^{-5}$."
   ]
  },
  {
   "cell_type": "code",
   "execution_count": 20,
   "metadata": {},
   "outputs": [
    {
     "data": {
      "text/plain": [
       "25-element Vector{Tuple{BigFloat, BigFloat}}:\n",
       " (0.0, 2364.00000213302925379833252316082871643536968944475972949210970819745435828052)\n",
       " (0.0, 2548.500000144574807013252527193276421079771055227132047129114249472430398131551)\n",
       " (0.0, 2175.000000252998916528238477970410584581769123865835346975927677704021334648132)\n",
       " (0.0, 4972.500000329768312815697242786293112024650539834770738845127721344406470510568)\n",
       " (0.0, 5064.000000904541727576025562192173721974797690368612818883270962558719278934216)\n",
       " (0.0, 4892.500000245949827411519075327337498015565069872260356065338243103981499468325)\n",
       " (0.0, 7566.000000352803835601224566145271599891250946956012007649002404743084765348371)\n",
       " (0.0, 7855.000001098983865705323911591579471815131830922385169913013669429346919059753)\n",
       " (0.0, 8458.000001576282939875933121259005707075842580384647286008675629313726535007945)\n",
       " (0.0, 4564.500000308576697775773861168543776568854921277267328439761334980626506906826)\n",
       " (0.0, 4785.000000144363529134659929051744795921183358349954391701501041417245608383668)\n",
       " (0.0, 4739.333333376290346445142857473454170268692858948832285920139426048044628833687)\n",
       " (0.0, 9090.000000682051916261658809316347957113220012298482330947990703862160444259644)\n",
       " (0.0, 8598.00000028982231046385775941117689750117943341817250413328110880684107542038)\n",
       " (0.0, 9429.980769495834328691401346415593436692640449852822079512491561225402618537546)\n",
       " (0.0, 13644.71428619122497546073230216684033325749267130190975731000212560826737278989)\n",
       " (0.0, 13232.6538476781917229570660793152113561830362090038386507817792824484508609241)\n",
       " (0.0, 6140.500000533277667477456780455357439346296063997776570886344416067004203796387)\n",
       " (0.0, 6059.500001538257875451847537098124676829688930661139525291185901434507649065964)\n",
       " (0.0, 6126.333333584476558072486433615415987799569159678249878192678934501179139476834)\n",
       " (0.0, 12729.0795469160370781035709079219419907571160313545583725236763396507059815238)\n",
       " (0.0, 12515.08333417171395256915280950557980152542381154395085526338827874103751822479)\n",
       " (0.0, 12866.75000111539551701441997946817940877842696998578681758413053846068464184521)\n",
       " (0.0, 18504.75000006707888105108420056634911801821166622447002576645411844552080275761)\n",
       " (0.0, 18885.96428668750275576039019307870110323634601865582142186603035327900700323907)"
      ]
     },
     "execution_count": 20,
     "metadata": {},
     "output_type": "execute_result"
    }
   ],
   "source": [
    "map(filter(first, consistency)) do (_,i,j,k)\n",
    "    num_c = results[i][j][k][2]\n",
    "    P_c = unique(results[i][j][k][4]) |> first\n",
    "    \n",
    "    num_c - P_c, num_c\n",
    "end"
   ]
  }
 ],
 "metadata": {
  "kernelspec": {
   "display_name": "Julia 1.10.7",
   "language": "julia",
   "name": "julia-1.10"
  },
  "language_info": {
   "file_extension": ".jl",
   "mimetype": "application/julia",
   "name": "julia",
   "version": "1.10.7"
  }
 },
 "nbformat": 4,
 "nbformat_minor": 2
}
