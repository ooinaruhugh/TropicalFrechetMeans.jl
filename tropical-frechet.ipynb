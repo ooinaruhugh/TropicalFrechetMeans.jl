{
 "cells": [
  {
   "cell_type": "code",
   "execution_count": 1,
   "id": "65aa1411",
   "metadata": {},
   "outputs": [],
   "source": [
    "#ENV[\"JULIA_DEBUG\"] = Main"
   ]
  },
  {
   "cell_type": "code",
   "execution_count": null,
   "id": "691910b5",
   "metadata": {},
   "outputs": [],
   "source": [
    "#ENV[\"JULIA_DEBUG\"] = \"none\""
   ]
  },
  {
   "cell_type": "code",
   "execution_count": 2,
   "id": "a2de8446",
   "metadata": {},
   "outputs": [],
   "source": [
    "using LinearAlgebra, Polyhedra\n",
    "using JuMP, Ipopt, CDDLib, Clarabel\n",
    "using Random\n",
    "using PhyloNetworks"
   ]
  },
  {
   "cell_type": "code",
   "execution_count": 3,
   "id": "f0221357",
   "metadata": {},
   "outputs": [
    {
     "data": {
      "text/plain": [
       "trop_normalize (generic function with 1 method)"
      ]
     },
     "metadata": {},
     "output_type": "display_data"
    }
   ],
   "source": [
    "function trop_normalize(x)\n",
    "    return x .- first(x)\n",
    "end"
   ]
  },
  {
   "cell_type": "markdown",
   "id": "4241a9e1",
   "metadata": {},
   "source": [
    "# Polyhedral point location"
   ]
  },
  {
   "cell_type": "code",
   "execution_count": 4,
   "id": "0b715c1b",
   "metadata": {},
   "outputs": [
    {
     "data": {
      "text/plain": [
       "poly_dist"
      ]
     },
     "metadata": {},
     "output_type": "display_data"
    }
   ],
   "source": [
    "\"\"\"\n",
    "Calculate the polyhedral distance between two vectors.\n",
    "The rows of `alphas` are the facet normals scaled to α⋅x = 1.\n",
    "\"\"\"\n",
    "function poly_dist(vec1, vec2, alphas)\n",
    "    differences = alphas * (vec1 - vec2)\n",
    "    return maximum(differences)\n",
    "end"
   ]
  },
  {
   "cell_type": "code",
   "execution_count": 5,
   "id": "d82bc87b",
   "metadata": {},
   "outputs": [
    {
     "data": {
      "text/plain": [
       "sum_of_poly_dist"
      ]
     },
     "metadata": {},
     "output_type": "display_data"
    }
   ],
   "source": [
    "\"\"\"\n",
    "Calculate the sum of polyhedral distances between `ref` and the points in `sample`.\n",
    "The rows of `alphas` are the facet normals scaled to α⋅x = 1.\n",
    "`power` gives the exponent of the distance before taking the sum.\n",
    "\"\"\"\n",
    "function sum_of_poly_dist(ref, sample, alphas; power=1)\n",
    "    return sum([poly_dist(pt, ref, alphas)^power for pt in sample])\n",
    "end"
   ]
  },
  {
   "cell_type": "code",
   "execution_count": 6,
   "id": "2ba35da7",
   "metadata": {},
   "outputs": [
    {
     "data": {
      "text/plain": [
       "poly_frechet"
      ]
     },
     "metadata": {},
     "output_type": "display_data"
    }
   ],
   "source": [
    "\"\"\"\n",
    "Find one polyhedral Fréchet mean of a given sample.\n",
    "The rows of `alphas` are the facet normals scaled to α⋅x = 1.\n",
    "`power` gives the exponent of the distance before taking the sum.\n",
    "\"\"\"\n",
    "function poly_frechet(sample, alphas; power=2)\n",
    "    dim = length(sample[1])\n",
    "    \n",
    "    # Choose model depending on power\n",
    "    if power == 1\n",
    "        error(\"FW computation not yet implemeneted\")\n",
    "    elseif power == 2\n",
    "        model = Model(Clarabel.Optimizer)\n",
    "    else\n",
    "        model = Model(Ipopt.Optimizer)\n",
    "    end\n",
    "    \n",
    "    set_silent(model)   # suppress printing\n",
    "\n",
    "    @variable(model, x[1:dim])\n",
    "    @variable(model, t[1:length(sample)])\n",
    "\n",
    "    @objective(model, Min, sum(t))\n",
    "    \n",
    "    progress = 0\n",
    "    total = length(sample) * size(alphas, 1)\n",
    "\n",
    "    for (p_idx, p) in enumerate(sample)\n",
    "        expressions = alphas * (x - p)\n",
    "        \n",
    "        for expr in expressions\n",
    "            progress += 1\n",
    "            total = length(sample) * size(expressions, 1)\n",
    "            @constraint(model, t[p_idx] >= (expr)^power)\n",
    "        end\n",
    "        \n",
    "        @debug \"Setting up constraints: $(round(progress/total * 100, digits=3))%   \\r\"\n",
    "    end\n",
    "    \n",
    "    @debug \"\\nOptimising...\"\n",
    "    \n",
    "    optimize!(model)\n",
    "    minimiser = value.(x)\n",
    "    \n",
    "    return minimiser\n",
    "end"
   ]
  },
  {
   "cell_type": "code",
   "execution_count": 7,
   "id": "68904da6",
   "metadata": {},
   "outputs": [
    {
     "data": {
      "text/plain": [
       "poly_frechet_set"
      ]
     },
     "metadata": {},
     "output_type": "display_data"
    }
   ],
   "source": [
    "\"\"\"\n",
    "Find the set of polyhedral Fréchet means of a given sample.\n",
    "The rows of `alphas` are the facet normals scaled to α⋅x = 1.\n",
    "`power` gives the exponent of the distance before taking the sum.\n",
    "`rep` is either \"vrep\" or \"hrep\" -- returning either vertices or halfspaces.\n",
    "\"\"\"\n",
    "function poly_frechet_set(sample, alphas; power=2, rep::String=\"vrep\", tol=1e-3)\n",
    "    \n",
    "    dim = length(sample[1])\n",
    "    num_facets = size(alphas)[1]\n",
    "    \n",
    "    # Compute one Fréchet mean\n",
    "    one_mean = poly_frechet(sample, alphas, power=power)\n",
    "    \n",
    "    @debug \"Frechet mean found: $(one_mean)\"\n",
    "    \n",
    "    # Rationalise all coordinates\n",
    "    rat_alphas = rationalize.(alphas, tol=tol)\n",
    "    rat_sample = [rationalize.(pt, tol=tol) for pt in sample]\n",
    "    rat_mean = rationalize.(one_mean, tol=tol)\n",
    "    \n",
    "    distances = [poly_dist(rat_mean, pt, alphas) for pt in rat_sample]\n",
    "    \n",
    "    Amat = vcat(rat_alphas, -rat_alphas)\n",
    "    bval1 = Rational{Int64}[]\n",
    "    bval2 = Rational{Int64}[]\n",
    "    \n",
    "    # Discard redundant halfspacesprintln(\"Setting up constraints: $(round(progress/total * 100, digits=3))%   \\r\")\n",
    "    evals = rat_alphas * hcat([rat_mean - pt for pt in rat_sample]...)\n",
    "    for k in 1:length(rat_sample)\n",
    "        evals[:,k] .-= distances[k]\n",
    "    end\n",
    "    \n",
    "    progress = 0\n",
    "    total = num_facets\n",
    "    \n",
    "    for k = 1:num_facets\n",
    "        \n",
    "        greatest_nonpos = argmax([x > 0 ? -Inf : x for x in evals[k,:]])\n",
    "        push!(bval1, dot(rat_alphas[k,:], rat_sample[greatest_nonpos]) + \n",
    "            distances[greatest_nonpos])\n",
    "        \n",
    "        progress += 1\n",
    "        @debug \"Removing redundant half-spaces: $(round(progress/total * 100, digits=3))%   \\r\"    \n",
    "    end\n",
    "    \n",
    "    @debug \"\\nFinding defining facets...\"\n",
    "    \n",
    "    poly = polyhedron(hrep(rat_alphas, bval1), CDDLib.Library(:exact))\n",
    "    removehredundancy!(poly)\n",
    "    \n",
    "    if rep == \"hrep\"\n",
    "        return poly\n",
    "    elseif rep == \"vrep\"\n",
    "        @debug \"Finding vertices...\"\n",
    "        return vrep(poly)\n",
    "    else\n",
    "        @debug \"Defaulting to hrep.\"\n",
    "        return poly\n",
    "    end\n",
    "end"
   ]
  },
  {
   "cell_type": "markdown",
   "id": "252934fc",
   "metadata": {},
   "source": [
    "## Examples"
   ]
  },
  {
   "cell_type": "markdown",
   "id": "b10eada7",
   "metadata": {},
   "source": [
    "### Toy example: Fréchet mean for $L^\\infty$-norm in $\\mathbb{R}^2$"
   ]
  },
  {
   "cell_type": "code",
   "execution_count": 8,
   "id": "6d912cc2",
   "metadata": {},
   "outputs": [
    {
     "name": "stdout",
     "output_type": "stream",
     "text": [
      "Polyhedral distances from sample to [7, 10]: [10, 8]\n",
      "Sum of polyhedral distances: 18\n",
      "Sum of squared polyhedral distances: 164\n"
     ]
    }
   ],
   "source": [
    "### Facets for the L-infinity norm\n",
    "### Technically twice as long as strictly necessary\n",
    "Linf_facets = [ 1  0 ;\n",
    "               -1  0 ;\n",
    "                0  1 ;\n",
    "                0 -1 ]\n",
    "\n",
    "sample = [ [0, 0], \n",
    "           [2, 2] ]\n",
    "\n",
    "my_point = [7, 10]\n",
    "\n",
    "println(\"Polyhedral distances from sample to $(my_point): \", \n",
    "    [poly_dist(pt, my_point, Linf_facets) for pt in sample])\n",
    "\n",
    "println(\"Sum of polyhedral distances: \", \n",
    "    sum_of_poly_dist(my_point, sample, Linf_facets))\n",
    "\n",
    "println(\"Sum of squared polyhedral distances: \", \n",
    "    sum_of_poly_dist(my_point, sample, Linf_facets, power=2))\n"
   ]
  },
  {
   "cell_type": "code",
   "execution_count": 9,
   "id": "0b3dc5b9",
   "metadata": {},
   "outputs": [
    {
     "name": "stdout",
     "output_type": "stream",
     "text": [
      "poly_frechet(sample, Linf_facets) = [1.0000522121167505, 1.000052212116274]\n"
     ]
    },
    {
     "data": {
      "text/plain": [
       "V-representation CDDGeneratorMatrix{Rational{BigInt}, GMPRational}:\n",
       "1-element iterator of Vector{Rational{BigInt}}:\n",
       " Rational{BigInt}[1, 1]"
      ]
     },
     "metadata": {},
     "output_type": "display_data"
    }
   ],
   "source": [
    "@show poly_frechet(sample, Linf_facets)\n",
    "poly_frechet_set(sample, Linf_facets, rep=\"vrep\", tol=1e-3)"
   ]
  },
  {
   "cell_type": "markdown",
   "id": "c540918f",
   "metadata": {},
   "source": [
    "### Manual tropical Fréchet mean in $\\mathbb{R}^3/\\mathbb{R}\\mathbf{1}$"
   ]
  },
  {
   "cell_type": "code",
   "execution_count": 10,
   "id": "91673b97",
   "metadata": {},
   "outputs": [
    {
     "name": "stdout",
     "output_type": "stream",
     "text": [
      "poly_frechet(sample2, Linf3_facets, power = 2) |> trop_normalize = [0.0, 1.9999999991416932, 1.0001319110045057]\n"
     ]
    },
    {
     "data": {
      "text/plain": [
       "V-representation CDDGeneratorMatrix{Rational{BigInt}, GMPRational}:\n",
       "1-element iterator of Vector{Rational{BigInt}}:\n",
       " Rational{BigInt}[-1, 1, 0],\n",
       "1-element iterator of Line{Rational{BigInt}, Vector{Rational{BigInt}}}:\n",
       " Line(Rational{BigInt}[1, 1, 1])"
      ]
     },
     "metadata": {},
     "output_type": "display_data"
    }
   ],
   "source": [
    "Linf3_facets = [ -1   1  0;\n",
    "                  1  -1  0;\n",
    "                 -1   0  1;\n",
    "                  1   0 -1;\n",
    "                  0  -1  1;\n",
    "                  0   1 -1 ]\n",
    "\n",
    "sample2 = [ [0, 0, 0], \n",
    "            [0, 2, 4],\n",
    "            [0, 5, 1] ]\n",
    "\n",
    "@show poly_frechet(sample2, Linf3_facets, power=2) |> trop_normalize\n",
    "poly_frechet_set(sample2, Linf3_facets, rep=\"vrep\", tol=1e-3)"
   ]
  },
  {
   "cell_type": "markdown",
   "id": "cac2307f",
   "metadata": {},
   "source": [
    "# Tropical Frèchet means"
   ]
  },
  {
   "cell_type": "code",
   "execution_count": 11,
   "id": "cf8379a5",
   "metadata": {},
   "outputs": [
    {
     "data": {
      "text/plain": [
       "trop_facets"
      ]
     },
     "metadata": {},
     "output_type": "display_data"
    }
   ],
   "source": [
    "\"\"\"\n",
    "Find the relevant facet normals in n dimensions for a tropical ball\n",
    "\"\"\"\n",
    "function trop_facets(n::Int64)\n",
    "    result = zeros(Rational{Int64}, n * (n - 1), n)\n",
    "    k = 1\n",
    "    for i = 1:n\n",
    "        for j = 1:n\n",
    "            if i != j\n",
    "                result[k, i] = 1//1\n",
    "                result[k, j] = -1//1\n",
    "                k += 1\n",
    "            end\n",
    "        end\n",
    "    end\n",
    "    return result\n",
    "end"
   ]
  },
  {
   "cell_type": "code",
   "execution_count": 12,
   "id": "da07504e",
   "metadata": {},
   "outputs": [
    {
     "data": {
      "text/plain": [
       "trop_dist"
      ]
     },
     "metadata": {},
     "output_type": "display_data"
    }
   ],
   "source": [
    "\"\"\"\n",
    "Calculate the tropical distance between two vectors.\n",
    "\"\"\"\n",
    "function trop_dist(vec1, vec2)\n",
    "    return maximum(vec1 - vec2) - minimum(vec1 - vec2)\n",
    "end"
   ]
  },
  {
   "cell_type": "code",
   "execution_count": 13,
   "id": "a1b90ca3",
   "metadata": {},
   "outputs": [
    {
     "data": {
      "text/plain": [
       "sum_of_trop_dist"
      ]
     },
     "metadata": {},
     "output_type": "display_data"
    }
   ],
   "source": [
    "\"\"\"\n",
    "Calculate the sum of tropical distances between `ref` and the points in `sample`.\n",
    "\"\"\"\n",
    "function sum_of_trop_dist(ref, sample; power=1)\n",
    "    return sum([trop_dist(pt, ref)^power for pt in sample])\n",
    "end"
   ]
  },
  {
   "cell_type": "code",
   "execution_count": 14,
   "id": "c92af025",
   "metadata": {},
   "outputs": [
    {
     "data": {
      "text/plain": [
       "trop_frechet"
      ]
     },
     "metadata": {},
     "output_type": "display_data"
    }
   ],
   "source": [
    "\"\"\"\n",
    "Find one polyhedral Fréchet mean of a given sample.\n",
    "The rows of `alphas` are the facet normals scaled to α⋅x = 1.\n",
    "`power` gives the exponent of the distance before taking the sum.\n",
    "\"\"\"\n",
    "function trop_frechet(sample; power=2)\n",
    "    dim = length(sample[1])\n",
    "    alphas = trop_facets(dim)\n",
    "    return poly_frechet(sample, alphas, power=power)\n",
    "end"
   ]
  },
  {
   "cell_type": "code",
   "execution_count": 15,
   "id": "60da57ca",
   "metadata": {},
   "outputs": [
    {
     "data": {
      "text/plain": [
       "trop_frechet_set"
      ]
     },
     "metadata": {},
     "output_type": "display_data"
    }
   ],
   "source": [
    "\"\"\"\n",
    "Find one polyhedral Fréchet mean of a given sample.\n",
    "The rows of `alphas` are the facet normals scaled to α⋅x = 1.\n",
    "`power` gives the exponent of the distance before taking the sum.\n",
    "\"\"\"\n",
    "function trop_frechet_set(sample; power=2, rep::String=\"vrep\", tol=1e-3)\n",
    "    dim = length(sample[1])\n",
    "    alphas = trop_facets(dim)\n",
    "    return poly_frechet_set(sample, alphas, power=power, rep=rep, tol=tol)\n",
    "end"
   ]
  },
  {
   "cell_type": "markdown",
   "id": "25b33af5",
   "metadata": {},
   "source": [
    "## Examples\n",
    "### Toy example"
   ]
  },
  {
   "cell_type": "code",
   "execution_count": 16,
   "id": "9a7e42d9",
   "metadata": {},
   "outputs": [
    {
     "name": "stdout",
     "output_type": "stream",
     "text": [
      "Tropical distances: [8, 6]\n",
      "Sum of tropical distances: 14\n",
      "Sum of squared tropical distances: 100\n"
     ]
    }
   ],
   "source": [
    "sample = [[0,0,0], [0,4,1]]\n",
    "\n",
    "my_point = [7, 10, 2]\n",
    "\n",
    "println(\"Tropical distances: \", \n",
    "    [trop_dist(pt, my_point) for pt in sample])\n",
    "\n",
    "println(\"Sum of tropical distances: \", \n",
    "    sum_of_trop_dist(my_point, sample))\n",
    "\n",
    "println(\"Sum of squared tropical distances: \", \n",
    "    sum_of_trop_dist(my_point, sample, power=2))"
   ]
  },
  {
   "cell_type": "code",
   "execution_count": 17,
   "id": "49dc3793",
   "metadata": {},
   "outputs": [
    {
     "name": "stdout",
     "output_type": "stream",
     "text": [
      "trop_frechet(sample) = [-0.8435711338283638, 1.1565453903627, -0.12391541027598676]\n"
     ]
    },
    {
     "data": {
      "text/plain": [
       "V-representation CDDGeneratorMatrix{Rational{BigInt}, GMPRational}:\n",
       "2-element iterator of Vector{Rational{BigInt}}:\n",
       " Rational{BigInt}[-1, 1, 0]\n",
       " Rational{BigInt}[0, 2, 0],\n",
       "1-element iterator of Line{Rational{BigInt}, Vector{Rational{BigInt}}}:\n",
       " Line(Rational{BigInt}[1, 1, 1])"
      ]
     },
     "metadata": {},
     "output_type": "display_data"
    }
   ],
   "source": [
    "@show trop_frechet(sample)\n",
    "trop_frechet_set(sample, rep=\"vrep\", tol=1e-3)"
   ]
  },
  {
   "cell_type": "markdown",
   "id": "8b7bfcc6",
   "metadata": {},
   "source": [
    "### Example of Section 4.2. \"Exact Quadratic Optimization\""
   ]
  },
  {
   "cell_type": "code",
   "execution_count": 18,
   "id": "255b3261",
   "metadata": {},
   "outputs": [
    {
     "name": "stdout",
     "output_type": "stream",
     "text": [
      "trop_frechet(sample) = [-0.10075916894249483, -0.10075917024553435, -1.1007832316089412]\n"
     ]
    },
    {
     "data": {
      "text/plain": [
       "V-representation CDDGeneratorMatrix{Rational{BigInt}, GMPRational}:\n",
       "1-element iterator of Vector{Rational{BigInt}}:\n",
       " Rational{BigInt}[1, 1, 0],\n",
       "1-element iterator of Line{Rational{BigInt}, Vector{Rational{BigInt}}}:\n",
       " Line(Rational{BigInt}[1, 1, 1])"
      ]
     },
     "metadata": {},
     "output_type": "display_data"
    }
   ],
   "source": [
    "sample = [[-3,0,0], [0,-6,0], [0,0,-12]]\n",
    "\n",
    "@show trop_frechet(sample)\n",
    "trop_frechet_set(sample, rep=\"vrep\", tol=1e-3)"
   ]
  },
  {
   "cell_type": "markdown",
   "id": "42e2e827",
   "metadata": {},
   "source": [
    "### Random points in high dimensional space"
   ]
  },
  {
   "cell_type": "code",
   "execution_count": 19,
   "id": "0c5b3ff4",
   "metadata": {},
   "outputs": [
    {
     "data": {
      "text/plain": [
       "20-element Vector{Vector{Int64}}:\n",
       " [18, 20, 19, 18, 13, 6, 6, 15, 12, 15, 11, 7, 11, 17, 14, 11, 9, 6, 19, 6]\n",
       " [2, 1, 11, 12, 16, 20, 14, 8, 14, 16, 3, 16, 4, 13, 5, 18, 13, 10, 2, 1]\n",
       " [15, 5, 19, 12, 3, 19, 14, 17, 11, 3, 13, 20, 3, 15, 9, 9, 10, 8, 8, 20]\n",
       " [2, 5, 3, 15, 17, 8, 9, 8, 10, 10, 3, 3, 4, 14, 4, 6, 8, 17, 20, 10]\n",
       " [12, 8, 7, 4, 20, 13, 12, 19, 15, 6, 9, 3, 6, 19, 2, 7, 2, 14, 6, 3]\n",
       " [18, 2, 19, 13, 13, 17, 19, 20, 11, 7, 7, 18, 1, 12, 14, 14, 13, 9, 20, 7]\n",
       " [9, 11, 17, 3, 3, 13, 4, 3, 17, 14, 9, 19, 12, 19, 3, 9, 17, 3, 16, 6]\n",
       " [17, 8, 7, 8, 15, 3, 16, 17, 12, 12, 2, 17, 9, 7, 10, 14, 10, 14, 14, 18]\n",
       " [14, 12, 18, 14, 14, 3, 16, 16, 19, 6, 9, 3, 2, 18, 13, 6, 14, 1, 5, 4]\n",
       " [16, 20, 18, 18, 18, 20, 5, 15, 13, 15, 17, 1, 6, 13, 11, 7, 9, 7, 12, 7]\n",
       " [13, 12, 9, 14, 1, 10, 5, 6, 16, 18, 13, 2, 1, 2, 4, 9, 13, 18, 16, 13]\n",
       " [16, 2, 7, 9, 5, 6, 1, 8, 15, 15, 16, 15, 8, 2, 3, 15, 15, 13, 1, 9]\n",
       " [9, 16, 9, 19, 14, 12, 13, 14, 6, 10, 7, 7, 19, 10, 6, 6, 13, 15, 15, 16]\n",
       " [6, 10, 8, 19, 12, 17, 10, 7, 19, 14, 6, 12, 15, 6, 2, 7, 3, 13, 5, 2]\n",
       " [17, 19, 14, 14, 4, 12, 10, 3, 13, 1, 4, 13, 3, 8, 10, 10, 2, 16, 20, 14]\n",
       " [20, 19, 15, 1, 10, 15, 3, 12, 19, 16, 12, 12, 4, 17, 9, 19, 12, 18, 19, 16]\n",
       " [12, 17, 8, 9, 4, 3, 3, 14, 13, 12, 16, 15, 1, 2, 1, 13, 8, 15, 15, 16]\n",
       " [19, 7, 5, 14, 4, 15, 7, 7, 2, 4, 1, 14, 9, 1, 3, 19, 17, 2, 9, 8]\n",
       " [15, 19, 16, 4, 6, 9, 8, 6, 18, 7, 17, 12, 12, 9, 5, 7, 5, 11, 5, 16]\n",
       " [16, 3, 8, 1, 14, 11, 6, 6, 7, 16, 16, 5, 7, 5, 12, 10, 4, 18, 13, 1]"
      ]
     },
     "metadata": {},
     "output_type": "display_data"
    }
   ],
   "source": [
    "n = 20\n",
    "m = n\n",
    "\n",
    "rand_sample = [rand(1:20, n) for _ in 1:m]"
   ]
  },
  {
   "cell_type": "code",
   "execution_count": 20,
   "id": "1d862933",
   "metadata": {},
   "outputs": [
    {
     "name": "stdout",
     "output_type": "stream",
     "text": [
      "  0.355334 seconds (5.50 M allocations: 277.393 MiB, 14.36% gc time)\n"
     ]
    },
    {
     "data": {
      "text/plain": [
       "20-element Vector{Float64}:\n",
       "  0.0\n",
       " -0.3333264353868799\n",
       " -0.5551690614674953\n",
       " -1.666659646840344\n",
       " -2.3333264294496985\n",
       " -0.3333264357615917\n",
       " -1.1614122121327455\n",
       " -0.3333264435077581\n",
       " -0.33332643837820797\n",
       " -2.3333264319644513\n",
       " -1.333326437339565\n",
       " -1.333326441533245\n",
       " -2.333326431925343\n",
       " -1.3333264379843968\n",
       " -2.5868189151460683\n",
       " -0.3333264377533851\n",
       " -2.3333264371603946\n",
       " -1.3333170733167208\n",
       "  0.6666735430817425\n",
       " -1.3333264438542756"
      ]
     },
     "metadata": {},
     "output_type": "display_data"
    }
   ],
   "source": [
    "@time trop_frechet(rand_sample) |> trop_normalize"
   ]
  },
  {
   "cell_type": "code",
   "execution_count": 21,
   "id": "f54259bf",
   "metadata": {},
   "outputs": [
    {
     "name": "stdout",
     "output_type": "stream",
     "text": [
      "  2.703169 seconds (15.31 M allocations: 375.971 MiB, 6.98% gc time, 1.18% compilation time)\n"
     ]
    },
    {
     "data": {
      "text/plain": [
       "V-representation CDDGeneratorMatrix{Rational{BigInt}, GMPRational}:\n",
       "8-element iterator of Vector{Rational{BigInt}}:\n",
       " Rational{BigInt}[1613//1209, 1, 0, -134//403, -1, 1, 0, 1, 1, -1, 0, 0, -1, 0, -1, 1, -1, 0, 2, 0]\n",
       " Rational{BigInt}[1613//1209, 1, 2822//1209, -134//403, -1, 1, 0, 1, 1, -1, 0, 0, -1, 0, -1, 1, -1, 0, 2, 0]\n",
       " Rational{BigInt}[1613//1209, 1, 2822//1209, -134//403, -1, 1, 1, 1, 1, -1, 0, 0, -1, 0, -1, 1, -1, 0, 2, 0]\n",
       " Rational{BigInt}[1613//1209, 1, 0, -134//403, -1, 1, 1, 1, 1, -1, 0, 0, -1, 0, -1, 1, -1, 0, 2, 0]\n",
       " Rational{BigInt}[1613//1209, 1, 2822//1209, -134//403, -1, 1, 0, 1, 1, -1, 0, 0, -1, 0, -5, 1, -1, 0, 2, 0]\n",
       " Rational{BigInt}[1613//1209, 1, 0, -134//403, -1, 1, 0, 1, 1, -1, 0, 0, -1, 0, -5, 1, -1, 0, 2, 0]\n",
       " Rational{BigInt}[1613//1209, 1, 2822//1209, -134//403, -1, 1, 1, 1, 1, -1, 0, 0, -1, 0, -5, 1, -1, 0, 2, 0]\n",
       " Rational{BigInt}[1613//1209, 1, 0, -134//403, -1, 1, 1, 1, 1, -1, 0, 0, -1, 0, -5, 1, -1, 0, 2, 0],\n",
       "1-element iterator of Line{Rational{BigInt}, Vector{Rational{BigInt}}}:\n",
       " Line(Rational{BigInt}[1, 1, 1, 1, 1, 1, 1, 1, 1, 1, 1, 1, 1, 1, 1, 1, 1, 1, 1, 1])"
      ]
     },
     "metadata": {},
     "output_type": "display_data"
    }
   ],
   "source": [
    "@time trop_frechet_set(rand_sample, rep=\"vrep\", tol=1e-3)"
   ]
  },
  {
   "cell_type": "markdown",
   "id": "541ecc26",
   "metadata": {},
   "source": [
    "### Big random sample in 3-space"
   ]
  },
  {
   "cell_type": "code",
   "execution_count": 22,
   "id": "96867a76",
   "metadata": {
    "scrolled": true
   },
   "outputs": [
    {
     "name": "stdout",
     "output_type": "stream",
     "text": [
      "2 sample points [0.0, 0.26, 0.74, 0.0]\n",
      "3 sample points [0.0, 0.62, 0.38, 0.0]\n",
      "4 sample points [0.0, 0.9, 0.1, 0.0]\n",
      "5 sample points [0.0, 0.93, 0.07, 0.0]\n",
      "[[8, 9, 10], [6, 7, 2], [4, 6, 4], [9, 10, 10], [8, 5, 6], [5, 7, 3]]\n",
      "6 sample points [0.0, 0.9696969696969697, 0.030303030303030304, 0.0]\n",
      "7 sample points [0.0, 1.0, 0.0, 0.0]\n",
      "8 sample points [0.0, 1.0, 0.0, 0.0]\n",
      "[[2, 8, 10], [6, 1, 5], [5, 8, 6], [3, 1, 10], [7, 8, 10], [5, 4, 8], [2, 1, 10], [6, 2, 8], [9, 1, 6]]\n",
      "9 sample points [0.0, 1.0, 0.0, 0.0]\n"
     ]
    }
   ],
   "source": [
    "n = 3\n",
    "\n",
    "Random.seed!(50)\n",
    "\n",
    "for m = 2:3n\n",
    "    dim_vec = zeros(Int64, n+1)\n",
    "    for _ = 1:100\n",
    "        rand_sample = [rand(1:10, n) for _ in 1:m]\n",
    "        try\n",
    "            my_frech = trop_frechet_set(rand_sample, rep=\"hrep\", tol=1e-3)\n",
    "            dim_vec[dim(my_frech) + 1] += 1\n",
    "        catch e\n",
    "            println(rand_sample)\n",
    "        end\n",
    "    end\n",
    "    println(m, \" sample points \", dim_vec / sum(dim_vec))\n",
    "end"
   ]
  },
  {
   "cell_type": "markdown",
   "id": "e025c747",
   "metadata": {},
   "source": [
    "## Application: Phylogenetic trees"
   ]
  },
  {
   "cell_type": "code",
   "execution_count": 23,
   "id": "a7341024",
   "metadata": {},
   "outputs": [
    {
     "data": {
      "text/plain": [
       "8-element Vector{String}:\n",
       " \"Tg\"\n",
       " \"Et\"\n",
       " \"Cp\"\n",
       " \"Ta\"\n",
       " \"Bb\"\n",
       " \"Tt\"\n",
       " \"Pv\"\n",
       " \"Pf\""
      ]
     },
     "metadata": {},
     "output_type": "display_data"
    }
   ],
   "source": [
    "using JSON3\n",
    "using DataFrames\n",
    "\n",
    "# Function to read the JSON file and convert to a list of matrices\n",
    "function read_and_convert_json(file_path::String)\n",
    "    # Read the JSON file\n",
    "    json_data = JSON3.read(file_path)\n",
    "    \n",
    "    # Extract elements from the nested arrays\n",
    "    elements = [x[1] for x in json_data]\n",
    "    elements = rationalize.(10000 * elements, tol=1e-2)\n",
    "    \n",
    "    # Convert elements into matrices\n",
    "    num_elements = length(elements)\n",
    "    matrices = []\n",
    "    \n",
    "    for i in 1:64:num_elements\n",
    "        # Get the next 64 elements\n",
    "        matrix_elements = elements[i:min(i+63, num_elements)]\n",
    "        \n",
    "        # Convert to an 8x8 matrix if there are 64 elements, otherwise create a smaller matrix\n",
    "        matrix_size = length(matrix_elements)\n",
    "        sqrt_size = Int(sqrt(matrix_size))\n",
    "        push!(matrices, reshape(matrix_elements, sqrt_size, sqrt_size))\n",
    "    end\n",
    "    \n",
    "    return matrices\n",
    "end\n",
    "\n",
    "# Read and convert the JSON file\n",
    "file_path = \"all_matrices.json\"\n",
    "matrices = read_and_convert_json(file_path)\n",
    "taxa = [\"Tg\", \"Et\", \"Cp\", \"Ta\", \"Bb\", \"Tt\", \"Pv\", \"Pf\"]"
   ]
  },
  {
   "cell_type": "code",
   "execution_count": 24,
   "id": "6917e852",
   "metadata": {},
   "outputs": [
    {
     "data": {
      "text/plain": [
       "is_ultrametric_tree"
      ]
     },
     "metadata": {},
     "output_type": "display_data"
    }
   ],
   "source": [
    "\"\"\"\n",
    "Take a matrix of pairwise distances between taxa and returns the cophenetic vector.\n",
    "\"\"\"\n",
    "function cophenetic_from_distance(pairwise)\n",
    "    n = size(pairwise, 1)\n",
    "    coph = [pairwise[i, j] for i in 1:n-1 for j in i+1:n]\n",
    "    return coph\n",
    "end\n",
    "\n",
    "\"\"\"\n",
    "Check if a distance matrix defines a phylogenetic tree\n",
    "\"\"\"\n",
    "function is_phylogenetic_tree(D)\n",
    "    n = size(D, 1)\n",
    "    \n",
    "    # Check if the matrix is symmetric and non-negative\n",
    "    for i in 1:n\n",
    "        for j in i:n\n",
    "            if D[i, j] != D[j, i] || D[i, j] < 0\n",
    "                return false\n",
    "            end\n",
    "        end\n",
    "    end\n",
    "\n",
    "    # Check the four-point condition\n",
    "    for i in 1:n-3\n",
    "        for j in i+1:n-2\n",
    "            for k in j+1:n-1\n",
    "                for l in k+1:n\n",
    "                    # Calculate distances\n",
    "                    D_ij_kl = D[i, j] + D[k, l]\n",
    "                    D_ik_jl = D[i, k] + D[j, l]\n",
    "                    D_il_jk = D[i, l] + D[j, k]\n",
    "                    \n",
    "                    # Check the four-point condition\n",
    "                    if !(D_ij_kl >= D_ik_jl && D_ij_kl >= D_il_jk) &&\n",
    "                       !(D_ik_jl >= D_ij_kl && D_ik_jl >= D_il_jk) &&\n",
    "                       !(D_il_jk >= D_ij_kl && D_il_jk >= D_ik_jl)\n",
    "                        return false\n",
    "                    end\n",
    "                end\n",
    "            end\n",
    "        end\n",
    "    end\n",
    "    \n",
    "    return true\n",
    "end\n",
    "\n",
    "\"\"\"\n",
    "Check if a distance matrix defines an ultrametric tree\n",
    "\"\"\"\n",
    "function is_ultrametric_tree(D)\n",
    "    n = size(D, 1)\n",
    "    \n",
    "    # Check if the matrix is symmetric and non-negative\n",
    "    for i in 1:n\n",
    "        for j in i:n\n",
    "            if D[i, j] != D[j, i] || D[i, j] < 0\n",
    "                return false\n",
    "            end\n",
    "        end\n",
    "    end\n",
    "\n",
    "    # Check the ultrametric condition\n",
    "    for i in 1:n-2\n",
    "        for j in i+1:n-1\n",
    "            for k in j+1:n\n",
    "                # Calculate distances\n",
    "                Dij = D[i, j]\n",
    "                Dik = D[i, k]\n",
    "                Djk = D[j, k]\n",
    "                \n",
    "                # Check if the largest distance is attained at least twice\n",
    "                if !(Dij <= max(Dik, Djk) && Dik <= max(Dij, Djk) && Djk <= max(Dij, Dik))\n",
    "                    return false\n",
    "                end\n",
    "            end\n",
    "        end\n",
    "    end\n",
    "    \n",
    "    return true\n",
    "\n",
    "end"
   ]
  },
  {
   "cell_type": "code",
   "execution_count": 25,
   "id": "f2a47394",
   "metadata": {},
   "outputs": [
    {
     "name": "stdout",
     "output_type": "stream",
     "text": [
      "All phylogenetic: true\n",
      "All ultrametric: false\n"
     ]
    }
   ],
   "source": [
    "println(\"All phylogenetic: \", all([is_phylogenetic_tree(matrices[i]) for i = 1:268]))\n",
    "println(\"All ultrametric: \", all([is_ultrametric_tree(matrices[i]) for i = 1:268]))"
   ]
  },
  {
   "cell_type": "code",
   "execution_count": null,
   "id": "e9a2a0ed",
   "metadata": {},
   "outputs": [],
   "source": [
    "coph_vecs = [cophenetic_from_distance(mat) for mat in matrices]\n",
    "phylo_frech = trop_frechet_set(coph_vecs, rep=\"hrep\")"
   ]
  },
  {
   "cell_type": "code",
   "execution_count": null,
   "id": "b7d614aa",
   "metadata": {},
   "outputs": [],
   "source": [
    "dim(phylo_frech)"
   ]
  },
  {
   "cell_type": "code",
   "execution_count": null,
   "id": "d9f368bc",
   "metadata": {},
   "outputs": [],
   "source": [
    "N = 10\n",
    "M = 100\n",
    "Random.seed!(123)\n",
    "\n",
    "dimensions = [[] for _ = 3:N]\n",
    "for n = 3:N\n",
    "    for m = 2:M\n",
    "        sample = [Rational.(rand(0:10000, n)) for _ in 1:m]\n",
    "        push!(dimensions[n-2], dim(trop_frechet_set(sample, rep=\"hrep\")))\n",
    "        println(\"m = \", m, \"; n = \", n, \" done!\")\n",
    "    end\n",
    "end\n",
    "\n",
    "dimensions"
   ]
  },
  {
   "cell_type": "code",
   "execution_count": null,
   "id": "e48b0cf1",
   "metadata": {},
   "outputs": [],
   "source": [
    "using Plots\n",
    "\n",
    "# Example data: categories and their respective proportions in different groups\n",
    "categories = [\"Category 1\", \"Category 2\", \"Category 3\"]\n",
    "\n",
    "proportional_dimensions = [dim_list / M for dim_list in dimensions]\n",
    "data = hcat(proportional_dimensions...)\n",
    "\n",
    "# Create the proportional bar chart\n",
    "bar(data, label=1:M, legend=:topright, title=\"Proportional Bar Chart\", xlabel=\"Groups\", ylabel=\"Proportion\", bar_width=0.7, lw=0, series_annotations=transpose([group1 group2 group3]))\n",
    "\n",
    "# Save the plot to a file\n",
    "savefig(\"proportional_bar_chart.png\")\n",
    "\n",
    "# Display the plot\n",
    "display(plot)"
   ]
  },
  {
   "cell_type": "code",
   "execution_count": null,
   "id": "ff2cf2dc",
   "metadata": {},
   "outputs": [],
   "source": [
    "for thing in dimensions\n",
    "    println(thing)\n",
    "    println()\n",
    "end"
   ]
  },
  {
   "cell_type": "code",
   "execution_count": null,
   "id": "bc7b8a0b",
   "metadata": {},
   "outputs": [],
   "source": []
  }
 ],
 "metadata": {
  "kernelspec": {
   "display_name": "Julia 1.11.2",
   "language": "julia",
   "name": "julia-1.11"
  },
  "language_info": {
   "file_extension": ".jl",
   "mimetype": "application/julia",
   "name": "julia",
   "version": "1.11.2"
  }
 },
 "nbformat": 4,
 "nbformat_minor": 5
}
